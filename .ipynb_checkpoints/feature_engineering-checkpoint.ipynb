{
 "cells": [
  {
   "cell_type": "code",
   "execution_count": 1,
   "metadata": {},
   "outputs": [],
   "source": [
    "import numpy as np\n",
    "import pandas as pd"
   ]
  },
  {
   "cell_type": "code",
   "execution_count": 2,
   "metadata": {},
   "outputs": [],
   "source": [
    "df_train = pd.read_csv('train.csv', sep='|')\n",
    "df_test = pd.read_csv('test.csv', sep='|')"
   ]
  },
  {
   "cell_type": "markdown",
   "metadata": {},
   "source": [
    "__scannedLineItemsTotal__"
   ]
  },
  {
   "cell_type": "code",
   "execution_count": 3,
   "metadata": {},
   "outputs": [],
   "source": [
    "df_train['scannedLineItemsTotal'] = df_train['scannedLineItemsPerSecond'] * df_train['totalScanTimeInSeconds']"
   ]
  },
  {
   "cell_type": "markdown",
   "metadata": {},
   "source": [
    "### Main attributes\n",
    " - trustLevel\n",
    " - totalScanTimeInSeconds\n",
    " - grandTotal\n",
    " - lineItemVoids\n",
    " - scansWithoutRegistration\n",
    " - quantityModifications\n",
    " - scannedLineItemsTotal\n",
    "\n",
    "other attributes like scannedLineItemsPerSeconds are derived from the above\n",
    " "
   ]
  },
  {
   "cell_type": "code",
   "execution_count": 4,
   "metadata": {},
   "outputs": [],
   "source": [
    "df_train_main = df_train[['trustLevel', 'totalScanTimeInSeconds', 'grandTotal', 'lineItemVoids', 'scansWithoutRegistration',\n",
    "                          'quantityModifications', 'scannedLineItemsTotal']]"
   ]
  },
  {
   "cell_type": "markdown",
   "metadata": {},
   "source": [
    "### Polynomial Features (multiplication between features)"
   ]
  },
  {
   "cell_type": "code",
   "execution_count": 5,
   "metadata": {},
   "outputs": [],
   "source": [
    "from sklearn.preprocessing import PolynomialFeatures\n",
    "poly = PolynomialFeatures(2,interaction_only=True)\n",
    "poly_main = poly.fit_transform(df_train_main)\n",
    "poly_main_names = poly.get_feature_names(df_train_main.columns)\n",
    "\n",
    "df_poly_main = pd.DataFrame(data=poly_main, columns=poly_main_names)\n",
    "df_poly_main['fraud'] = df_train['fraud']\n",
    "#polynomialFeatures creates one column wiht only ones, which is dropped here\n",
    "df_poly_main.drop(['1'], axis=1, inplace=True)"
   ]
  },
  {
   "cell_type": "code",
   "execution_count": 6,
   "metadata": {},
   "outputs": [
    {
     "data": {
      "text/html": [
       "<style  type=\"text/css\" >\n",
       "    #T_4f808ba6_6756_11e9_b5b5_5bbc440fd349row0_col0 {\n",
       "            background-color:  #a5c3fe;\n",
       "        }    #T_4f808ba6_6756_11e9_b5b5_5bbc440fd349row1_col0 {\n",
       "            background-color:  #5d7ce6;\n",
       "        }    #T_4f808ba6_6756_11e9_b5b5_5bbc440fd349row2_col0 {\n",
       "            background-color:  #3b4cc0;\n",
       "        }    #T_4f808ba6_6756_11e9_b5b5_5bbc440fd349row3_col0 {\n",
       "            background-color:  #4e68d8;\n",
       "        }    #T_4f808ba6_6756_11e9_b5b5_5bbc440fd349row4_col0 {\n",
       "            background-color:  #506bda;\n",
       "        }    #T_4f808ba6_6756_11e9_b5b5_5bbc440fd349row5_col0 {\n",
       "            background-color:  #3b4cc0;\n",
       "        }    #T_4f808ba6_6756_11e9_b5b5_5bbc440fd349row6_col0 {\n",
       "            background-color:  #9ebeff;\n",
       "        }    #T_4f808ba6_6756_11e9_b5b5_5bbc440fd349row7_col0 {\n",
       "            background-color:  #6f92f3;\n",
       "        }    #T_4f808ba6_6756_11e9_b5b5_5bbc440fd349row8_col0 {\n",
       "            background-color:  #7a9df8;\n",
       "        }    #T_4f808ba6_6756_11e9_b5b5_5bbc440fd349row9_col0 {\n",
       "            background-color:  #6f92f3;\n",
       "        }    #T_4f808ba6_6756_11e9_b5b5_5bbc440fd349row10_col0 {\n",
       "            background-color:  #6f92f3;\n",
       "        }    #T_4f808ba6_6756_11e9_b5b5_5bbc440fd349row11_col0 {\n",
       "            background-color:  #7295f4;\n",
       "        }    #T_4f808ba6_6756_11e9_b5b5_5bbc440fd349row12_col0 {\n",
       "            background-color:  #6282ea;\n",
       "        }    #T_4f808ba6_6756_11e9_b5b5_5bbc440fd349row13_col0 {\n",
       "            background-color:  #5470de;\n",
       "        }    #T_4f808ba6_6756_11e9_b5b5_5bbc440fd349row14_col0 {\n",
       "            background-color:  #5f7fe8;\n",
       "        }    #T_4f808ba6_6756_11e9_b5b5_5bbc440fd349row15_col0 {\n",
       "            background-color:  #5e7de7;\n",
       "        }    #T_4f808ba6_6756_11e9_b5b5_5bbc440fd349row16_col0 {\n",
       "            background-color:  #4f69d9;\n",
       "        }    #T_4f808ba6_6756_11e9_b5b5_5bbc440fd349row17_col0 {\n",
       "            background-color:  #a2c1ff;\n",
       "        }    #T_4f808ba6_6756_11e9_b5b5_5bbc440fd349row18_col0 {\n",
       "            background-color:  #455cce;\n",
       "        }    #T_4f808ba6_6756_11e9_b5b5_5bbc440fd349row19_col0 {\n",
       "            background-color:  #4961d2;\n",
       "        }    #T_4f808ba6_6756_11e9_b5b5_5bbc440fd349row20_col0 {\n",
       "            background-color:  #3c4ec2;\n",
       "        }    #T_4f808ba6_6756_11e9_b5b5_5bbc440fd349row21_col0 {\n",
       "            background-color:  #7a9df8;\n",
       "        }    #T_4f808ba6_6756_11e9_b5b5_5bbc440fd349row22_col0 {\n",
       "            background-color:  #5470de;\n",
       "        }    #T_4f808ba6_6756_11e9_b5b5_5bbc440fd349row23_col0 {\n",
       "            background-color:  #445acc;\n",
       "        }    #T_4f808ba6_6756_11e9_b5b5_5bbc440fd349row24_col0 {\n",
       "            background-color:  #8badfd;\n",
       "        }    #T_4f808ba6_6756_11e9_b5b5_5bbc440fd349row25_col0 {\n",
       "            background-color:  #455cce;\n",
       "        }    #T_4f808ba6_6756_11e9_b5b5_5bbc440fd349row26_col0 {\n",
       "            background-color:  #94b6ff;\n",
       "        }    #T_4f808ba6_6756_11e9_b5b5_5bbc440fd349row27_col0 {\n",
       "            background-color:  #7597f6;\n",
       "        }    #T_4f808ba6_6756_11e9_b5b5_5bbc440fd349row28_col0 {\n",
       "            background-color:  #b40426;\n",
       "        }</style>  \n",
       "<table id=\"T_4f808ba6_6756_11e9_b5b5_5bbc440fd349\" > \n",
       "<thead>    <tr> \n",
       "        <th class=\"blank level0\" ></th> \n",
       "        <th class=\"col_heading level0 col0\" >fraud</th> \n",
       "    </tr></thead> \n",
       "<tbody>    <tr> \n",
       "        <th id=\"T_4f808ba6_6756_11e9_b5b5_5bbc440fd349level0_row0\" class=\"row_heading level0 row0\" >trustLevel</th> \n",
       "        <td id=\"T_4f808ba6_6756_11e9_b5b5_5bbc440fd349row0_col0\" class=\"data row0 col0\" >0.319765</td> \n",
       "    </tr>    <tr> \n",
       "        <th id=\"T_4f808ba6_6756_11e9_b5b5_5bbc440fd349level0_row1\" class=\"row_heading level0 row1\" >totalScanTimeInSeconds</th> \n",
       "        <td id=\"T_4f808ba6_6756_11e9_b5b5_5bbc440fd349row1_col0\" class=\"data row1 col0\" >0.110414</td> \n",
       "    </tr>    <tr> \n",
       "        <th id=\"T_4f808ba6_6756_11e9_b5b5_5bbc440fd349level0_row2\" class=\"row_heading level0 row2\" >grandTotal</th> \n",
       "        <td id=\"T_4f808ba6_6756_11e9_b5b5_5bbc440fd349row2_col0\" class=\"data row2 col0\" >0.00142089</td> \n",
       "    </tr>    <tr> \n",
       "        <th id=\"T_4f808ba6_6756_11e9_b5b5_5bbc440fd349level0_row3\" class=\"row_heading level0 row3\" >lineItemVoids</th> \n",
       "        <td id=\"T_4f808ba6_6756_11e9_b5b5_5bbc440fd349row3_col0\" class=\"data row3 col0\" >0.0634963</td> \n",
       "    </tr>    <tr> \n",
       "        <th id=\"T_4f808ba6_6756_11e9_b5b5_5bbc440fd349level0_row4\" class=\"row_heading level0 row4\" >scansWithoutRegistration</th> \n",
       "        <td id=\"T_4f808ba6_6756_11e9_b5b5_5bbc440fd349row4_col0\" class=\"data row4 col0\" >0.0741225</td> \n",
       "    </tr>    <tr> \n",
       "        <th id=\"T_4f808ba6_6756_11e9_b5b5_5bbc440fd349level0_row5\" class=\"row_heading level0 row5\" >quantityModifications</th> \n",
       "        <td id=\"T_4f808ba6_6756_11e9_b5b5_5bbc440fd349row5_col0\" class=\"data row5 col0\" >0.000863773</td> \n",
       "    </tr>    <tr> \n",
       "        <th id=\"T_4f808ba6_6756_11e9_b5b5_5bbc440fd349level0_row6\" class=\"row_heading level0 row6\" >scannedLineItemsTotal</th> \n",
       "        <td id=\"T_4f808ba6_6756_11e9_b5b5_5bbc440fd349row6_col0\" class=\"data row6 col0\" >0.298423</td> \n",
       "    </tr>    <tr> \n",
       "        <th id=\"T_4f808ba6_6756_11e9_b5b5_5bbc440fd349level0_row7\" class=\"row_heading level0 row7\" >trustLevel totalScanTimeInSeconds</th> \n",
       "        <td id=\"T_4f808ba6_6756_11e9_b5b5_5bbc440fd349row7_col0\" class=\"data row7 col0\" >0.168631</td> \n",
       "    </tr>    <tr> \n",
       "        <th id=\"T_4f808ba6_6756_11e9_b5b5_5bbc440fd349level0_row8\" class=\"row_heading level0 row8\" >trustLevel grandTotal</th> \n",
       "        <td id=\"T_4f808ba6_6756_11e9_b5b5_5bbc440fd349row8_col0\" class=\"data row8 col0\" >0.198792</td> \n",
       "    </tr>    <tr> \n",
       "        <th id=\"T_4f808ba6_6756_11e9_b5b5_5bbc440fd349level0_row9\" class=\"row_heading level0 row9\" >trustLevel lineItemVoids</th> \n",
       "        <td id=\"T_4f808ba6_6756_11e9_b5b5_5bbc440fd349row9_col0\" class=\"data row9 col0\" >0.166165</td> \n",
       "    </tr>    <tr> \n",
       "        <th id=\"T_4f808ba6_6756_11e9_b5b5_5bbc440fd349level0_row10\" class=\"row_heading level0 row10\" >trustLevel scansWithoutRegistration</th> \n",
       "        <td id=\"T_4f808ba6_6756_11e9_b5b5_5bbc440fd349row10_col0\" class=\"data row10 col0\" >0.1651</td> \n",
       "    </tr>    <tr> \n",
       "        <th id=\"T_4f808ba6_6756_11e9_b5b5_5bbc440fd349level0_row11\" class=\"row_heading level0 row11\" >trustLevel quantityModifications</th> \n",
       "        <td id=\"T_4f808ba6_6756_11e9_b5b5_5bbc440fd349row11_col0\" class=\"data row11 col0\" >0.176223</td> \n",
       "    </tr>    <tr> \n",
       "        <th id=\"T_4f808ba6_6756_11e9_b5b5_5bbc440fd349level0_row12\" class=\"row_heading level0 row12\" >trustLevel scannedLineItemsTotal</th> \n",
       "        <td id=\"T_4f808ba6_6756_11e9_b5b5_5bbc440fd349row12_col0\" class=\"data row12 col0\" >0.126562</td> \n",
       "    </tr>    <tr> \n",
       "        <th id=\"T_4f808ba6_6756_11e9_b5b5_5bbc440fd349level0_row13\" class=\"row_heading level0 row13\" >totalScanTimeInSeconds grandTotal</th> \n",
       "        <td id=\"T_4f808ba6_6756_11e9_b5b5_5bbc440fd349row13_col0\" class=\"data row13 col0\" >0.0837939</td> \n",
       "    </tr>    <tr> \n",
       "        <th id=\"T_4f808ba6_6756_11e9_b5b5_5bbc440fd349level0_row14\" class=\"row_heading level0 row14\" >totalScanTimeInSeconds lineItemVoids</th> \n",
       "        <td id=\"T_4f808ba6_6756_11e9_b5b5_5bbc440fd349row14_col0\" class=\"data row14 col0\" >0.120115</td> \n",
       "    </tr>    <tr> \n",
       "        <th id=\"T_4f808ba6_6756_11e9_b5b5_5bbc440fd349level0_row15\" class=\"row_heading level0 row15\" >totalScanTimeInSeconds scansWithoutRegistration</th> \n",
       "        <td id=\"T_4f808ba6_6756_11e9_b5b5_5bbc440fd349row15_col0\" class=\"data row15 col0\" >0.114124</td> \n",
       "    </tr>    <tr> \n",
       "        <th id=\"T_4f808ba6_6756_11e9_b5b5_5bbc440fd349level0_row16\" class=\"row_heading level0 row16\" >totalScanTimeInSeconds quantityModifications</th> \n",
       "        <td id=\"T_4f808ba6_6756_11e9_b5b5_5bbc440fd349row16_col0\" class=\"data row16 col0\" >0.0710219</td> \n",
       "    </tr>    <tr> \n",
       "        <th id=\"T_4f808ba6_6756_11e9_b5b5_5bbc440fd349level0_row17\" class=\"row_heading level0 row17\" >totalScanTimeInSeconds scannedLineItemsTotal</th> \n",
       "        <td id=\"T_4f808ba6_6756_11e9_b5b5_5bbc440fd349row17_col0\" class=\"data row17 col0\" >0.309371</td> \n",
       "    </tr>    <tr> \n",
       "        <th id=\"T_4f808ba6_6756_11e9_b5b5_5bbc440fd349level0_row18\" class=\"row_heading level0 row18\" >grandTotal lineItemVoids</th> \n",
       "        <td id=\"T_4f808ba6_6756_11e9_b5b5_5bbc440fd349row18_col0\" class=\"data row18 col0\" >0.0394867</td> \n",
       "    </tr>    <tr> \n",
       "        <th id=\"T_4f808ba6_6756_11e9_b5b5_5bbc440fd349level0_row19\" class=\"row_heading level0 row19\" >grandTotal scansWithoutRegistration</th> \n",
       "        <td id=\"T_4f808ba6_6756_11e9_b5b5_5bbc440fd349row19_col0\" class=\"data row19 col0\" >0.0493936</td> \n",
       "    </tr>    <tr> \n",
       "        <th id=\"T_4f808ba6_6756_11e9_b5b5_5bbc440fd349level0_row20\" class=\"row_heading level0 row20\" >grandTotal quantityModifications</th> \n",
       "        <td id=\"T_4f808ba6_6756_11e9_b5b5_5bbc440fd349row20_col0\" class=\"data row20 col0\" >0.00494798</td> \n",
       "    </tr>    <tr> \n",
       "        <th id=\"T_4f808ba6_6756_11e9_b5b5_5bbc440fd349level0_row21\" class=\"row_heading level0 row21\" >grandTotal scannedLineItemsTotal</th> \n",
       "        <td id=\"T_4f808ba6_6756_11e9_b5b5_5bbc440fd349row21_col0\" class=\"data row21 col0\" >0.196924</td> \n",
       "    </tr>    <tr> \n",
       "        <th id=\"T_4f808ba6_6756_11e9_b5b5_5bbc440fd349level0_row22\" class=\"row_heading level0 row22\" >lineItemVoids scansWithoutRegistration</th> \n",
       "        <td id=\"T_4f808ba6_6756_11e9_b5b5_5bbc440fd349row22_col0\" class=\"data row22 col0\" >0.0854192</td> \n",
       "    </tr>    <tr> \n",
       "        <th id=\"T_4f808ba6_6756_11e9_b5b5_5bbc440fd349level0_row23\" class=\"row_heading level0 row23\" >lineItemVoids quantityModifications</th> \n",
       "        <td id=\"T_4f808ba6_6756_11e9_b5b5_5bbc440fd349row23_col0\" class=\"data row23 col0\" >0.0350536</td> \n",
       "    </tr>    <tr> \n",
       "        <th id=\"T_4f808ba6_6756_11e9_b5b5_5bbc440fd349level0_row24\" class=\"row_heading level0 row24\" >lineItemVoids scannedLineItemsTotal</th> \n",
       "        <td id=\"T_4f808ba6_6756_11e9_b5b5_5bbc440fd349row24_col0\" class=\"data row24 col0\" >0.246736</td> \n",
       "    </tr>    <tr> \n",
       "        <th id=\"T_4f808ba6_6756_11e9_b5b5_5bbc440fd349level0_row25\" class=\"row_heading level0 row25\" >scansWithoutRegistration quantityModifications</th> \n",
       "        <td id=\"T_4f808ba6_6756_11e9_b5b5_5bbc440fd349row25_col0\" class=\"data row25 col0\" >0.0362523</td> \n",
       "    </tr>    <tr> \n",
       "        <th id=\"T_4f808ba6_6756_11e9_b5b5_5bbc440fd349level0_row26\" class=\"row_heading level0 row26\" >scansWithoutRegistration scannedLineItemsTotal</th> \n",
       "        <td id=\"T_4f808ba6_6756_11e9_b5b5_5bbc440fd349row26_col0\" class=\"data row26 col0\" >0.271694</td> \n",
       "    </tr>    <tr> \n",
       "        <th id=\"T_4f808ba6_6756_11e9_b5b5_5bbc440fd349level0_row27\" class=\"row_heading level0 row27\" >quantityModifications scannedLineItemsTotal</th> \n",
       "        <td id=\"T_4f808ba6_6756_11e9_b5b5_5bbc440fd349row27_col0\" class=\"data row27 col0\" >0.182353</td> \n",
       "    </tr>    <tr> \n",
       "        <th id=\"T_4f808ba6_6756_11e9_b5b5_5bbc440fd349level0_row28\" class=\"row_heading level0 row28\" >fraud</th> \n",
       "        <td id=\"T_4f808ba6_6756_11e9_b5b5_5bbc440fd349row28_col0\" class=\"data row28 col0\" >1</td> \n",
       "    </tr></tbody> \n",
       "</table> "
      ],
      "text/plain": [
       "<pandas.io.formats.style.Styler at 0x7fc852090438>"
      ]
     },
     "execution_count": 6,
     "metadata": {},
     "output_type": "execute_result"
    }
   ],
   "source": [
    "corr_abs = abs(df_poly_main.corr())\n",
    "corr_abs[['fraud']].style.background_gradient(cmap='coolwarm')"
   ]
  },
  {
   "cell_type": "markdown",
   "metadata": {},
   "source": [
    "#### interesting observations\n",
    "- totalScanTimeInSeconds lineItemVoids: the multiplication has a slightly higher correlation than its parts\n",
    "- totalScanTimeInSeconds scansWithoutRegistration: the multiplication has a slightly higher correlation than its parts\n",
    "- totalScanTimeInSeconds scannedLineItemsTotal: the multiplication has a slightly higher correlation than its parts\n",
    "- lineItemVoids scansWithoutRegistration: the multiplication has a slightly higher correlation than its parts\n",
    "- => multiplication does not seem to yield much"
   ]
  },
  {
   "cell_type": "markdown",
   "metadata": {},
   "source": [
    "### division between features"
   ]
  },
  {
   "cell_type": "code",
   "execution_count": 7,
   "metadata": {},
   "outputs": [],
   "source": [
    "df_division_main = df_train_main.copy()\n",
    "for col1 in df_train_main.columns:\n",
    "    for col2 in df_train_main.columns[df_train_main.columns != col1]:\n",
    "        #replace zeros in col2 with 0.1, to avoid division by 0\n",
    "        tmp = df_train_main[col2].copy()\n",
    "        tmp[tmp == 0] = 0.1\n",
    "        df_division_main[col1 + '/' + col2] = df_train_main[col1] / tmp\n",
    "\n",
    "df_division_main['fraud'] = df_train['fraud']"
   ]
  },
  {
   "cell_type": "code",
   "execution_count": 8,
   "metadata": {},
   "outputs": [
    {
     "data": {
      "text/html": [
       "<style  type=\"text/css\" >\n",
       "    #T_4fa52754_6756_11e9_b5b5_5bbc440fd349row0_col0 {\n",
       "            background-color:  #a5c3fe;\n",
       "        }    #T_4fa52754_6756_11e9_b5b5_5bbc440fd349row1_col0 {\n",
       "            background-color:  #5d7ce6;\n",
       "        }    #T_4fa52754_6756_11e9_b5b5_5bbc440fd349row2_col0 {\n",
       "            background-color:  #3b4cc0;\n",
       "        }    #T_4fa52754_6756_11e9_b5b5_5bbc440fd349row3_col0 {\n",
       "            background-color:  #4e68d8;\n",
       "        }    #T_4fa52754_6756_11e9_b5b5_5bbc440fd349row4_col0 {\n",
       "            background-color:  #506bda;\n",
       "        }    #T_4fa52754_6756_11e9_b5b5_5bbc440fd349row5_col0 {\n",
       "            background-color:  #3b4cc0;\n",
       "        }    #T_4fa52754_6756_11e9_b5b5_5bbc440fd349row6_col0 {\n",
       "            background-color:  #9ebeff;\n",
       "        }    #T_4fa52754_6756_11e9_b5b5_5bbc440fd349row7_col0 {\n",
       "            background-color:  #445acc;\n",
       "        }    #T_4fa52754_6756_11e9_b5b5_5bbc440fd349row8_col0 {\n",
       "            background-color:  #3d50c3;\n",
       "        }    #T_4fa52754_6756_11e9_b5b5_5bbc440fd349row9_col0 {\n",
       "            background-color:  #4c66d6;\n",
       "        }    #T_4fa52754_6756_11e9_b5b5_5bbc440fd349row10_col0 {\n",
       "            background-color:  #4c66d6;\n",
       "        }    #T_4fa52754_6756_11e9_b5b5_5bbc440fd349row11_col0 {\n",
       "            background-color:  #5572df;\n",
       "        }    #T_4fa52754_6756_11e9_b5b5_5bbc440fd349row12_col0 {\n",
       "            background-color:  #6282ea;\n",
       "        }    #T_4fa52754_6756_11e9_b5b5_5bbc440fd349row13_col0 {\n",
       "            background-color:  #cbd8ee;\n",
       "        }    #T_4fa52754_6756_11e9_b5b5_5bbc440fd349row14_col0 {\n",
       "            background-color:  #3c4ec2;\n",
       "        }    #T_4fa52754_6756_11e9_b5b5_5bbc440fd349row15_col0 {\n",
       "            background-color:  #3d50c3;\n",
       "        }    #T_4fa52754_6756_11e9_b5b5_5bbc440fd349row16_col0 {\n",
       "            background-color:  #4257c9;\n",
       "        }    #T_4fa52754_6756_11e9_b5b5_5bbc440fd349row17_col0 {\n",
       "            background-color:  #3c4ec2;\n",
       "        }    #T_4fa52754_6756_11e9_b5b5_5bbc440fd349row18_col0 {\n",
       "            background-color:  #5673e0;\n",
       "        }    #T_4fa52754_6756_11e9_b5b5_5bbc440fd349row19_col0 {\n",
       "            background-color:  #a2c1ff;\n",
       "        }    #T_4fa52754_6756_11e9_b5b5_5bbc440fd349row20_col0 {\n",
       "            background-color:  #4358cb;\n",
       "        }    #T_4fa52754_6756_11e9_b5b5_5bbc440fd349row21_col0 {\n",
       "            background-color:  #3c4ec2;\n",
       "        }    #T_4fa52754_6756_11e9_b5b5_5bbc440fd349row22_col0 {\n",
       "            background-color:  #3b4cc0;\n",
       "        }    #T_4fa52754_6756_11e9_b5b5_5bbc440fd349row23_col0 {\n",
       "            background-color:  #4055c8;\n",
       "        }    #T_4fa52754_6756_11e9_b5b5_5bbc440fd349row24_col0 {\n",
       "            background-color:  #5977e3;\n",
       "        }    #T_4fa52754_6756_11e9_b5b5_5bbc440fd349row25_col0 {\n",
       "            background-color:  #b1cbfc;\n",
       "        }    #T_4fa52754_6756_11e9_b5b5_5bbc440fd349row26_col0 {\n",
       "            background-color:  #4257c9;\n",
       "        }    #T_4fa52754_6756_11e9_b5b5_5bbc440fd349row27_col0 {\n",
       "            background-color:  #3b4cc0;\n",
       "        }    #T_4fa52754_6756_11e9_b5b5_5bbc440fd349row28_col0 {\n",
       "            background-color:  #3f53c6;\n",
       "        }    #T_4fa52754_6756_11e9_b5b5_5bbc440fd349row29_col0 {\n",
       "            background-color:  #3d50c3;\n",
       "        }    #T_4fa52754_6756_11e9_b5b5_5bbc440fd349row30_col0 {\n",
       "            background-color:  #5572df;\n",
       "        }    #T_4fa52754_6756_11e9_b5b5_5bbc440fd349row31_col0 {\n",
       "            background-color:  #bad0f8;\n",
       "        }    #T_4fa52754_6756_11e9_b5b5_5bbc440fd349row32_col0 {\n",
       "            background-color:  #4055c8;\n",
       "        }    #T_4fa52754_6756_11e9_b5b5_5bbc440fd349row33_col0 {\n",
       "            background-color:  #3b4cc0;\n",
       "        }    #T_4fa52754_6756_11e9_b5b5_5bbc440fd349row34_col0 {\n",
       "            background-color:  #3d50c3;\n",
       "        }    #T_4fa52754_6756_11e9_b5b5_5bbc440fd349row35_col0 {\n",
       "            background-color:  #3c4ec2;\n",
       "        }    #T_4fa52754_6756_11e9_b5b5_5bbc440fd349row36_col0 {\n",
       "            background-color:  #5572df;\n",
       "        }    #T_4fa52754_6756_11e9_b5b5_5bbc440fd349row37_col0 {\n",
       "            background-color:  #94b6ff;\n",
       "        }    #T_4fa52754_6756_11e9_b5b5_5bbc440fd349row38_col0 {\n",
       "            background-color:  #4358cb;\n",
       "        }    #T_4fa52754_6756_11e9_b5b5_5bbc440fd349row39_col0 {\n",
       "            background-color:  #3d50c3;\n",
       "        }    #T_4fa52754_6756_11e9_b5b5_5bbc440fd349row40_col0 {\n",
       "            background-color:  #3b4cc0;\n",
       "        }    #T_4fa52754_6756_11e9_b5b5_5bbc440fd349row41_col0 {\n",
       "            background-color:  #3f53c6;\n",
       "        }    #T_4fa52754_6756_11e9_b5b5_5bbc440fd349row42_col0 {\n",
       "            background-color:  #5673e0;\n",
       "        }    #T_4fa52754_6756_11e9_b5b5_5bbc440fd349row43_col0 {\n",
       "            background-color:  #f7ba9f;\n",
       "        }    #T_4fa52754_6756_11e9_b5b5_5bbc440fd349row44_col0 {\n",
       "            background-color:  #4055c8;\n",
       "        }    #T_4fa52754_6756_11e9_b5b5_5bbc440fd349row45_col0 {\n",
       "            background-color:  #3b4cc0;\n",
       "        }    #T_4fa52754_6756_11e9_b5b5_5bbc440fd349row46_col0 {\n",
       "            background-color:  #485fd1;\n",
       "        }    #T_4fa52754_6756_11e9_b5b5_5bbc440fd349row47_col0 {\n",
       "            background-color:  #455cce;\n",
       "        }    #T_4fa52754_6756_11e9_b5b5_5bbc440fd349row48_col0 {\n",
       "            background-color:  #465ecf;\n",
       "        }    #T_4fa52754_6756_11e9_b5b5_5bbc440fd349row49_col0 {\n",
       "            background-color:  #b40426;\n",
       "        }</style>  \n",
       "<table id=\"T_4fa52754_6756_11e9_b5b5_5bbc440fd349\" > \n",
       "<thead>    <tr> \n",
       "        <th class=\"blank level0\" ></th> \n",
       "        <th class=\"col_heading level0 col0\" >fraud</th> \n",
       "    </tr></thead> \n",
       "<tbody>    <tr> \n",
       "        <th id=\"T_4fa52754_6756_11e9_b5b5_5bbc440fd349level0_row0\" class=\"row_heading level0 row0\" >trustLevel</th> \n",
       "        <td id=\"T_4fa52754_6756_11e9_b5b5_5bbc440fd349row0_col0\" class=\"data row0 col0\" >0.319765</td> \n",
       "    </tr>    <tr> \n",
       "        <th id=\"T_4fa52754_6756_11e9_b5b5_5bbc440fd349level0_row1\" class=\"row_heading level0 row1\" >totalScanTimeInSeconds</th> \n",
       "        <td id=\"T_4fa52754_6756_11e9_b5b5_5bbc440fd349row1_col0\" class=\"data row1 col0\" >0.110414</td> \n",
       "    </tr>    <tr> \n",
       "        <th id=\"T_4fa52754_6756_11e9_b5b5_5bbc440fd349level0_row2\" class=\"row_heading level0 row2\" >grandTotal</th> \n",
       "        <td id=\"T_4fa52754_6756_11e9_b5b5_5bbc440fd349row2_col0\" class=\"data row2 col0\" >0.00142089</td> \n",
       "    </tr>    <tr> \n",
       "        <th id=\"T_4fa52754_6756_11e9_b5b5_5bbc440fd349level0_row3\" class=\"row_heading level0 row3\" >lineItemVoids</th> \n",
       "        <td id=\"T_4fa52754_6756_11e9_b5b5_5bbc440fd349row3_col0\" class=\"data row3 col0\" >0.0634963</td> \n",
       "    </tr>    <tr> \n",
       "        <th id=\"T_4fa52754_6756_11e9_b5b5_5bbc440fd349level0_row4\" class=\"row_heading level0 row4\" >scansWithoutRegistration</th> \n",
       "        <td id=\"T_4fa52754_6756_11e9_b5b5_5bbc440fd349row4_col0\" class=\"data row4 col0\" >0.0741225</td> \n",
       "    </tr>    <tr> \n",
       "        <th id=\"T_4fa52754_6756_11e9_b5b5_5bbc440fd349level0_row5\" class=\"row_heading level0 row5\" >quantityModifications</th> \n",
       "        <td id=\"T_4fa52754_6756_11e9_b5b5_5bbc440fd349row5_col0\" class=\"data row5 col0\" >0.000863773</td> \n",
       "    </tr>    <tr> \n",
       "        <th id=\"T_4fa52754_6756_11e9_b5b5_5bbc440fd349level0_row6\" class=\"row_heading level0 row6\" >scannedLineItemsTotal</th> \n",
       "        <td id=\"T_4fa52754_6756_11e9_b5b5_5bbc440fd349row6_col0\" class=\"data row6 col0\" >0.298423</td> \n",
       "    </tr>    <tr> \n",
       "        <th id=\"T_4fa52754_6756_11e9_b5b5_5bbc440fd349level0_row7\" class=\"row_heading level0 row7\" >trustLevel/totalScanTimeInSeconds</th> \n",
       "        <td id=\"T_4fa52754_6756_11e9_b5b5_5bbc440fd349row7_col0\" class=\"data row7 col0\" >0.0325759</td> \n",
       "    </tr>    <tr> \n",
       "        <th id=\"T_4fa52754_6756_11e9_b5b5_5bbc440fd349level0_row8\" class=\"row_heading level0 row8\" >trustLevel/grandTotal</th> \n",
       "        <td id=\"T_4fa52754_6756_11e9_b5b5_5bbc440fd349row8_col0\" class=\"data row8 col0\" >0.00919693</td> \n",
       "    </tr>    <tr> \n",
       "        <th id=\"T_4fa52754_6756_11e9_b5b5_5bbc440fd349level0_row9\" class=\"row_heading level0 row9\" >trustLevel/lineItemVoids</th> \n",
       "        <td id=\"T_4fa52754_6756_11e9_b5b5_5bbc440fd349row9_col0\" class=\"data row9 col0\" >0.0615414</td> \n",
       "    </tr>    <tr> \n",
       "        <th id=\"T_4fa52754_6756_11e9_b5b5_5bbc440fd349level0_row10\" class=\"row_heading level0 row10\" >trustLevel/scansWithoutRegistration</th> \n",
       "        <td id=\"T_4fa52754_6756_11e9_b5b5_5bbc440fd349row10_col0\" class=\"data row10 col0\" >0.0628179</td> \n",
       "    </tr>    <tr> \n",
       "        <th id=\"T_4fa52754_6756_11e9_b5b5_5bbc440fd349level0_row11\" class=\"row_heading level0 row11\" >trustLevel/quantityModifications</th> \n",
       "        <td id=\"T_4fa52754_6756_11e9_b5b5_5bbc440fd349row11_col0\" class=\"data row11 col0\" >0.0878238</td> \n",
       "    </tr>    <tr> \n",
       "        <th id=\"T_4fa52754_6756_11e9_b5b5_5bbc440fd349level0_row12\" class=\"row_heading level0 row12\" >trustLevel/scannedLineItemsTotal</th> \n",
       "        <td id=\"T_4fa52754_6756_11e9_b5b5_5bbc440fd349row12_col0\" class=\"data row12 col0\" >0.129548</td> \n",
       "    </tr>    <tr> \n",
       "        <th id=\"T_4fa52754_6756_11e9_b5b5_5bbc440fd349level0_row13\" class=\"row_heading level0 row13\" >totalScanTimeInSeconds/trustLevel</th> \n",
       "        <td id=\"T_4fa52754_6756_11e9_b5b5_5bbc440fd349row13_col0\" class=\"data row13 col0\" >0.437771</td> \n",
       "    </tr>    <tr> \n",
       "        <th id=\"T_4fa52754_6756_11e9_b5b5_5bbc440fd349level0_row14\" class=\"row_heading level0 row14\" >totalScanTimeInSeconds/grandTotal</th> \n",
       "        <td id=\"T_4fa52754_6756_11e9_b5b5_5bbc440fd349row14_col0\" class=\"data row14 col0\" >0.00601387</td> \n",
       "    </tr>    <tr> \n",
       "        <th id=\"T_4fa52754_6756_11e9_b5b5_5bbc440fd349level0_row15\" class=\"row_heading level0 row15\" >totalScanTimeInSeconds/lineItemVoids</th> \n",
       "        <td id=\"T_4fa52754_6756_11e9_b5b5_5bbc440fd349row15_col0\" class=\"data row15 col0\" >0.00897523</td> \n",
       "    </tr>    <tr> \n",
       "        <th id=\"T_4fa52754_6756_11e9_b5b5_5bbc440fd349level0_row16\" class=\"row_heading level0 row16\" >totalScanTimeInSeconds/scansWithoutRegistration</th> \n",
       "        <td id=\"T_4fa52754_6756_11e9_b5b5_5bbc440fd349row16_col0\" class=\"data row16 col0\" >0.0273091</td> \n",
       "    </tr>    <tr> \n",
       "        <th id=\"T_4fa52754_6756_11e9_b5b5_5bbc440fd349level0_row17\" class=\"row_heading level0 row17\" >totalScanTimeInSeconds/quantityModifications</th> \n",
       "        <td id=\"T_4fa52754_6756_11e9_b5b5_5bbc440fd349row17_col0\" class=\"data row17 col0\" >0.00798251</td> \n",
       "    </tr>    <tr> \n",
       "        <th id=\"T_4fa52754_6756_11e9_b5b5_5bbc440fd349level0_row18\" class=\"row_heading level0 row18\" >totalScanTimeInSeconds/scannedLineItemsTotal</th> \n",
       "        <td id=\"T_4fa52754_6756_11e9_b5b5_5bbc440fd349row18_col0\" class=\"data row18 col0\" >0.0910918</td> \n",
       "    </tr>    <tr> \n",
       "        <th id=\"T_4fa52754_6756_11e9_b5b5_5bbc440fd349level0_row19\" class=\"row_heading level0 row19\" >grandTotal/trustLevel</th> \n",
       "        <td id=\"T_4fa52754_6756_11e9_b5b5_5bbc440fd349row19_col0\" class=\"data row19 col0\" >0.309455</td> \n",
       "    </tr>    <tr> \n",
       "        <th id=\"T_4fa52754_6756_11e9_b5b5_5bbc440fd349level0_row20\" class=\"row_heading level0 row20\" >grandTotal/totalScanTimeInSeconds</th> \n",
       "        <td id=\"T_4fa52754_6756_11e9_b5b5_5bbc440fd349row20_col0\" class=\"data row20 col0\" >0.0288727</td> \n",
       "    </tr>    <tr> \n",
       "        <th id=\"T_4fa52754_6756_11e9_b5b5_5bbc440fd349level0_row21\" class=\"row_heading level0 row21\" >grandTotal/lineItemVoids</th> \n",
       "        <td id=\"T_4fa52754_6756_11e9_b5b5_5bbc440fd349row21_col0\" class=\"data row21 col0\" >0.00708902</td> \n",
       "    </tr>    <tr> \n",
       "        <th id=\"T_4fa52754_6756_11e9_b5b5_5bbc440fd349level0_row22\" class=\"row_heading level0 row22\" >grandTotal/scansWithoutRegistration</th> \n",
       "        <td id=\"T_4fa52754_6756_11e9_b5b5_5bbc440fd349row22_col0\" class=\"data row22 col0\" >0.00241565</td> \n",
       "    </tr>    <tr> \n",
       "        <th id=\"T_4fa52754_6756_11e9_b5b5_5bbc440fd349level0_row23\" class=\"row_heading level0 row23\" >grandTotal/quantityModifications</th> \n",
       "        <td id=\"T_4fa52754_6756_11e9_b5b5_5bbc440fd349row23_col0\" class=\"data row23 col0\" >0.0224804</td> \n",
       "    </tr>    <tr> \n",
       "        <th id=\"T_4fa52754_6756_11e9_b5b5_5bbc440fd349level0_row24\" class=\"row_heading level0 row24\" >grandTotal/scannedLineItemsTotal</th> \n",
       "        <td id=\"T_4fa52754_6756_11e9_b5b5_5bbc440fd349row24_col0\" class=\"data row24 col0\" >0.100765</td> \n",
       "    </tr>    <tr> \n",
       "        <th id=\"T_4fa52754_6756_11e9_b5b5_5bbc440fd349level0_row25\" class=\"row_heading level0 row25\" >lineItemVoids/trustLevel</th> \n",
       "        <td id=\"T_4fa52754_6756_11e9_b5b5_5bbc440fd349row25_col0\" class=\"data row25 col0\" >0.352699</td> \n",
       "    </tr>    <tr> \n",
       "        <th id=\"T_4fa52754_6756_11e9_b5b5_5bbc440fd349level0_row26\" class=\"row_heading level0 row26\" >lineItemVoids/totalScanTimeInSeconds</th> \n",
       "        <td id=\"T_4fa52754_6756_11e9_b5b5_5bbc440fd349row26_col0\" class=\"data row26 col0\" >0.0269316</td> \n",
       "    </tr>    <tr> \n",
       "        <th id=\"T_4fa52754_6756_11e9_b5b5_5bbc440fd349level0_row27\" class=\"row_heading level0 row27\" >lineItemVoids/grandTotal</th> \n",
       "        <td id=\"T_4fa52754_6756_11e9_b5b5_5bbc440fd349row27_col0\" class=\"data row27 col0\" >0.00350079</td> \n",
       "    </tr>    <tr> \n",
       "        <th id=\"T_4fa52754_6756_11e9_b5b5_5bbc440fd349level0_row28\" class=\"row_heading level0 row28\" >lineItemVoids/scansWithoutRegistration</th> \n",
       "        <td id=\"T_4fa52754_6756_11e9_b5b5_5bbc440fd349row28_col0\" class=\"data row28 col0\" >0.0174959</td> \n",
       "    </tr>    <tr> \n",
       "        <th id=\"T_4fa52754_6756_11e9_b5b5_5bbc440fd349level0_row29\" class=\"row_heading level0 row29\" >lineItemVoids/quantityModifications</th> \n",
       "        <td id=\"T_4fa52754_6756_11e9_b5b5_5bbc440fd349row29_col0\" class=\"data row29 col0\" >0.010126</td> \n",
       "    </tr>    <tr> \n",
       "        <th id=\"T_4fa52754_6756_11e9_b5b5_5bbc440fd349level0_row30\" class=\"row_heading level0 row30\" >lineItemVoids/scannedLineItemsTotal</th> \n",
       "        <td id=\"T_4fa52754_6756_11e9_b5b5_5bbc440fd349row30_col0\" class=\"data row30 col0\" >0.0901164</td> \n",
       "    </tr>    <tr> \n",
       "        <th id=\"T_4fa52754_6756_11e9_b5b5_5bbc440fd349level0_row31\" class=\"row_heading level0 row31\" >scansWithoutRegistration/trustLevel</th> \n",
       "        <td id=\"T_4fa52754_6756_11e9_b5b5_5bbc440fd349row31_col0\" class=\"data row31 col0\" >0.381772</td> \n",
       "    </tr>    <tr> \n",
       "        <th id=\"T_4fa52754_6756_11e9_b5b5_5bbc440fd349level0_row32\" class=\"row_heading level0 row32\" >scansWithoutRegistration/totalScanTimeInSeconds</th> \n",
       "        <td id=\"T_4fa52754_6756_11e9_b5b5_5bbc440fd349row32_col0\" class=\"data row32 col0\" >0.0225871</td> \n",
       "    </tr>    <tr> \n",
       "        <th id=\"T_4fa52754_6756_11e9_b5b5_5bbc440fd349level0_row33\" class=\"row_heading level0 row33\" >scansWithoutRegistration/grandTotal</th> \n",
       "        <td id=\"T_4fa52754_6756_11e9_b5b5_5bbc440fd349row33_col0\" class=\"data row33 col0\" >0.00381746</td> \n",
       "    </tr>    <tr> \n",
       "        <th id=\"T_4fa52754_6756_11e9_b5b5_5bbc440fd349level0_row34\" class=\"row_heading level0 row34\" >scansWithoutRegistration/lineItemVoids</th> \n",
       "        <td id=\"T_4fa52754_6756_11e9_b5b5_5bbc440fd349row34_col0\" class=\"data row34 col0\" >0.00880605</td> \n",
       "    </tr>    <tr> \n",
       "        <th id=\"T_4fa52754_6756_11e9_b5b5_5bbc440fd349level0_row35\" class=\"row_heading level0 row35\" >scansWithoutRegistration/quantityModifications</th> \n",
       "        <td id=\"T_4fa52754_6756_11e9_b5b5_5bbc440fd349row35_col0\" class=\"data row35 col0\" >0.00779722</td> \n",
       "    </tr>    <tr> \n",
       "        <th id=\"T_4fa52754_6756_11e9_b5b5_5bbc440fd349level0_row36\" class=\"row_heading level0 row36\" >scansWithoutRegistration/scannedLineItemsTotal</th> \n",
       "        <td id=\"T_4fa52754_6756_11e9_b5b5_5bbc440fd349row36_col0\" class=\"data row36 col0\" >0.0906148</td> \n",
       "    </tr>    <tr> \n",
       "        <th id=\"T_4fa52754_6756_11e9_b5b5_5bbc440fd349level0_row37\" class=\"row_heading level0 row37\" >quantityModifications/trustLevel</th> \n",
       "        <td id=\"T_4fa52754_6756_11e9_b5b5_5bbc440fd349row37_col0\" class=\"data row37 col0\" >0.270586</td> \n",
       "    </tr>    <tr> \n",
       "        <th id=\"T_4fa52754_6756_11e9_b5b5_5bbc440fd349level0_row38\" class=\"row_heading level0 row38\" >quantityModifications/totalScanTimeInSeconds</th> \n",
       "        <td id=\"T_4fa52754_6756_11e9_b5b5_5bbc440fd349row38_col0\" class=\"data row38 col0\" >0.0283602</td> \n",
       "    </tr>    <tr> \n",
       "        <th id=\"T_4fa52754_6756_11e9_b5b5_5bbc440fd349level0_row39\" class=\"row_heading level0 row39\" >quantityModifications/grandTotal</th> \n",
       "        <td id=\"T_4fa52754_6756_11e9_b5b5_5bbc440fd349row39_col0\" class=\"data row39 col0\" >0.0112176</td> \n",
       "    </tr>    <tr> \n",
       "        <th id=\"T_4fa52754_6756_11e9_b5b5_5bbc440fd349level0_row40\" class=\"row_heading level0 row40\" >quantityModifications/lineItemVoids</th> \n",
       "        <td id=\"T_4fa52754_6756_11e9_b5b5_5bbc440fd349row40_col0\" class=\"data row40 col0\" >0.00270683</td> \n",
       "    </tr>    <tr> \n",
       "        <th id=\"T_4fa52754_6756_11e9_b5b5_5bbc440fd349level0_row41\" class=\"row_heading level0 row41\" >quantityModifications/scansWithoutRegistration</th> \n",
       "        <td id=\"T_4fa52754_6756_11e9_b5b5_5bbc440fd349row41_col0\" class=\"data row41 col0\" >0.0196642</td> \n",
       "    </tr>    <tr> \n",
       "        <th id=\"T_4fa52754_6756_11e9_b5b5_5bbc440fd349level0_row42\" class=\"row_heading level0 row42\" >quantityModifications/scannedLineItemsTotal</th> \n",
       "        <td id=\"T_4fa52754_6756_11e9_b5b5_5bbc440fd349row42_col0\" class=\"data row42 col0\" >0.0943931</td> \n",
       "    </tr>    <tr> \n",
       "        <th id=\"T_4fa52754_6756_11e9_b5b5_5bbc440fd349level0_row43\" class=\"row_heading level0 row43\" >scannedLineItemsTotal/trustLevel</th> \n",
       "        <td id=\"T_4fa52754_6756_11e9_b5b5_5bbc440fd349row43_col0\" class=\"data row43 col0\" >0.660235</td> \n",
       "    </tr>    <tr> \n",
       "        <th id=\"T_4fa52754_6756_11e9_b5b5_5bbc440fd349level0_row44\" class=\"row_heading level0 row44\" >scannedLineItemsTotal/totalScanTimeInSeconds</th> \n",
       "        <td id=\"T_4fa52754_6756_11e9_b5b5_5bbc440fd349row44_col0\" class=\"data row44 col0\" >0.0230853</td> \n",
       "    </tr>    <tr> \n",
       "        <th id=\"T_4fa52754_6756_11e9_b5b5_5bbc440fd349level0_row45\" class=\"row_heading level0 row45\" >scannedLineItemsTotal/grandTotal</th> \n",
       "        <td id=\"T_4fa52754_6756_11e9_b5b5_5bbc440fd349row45_col0\" class=\"data row45 col0\" >0.00276321</td> \n",
       "    </tr>    <tr> \n",
       "        <th id=\"T_4fa52754_6756_11e9_b5b5_5bbc440fd349level0_row46\" class=\"row_heading level0 row46\" >scannedLineItemsTotal/lineItemVoids</th> \n",
       "        <td id=\"T_4fa52754_6756_11e9_b5b5_5bbc440fd349row46_col0\" class=\"data row46 col0\" >0.0453341</td> \n",
       "    </tr>    <tr> \n",
       "        <th id=\"T_4fa52754_6756_11e9_b5b5_5bbc440fd349level0_row47\" class=\"row_heading level0 row47\" >scannedLineItemsTotal/scansWithoutRegistration</th> \n",
       "        <td id=\"T_4fa52754_6756_11e9_b5b5_5bbc440fd349row47_col0\" class=\"data row47 col0\" >0.0369003</td> \n",
       "    </tr>    <tr> \n",
       "        <th id=\"T_4fa52754_6756_11e9_b5b5_5bbc440fd349level0_row48\" class=\"row_heading level0 row48\" >scannedLineItemsTotal/quantityModifications</th> \n",
       "        <td id=\"T_4fa52754_6756_11e9_b5b5_5bbc440fd349row48_col0\" class=\"data row48 col0\" >0.0404691</td> \n",
       "    </tr>    <tr> \n",
       "        <th id=\"T_4fa52754_6756_11e9_b5b5_5bbc440fd349level0_row49\" class=\"row_heading level0 row49\" >fraud</th> \n",
       "        <td id=\"T_4fa52754_6756_11e9_b5b5_5bbc440fd349row49_col0\" class=\"data row49 col0\" >1</td> \n",
       "    </tr></tbody> \n",
       "</table> "
      ],
      "text/plain": [
       "<pandas.io.formats.style.Styler at 0x7fc83c0084e0>"
      ]
     },
     "execution_count": 8,
     "metadata": {},
     "output_type": "execute_result"
    }
   ],
   "source": [
    "corr_abs = abs(df_division_main.corr())\n",
    "corr_abs[['fraud']].style.background_gradient(cmap='coolwarm')"
   ]
  },
  {
   "cell_type": "markdown",
   "metadata": {},
   "source": [
    "#### interesting observations\n",
    "- totalScanTimeInSeconds/trustLevel: higher correlation compared to its parts\n",
    "- lineItemVoids/trustLevel: higher correlation compared to its parts\n",
    "- scansWithoutRegistration/trustLevel: higher correlation compared to its parts\n",
    "- scannedLineItemsTotal/trustLevel: higher correlation compared to its parts\n",
    "- => interesting that division by trustLevel often increases overall correlation, but might not matter"
   ]
  },
  {
   "cell_type": "markdown",
   "metadata": {},
   "source": [
    "### log and square of features"
   ]
  },
  {
   "cell_type": "code",
   "execution_count": 9,
   "metadata": {},
   "outputs": [],
   "source": [
    "df_logsquare_main = df_train_main.copy()\n",
    "for col in df_train_main.columns:\n",
    "    df_logsquare_main[col+'_Square'] = np.square(df_train_main[col])\n",
    "    #only take log if there are no zeros in the column\n",
    "    if (not any(df_train_main[col] == 0)):\n",
    "        df_logsquare_main[col+'_Log'] = np.log(df_train_main[col])\n",
    "    \n",
    "df_logsquare_main['fraud'] = df_train['fraud']"
   ]
  },
  {
   "cell_type": "code",
   "execution_count": 10,
   "metadata": {},
   "outputs": [
    {
     "data": {
      "text/html": [
       "<style  type=\"text/css\" >\n",
       "    #T_5049ba08_6756_11e9_b5b5_5bbc440fd349row0_col0 {\n",
       "            background-color:  #a5c3fe;\n",
       "        }    #T_5049ba08_6756_11e9_b5b5_5bbc440fd349row1_col0 {\n",
       "            background-color:  #5d7ce6;\n",
       "        }    #T_5049ba08_6756_11e9_b5b5_5bbc440fd349row2_col0 {\n",
       "            background-color:  #3b4cc0;\n",
       "        }    #T_5049ba08_6756_11e9_b5b5_5bbc440fd349row3_col0 {\n",
       "            background-color:  #4e68d8;\n",
       "        }    #T_5049ba08_6756_11e9_b5b5_5bbc440fd349row4_col0 {\n",
       "            background-color:  #506bda;\n",
       "        }    #T_5049ba08_6756_11e9_b5b5_5bbc440fd349row5_col0 {\n",
       "            background-color:  #3b4cc0;\n",
       "        }    #T_5049ba08_6756_11e9_b5b5_5bbc440fd349row6_col0 {\n",
       "            background-color:  #9ebeff;\n",
       "        }    #T_5049ba08_6756_11e9_b5b5_5bbc440fd349row7_col0 {\n",
       "            background-color:  #90b2fe;\n",
       "        }    #T_5049ba08_6756_11e9_b5b5_5bbc440fd349row8_col0 {\n",
       "            background-color:  #bad0f8;\n",
       "        }    #T_5049ba08_6756_11e9_b5b5_5bbc440fd349row9_col0 {\n",
       "            background-color:  #5b7ae5;\n",
       "        }    #T_5049ba08_6756_11e9_b5b5_5bbc440fd349row10_col0 {\n",
       "            background-color:  #5977e3;\n",
       "        }    #T_5049ba08_6756_11e9_b5b5_5bbc440fd349row11_col0 {\n",
       "            background-color:  #3c4ec2;\n",
       "        }    #T_5049ba08_6756_11e9_b5b5_5bbc440fd349row12_col0 {\n",
       "            background-color:  #3c4ec2;\n",
       "        }    #T_5049ba08_6756_11e9_b5b5_5bbc440fd349row13_col0 {\n",
       "            background-color:  #4f69d9;\n",
       "        }    #T_5049ba08_6756_11e9_b5b5_5bbc440fd349row14_col0 {\n",
       "            background-color:  #536edd;\n",
       "        }    #T_5049ba08_6756_11e9_b5b5_5bbc440fd349row15_col0 {\n",
       "            background-color:  #3c4ec2;\n",
       "        }    #T_5049ba08_6756_11e9_b5b5_5bbc440fd349row16_col0 {\n",
       "            background-color:  #a9c6fd;\n",
       "        }    #T_5049ba08_6756_11e9_b5b5_5bbc440fd349row17_col0 {\n",
       "            background-color:  #82a6fb;\n",
       "        }    #T_5049ba08_6756_11e9_b5b5_5bbc440fd349row18_col0 {\n",
       "            background-color:  #b40426;\n",
       "        }</style>  \n",
       "<table id=\"T_5049ba08_6756_11e9_b5b5_5bbc440fd349\" > \n",
       "<thead>    <tr> \n",
       "        <th class=\"blank level0\" ></th> \n",
       "        <th class=\"col_heading level0 col0\" >fraud</th> \n",
       "    </tr></thead> \n",
       "<tbody>    <tr> \n",
       "        <th id=\"T_5049ba08_6756_11e9_b5b5_5bbc440fd349level0_row0\" class=\"row_heading level0 row0\" >trustLevel</th> \n",
       "        <td id=\"T_5049ba08_6756_11e9_b5b5_5bbc440fd349row0_col0\" class=\"data row0 col0\" >0.319765</td> \n",
       "    </tr>    <tr> \n",
       "        <th id=\"T_5049ba08_6756_11e9_b5b5_5bbc440fd349level0_row1\" class=\"row_heading level0 row1\" >totalScanTimeInSeconds</th> \n",
       "        <td id=\"T_5049ba08_6756_11e9_b5b5_5bbc440fd349row1_col0\" class=\"data row1 col0\" >0.110414</td> \n",
       "    </tr>    <tr> \n",
       "        <th id=\"T_5049ba08_6756_11e9_b5b5_5bbc440fd349level0_row2\" class=\"row_heading level0 row2\" >grandTotal</th> \n",
       "        <td id=\"T_5049ba08_6756_11e9_b5b5_5bbc440fd349row2_col0\" class=\"data row2 col0\" >0.00142089</td> \n",
       "    </tr>    <tr> \n",
       "        <th id=\"T_5049ba08_6756_11e9_b5b5_5bbc440fd349level0_row3\" class=\"row_heading level0 row3\" >lineItemVoids</th> \n",
       "        <td id=\"T_5049ba08_6756_11e9_b5b5_5bbc440fd349row3_col0\" class=\"data row3 col0\" >0.0634963</td> \n",
       "    </tr>    <tr> \n",
       "        <th id=\"T_5049ba08_6756_11e9_b5b5_5bbc440fd349level0_row4\" class=\"row_heading level0 row4\" >scansWithoutRegistration</th> \n",
       "        <td id=\"T_5049ba08_6756_11e9_b5b5_5bbc440fd349row4_col0\" class=\"data row4 col0\" >0.0741225</td> \n",
       "    </tr>    <tr> \n",
       "        <th id=\"T_5049ba08_6756_11e9_b5b5_5bbc440fd349level0_row5\" class=\"row_heading level0 row5\" >quantityModifications</th> \n",
       "        <td id=\"T_5049ba08_6756_11e9_b5b5_5bbc440fd349row5_col0\" class=\"data row5 col0\" >0.000863773</td> \n",
       "    </tr>    <tr> \n",
       "        <th id=\"T_5049ba08_6756_11e9_b5b5_5bbc440fd349level0_row6\" class=\"row_heading level0 row6\" >scannedLineItemsTotal</th> \n",
       "        <td id=\"T_5049ba08_6756_11e9_b5b5_5bbc440fd349row6_col0\" class=\"data row6 col0\" >0.298423</td> \n",
       "    </tr>    <tr> \n",
       "        <th id=\"T_5049ba08_6756_11e9_b5b5_5bbc440fd349level0_row7\" class=\"row_heading level0 row7\" >trustLevel_Square</th> \n",
       "        <td id=\"T_5049ba08_6756_11e9_b5b5_5bbc440fd349row7_col0\" class=\"data row7 col0\" >0.260442</td> \n",
       "    </tr>    <tr> \n",
       "        <th id=\"T_5049ba08_6756_11e9_b5b5_5bbc440fd349level0_row8\" class=\"row_heading level0 row8\" >trustLevel_Log</th> \n",
       "        <td id=\"T_5049ba08_6756_11e9_b5b5_5bbc440fd349row8_col0\" class=\"data row8 col0\" >0.382605</td> \n",
       "    </tr>    <tr> \n",
       "        <th id=\"T_5049ba08_6756_11e9_b5b5_5bbc440fd349level0_row9\" class=\"row_heading level0 row9\" >totalScanTimeInSeconds_Square</th> \n",
       "        <td id=\"T_5049ba08_6756_11e9_b5b5_5bbc440fd349row9_col0\" class=\"data row9 col0\" >0.107345</td> \n",
       "    </tr>    <tr> \n",
       "        <th id=\"T_5049ba08_6756_11e9_b5b5_5bbc440fd349level0_row10\" class=\"row_heading level0 row10\" >totalScanTimeInSeconds_Log</th> \n",
       "        <td id=\"T_5049ba08_6756_11e9_b5b5_5bbc440fd349row10_col0\" class=\"data row10 col0\" >0.101084</td> \n",
       "    </tr>    <tr> \n",
       "        <th id=\"T_5049ba08_6756_11e9_b5b5_5bbc440fd349level0_row11\" class=\"row_heading level0 row11\" >grandTotal_Square</th> \n",
       "        <td id=\"T_5049ba08_6756_11e9_b5b5_5bbc440fd349row11_col0\" class=\"data row11 col0\" >0.00718598</td> \n",
       "    </tr>    <tr> \n",
       "        <th id=\"T_5049ba08_6756_11e9_b5b5_5bbc440fd349level0_row12\" class=\"row_heading level0 row12\" >grandTotal_Log</th> \n",
       "        <td id=\"T_5049ba08_6756_11e9_b5b5_5bbc440fd349row12_col0\" class=\"data row12 col0\" >0.00844525</td> \n",
       "    </tr>    <tr> \n",
       "        <th id=\"T_5049ba08_6756_11e9_b5b5_5bbc440fd349level0_row13\" class=\"row_heading level0 row13\" >lineItemVoids_Square</th> \n",
       "        <td id=\"T_5049ba08_6756_11e9_b5b5_5bbc440fd349row13_col0\" class=\"data row13 col0\" >0.0673294</td> \n",
       "    </tr>    <tr> \n",
       "        <th id=\"T_5049ba08_6756_11e9_b5b5_5bbc440fd349level0_row14\" class=\"row_heading level0 row14\" >scansWithoutRegistration_Square</th> \n",
       "        <td id=\"T_5049ba08_6756_11e9_b5b5_5bbc440fd349row14_col0\" class=\"data row14 col0\" >0.0795937</td> \n",
       "    </tr>    <tr> \n",
       "        <th id=\"T_5049ba08_6756_11e9_b5b5_5bbc440fd349level0_row15\" class=\"row_heading level0 row15\" >quantityModifications_Square</th> \n",
       "        <td id=\"T_5049ba08_6756_11e9_b5b5_5bbc440fd349row15_col0\" class=\"data row15 col0\" >0.00527544</td> \n",
       "    </tr>    <tr> \n",
       "        <th id=\"T_5049ba08_6756_11e9_b5b5_5bbc440fd349level0_row16\" class=\"row_heading level0 row16\" >scannedLineItemsTotal_Square</th> \n",
       "        <td id=\"T_5049ba08_6756_11e9_b5b5_5bbc440fd349row16_col0\" class=\"data row16 col0\" >0.332259</td> \n",
       "    </tr>    <tr> \n",
       "        <th id=\"T_5049ba08_6756_11e9_b5b5_5bbc440fd349level0_row17\" class=\"row_heading level0 row17\" >scannedLineItemsTotal_Log</th> \n",
       "        <td id=\"T_5049ba08_6756_11e9_b5b5_5bbc440fd349row17_col0\" class=\"data row17 col0\" >0.221481</td> \n",
       "    </tr>    <tr> \n",
       "        <th id=\"T_5049ba08_6756_11e9_b5b5_5bbc440fd349level0_row18\" class=\"row_heading level0 row18\" >fraud</th> \n",
       "        <td id=\"T_5049ba08_6756_11e9_b5b5_5bbc440fd349row18_col0\" class=\"data row18 col0\" >1</td> \n",
       "    </tr></tbody> \n",
       "</table> "
      ],
      "text/plain": [
       "<pandas.io.formats.style.Styler at 0x7fc83c01a240>"
      ]
     },
     "execution_count": 10,
     "metadata": {},
     "output_type": "execute_result"
    }
   ],
   "source": [
    "corr_abs = abs(df_logsquare_main.corr())\n",
    "corr_abs[['fraud']].style.background_gradient(cmap='coolwarm')"
   ]
  },
  {
   "cell_type": "markdown",
   "metadata": {},
   "source": [
    "#### interesting observations\n",
    "- trustLevel_Log: has higher correlation, but does it matter?\n",
    "- grandTotal_Log: has higher correlation\n",
    "- quantityModifications_Square: hash higher correlation\n",
    "- scannedLineItemsTotal_Square: hash higher correlation"
   ]
  },
  {
   "cell_type": "markdown",
   "metadata": {},
   "source": [
    "### same imports as in main.py"
   ]
  },
  {
   "cell_type": "code",
   "execution_count": 11,
   "metadata": {},
   "outputs": [],
   "source": [
    "import pandas as pd\n",
    "import numpy as np\n",
    "from matplotlib import pyplot as plt\n",
    "from sklearn.model_selection import cross_val_score, GridSearchCV\n",
    "from sklearn.preprocessing import StandardScaler\n",
    "\n",
    "from sklearn.ensemble import RandomForestClassifier\n",
    "from sklearn.linear_model import LogisticRegression\n",
    "from sklearn.decomposition import PCA\n",
    "from sklearn.neighbors import KNeighborsClassifier as KNN\n",
    "from sklearn.tree import DecisionTreeClassifier as DT\n",
    "from sklearn import svm as SVM\n",
    "from sklearn.naive_bayes import GaussianNB as NB\n",
    "from xgboost import XGBClassifier\n",
    "\n",
    "# custom imports\n",
    "from funcs import plot_cv_confidence_vs_profit, score_dmc_profit,dmc_profit,cv_preds_and_confusion_matrix,cv_profits_for_models, profit_scoring\n",
    "from customClassifiers import CustomModelWithThreshold, TrustHard, PerceptronLearner\n",
    "from pipes import CustomAttributeAdder,Scaling,RandomAttributeAdder,Transformer,ClfSwitcher\n",
    "\n",
    "from sklearn.base import BaseEstimator\n",
    "from sklearn.linear_model import SGDClassifier\n",
    "\n",
    "from sklearn.ensemble import VotingClassifier\n",
    "\n",
    "# use sklearn pipeline\n",
    "from sklearn.pipeline import Pipeline\n",
    "from sklearn.preprocessing import StandardScaler\n",
    "from sklearn.preprocessing import MinMaxScaler\n",
    "from sklearn.impute import SimpleImputer\n",
    "import itertools"
   ]
  },
  {
   "cell_type": "markdown",
   "metadata": {},
   "source": [
    "## Test all feature combinations of the new features"
   ]
  },
  {
   "cell_type": "markdown",
   "metadata": {},
   "source": [
    "### load data"
   ]
  },
  {
   "cell_type": "code",
   "execution_count": 12,
   "metadata": {},
   "outputs": [],
   "source": [
    "df_train = pd.read_csv('train.csv', sep='|')\n",
    "df_test = pd.read_csv('test.csv', sep='|')\n",
    "\n",
    "# split label and predictors\n",
    "X_train, y_train = df_train.drop(columns=['fraud',]), df_train['fraud']"
   ]
  },
  {
   "cell_type": "markdown",
   "metadata": {},
   "source": [
    "### Create pipeline (as in main.py)"
   ]
  },
  {
   "cell_type": "code",
   "execution_count": 13,
   "metadata": {},
   "outputs": [],
   "source": [
    "featureGeneration_pipeline = Pipeline([\n",
    "    (\"attribs_adder\", CustomAttributeAdder()),    # returns pd.dataframe\n",
    "    (\"RandomAttributeAdder\", RandomAttributeAdder())\n",
    "    ])\n",
    "\n",
    "\n",
    "preprocessing_pipeline = Pipeline([\n",
    "    (\"transformer\", Transformer()),                # This class is still void\n",
    "    (\"scaler\", Scaling(strategy='Standard')),\n",
    "])\n",
    "\n",
    "\n",
    "model_training_pipeline = Pipeline([\n",
    "    ('feature_generation', featureGeneration_pipeline),\n",
    "    ('preprocessing', preprocessing_pipeline),\n",
    "    ('classifier', ClfSwitcher())\n",
    "])\n",
    "\n",
    "models  = [\n",
    "('lr',LogisticRegression()),\n",
    "('svm',SVM.SVC()),\n",
    "#TrustHard(LogisticRegression(C=10)),\n",
    "('perc',PerceptronLearner(100)),\n",
    "('sgd',SGDClassifier()),\n",
    "('xgb',XGBClassifier())\n",
    "]\n",
    "\n",
    "weights = list(itertools.product([0,1], repeat=len(models)))\n",
    "weights.remove(tuple(np.zeros(len(models))))"
   ]
  },
  {
   "cell_type": "markdown",
   "metadata": {},
   "source": [
    "### Create all combinations up to 5 features from the interesting features"
   ]
  },
  {
   "cell_type": "code",
   "execution_count": 14,
   "metadata": {},
   "outputs": [],
   "source": [
    "featurelist = [                      'totalScanTimeInSeconds*lineItemVoids',\n",
    "                                     'totalScanTimeInSeconds*scansWithoutRegistration',\n",
    "                                     'totalScanTimeInSeconds*scannedLineItemsTotal',\n",
    "                                     'lineItemVoids*scansWithoutRegistration',\n",
    "                                     'totalScanTimeInSeconds/trustLevel',\n",
    "                                     'lineItemVoids/trustLevel',\n",
    "                                     'scansWithoutRegistration/trustLevel',\n",
    "                                     'scansWithoutRegistration/quantityModifications',\n",
    "                                     'scannedLineItemsTotal/trustLevel',\n",
    "                                     'trustLevel_Log',\n",
    "                                     'grandTotal_Log',\n",
    "                                     'quantityModifications_Square',\n",
    "                                     'scannedLineItemsTotal_Square']\n",
    "combinations = [1, 2, 3, 4, 5]\n",
    "featurelistAllcombinations = []\n",
    "for l in combinations:\n",
    "    featurelistAllcombinations += list(itertools.combinations(featurelist, l))"
   ]
  },
  {
   "cell_type": "markdown",
   "metadata": {},
   "source": [
    "### use these features in a gridsearch with logistic regression"
   ]
  },
  {
   "cell_type": "code",
   "execution_count": 15,
   "metadata": {},
   "outputs": [],
   "source": [
    "parameters = [\n",
    "    #{\n",
    "    #   'classifier__estimator': [SGDClassifier()],\n",
    "    #    'classifier__estimator__penalty': ('l2', 'elasticnet', 'l1'),\n",
    "    #   'classifier__estimator__max_iter': [50, 80],\n",
    "    #    'classifier__estimator__tol': [1e-4],\n",
    "    #   'classifier__estimator__loss': ['hinge', 'modified_huber']\n",
    "    #},\n",
    "    \n",
    "    #{\n",
    "    #   'classifier__estimator': [LogisticRegression()],\n",
    "    #    'classifier__estimator__C': [0.5,1,2,5,10,20,30],\n",
    "    #},\n",
    "    \n",
    "    #{  \n",
    "    #   #try different feature combinations  \n",
    "    #   'feature_generation__attribs_adder__featurelist': [\n",
    "    #                                  ['valuePerLineItem','quantityModificationsPerLineItem'],\n",
    "    #                                  ['quantityModificationsPerLineItem'],\n",
    "    #                                  ['valuePerLineItem']],  \n",
    "    #   'classifier__estimator': [VotingClassifier(estimators=models,voting='hard')],\n",
    "    #   'classifier__estimator__weights': weights,\n",
    "    #   # params for the single models\n",
    "    #   'classifier__estimator__lr__C': [10],\n",
    "    #   'classifier__estimator__sgd__loss':['modified_huber'],\n",
    "    #   'classifier__estimator__sgd__max_iter':[50],\n",
    "    #   'classifier__estimator__xgb__max_depth': [4],\n",
    "    #   #'classifier__estimator__perc__epochs':[100]\n",
    "    #},\n",
    "    \n",
    "    \n",
    "    #{\n",
    "    #    'classifier__estimator': [XGBClassifier()],\n",
    "    #    'classifier__estimator__n_estimators': [50, 100, 150],\n",
    "    #    'classifier__estimator__reg_alpha': [0, 0.05, 0.1]\n",
    "    #},\n",
    "    #{\n",
    "    #    'classifier__estimator': [RandomForestClassifier()],\n",
    "    #    'classifier__estimator__min_samples_split': [2, 4, 6],\n",
    "    #    'classifier__estimator__criterion': ['gini', 'entropy']\n",
    "    #}\n",
    "    {\n",
    "     'feature_generation__attribs_adder__featurelist': featurelistAllcombinations,\n",
    "     'classifier__estimator': [LogisticRegression()],\n",
    "     'classifier__estimator__C': [10]\n",
    "    }\n",
    "]"
   ]
  },
  {
   "cell_type": "code",
   "execution_count": 16,
   "metadata": {},
   "outputs": [
    {
     "name": "stdout",
     "output_type": "stream",
     "text": [
      "Fitting 10 folds for each of 2379 candidates, totalling 23790 fits\n"
     ]
    },
    {
     "name": "stderr",
     "output_type": "stream",
     "text": [
      "[Parallel(n_jobs=-1)]: Using backend LokyBackend with 4 concurrent workers.\n",
      "[Parallel(n_jobs=-1)]: Done  24 tasks      | elapsed:    6.7s\n",
      "[Parallel(n_jobs=-1)]: Done 120 tasks      | elapsed:   22.0s\n",
      "[Parallel(n_jobs=-1)]: Done 280 tasks      | elapsed:   58.1s\n",
      "[Parallel(n_jobs=-1)]: Done 504 tasks      | elapsed:  1.8min\n",
      "[Parallel(n_jobs=-1)]: Done 792 tasks      | elapsed:  2.9min\n",
      "[Parallel(n_jobs=-1)]: Done 1144 tasks      | elapsed:  4.5min\n",
      "[Parallel(n_jobs=-1)]: Done 1560 tasks      | elapsed:  6.5min\n",
      "[Parallel(n_jobs=-1)]: Done 2040 tasks      | elapsed:  8.8min\n",
      "[Parallel(n_jobs=-1)]: Done 2584 tasks      | elapsed: 11.2min\n",
      "[Parallel(n_jobs=-1)]: Done 3192 tasks      | elapsed: 14.2min\n",
      "[Parallel(n_jobs=-1)]: Done 3864 tasks      | elapsed: 17.4min\n",
      "[Parallel(n_jobs=-1)]: Done 4600 tasks      | elapsed: 21.8min\n",
      "[Parallel(n_jobs=-1)]: Done 5400 tasks      | elapsed: 26.5min\n",
      "[Parallel(n_jobs=-1)]: Done 6264 tasks      | elapsed: 31.5min\n",
      "[Parallel(n_jobs=-1)]: Done 7192 tasks      | elapsed: 37.0min\n",
      "[Parallel(n_jobs=-1)]: Done 8184 tasks      | elapsed: 42.7min\n",
      "[Parallel(n_jobs=-1)]: Done 9240 tasks      | elapsed: 48.8min\n",
      "[Parallel(n_jobs=-1)]: Done 10360 tasks      | elapsed: 55.3min\n",
      "[Parallel(n_jobs=-1)]: Done 11544 tasks      | elapsed: 62.8min\n",
      "[Parallel(n_jobs=-1)]: Done 12792 tasks      | elapsed: 71.5min\n",
      "[Parallel(n_jobs=-1)]: Done 14104 tasks      | elapsed: 80.6min\n",
      "[Parallel(n_jobs=-1)]: Done 15480 tasks      | elapsed: 90.0min\n",
      "[Parallel(n_jobs=-1)]: Done 16920 tasks      | elapsed: 100.0min\n",
      "[Parallel(n_jobs=-1)]: Done 18424 tasks      | elapsed: 110.4min\n",
      "[Parallel(n_jobs=-1)]: Done 19992 tasks      | elapsed: 121.2min\n",
      "[Parallel(n_jobs=-1)]: Done 21624 tasks      | elapsed: 132.3min\n",
      "[Parallel(n_jobs=-1)]: Done 23320 tasks      | elapsed: 144.1min\n",
      "[Parallel(n_jobs=-1)]: Done 23790 out of 23790 | elapsed: 147.2min finished\n",
      "/home/niklas/anaconda3/lib/python3.6/site-packages/sklearn/model_selection/_search.py:841: DeprecationWarning: The default of the `iid` parameter will change from True to False in version 0.22 and will be removed in 0.24. This will change numeric results when test-set sizes are unequal.\n",
      "  DeprecationWarning)\n",
      "/home/niklas/anaconda3/lib/python3.6/site-packages/sklearn/preprocessing/data.py:625: DataConversionWarning: Data with input dtype int64, float64 were all converted to float64 by StandardScaler.\n",
      "  return self.partial_fit(X, y)\n",
      "/home/niklas/anaconda3/lib/python3.6/site-packages/sklearn/base.py:465: DataConversionWarning: Data with input dtype int64, float64 were all converted to float64 by StandardScaler.\n",
      "  return self.fit(X, y, **fit_params).transform(X)\n",
      "/home/niklas/anaconda3/lib/python3.6/site-packages/sklearn/linear_model/logistic.py:433: FutureWarning: Default solver will be changed to 'lbfgs' in 0.22. Specify a solver to silence this warning.\n",
      "  FutureWarning)\n"
     ]
    },
    {
     "data": {
      "text/plain": [
       "GridSearchCV(cv=10, error_score='raise-deprecating',\n",
       "       estimator=Pipeline(memory=None,\n",
       "     steps=[('feature_generation', Pipeline(memory=None,\n",
       "     steps=[('attribs_adder', CustomAttributeAdder(featurelist=['scannedLineItemsTotal', 'valuePerLineItem', 'quantityModificationsPerLineItem', 'totalScanTimeInSeconds*lineItemVoids', 'totalScanTimeInSeconds*scansWithoutRegistration', 'totalScanTi..._state=None, shuffle=True, tol=None,\n",
       "       validation_fraction=0.1, verbose=0, warm_start=False)))]),\n",
       "       fit_params=None, iid='warn', n_jobs=-1,\n",
       "       param_grid=[{'feature_generation__attribs_adder__featurelist': [('totalScanTimeInSeconds*lineItemVoids',), ('totalScanTimeInSeconds*scansWithoutRegistration',), ('totalScanTimeInSeconds*scannedLineItemsTotal',), ('lineItemVoids*scansWithoutRegistration',), ('totalScanTimeInSeconds/trustLevel',), ('l...lver='warn',\n",
       "          tol=0.0001, verbose=0, warm_start=False)], 'classifier__estimator__C': [10]}],\n",
       "       pre_dispatch='2*n_jobs', refit=True, return_train_score='warn',\n",
       "       scoring=make_scorer(profit_scorer), verbose=3)"
      ]
     },
     "execution_count": 16,
     "metadata": {},
     "output_type": "execute_result"
    }
   ],
   "source": [
    "gscv = GridSearchCV(model_training_pipeline, parameters, cv=10, n_jobs=-1, scoring=profit_scoring, verbose=3)\n",
    "gscv.fit(X_train, y_train)"
   ]
  },
  {
   "cell_type": "code",
   "execution_count": 17,
   "metadata": {},
   "outputs": [
    {
     "name": "stdout",
     "output_type": "stream",
     "text": [
      "35.987227248536456\n",
      "{'classifier__estimator': LogisticRegression(C=10, class_weight=None, dual=False, fit_intercept=True,\n",
      "          intercept_scaling=1, max_iter=100, multi_class='warn',\n",
      "          n_jobs=None, penalty='l2', random_state=None, solver='warn',\n",
      "          tol=0.0001, verbose=0, warm_start=False), 'classifier__estimator__C': 10, 'feature_generation__attribs_adder__featurelist': ('lineItemVoids*scansWithoutRegistration', 'totalScanTimeInSeconds/trustLevel', 'trustLevel_Log')}\n"
     ]
    },
    {
     "data": {
      "text/plain": [
       "{'feature_generation': Pipeline(memory=None,\n",
       "      steps=[('attribs_adder', CustomAttributeAdder(featurelist=('lineItemVoids*scansWithoutRegistration', 'totalScanTimeInSeconds/trustLevel', 'trustLevel_Log'))), ('RandomAttributeAdder', <pipes.RandomAttributeAdder object at 0x7fc84dce2588>)]),\n",
       " 'preprocessing': Pipeline(memory=None,\n",
       "      steps=[('transformer', <pipes.Transformer object at 0x7fc84dce2eb8>), ('scaler', <pipes.Scaling object at 0x7fc84dce2978>)]),\n",
       " 'classifier': ClfSwitcher(estimator=LogisticRegression(C=10, class_weight=None, dual=False, fit_intercept=True,\n",
       "           intercept_scaling=1, max_iter=100, multi_class='warn',\n",
       "           n_jobs=None, penalty='l2', random_state=None, solver='warn',\n",
       "           tol=0.0001, verbose=0, warm_start=False))}"
      ]
     },
     "execution_count": 17,
     "metadata": {},
     "output_type": "execute_result"
    }
   ],
   "source": [
    "print(gscv.best_score_)\n",
    "print(gscv.best_params_)\n",
    "gscv.best_estimator_.named_steps"
   ]
  },
  {
   "cell_type": "markdown",
   "metadata": {},
   "source": [
    "### look at the best scores and their parameters"
   ]
  },
  {
   "cell_type": "code",
   "execution_count": 139,
   "metadata": {},
   "outputs": [
    {
     "data": {
      "text/plain": [
       "array([35.98722725, 35.98722725, 35.98722725, 35.98722725, 35.98722725,\n",
       "       34.98669505])"
      ]
     },
     "execution_count": 139,
     "metadata": {},
     "output_type": "execute_result"
    }
   ],
   "source": [
    "gscv.cv_results_['mean_test_score'][np.argsort(-gscv.cv_results_['mean_test_score'])][0:6]"
   ]
  },
  {
   "cell_type": "code",
   "execution_count": 140,
   "metadata": {},
   "outputs": [
    {
     "data": {
      "text/plain": [
       "[('lineItemVoids*scansWithoutRegistration',\n",
       "  'totalScanTimeInSeconds/trustLevel',\n",
       "  'trustLevel_Log',\n",
       "  'quantityModifications_Square'),\n",
       " ('lineItemVoids*scansWithoutRegistration',\n",
       "  'totalScanTimeInSeconds/trustLevel',\n",
       "  'trustLevel_Log',\n",
       "  'grandTotal_Log',\n",
       "  'quantityModifications_Square'),\n",
       " ('lineItemVoids*scansWithoutRegistration',\n",
       "  'totalScanTimeInSeconds/trustLevel',\n",
       "  'trustLevel_Log'),\n",
       " ('lineItemVoids*scansWithoutRegistration',\n",
       "  'totalScanTimeInSeconds/trustLevel',\n",
       "  'scansWithoutRegistration/quantityModifications',\n",
       "  'trustLevel_Log'),\n",
       " ('lineItemVoids*scansWithoutRegistration',\n",
       "  'totalScanTimeInSeconds/trustLevel',\n",
       "  'scansWithoutRegistration/quantityModifications',\n",
       "  'trustLevel_Log',\n",
       "  'quantityModifications_Square'),\n",
       " ('totalScanTimeInSeconds*lineItemVoids',\n",
       "  'lineItemVoids*scansWithoutRegistration',\n",
       "  'totalScanTimeInSeconds/trustLevel',\n",
       "  'scansWithoutRegistration/quantityModifications',\n",
       "  'trustLevel_Log')]"
      ]
     },
     "execution_count": 140,
     "metadata": {},
     "output_type": "execute_result"
    }
   ],
   "source": [
    "c = [gscv.cv_results_['params'][i]['feature_generation__attribs_adder__featurelist'] for i in np.argsort(-gscv.cv_results_['mean_test_score'])]\n",
    "c[0:6]"
   ]
  },
  {
   "cell_type": "markdown",
   "metadata": {},
   "source": [
    "the 5 best models have the same score and each of the 5 best models always includes the following three features\n",
    "- lineItemVoids*scansWithoutRegistration\n",
    "- totalScanTimeInSeconds/trustLevel\n",
    "- trustLevel_Log"
   ]
  },
  {
   "cell_type": "markdown",
   "metadata": {},
   "source": [
    "### test these features in the cv function from ilias"
   ]
  },
  {
   "cell_type": "code",
   "execution_count": 274,
   "metadata": {},
   "outputs": [],
   "source": [
    "import pandas as pd\n",
    "from sklearn.model_selection import cross_validate, StratifiedKFold\n",
    "from sklearn.metrics import make_scorer\n",
    "\n",
    "df = pd.read_csv('train.csv', sep='|')\n",
    "X, y = df.drop(columns='fraud'), df['fraud']\n",
    "\n",
    "cv = StratifiedKFold(n_splits=10, random_state=42)\n",
    "def profit_scorer(y, y_pred):\n",
    "    profit_matrix = {(0,0): 0, (0,1): -5, (1,0): -25, (1,1): 5}\n",
    "    return sum(profit_matrix[(pred, actual)] for pred, actual in zip(y_pred, y))\n",
    "profit_scoring = make_scorer(profit_scorer, greater_is_better=True)"
   ]
  },
  {
   "cell_type": "code",
   "execution_count": 275,
   "metadata": {},
   "outputs": [
    {
     "name": "stdout",
     "output_type": "stream",
     "text": [
      "Index(['trustLevel', 'totalScanTimeInSeconds', 'grandTotal', 'lineItemVoids',\n",
      "       'scansWithoutRegistration', 'quantityModifications',\n",
      "       'scannedLineItemsPerSecond', 'valuePerSecond',\n",
      "       'lineItemVoidsPerPosition', 'scannedLineItemsTotal'],\n",
      "      dtype='object')\n",
      "Index(['trustLevel', 'totalScanTimeInSeconds', 'grandTotal', 'lineItemVoids',\n",
      "       'scansWithoutRegistration', 'quantityModifications',\n",
      "       'scannedLineItemsPerSecond', 'valuePerSecond',\n",
      "       'lineItemVoidsPerPosition', 'scannedLineItemsTotal', 'trustLevel_Log',\n",
      "       'lineItemVoids*scansWithoutRegistration',\n",
      "       'totalScanTimeInSeconds/trustLevel'],\n",
      "      dtype='object')\n",
      "Index(['trustLevel', 'totalScanTimeInSeconds', 'grandTotal', 'lineItemVoids',\n",
      "       'scansWithoutRegistration', 'quantityModifications',\n",
      "       'scannedLineItemsPerSecond', 'valuePerSecond',\n",
      "       'lineItemVoidsPerPosition', 'scannedLineItemsTotal', 'trustLevel_Log'],\n",
      "      dtype='object')\n",
      "Index(['trustLevel', 'totalScanTimeInSeconds', 'grandTotal', 'lineItemVoids',\n",
      "       'scansWithoutRegistration', 'quantityModifications',\n",
      "       'scannedLineItemsPerSecond', 'valuePerSecond',\n",
      "       'lineItemVoidsPerPosition', 'scannedLineItemsTotal',\n",
      "       'lineItemVoids*scansWithoutRegistration',\n",
      "       'totalScanTimeInSeconds/trustLevel'],\n",
      "      dtype='object')\n"
     ]
    }
   ],
   "source": [
    "X_standard = X.copy()\n",
    "X_extraFeatures = X.copy()\n",
    "X_onlyTrustLevel_Log = X.copy()\n",
    "X_noTrustLevel_Log = X.copy()\n",
    "\n",
    "CustomAttributeAdder(featurelist=['scannedLineItemsTotal']).transform(X_standard)\n",
    "CustomAttributeAdder(featurelist=['lineItemVoids*scansWithoutRegistration','totalScanTimeInSeconds/trustLevel','trustLevel_Log']).transform(X_extraFeature)\n",
    "CustomAttributeAdder(featurelist=['trustLevel_Log']).transform(X_onlyTrustLevel_Log)\n",
    "CustomAttributeAdder(featurelist=['lineItemVoids*scansWithoutRegistration','totalScanTimeInSeconds/trustLevel']).transform(X_noTrustLevel_Log)\n",
    "print(X_standard.columns)\n",
    "print(X_extraFeature.columns)\n",
    "print(X_onlyTrustLevel_Log.columns)\n",
    "print(X_noTrustLevel_Log.columns)"
   ]
  },
  {
   "cell_type": "code",
   "execution_count": 276,
   "metadata": {},
   "outputs": [
    {
     "data": {
      "text/plain": [
       "325"
      ]
     },
     "execution_count": 276,
     "metadata": {},
     "output_type": "execute_result"
    }
   ],
   "source": [
    "sum(cross_validate(LogisticRegression(C=300,solver='liblinear'), X_standard, y=y, cv=cv, scoring=profit_scoring)['test_score'])"
   ]
  },
  {
   "cell_type": "code",
   "execution_count": 277,
   "metadata": {},
   "outputs": [
    {
     "data": {
      "text/plain": [
       "335"
      ]
     },
     "execution_count": 277,
     "metadata": {},
     "output_type": "execute_result"
    }
   ],
   "source": [
    "sum(cross_validate(LogisticRegression(C=300,solver='liblinear'), X_extraFeature, y=y, cv=cv, scoring=profit_scoring)['test_score'])"
   ]
  },
  {
   "cell_type": "code",
   "execution_count": 278,
   "metadata": {},
   "outputs": [
    {
     "data": {
      "text/plain": [
       "345"
      ]
     },
     "execution_count": 278,
     "metadata": {},
     "output_type": "execute_result"
    }
   ],
   "source": [
    "sum(cross_validate(LogisticRegression(C=300,solver='liblinear'), X_onlyTrustLevel_Log, y=y, cv=cv, scoring=profit_scoring)['test_score'])"
   ]
  },
  {
   "cell_type": "code",
   "execution_count": 279,
   "metadata": {},
   "outputs": [
    {
     "data": {
      "text/plain": [
       "275"
      ]
     },
     "execution_count": 279,
     "metadata": {},
     "output_type": "execute_result"
    }
   ],
   "source": [
    "sum(cross_validate(LogisticRegression(C=300,solver='liblinear'), X_noTrustLevel_Log, y=y, cv=cv, scoring=profit_scoring)['test_score'])"
   ]
  },
  {
   "cell_type": "code",
   "execution_count": 280,
   "metadata": {},
   "outputs": [
    {
     "data": {
      "text/plain": [
       "335"
      ]
     },
     "execution_count": 280,
     "metadata": {},
     "output_type": "execute_result"
    }
   ],
   "source": [
    "sum(cross_validate(LogisticRegression(C=305,solver='liblinear'), X_noTrustLevel_Log, y=y, cv=cv, scoring=profit_scoring)['test_score'])"
   ]
  },
  {
   "cell_type": "markdown",
   "metadata": {},
   "source": [
    "### Observations\n",
    "- for some reasons in gridsearch a regularization parameter for log reg of 10 yields good results, while for the cv function from ilias a parameter of 300 yields good results\n",
    "- regularization parameter seems to play a large role; do I overfit the cross-validation?\n",
    "- TrustLevel_Log seems to be important\n",
    "- when only using the other two new features that are not the log of TrustLevel there is a big change between C=300 and C=305"
   ]
  }
 ],
 "metadata": {
  "kernelspec": {
   "display_name": "Python 3",
   "language": "python",
   "name": "python3"
  },
  "language_info": {
   "codemirror_mode": {
    "name": "ipython",
    "version": 3
   },
   "file_extension": ".py",
   "mimetype": "text/x-python",
   "name": "python",
   "nbconvert_exporter": "python",
   "pygments_lexer": "ipython3",
   "version": "3.6.8"
  }
 },
 "nbformat": 4,
 "nbformat_minor": 2
}
