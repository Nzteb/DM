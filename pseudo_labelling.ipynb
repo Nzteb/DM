{
 "cells": [
  {
   "cell_type": "markdown",
   "metadata": {},
   "source": [
    "### Packages and Libraries"
   ]
  },
  {
   "cell_type": "code",
   "execution_count": 70,
   "metadata": {},
   "outputs": [],
   "source": [
    "import pandas as pd\n",
    "import numpy as np\n",
    "from matplotlib import pyplot as plt\n",
    "from sklearn.model_selection import cross_val_score, GridSearchCV, StratifiedKFold\n",
    "from sklearn.metrics import make_scorer\n",
    "from sklearn.preprocessing import StandardScaler\n",
    "\n",
    "from sklearn.ensemble import RandomForestClassifier\n",
    "from sklearn.linear_model import LogisticRegression\n",
    "from sklearn.decomposition import PCA\n",
    "from sklearn.neighbors import KNeighborsClassifier as KNN\n",
    "from sklearn.tree import DecisionTreeClassifier as DT\n",
    "from sklearn import svm as SVM\n",
    "from sklearn.naive_bayes import GaussianNB as NB\n",
    "from xgboost import XGBClassifier\n",
    "\n",
    "from bayes_opt import BayesianOptimization\n",
    "from imblearn.over_sampling import SMOTE"
   ]
  },
  {
   "cell_type": "code",
   "execution_count": 2,
   "metadata": {},
   "outputs": [],
   "source": [
    "# custom imports\n",
    "from funcs import plot_cv_confidence_vs_profit, score_dmc_profit,dmc_profit,cv_preds_and_confusion_matrix,cv_profits_for_models, profit_scoring\n",
    "from customClassifiers import CustomModelWithThreshold, TrustHard, PerceptronLearner\n",
    "from pipes import CustomAttributeAdder,Scaling,RandomAttributeAdder,Transformer,ClfSwitcher\n",
    "\n",
    "from sklearn.base import BaseEstimator\n",
    "from sklearn.linear_model import SGDClassifier\n",
    "\n",
    "from sklearn.ensemble import VotingClassifier"
   ]
  },
  {
   "cell_type": "code",
   "execution_count": 3,
   "metadata": {},
   "outputs": [],
   "source": [
    "# use sklearn pipeline\n",
    "from sklearn.pipeline import Pipeline\n",
    "from sklearn.preprocessing import StandardScaler\n",
    "from sklearn.preprocessing import MinMaxScaler\n",
    "from sklearn.impute import SimpleImputer\n",
    "import itertools"
   ]
  },
  {
   "cell_type": "markdown",
   "metadata": {},
   "source": [
    "# Load the Data"
   ]
  },
  {
   "cell_type": "code",
   "execution_count": 4,
   "metadata": {},
   "outputs": [],
   "source": [
    "# load the data\n",
    "train = pd.read_csv('train.csv' ,delimiter=\"|\")\n",
    "test = pd.read_csv('test.csv', delimiter=\"|\")\n",
    "X_train, y_train = train.drop(columns='fraud'), train['fraud']\n",
    "#y_test = test.pop('fraud')"
   ]
  },
  {
   "cell_type": "code",
   "execution_count": 5,
   "metadata": {},
   "outputs": [],
   "source": [
    "featureGeneration_pipeline = Pipeline([\n",
    "    (\"attribs_adder\", CustomAttributeAdder()),    # returns pd.dataframe\n",
    "    (\"RandomAttributeAdder\", RandomAttributeAdder())\n",
    "    ])\n",
    "\n",
    "\n",
    "preprocessing_pipeline = Pipeline([\n",
    "    (\"transformer\", Transformer()),                # This class is still void\n",
    "    (\"scaler\", Scaling(strategy='Standard')),\n",
    "])\n",
    "\n",
    "\n",
    "model_training_pipeline = Pipeline([\n",
    "    ('feature_generation', featureGeneration_pipeline),\n",
    "    ('preprocessing', preprocessing_pipeline),\n",
    "    ('classifier', ClfSwitcher())\n",
    "])"
   ]
  },
  {
   "cell_type": "code",
   "execution_count": 6,
   "metadata": {},
   "outputs": [
    {
     "name": "stderr",
     "output_type": "stream",
     "text": [
      "/anaconda3/lib/python3.7/site-packages/sklearn/preprocessing/data.py:625: DataConversionWarning: Data with input dtype int64, float64 were all converted to float64 by StandardScaler.\n",
      "  return self.partial_fit(X, y)\n",
      "/anaconda3/lib/python3.7/site-packages/sklearn/base.py:462: DataConversionWarning: Data with input dtype int64, float64 were all converted to float64 by StandardScaler.\n",
      "  return self.fit(X, **fit_params).transform(X)\n"
     ]
    },
    {
     "data": {
      "text/plain": [
       "(1879, 15)"
      ]
     },
     "execution_count": 6,
     "metadata": {},
     "output_type": "execute_result"
    }
   ],
   "source": [
    "X_train_prepared = featureGeneration_pipeline.fit_transform(X_train)\n",
    "X_train_prepared = preprocessing_pipeline.fit_transform(X_train_prepared)\n",
    "X_train_prepared.shape"
   ]
  },
  {
   "cell_type": "markdown",
   "metadata": {},
   "source": [
    "### Learn a Model to Classify the Records from the Test Set"
   ]
  },
  {
   "cell_type": "code",
   "execution_count": 7,
   "metadata": {},
   "outputs": [],
   "source": [
    "from sklearn.metrics import f1_score\n",
    "\n",
    "def cross_val_imbalanced_f1(classifier, X, y, sampler):\n",
    "    kf = StratifiedKFold(n_splits=10, random_state=42)\n",
    "    cross_val_f1_lst = []\n",
    "    \n",
    "    X = pd.DataFrame(X)\n",
    "\n",
    "    for train_index, test_index in kf.split(X, y):\n",
    "        # keeping validation set apart and oversampling in each iteration using smote \n",
    "        train, test = X.iloc[train_index], X.iloc[test_index]\n",
    "        target_train, target_test = y.iloc[train_index], y.iloc[test_index]\n",
    "        X_train_res, y_train_res = sampler.fit_sample(train, target_train.ravel())\n",
    "\n",
    "        # training the model on oversampled 4 folds of training set\n",
    "        classifier.fit(pd.DataFrame(X_train_res), y_train_res)\n",
    "        # testing on 1 fold of validation set\n",
    "        test_preds = classifier.predict(test)\n",
    "        cross_val_f1_lst.append(f1_score(target_test, test_preds))\n",
    "        \n",
    "    return np.mean(cross_val_f1_lst)"
   ]
  },
  {
   "cell_type": "markdown",
   "metadata": {},
   "source": [
    "#### SGD"
   ]
  },
  {
   "cell_type": "code",
   "execution_count": 9,
   "metadata": {},
   "outputs": [],
   "source": [
    "def evaluateSgd(alpha, l1_ratio, tol, penalty, loss):\n",
    "    \n",
    "    # 3 options, l1 by default\n",
    "    penalty_str = 'l1'\n",
    "    if int(penalty) == 0:\n",
    "        penalty_str = 'l2'\n",
    "    elif int(penalty) == 1:\n",
    "        penalty_str = 'elasticnet'\n",
    "    \n",
    "    # 3 options, modified_huber by default\n",
    "    loss_str = 'modified_huber'\n",
    "    if int(loss) == 0:\n",
    "        loss_str = 'hinge'\n",
    "    elif int(loss) == 1:\n",
    "        loss_str = 'log'\n",
    "\n",
    "        \n",
    "    model = SGDClassifier(alpha=alpha, l1_ratio=l1_ratio, tol=tol, penalty=penalty_str, loss=loss_str, random_state=231)\n",
    "    \n",
    "    return cross_val_imbalanced_f1(model, X_train_prepared, y_train, SMOTE(random_state=42))"
   ]
  },
  {
   "cell_type": "code",
   "execution_count": 10,
   "metadata": {},
   "outputs": [],
   "source": [
    "params_sgd = {\n",
    "    'alpha': (1e-6, 1),\n",
    "    'l1_ratio': (0, 1),\n",
    "    'tol': (1e-9, 1e-1),\n",
    "    'penalty': (0, 3),\n",
    "    'loss': (0, 3)\n",
    "}"
   ]
  },
  {
   "cell_type": "code",
   "execution_count": 15,
   "metadata": {},
   "outputs": [
    {
     "name": "stdout",
     "output_type": "stream",
     "text": [
      "|   iter    |  target   |   alpha   | l1_ratio  |   loss    |  penalty  |    tol    |\n",
      "-------------------------------------------------------------------------------------\n",
      "| \u001b[0m 1       \u001b[0m | \u001b[0m 0.4621  \u001b[0m | \u001b[0m 0.7815  \u001b[0m | \u001b[0m 0.5842  \u001b[0m | \u001b[0m 1.28    \u001b[0m | \u001b[0m 0.946   \u001b[0m | \u001b[0m 0.08269 \u001b[0m |\n",
      "| \u001b[95m 2       \u001b[0m | \u001b[95m 0.5754  \u001b[0m | \u001b[95m 0.9034  \u001b[0m | \u001b[95m 0.03894 \u001b[0m | \u001b[95m 2.746   \u001b[0m | \u001b[95m 0.1815  \u001b[0m | \u001b[95m 0.01807 \u001b[0m |\n",
      "| \u001b[95m 3       \u001b[0m | \u001b[95m 0.8764  \u001b[0m | \u001b[95m 0.0723  \u001b[0m | \u001b[95m 0.4588  \u001b[0m | \u001b[95m 2.125   \u001b[0m | \u001b[95m 1.45    \u001b[0m | \u001b[95m 0.002545\u001b[0m |\n",
      "| \u001b[0m 4       \u001b[0m | \u001b[0m 0.6529  \u001b[0m | \u001b[0m 0.0669  \u001b[0m | \u001b[0m 0.4259  \u001b[0m | \u001b[0m 0.6577  \u001b[0m | \u001b[0m 2.43    \u001b[0m | \u001b[0m 0.01401 \u001b[0m |\n",
      "| \u001b[0m 5       \u001b[0m | \u001b[0m 0.4837  \u001b[0m | \u001b[0m 0.7512  \u001b[0m | \u001b[0m 0.2791  \u001b[0m | \u001b[0m 2.847   \u001b[0m | \u001b[0m 2.655   \u001b[0m | \u001b[0m 0.06102 \u001b[0m |\n",
      "| \u001b[0m 6       \u001b[0m | \u001b[0m 0.4514  \u001b[0m | \u001b[0m 0.7791  \u001b[0m | \u001b[0m 0.04156 \u001b[0m | \u001b[0m 2.359   \u001b[0m | \u001b[0m 2.707   \u001b[0m | \u001b[0m 0.0433  \u001b[0m |\n",
      "| \u001b[0m 7       \u001b[0m | \u001b[0m 0.513   \u001b[0m | \u001b[0m 0.8866  \u001b[0m | \u001b[0m 0.5485  \u001b[0m | \u001b[0m 2.961   \u001b[0m | \u001b[0m 1.696   \u001b[0m | \u001b[0m 0.0901  \u001b[0m |\n",
      "| \u001b[0m 8       \u001b[0m | \u001b[0m 0.4854  \u001b[0m | \u001b[0m 0.5637  \u001b[0m | \u001b[0m 0.0959  \u001b[0m | \u001b[0m 1.853   \u001b[0m | \u001b[0m 0.18    \u001b[0m | \u001b[0m 0.05804 \u001b[0m |\n",
      "| \u001b[0m 9       \u001b[0m | \u001b[0m 0.4601  \u001b[0m | \u001b[0m 0.8717  \u001b[0m | \u001b[0m 0.7998  \u001b[0m | \u001b[0m 0.2     \u001b[0m | \u001b[0m 0.1805  \u001b[0m | \u001b[0m 0.08993 \u001b[0m |\n",
      "| \u001b[0m 10      \u001b[0m | \u001b[0m 0.4407  \u001b[0m | \u001b[0m 0.6437  \u001b[0m | \u001b[0m 0.668   \u001b[0m | \u001b[0m 0.3004  \u001b[0m | \u001b[0m 1.938   \u001b[0m | \u001b[0m 0.004273\u001b[0m |\n",
      "| \u001b[0m 11      \u001b[0m | \u001b[0m 0.4888  \u001b[0m | \u001b[0m 0.6171  \u001b[0m | \u001b[0m 0.262   \u001b[0m | \u001b[0m 2.152   \u001b[0m | \u001b[0m 2.991   \u001b[0m | \u001b[0m 0.026   \u001b[0m |\n",
      "| \u001b[0m 12      \u001b[0m | \u001b[0m 0.5165  \u001b[0m | \u001b[0m 0.3193  \u001b[0m | \u001b[0m 0.1559  \u001b[0m | \u001b[0m 0.02604 \u001b[0m | \u001b[0m 1.492   \u001b[0m | \u001b[0m 0.02333 \u001b[0m |\n",
      "| \u001b[0m 13      \u001b[0m | \u001b[0m 0.8197  \u001b[0m | \u001b[0m 0.1084  \u001b[0m | \u001b[0m 0.9453  \u001b[0m | \u001b[0m 2.674   \u001b[0m | \u001b[0m 0.836   \u001b[0m | \u001b[0m 0.08262 \u001b[0m |\n",
      "| \u001b[0m 14      \u001b[0m | \u001b[0m 0.6469  \u001b[0m | \u001b[0m 0.4488  \u001b[0m | \u001b[0m 0.02227 \u001b[0m | \u001b[0m 2.712   \u001b[0m | \u001b[0m 1.917   \u001b[0m | \u001b[0m 0.06119 \u001b[0m |\n",
      "| \u001b[0m 15      \u001b[0m | \u001b[0m 0.4519  \u001b[0m | \u001b[0m 0.5869  \u001b[0m | \u001b[0m 0.3344  \u001b[0m | \u001b[0m 0.7761  \u001b[0m | \u001b[0m 1.159   \u001b[0m | \u001b[0m 0.05321 \u001b[0m |\n"
     ]
    },
    {
     "name": "stderr",
     "output_type": "stream",
     "text": [
      "/anaconda3/lib/python3.7/site-packages/sklearn/metrics/classification.py:1143: UndefinedMetricWarning: F-score is ill-defined and being set to 0.0 due to no predicted samples.\n",
      "  'precision', 'predicted', average, warn_for)\n",
      "/anaconda3/lib/python3.7/site-packages/sklearn/metrics/classification.py:1143: UndefinedMetricWarning: F-score is ill-defined and being set to 0.0 due to no predicted samples.\n",
      "  'precision', 'predicted', average, warn_for)\n",
      "/anaconda3/lib/python3.7/site-packages/sklearn/metrics/classification.py:1143: UndefinedMetricWarning: F-score is ill-defined and being set to 0.0 due to no predicted samples.\n",
      "  'precision', 'predicted', average, warn_for)\n",
      "/anaconda3/lib/python3.7/site-packages/sklearn/metrics/classification.py:1143: UndefinedMetricWarning: F-score is ill-defined and being set to 0.0 due to no predicted samples.\n",
      "  'precision', 'predicted', average, warn_for)\n",
      "/anaconda3/lib/python3.7/site-packages/sklearn/metrics/classification.py:1143: UndefinedMetricWarning: F-score is ill-defined and being set to 0.0 due to no predicted samples.\n",
      "  'precision', 'predicted', average, warn_for)\n"
     ]
    },
    {
     "name": "stdout",
     "output_type": "stream",
     "text": [
      "| \u001b[0m 16      \u001b[0m | \u001b[0m 0.0541  \u001b[0m | \u001b[0m 0.9719  \u001b[0m | \u001b[0m 0.9393  \u001b[0m | \u001b[0m 0.3421  \u001b[0m | \u001b[0m 2.91    \u001b[0m | \u001b[0m 0.05437 \u001b[0m |\n",
      "| \u001b[0m 17      \u001b[0m | \u001b[0m 0.5169  \u001b[0m | \u001b[0m 0.4692  \u001b[0m | \u001b[0m 0.433   \u001b[0m | \u001b[0m 0.6649  \u001b[0m | \u001b[0m 0.9394  \u001b[0m | \u001b[0m 0.09047 \u001b[0m |\n",
      "| \u001b[0m 18      \u001b[0m | \u001b[0m 0.456   \u001b[0m | \u001b[0m 0.9692  \u001b[0m | \u001b[0m 0.5473  \u001b[0m | \u001b[0m 0.9498  \u001b[0m | \u001b[0m 0.8481  \u001b[0m | \u001b[0m 0.06274 \u001b[0m |\n",
      "| \u001b[0m 19      \u001b[0m | \u001b[0m 0.5336  \u001b[0m | \u001b[0m 0.147   \u001b[0m | \u001b[0m 0.4413  \u001b[0m | \u001b[0m 1.411   \u001b[0m | \u001b[0m 1.044   \u001b[0m | \u001b[0m 0.06648 \u001b[0m |\n",
      "| \u001b[0m 20      \u001b[0m | \u001b[0m 0.4562  \u001b[0m | \u001b[0m 0.9434  \u001b[0m | \u001b[0m 0.3161  \u001b[0m | \u001b[0m 0.3041  \u001b[0m | \u001b[0m 0.8433  \u001b[0m | \u001b[0m 0.006185\u001b[0m |\n",
      "| \u001b[0m 21      \u001b[0m | \u001b[0m 0.607   \u001b[0m | \u001b[0m 0.7615  \u001b[0m | \u001b[0m 0.912   \u001b[0m | \u001b[0m 2.34    \u001b[0m | \u001b[0m 0.128   \u001b[0m | \u001b[0m 0.009628\u001b[0m |\n",
      "| \u001b[0m 22      \u001b[0m | \u001b[0m 0.4459  \u001b[0m | \u001b[0m 0.9636  \u001b[0m | \u001b[0m 0.1826  \u001b[0m | \u001b[0m 1.268   \u001b[0m | \u001b[0m 0.2957  \u001b[0m | \u001b[0m 0.0392  \u001b[0m |\n",
      "| \u001b[0m 23      \u001b[0m | \u001b[0m 0.6681  \u001b[0m | \u001b[0m 0.3701  \u001b[0m | \u001b[0m 0.176   \u001b[0m | \u001b[0m 2.438   \u001b[0m | \u001b[0m 0.468   \u001b[0m | \u001b[0m 0.03746 \u001b[0m |\n",
      "| \u001b[0m 24      \u001b[0m | \u001b[0m 0.5523  \u001b[0m | \u001b[0m 0.8679  \u001b[0m | \u001b[0m 0.09156 \u001b[0m | \u001b[0m 2.023   \u001b[0m | \u001b[0m 1.55    \u001b[0m | \u001b[0m 0.04309 \u001b[0m |\n",
      "| \u001b[0m 25      \u001b[0m | \u001b[0m 0.4898  \u001b[0m | \u001b[0m 0.5181  \u001b[0m | \u001b[0m 0.1457  \u001b[0m | \u001b[0m 1.374   \u001b[0m | \u001b[0m 0.7611  \u001b[0m | \u001b[0m 0.03153 \u001b[0m |\n",
      "| \u001b[0m 26      \u001b[0m | \u001b[0m 0.5735  \u001b[0m | \u001b[0m 0.4305  \u001b[0m | \u001b[0m 0.3977  \u001b[0m | \u001b[0m 2.856   \u001b[0m | \u001b[0m 1.65    \u001b[0m | \u001b[0m 0.01241 \u001b[0m |\n",
      "| \u001b[0m 27      \u001b[0m | \u001b[0m 0.3305  \u001b[0m | \u001b[0m 0.887   \u001b[0m | \u001b[0m 0.8881  \u001b[0m | \u001b[0m 0.4804  \u001b[0m | \u001b[0m 1.307   \u001b[0m | \u001b[0m 0.06233 \u001b[0m |\n"
     ]
    },
    {
     "name": "stderr",
     "output_type": "stream",
     "text": [
      "/anaconda3/lib/python3.7/site-packages/sklearn/metrics/classification.py:1143: UndefinedMetricWarning: F-score is ill-defined and being set to 0.0 due to no predicted samples.\n",
      "  'precision', 'predicted', average, warn_for)\n"
     ]
    },
    {
     "name": "stdout",
     "output_type": "stream",
     "text": [
      "| \u001b[0m 28      \u001b[0m | \u001b[0m 0.6008  \u001b[0m | \u001b[0m 0.07705 \u001b[0m | \u001b[0m 0.02587 \u001b[0m | \u001b[0m 1.597   \u001b[0m | \u001b[0m 0.1616  \u001b[0m | \u001b[0m 0.0683  \u001b[0m |\n",
      "| \u001b[0m 29      \u001b[0m | \u001b[0m 0.4957  \u001b[0m | \u001b[0m 0.2012  \u001b[0m | \u001b[0m 0.8356  \u001b[0m | \u001b[0m 0.3355  \u001b[0m | \u001b[0m 1.104   \u001b[0m | \u001b[0m 0.09121 \u001b[0m |\n",
      "| \u001b[0m 30      \u001b[0m | \u001b[0m 0.3924  \u001b[0m | \u001b[0m 0.4478  \u001b[0m | \u001b[0m 0.2655  \u001b[0m | \u001b[0m 0.8961  \u001b[0m | \u001b[0m 2.243   \u001b[0m | \u001b[0m 0.008349\u001b[0m |\n",
      "| \u001b[0m 31      \u001b[0m | \u001b[0m 0.4646  \u001b[0m | \u001b[0m 0.8114  \u001b[0m | \u001b[0m 0.3955  \u001b[0m | \u001b[0m 0.9163  \u001b[0m | \u001b[0m 0.6078  \u001b[0m | \u001b[0m 0.09837 \u001b[0m |\n"
     ]
    },
    {
     "name": "stderr",
     "output_type": "stream",
     "text": [
      "/anaconda3/lib/python3.7/site-packages/sklearn/metrics/classification.py:1143: UndefinedMetricWarning: F-score is ill-defined and being set to 0.0 due to no predicted samples.\n",
      "  'precision', 'predicted', average, warn_for)\n",
      "/anaconda3/lib/python3.7/site-packages/sklearn/metrics/classification.py:1143: UndefinedMetricWarning: F-score is ill-defined and being set to 0.0 due to no predicted samples.\n",
      "  'precision', 'predicted', average, warn_for)\n",
      "/anaconda3/lib/python3.7/site-packages/sklearn/metrics/classification.py:1143: UndefinedMetricWarning: F-score is ill-defined and being set to 0.0 due to no predicted samples.\n",
      "  'precision', 'predicted', average, warn_for)\n",
      "/anaconda3/lib/python3.7/site-packages/sklearn/metrics/classification.py:1143: UndefinedMetricWarning: F-score is ill-defined and being set to 0.0 due to no predicted samples.\n",
      "  'precision', 'predicted', average, warn_for)\n",
      "/anaconda3/lib/python3.7/site-packages/sklearn/metrics/classification.py:1143: UndefinedMetricWarning: F-score is ill-defined and being set to 0.0 due to no predicted samples.\n",
      "  'precision', 'predicted', average, warn_for)\n",
      "/anaconda3/lib/python3.7/site-packages/sklearn/metrics/classification.py:1143: UndefinedMetricWarning: F-score is ill-defined and being set to 0.0 due to no predicted samples.\n",
      "  'precision', 'predicted', average, warn_for)\n",
      "/anaconda3/lib/python3.7/site-packages/sklearn/metrics/classification.py:1143: UndefinedMetricWarning: F-score is ill-defined and being set to 0.0 due to no predicted samples.\n",
      "  'precision', 'predicted', average, warn_for)\n"
     ]
    },
    {
     "name": "stdout",
     "output_type": "stream",
     "text": [
      "| \u001b[0m 32      \u001b[0m | \u001b[0m 0.07925 \u001b[0m | \u001b[0m 0.4882  \u001b[0m | \u001b[0m 0.1755  \u001b[0m | \u001b[0m 1.785   \u001b[0m | \u001b[0m 2.079   \u001b[0m | \u001b[0m 0.03995 \u001b[0m |\n",
      "| \u001b[0m 33      \u001b[0m | \u001b[0m 0.4898  \u001b[0m | \u001b[0m 0.5341  \u001b[0m | \u001b[0m 0.4075  \u001b[0m | \u001b[0m 1.62    \u001b[0m | \u001b[0m 0.4151  \u001b[0m | \u001b[0m 0.02291 \u001b[0m |\n",
      "| \u001b[0m 34      \u001b[0m | \u001b[0m 0.6303  \u001b[0m | \u001b[0m 0.07316 \u001b[0m | \u001b[0m 0.9006  \u001b[0m | \u001b[0m 0.528   \u001b[0m | \u001b[0m 2.675   \u001b[0m | \u001b[0m 0.09519 \u001b[0m |\n",
      "| \u001b[0m 35      \u001b[0m | \u001b[0m 0.4908  \u001b[0m | \u001b[0m 0.4674  \u001b[0m | \u001b[0m 0.4513  \u001b[0m | \u001b[0m 1.853   \u001b[0m | \u001b[0m 1.306   \u001b[0m | \u001b[0m 0.02686 \u001b[0m |\n",
      "| \u001b[0m 36      \u001b[0m | \u001b[0m 0.462   \u001b[0m | \u001b[0m 0.7434  \u001b[0m | \u001b[0m 0.07095 \u001b[0m | \u001b[0m 1.745   \u001b[0m | \u001b[0m 1.419   \u001b[0m | \u001b[0m 0.005491\u001b[0m |\n",
      "| \u001b[0m 37      \u001b[0m | \u001b[0m 0.3957  \u001b[0m | \u001b[0m 0.3392  \u001b[0m | \u001b[0m 0.2243  \u001b[0m | \u001b[0m 1.128   \u001b[0m | \u001b[0m 2.874   \u001b[0m | \u001b[0m 0.03449 \u001b[0m |\n",
      "| \u001b[0m 38      \u001b[0m | \u001b[0m 0.4849  \u001b[0m | \u001b[0m 0.5454  \u001b[0m | \u001b[0m 0.2823  \u001b[0m | \u001b[0m 1.24    \u001b[0m | \u001b[0m 1.706   \u001b[0m | \u001b[0m 0.03295 \u001b[0m |\n",
      "| \u001b[0m 39      \u001b[0m | \u001b[0m 0.4429  \u001b[0m | \u001b[0m 0.4385  \u001b[0m | \u001b[0m 0.6479  \u001b[0m | \u001b[0m 0.8982  \u001b[0m | \u001b[0m 1.639   \u001b[0m | \u001b[0m 0.05225 \u001b[0m |\n",
      "| \u001b[0m 40      \u001b[0m | \u001b[0m 0.5056  \u001b[0m | \u001b[0m 0.8873  \u001b[0m | \u001b[0m 0.6043  \u001b[0m | \u001b[0m 2.61    \u001b[0m | \u001b[0m 1.975   \u001b[0m | \u001b[0m 0.05089 \u001b[0m |\n",
      "| \u001b[0m 41      \u001b[0m | \u001b[0m 0.556   \u001b[0m | \u001b[0m 0.3036  \u001b[0m | \u001b[0m 0.138   \u001b[0m | \u001b[0m 0.7087  \u001b[0m | \u001b[0m 0.8932  \u001b[0m | \u001b[0m 0.09726 \u001b[0m |\n",
      "| \u001b[0m 42      \u001b[0m | \u001b[0m 0.6129  \u001b[0m | \u001b[0m 0.6682  \u001b[0m | \u001b[0m 0.009902\u001b[0m | \u001b[0m 2.546   \u001b[0m | \u001b[0m 1.439   \u001b[0m | \u001b[0m 0.03732 \u001b[0m |\n",
      "| \u001b[0m 43      \u001b[0m | \u001b[0m 0.4736  \u001b[0m | \u001b[0m 0.2089  \u001b[0m | \u001b[0m 0.8076  \u001b[0m | \u001b[0m 0.8939  \u001b[0m | \u001b[0m 2.019   \u001b[0m | \u001b[0m 0.09902 \u001b[0m |\n",
      "| \u001b[0m 44      \u001b[0m | \u001b[0m 0.6567  \u001b[0m | \u001b[0m 0.1004  \u001b[0m | \u001b[0m 0.7283  \u001b[0m | \u001b[0m 0.8062  \u001b[0m | \u001b[0m 0.6855  \u001b[0m | \u001b[0m 0.08894 \u001b[0m |\n",
      "| \u001b[0m 45      \u001b[0m | \u001b[0m 0.1332  \u001b[0m | \u001b[0m 0.9008  \u001b[0m | \u001b[0m 0.09592 \u001b[0m | \u001b[0m 0.6147  \u001b[0m | \u001b[0m 2.366   \u001b[0m | \u001b[0m 0.06041 \u001b[0m |\n"
     ]
    },
    {
     "name": "stderr",
     "output_type": "stream",
     "text": [
      "/anaconda3/lib/python3.7/site-packages/sklearn/metrics/classification.py:1143: UndefinedMetricWarning: F-score is ill-defined and being set to 0.0 due to no predicted samples.\n",
      "  'precision', 'predicted', average, warn_for)\n",
      "/anaconda3/lib/python3.7/site-packages/sklearn/metrics/classification.py:1143: UndefinedMetricWarning: F-score is ill-defined and being set to 0.0 due to no predicted samples.\n",
      "  'precision', 'predicted', average, warn_for)\n",
      "/anaconda3/lib/python3.7/site-packages/sklearn/metrics/classification.py:1143: UndefinedMetricWarning: F-score is ill-defined and being set to 0.0 due to no predicted samples.\n",
      "  'precision', 'predicted', average, warn_for)\n",
      "/anaconda3/lib/python3.7/site-packages/sklearn/metrics/classification.py:1143: UndefinedMetricWarning: F-score is ill-defined and being set to 0.0 due to no predicted samples.\n",
      "  'precision', 'predicted', average, warn_for)\n"
     ]
    },
    {
     "name": "stdout",
     "output_type": "stream",
     "text": [
      "| \u001b[0m 46      \u001b[0m | \u001b[0m 0.7419  \u001b[0m | \u001b[0m 0.03231 \u001b[0m | \u001b[0m 0.2048  \u001b[0m | \u001b[0m 0.5945  \u001b[0m | \u001b[0m 0.8885  \u001b[0m | \u001b[0m 0.05676 \u001b[0m |\n",
      "| \u001b[0m 47      \u001b[0m | \u001b[0m 0.0541  \u001b[0m | \u001b[0m 0.9078  \u001b[0m | \u001b[0m 0.3622  \u001b[0m | \u001b[0m 1.655   \u001b[0m | \u001b[0m 2.592   \u001b[0m | \u001b[0m 0.01883 \u001b[0m |\n"
     ]
    },
    {
     "name": "stderr",
     "output_type": "stream",
     "text": [
      "/anaconda3/lib/python3.7/site-packages/sklearn/metrics/classification.py:1143: UndefinedMetricWarning: F-score is ill-defined and being set to 0.0 due to no predicted samples.\n",
      "  'precision', 'predicted', average, warn_for)\n",
      "/anaconda3/lib/python3.7/site-packages/sklearn/metrics/classification.py:1143: UndefinedMetricWarning: F-score is ill-defined and being set to 0.0 due to no predicted samples.\n",
      "  'precision', 'predicted', average, warn_for)\n",
      "/anaconda3/lib/python3.7/site-packages/sklearn/metrics/classification.py:1143: UndefinedMetricWarning: F-score is ill-defined and being set to 0.0 due to no predicted samples.\n",
      "  'precision', 'predicted', average, warn_for)\n",
      "/anaconda3/lib/python3.7/site-packages/sklearn/metrics/classification.py:1143: UndefinedMetricWarning: F-score is ill-defined and being set to 0.0 due to no predicted samples.\n",
      "  'precision', 'predicted', average, warn_for)\n",
      "/anaconda3/lib/python3.7/site-packages/sklearn/metrics/classification.py:1143: UndefinedMetricWarning: F-score is ill-defined and being set to 0.0 due to no predicted samples.\n",
      "  'precision', 'predicted', average, warn_for)\n"
     ]
    },
    {
     "name": "stdout",
     "output_type": "stream",
     "text": [
      "| \u001b[0m 48      \u001b[0m | \u001b[0m 0.6335  \u001b[0m | \u001b[0m 0.1482  \u001b[0m | \u001b[0m 0.4535  \u001b[0m | \u001b[0m 0.007191\u001b[0m | \u001b[0m 0.6033  \u001b[0m | \u001b[0m 0.008541\u001b[0m |\n",
      "| \u001b[0m 49      \u001b[0m | \u001b[0m 0.647   \u001b[0m | \u001b[0m 0.07578 \u001b[0m | \u001b[0m 0.6292  \u001b[0m | \u001b[0m 0.738   \u001b[0m | \u001b[0m 1.574   \u001b[0m | \u001b[0m 0.09411 \u001b[0m |\n",
      "| \u001b[0m 50      \u001b[0m | \u001b[0m 0.8741  \u001b[0m | \u001b[0m 0.04136 \u001b[0m | \u001b[0m 0.7879  \u001b[0m | \u001b[0m 2.846   \u001b[0m | \u001b[0m 0.8865  \u001b[0m | \u001b[0m 0.01983 \u001b[0m |\n",
      "| \u001b[0m 51      \u001b[0m | \u001b[0m 0.4069  \u001b[0m | \u001b[0m 0.4235  \u001b[0m | \u001b[0m 0.3695  \u001b[0m | \u001b[0m 0.5758  \u001b[0m | \u001b[0m 2.266   \u001b[0m | \u001b[0m 0.01336 \u001b[0m |\n"
     ]
    },
    {
     "name": "stderr",
     "output_type": "stream",
     "text": [
      "/anaconda3/lib/python3.7/site-packages/sklearn/metrics/classification.py:1143: UndefinedMetricWarning: F-score is ill-defined and being set to 0.0 due to no predicted samples.\n",
      "  'precision', 'predicted', average, warn_for)\n",
      "/anaconda3/lib/python3.7/site-packages/sklearn/metrics/classification.py:1143: UndefinedMetricWarning: F-score is ill-defined and being set to 0.0 due to no predicted samples.\n",
      "  'precision', 'predicted', average, warn_for)\n",
      "/anaconda3/lib/python3.7/site-packages/sklearn/metrics/classification.py:1143: UndefinedMetricWarning: F-score is ill-defined and being set to 0.0 due to no predicted samples.\n",
      "  'precision', 'predicted', average, warn_for)\n",
      "/anaconda3/lib/python3.7/site-packages/sklearn/metrics/classification.py:1143: UndefinedMetricWarning: F-score is ill-defined and being set to 0.0 due to no predicted samples.\n",
      "  'precision', 'predicted', average, warn_for)\n",
      "/anaconda3/lib/python3.7/site-packages/sklearn/metrics/classification.py:1143: UndefinedMetricWarning: F-score is ill-defined and being set to 0.0 due to no predicted samples.\n",
      "  'precision', 'predicted', average, warn_for)\n"
     ]
    },
    {
     "name": "stdout",
     "output_type": "stream",
     "text": [
      "| \u001b[0m 52      \u001b[0m | \u001b[0m 0.0541  \u001b[0m | \u001b[0m 0.998   \u001b[0m | \u001b[0m 0.5708  \u001b[0m | \u001b[0m 1.4     \u001b[0m | \u001b[0m 1.094   \u001b[0m | \u001b[0m 0.06923 \u001b[0m |\n",
      "| \u001b[0m 53      \u001b[0m | \u001b[0m 0.6668  \u001b[0m | \u001b[0m 0.08546 \u001b[0m | \u001b[0m 0.9574  \u001b[0m | \u001b[0m 0.1977  \u001b[0m | \u001b[0m 0.8879  \u001b[0m | \u001b[0m 0.09676 \u001b[0m |\n",
      "| \u001b[0m 54      \u001b[0m | \u001b[0m 0.4927  \u001b[0m | \u001b[0m 0.714   \u001b[0m | \u001b[0m 0.7338  \u001b[0m | \u001b[0m 2.171   \u001b[0m | \u001b[0m 2.914   \u001b[0m | \u001b[0m 0.06863 \u001b[0m |\n",
      "| \u001b[0m 55      \u001b[0m | \u001b[0m 0.4945  \u001b[0m | \u001b[0m 0.434   \u001b[0m | \u001b[0m 0.8846  \u001b[0m | \u001b[0m 1.449   \u001b[0m | \u001b[0m 0.5984  \u001b[0m | \u001b[0m 0.01101 \u001b[0m |\n",
      "| \u001b[0m 56      \u001b[0m | \u001b[0m 0.4881  \u001b[0m | \u001b[0m 0.7338  \u001b[0m | \u001b[0m 0.3263  \u001b[0m | \u001b[0m 2.677   \u001b[0m | \u001b[0m 2.793   \u001b[0m | \u001b[0m 0.05477 \u001b[0m |\n",
      "| \u001b[0m 57      \u001b[0m | \u001b[0m 0.4262  \u001b[0m | \u001b[0m 0.3203  \u001b[0m | \u001b[0m 0.8574  \u001b[0m | \u001b[0m 0.8473  \u001b[0m | \u001b[0m 1.455   \u001b[0m | \u001b[0m 0.001987\u001b[0m |\n",
      "| \u001b[0m 58      \u001b[0m | \u001b[0m 0.4841  \u001b[0m | \u001b[0m 0.5358  \u001b[0m | \u001b[0m 0.358   \u001b[0m | \u001b[0m 1.938   \u001b[0m | \u001b[0m 1.273   \u001b[0m | \u001b[0m 0.06128 \u001b[0m |\n",
      "| \u001b[0m 59      \u001b[0m | \u001b[0m 0.4961  \u001b[0m | \u001b[0m 0.6061  \u001b[0m | \u001b[0m 0.187   \u001b[0m | \u001b[0m 0.7549  \u001b[0m | \u001b[0m 0.1393  \u001b[0m | \u001b[0m 0.006488\u001b[0m |\n",
      "| \u001b[0m 60      \u001b[0m | \u001b[0m 0.3977  \u001b[0m | \u001b[0m 0.4024  \u001b[0m | \u001b[0m 0.793   \u001b[0m | \u001b[0m 1.987   \u001b[0m | \u001b[0m 1.477   \u001b[0m | \u001b[0m 0.04596 \u001b[0m |\n",
      "| \u001b[0m 61      \u001b[0m | \u001b[0m 0.5948  \u001b[0m | \u001b[0m 0.7941  \u001b[0m | \u001b[0m 0.842   \u001b[0m | \u001b[0m 2.711   \u001b[0m | \u001b[0m 0.6389  \u001b[0m | \u001b[0m 0.0482  \u001b[0m |\n",
      "| \u001b[0m 62      \u001b[0m | \u001b[0m 0.6153  \u001b[0m | \u001b[0m 0.2448  \u001b[0m | \u001b[0m 0.8392  \u001b[0m | \u001b[0m 2.432   \u001b[0m | \u001b[0m 1.235   \u001b[0m | \u001b[0m 0.09855 \u001b[0m |\n",
      "| \u001b[0m 63      \u001b[0m | \u001b[0m 0.3732  \u001b[0m | \u001b[0m 0.7744  \u001b[0m | \u001b[0m 0.8856  \u001b[0m | \u001b[0m 0.5062  \u001b[0m | \u001b[0m 2.81    \u001b[0m | \u001b[0m 0.08735 \u001b[0m |\n"
     ]
    },
    {
     "name": "stderr",
     "output_type": "stream",
     "text": [
      "/anaconda3/lib/python3.7/site-packages/sklearn/metrics/classification.py:1143: UndefinedMetricWarning: F-score is ill-defined and being set to 0.0 due to no predicted samples.\n",
      "  'precision', 'predicted', average, warn_for)\n"
     ]
    },
    {
     "name": "stdout",
     "output_type": "stream",
     "text": [
      "| \u001b[0m 64      \u001b[0m | \u001b[0m 0.5022  \u001b[0m | \u001b[0m 0.4118  \u001b[0m | \u001b[0m 0.5424  \u001b[0m | \u001b[0m 1.315   \u001b[0m | \u001b[0m 0.1382  \u001b[0m | \u001b[0m 0.0472  \u001b[0m |\n",
      "| \u001b[0m 65      \u001b[0m | \u001b[0m 0.4008  \u001b[0m | \u001b[0m 0.3726  \u001b[0m | \u001b[0m 0.7975  \u001b[0m | \u001b[0m 1.704   \u001b[0m | \u001b[0m 1.75    \u001b[0m | \u001b[0m 0.07076 \u001b[0m |\n"
     ]
    },
    {
     "name": "stderr",
     "output_type": "stream",
     "text": [
      "/anaconda3/lib/python3.7/site-packages/sklearn/metrics/classification.py:1143: UndefinedMetricWarning: F-score is ill-defined and being set to 0.0 due to no predicted samples.\n",
      "  'precision', 'predicted', average, warn_for)\n",
      "/anaconda3/lib/python3.7/site-packages/sklearn/metrics/classification.py:1143: UndefinedMetricWarning: F-score is ill-defined and being set to 0.0 due to no predicted samples.\n",
      "  'precision', 'predicted', average, warn_for)\n",
      "/anaconda3/lib/python3.7/site-packages/sklearn/metrics/classification.py:1143: UndefinedMetricWarning: F-score is ill-defined and being set to 0.0 due to no predicted samples.\n",
      "  'precision', 'predicted', average, warn_for)\n",
      "/anaconda3/lib/python3.7/site-packages/sklearn/metrics/classification.py:1143: UndefinedMetricWarning: F-score is ill-defined and being set to 0.0 due to no predicted samples.\n",
      "  'precision', 'predicted', average, warn_for)\n",
      "/anaconda3/lib/python3.7/site-packages/sklearn/metrics/classification.py:1143: UndefinedMetricWarning: F-score is ill-defined and being set to 0.0 due to no predicted samples.\n",
      "  'precision', 'predicted', average, warn_for)\n",
      "/anaconda3/lib/python3.7/site-packages/sklearn/metrics/classification.py:1143: UndefinedMetricWarning: F-score is ill-defined and being set to 0.0 due to no predicted samples.\n",
      "  'precision', 'predicted', average, warn_for)\n"
     ]
    },
    {
     "name": "stdout",
     "output_type": "stream",
     "text": [
      "| \u001b[0m 66      \u001b[0m | \u001b[0m 0.1246  \u001b[0m | \u001b[0m 0.5301  \u001b[0m | \u001b[0m 0.9044  \u001b[0m | \u001b[0m 1.314   \u001b[0m | \u001b[0m 1.913   \u001b[0m | \u001b[0m 0.07356 \u001b[0m |\n",
      "| \u001b[0m 67      \u001b[0m | \u001b[0m 0.498   \u001b[0m | \u001b[0m 0.2012  \u001b[0m | \u001b[0m 0.8248  \u001b[0m | \u001b[0m 0.3446  \u001b[0m | \u001b[0m 1.253   \u001b[0m | \u001b[0m 0.03034 \u001b[0m |\n",
      "| \u001b[0m 68      \u001b[0m | \u001b[0m 0.8155  \u001b[0m | \u001b[0m 0.01347 \u001b[0m | \u001b[0m 0.5512  \u001b[0m | \u001b[0m 0.8074  \u001b[0m | \u001b[0m 1.007   \u001b[0m | \u001b[0m 0.05728 \u001b[0m |\n",
      "| \u001b[0m 69      \u001b[0m | \u001b[0m 0.5058  \u001b[0m | \u001b[0m 0.2654  \u001b[0m | \u001b[0m 0.6499  \u001b[0m | \u001b[0m 1.14    \u001b[0m | \u001b[0m 1.102   \u001b[0m | \u001b[0m 0.06328 \u001b[0m |\n"
     ]
    },
    {
     "name": "stderr",
     "output_type": "stream",
     "text": [
      "/anaconda3/lib/python3.7/site-packages/sklearn/metrics/classification.py:1143: UndefinedMetricWarning: F-score is ill-defined and being set to 0.0 due to no predicted samples.\n",
      "  'precision', 'predicted', average, warn_for)\n",
      "/anaconda3/lib/python3.7/site-packages/sklearn/metrics/classification.py:1143: UndefinedMetricWarning: F-score is ill-defined and being set to 0.0 due to no predicted samples.\n",
      "  'precision', 'predicted', average, warn_for)\n",
      "/anaconda3/lib/python3.7/site-packages/sklearn/metrics/classification.py:1143: UndefinedMetricWarning: F-score is ill-defined and being set to 0.0 due to no predicted samples.\n",
      "  'precision', 'predicted', average, warn_for)\n",
      "/anaconda3/lib/python3.7/site-packages/sklearn/metrics/classification.py:1143: UndefinedMetricWarning: F-score is ill-defined and being set to 0.0 due to no predicted samples.\n",
      "  'precision', 'predicted', average, warn_for)\n",
      "/anaconda3/lib/python3.7/site-packages/sklearn/metrics/classification.py:1143: UndefinedMetricWarning: F-score is ill-defined and being set to 0.0 due to no predicted samples.\n",
      "  'precision', 'predicted', average, warn_for)\n"
     ]
    },
    {
     "name": "stdout",
     "output_type": "stream",
     "text": [
      "| \u001b[0m 70      \u001b[0m | \u001b[0m 0.0541  \u001b[0m | \u001b[0m 0.7437  \u001b[0m | \u001b[0m 0.6021  \u001b[0m | \u001b[0m 1.027   \u001b[0m | \u001b[0m 2.293   \u001b[0m | \u001b[0m 0.007132\u001b[0m |\n",
      "| \u001b[0m 71      \u001b[0m | \u001b[0m 0.6394  \u001b[0m | \u001b[0m 0.5364  \u001b[0m | \u001b[0m 0.5156  \u001b[0m | \u001b[0m 2.641   \u001b[0m | \u001b[0m 0.3479  \u001b[0m | \u001b[0m 0.009225\u001b[0m |\n",
      "| \u001b[95m 72      \u001b[0m | \u001b[95m 0.9013  \u001b[0m | \u001b[95m 0.01982 \u001b[0m | \u001b[95m 0.6282  \u001b[0m | \u001b[95m 2.534   \u001b[0m | \u001b[95m 1.899   \u001b[0m | \u001b[95m 0.0483  \u001b[0m |\n",
      "| \u001b[0m 73      \u001b[0m | \u001b[0m 0.3382  \u001b[0m | \u001b[0m 0.9509  \u001b[0m | \u001b[0m 0.7544  \u001b[0m | \u001b[0m 0.8791  \u001b[0m | \u001b[0m 1.954   \u001b[0m | \u001b[0m 0.08164 \u001b[0m |\n"
     ]
    },
    {
     "name": "stderr",
     "output_type": "stream",
     "text": [
      "/anaconda3/lib/python3.7/site-packages/sklearn/metrics/classification.py:1143: UndefinedMetricWarning: F-score is ill-defined and being set to 0.0 due to no predicted samples.\n",
      "  'precision', 'predicted', average, warn_for)\n"
     ]
    },
    {
     "name": "stdout",
     "output_type": "stream",
     "text": [
      "| \u001b[0m 74      \u001b[0m | \u001b[0m 0.4166  \u001b[0m | \u001b[0m 0.3241  \u001b[0m | \u001b[0m 0.7589  \u001b[0m | \u001b[0m 1.594   \u001b[0m | \u001b[0m 1.149   \u001b[0m | \u001b[0m 0.02788 \u001b[0m |\n",
      "| \u001b[0m 75      \u001b[0m | \u001b[0m 0.4898  \u001b[0m | \u001b[0m 0.5293  \u001b[0m | \u001b[0m 0.5685  \u001b[0m | \u001b[0m 1.199   \u001b[0m | \u001b[0m 0.04264 \u001b[0m | \u001b[0m 0.008818\u001b[0m |\n",
      "| \u001b[0m 76      \u001b[0m | \u001b[0m 0.4649  \u001b[0m | \u001b[0m 0.7532  \u001b[0m | \u001b[0m 0.274   \u001b[0m | \u001b[0m 1.816   \u001b[0m | \u001b[0m 1.602   \u001b[0m | \u001b[0m 0.007338\u001b[0m |\n",
      "| \u001b[0m 77      \u001b[0m | \u001b[0m 0.6541  \u001b[0m | \u001b[0m 0.4172  \u001b[0m | \u001b[0m 0.05366 \u001b[0m | \u001b[0m 2.889   \u001b[0m | \u001b[0m 0.8389  \u001b[0m | \u001b[0m 0.07926 \u001b[0m |\n",
      "| \u001b[0m 78      \u001b[0m | \u001b[0m 0.4701  \u001b[0m | \u001b[0m 0.7194  \u001b[0m | \u001b[0m 0.9006  \u001b[0m | \u001b[0m 1.485   \u001b[0m | \u001b[0m 0.8284  \u001b[0m | \u001b[0m 0.05561 \u001b[0m |\n",
      "| \u001b[0m 79      \u001b[0m | \u001b[0m 0.5518  \u001b[0m | \u001b[0m 0.3331  \u001b[0m | \u001b[0m 0.6955  \u001b[0m | \u001b[0m 0.3536  \u001b[0m | \u001b[0m 0.3571  \u001b[0m | \u001b[0m 0.001816\u001b[0m |\n",
      "| \u001b[0m 80      \u001b[0m | \u001b[0m 0.5149  \u001b[0m | \u001b[0m 0.6124  \u001b[0m | \u001b[0m 0.6823  \u001b[0m | \u001b[0m 2.857   \u001b[0m | \u001b[0m 1.077   \u001b[0m | \u001b[0m 0.06702 \u001b[0m |\n",
      "| \u001b[0m 81      \u001b[0m | \u001b[0m 0.3976  \u001b[0m | \u001b[0m 0.4335  \u001b[0m | \u001b[0m 0.6471  \u001b[0m | \u001b[0m 0.7213  \u001b[0m | \u001b[0m 2.824   \u001b[0m | \u001b[0m 0.009265\u001b[0m |\n",
      "| \u001b[0m 82      \u001b[0m | \u001b[0m 0.4503  \u001b[0m | \u001b[0m 0.8857  \u001b[0m | \u001b[0m 0.3716  \u001b[0m | \u001b[0m 1.228   \u001b[0m | \u001b[0m 0.4159  \u001b[0m | \u001b[0m 0.08075 \u001b[0m |\n",
      "| \u001b[0m 83      \u001b[0m | \u001b[0m 0.8742  \u001b[0m | \u001b[0m 0.06465 \u001b[0m | \u001b[0m 0.4492  \u001b[0m | \u001b[0m 2.32    \u001b[0m | \u001b[0m 1.233   \u001b[0m | \u001b[0m 0.007632\u001b[0m |\n",
      "| \u001b[0m 84      \u001b[0m | \u001b[0m 0.6217  \u001b[0m | \u001b[0m 0.4333  \u001b[0m | \u001b[0m 0.1317  \u001b[0m | \u001b[0m 2.395   \u001b[0m | \u001b[0m 1.366   \u001b[0m | \u001b[0m 0.01624 \u001b[0m |\n",
      "| \u001b[0m 85      \u001b[0m | \u001b[0m 0.0541  \u001b[0m | \u001b[0m 0.9199  \u001b[0m | \u001b[0m 0.9954  \u001b[0m | \u001b[0m 1.717   \u001b[0m | \u001b[0m 1.446   \u001b[0m | \u001b[0m 0.08343 \u001b[0m |\n"
     ]
    },
    {
     "name": "stderr",
     "output_type": "stream",
     "text": [
      "/anaconda3/lib/python3.7/site-packages/sklearn/metrics/classification.py:1143: UndefinedMetricWarning: F-score is ill-defined and being set to 0.0 due to no predicted samples.\n",
      "  'precision', 'predicted', average, warn_for)\n",
      "/anaconda3/lib/python3.7/site-packages/sklearn/metrics/classification.py:1143: UndefinedMetricWarning: F-score is ill-defined and being set to 0.0 due to no predicted samples.\n",
      "  'precision', 'predicted', average, warn_for)\n",
      "/anaconda3/lib/python3.7/site-packages/sklearn/metrics/classification.py:1143: UndefinedMetricWarning: F-score is ill-defined and being set to 0.0 due to no predicted samples.\n",
      "  'precision', 'predicted', average, warn_for)\n",
      "/anaconda3/lib/python3.7/site-packages/sklearn/metrics/classification.py:1143: UndefinedMetricWarning: F-score is ill-defined and being set to 0.0 due to no predicted samples.\n",
      "  'precision', 'predicted', average, warn_for)\n",
      "/anaconda3/lib/python3.7/site-packages/sklearn/metrics/classification.py:1143: UndefinedMetricWarning: F-score is ill-defined and being set to 0.0 due to no predicted samples.\n",
      "  'precision', 'predicted', average, warn_for)\n"
     ]
    },
    {
     "name": "stdout",
     "output_type": "stream",
     "text": [
      "| \u001b[0m 86      \u001b[0m | \u001b[0m 0.6067  \u001b[0m | \u001b[0m 0.7203  \u001b[0m | \u001b[0m 0.578   \u001b[0m | \u001b[0m 2.651   \u001b[0m | \u001b[0m 0.1701  \u001b[0m | \u001b[0m 0.0407  \u001b[0m |\n",
      "| \u001b[0m 87      \u001b[0m | \u001b[0m 0.8854  \u001b[0m | \u001b[0m 0.03448 \u001b[0m | \u001b[0m 0.5745  \u001b[0m | \u001b[0m 2.293   \u001b[0m | \u001b[0m 0.9431  \u001b[0m | \u001b[0m 0.01846 \u001b[0m |\n"
     ]
    },
    {
     "name": "stderr",
     "output_type": "stream",
     "text": [
      "/anaconda3/lib/python3.7/site-packages/sklearn/metrics/classification.py:1143: UndefinedMetricWarning: F-score is ill-defined and being set to 0.0 due to no predicted samples.\n",
      "  'precision', 'predicted', average, warn_for)\n",
      "/anaconda3/lib/python3.7/site-packages/sklearn/metrics/classification.py:1143: UndefinedMetricWarning: F-score is ill-defined and being set to 0.0 due to no predicted samples.\n",
      "  'precision', 'predicted', average, warn_for)\n",
      "/anaconda3/lib/python3.7/site-packages/sklearn/metrics/classification.py:1143: UndefinedMetricWarning: F-score is ill-defined and being set to 0.0 due to no predicted samples.\n",
      "  'precision', 'predicted', average, warn_for)\n",
      "/anaconda3/lib/python3.7/site-packages/sklearn/metrics/classification.py:1143: UndefinedMetricWarning: F-score is ill-defined and being set to 0.0 due to no predicted samples.\n",
      "  'precision', 'predicted', average, warn_for)\n"
     ]
    },
    {
     "name": "stdout",
     "output_type": "stream",
     "text": [
      "| \u001b[0m 88      \u001b[0m | \u001b[0m 0.2043  \u001b[0m | \u001b[0m 0.4752  \u001b[0m | \u001b[0m 0.7162  \u001b[0m | \u001b[0m 1.068   \u001b[0m | \u001b[0m 2.008   \u001b[0m | \u001b[0m 0.06807 \u001b[0m |\n",
      "| \u001b[0m 89      \u001b[0m | \u001b[0m 0.7824  \u001b[0m | \u001b[0m 0.1456  \u001b[0m | \u001b[0m 0.177   \u001b[0m | \u001b[0m 2.464   \u001b[0m | \u001b[0m 1.684   \u001b[0m | \u001b[0m 0.06217 \u001b[0m |\n",
      "| \u001b[0m 90      \u001b[0m | \u001b[0m 0.4515  \u001b[0m | \u001b[0m 0.8004  \u001b[0m | \u001b[0m 0.5657  \u001b[0m | \u001b[0m 0.2266  \u001b[0m | \u001b[0m 1.751   \u001b[0m | \u001b[0m 0.04191 \u001b[0m |\n",
      "| \u001b[0m 91      \u001b[0m | \u001b[0m 0.5091  \u001b[0m | \u001b[0m 0.5537  \u001b[0m | \u001b[0m 0.1614  \u001b[0m | \u001b[0m 2.67    \u001b[0m | \u001b[0m 2.261   \u001b[0m | \u001b[0m 0.05516 \u001b[0m |\n",
      "| \u001b[0m 92      \u001b[0m | \u001b[0m 0.6396  \u001b[0m | \u001b[0m 0.524   \u001b[0m | \u001b[0m 0.9729  \u001b[0m | \u001b[0m 2.197   \u001b[0m | \u001b[0m 0.4341  \u001b[0m | \u001b[0m 0.09636 \u001b[0m |\n",
      "| \u001b[0m 93      \u001b[0m | \u001b[0m 0.4863  \u001b[0m | \u001b[0m 0.6416  \u001b[0m | \u001b[0m 0.2216  \u001b[0m | \u001b[0m 0.2052  \u001b[0m | \u001b[0m 0.000529\u001b[0m | \u001b[0m 0.002023\u001b[0m |\n",
      "| \u001b[0m 94      \u001b[0m | \u001b[0m 0.4238  \u001b[0m | \u001b[0m 0.894   \u001b[0m | \u001b[0m 0.9404  \u001b[0m | \u001b[0m 2.433   \u001b[0m | \u001b[0m 1.283   \u001b[0m | \u001b[0m 0.03264 \u001b[0m |\n",
      "| \u001b[0m 95      \u001b[0m | \u001b[0m 0.0541  \u001b[0m | \u001b[0m 0.7259  \u001b[0m | \u001b[0m 0.9531  \u001b[0m | \u001b[0m 1.632   \u001b[0m | \u001b[0m 2.314   \u001b[0m | \u001b[0m 0.09157 \u001b[0m |\n"
     ]
    },
    {
     "name": "stderr",
     "output_type": "stream",
     "text": [
      "/anaconda3/lib/python3.7/site-packages/sklearn/metrics/classification.py:1143: UndefinedMetricWarning: F-score is ill-defined and being set to 0.0 due to no predicted samples.\n",
      "  'precision', 'predicted', average, warn_for)\n",
      "/anaconda3/lib/python3.7/site-packages/sklearn/metrics/classification.py:1143: UndefinedMetricWarning: F-score is ill-defined and being set to 0.0 due to no predicted samples.\n",
      "  'precision', 'predicted', average, warn_for)\n",
      "/anaconda3/lib/python3.7/site-packages/sklearn/metrics/classification.py:1143: UndefinedMetricWarning: F-score is ill-defined and being set to 0.0 due to no predicted samples.\n",
      "  'precision', 'predicted', average, warn_for)\n",
      "/anaconda3/lib/python3.7/site-packages/sklearn/metrics/classification.py:1143: UndefinedMetricWarning: F-score is ill-defined and being set to 0.0 due to no predicted samples.\n",
      "  'precision', 'predicted', average, warn_for)\n",
      "/anaconda3/lib/python3.7/site-packages/sklearn/metrics/classification.py:1143: UndefinedMetricWarning: F-score is ill-defined and being set to 0.0 due to no predicted samples.\n",
      "  'precision', 'predicted', average, warn_for)\n"
     ]
    },
    {
     "name": "stdout",
     "output_type": "stream",
     "text": [
      "| \u001b[0m 96      \u001b[0m | \u001b[0m 0.4663  \u001b[0m | \u001b[0m 0.7659  \u001b[0m | \u001b[0m 0.8777  \u001b[0m | \u001b[0m 2.652   \u001b[0m | \u001b[0m 2.413   \u001b[0m | \u001b[0m 0.07136 \u001b[0m |\n",
      "| \u001b[0m 97      \u001b[0m | \u001b[0m 0.4059  \u001b[0m | \u001b[0m 0.915   \u001b[0m | \u001b[0m 0.3332  \u001b[0m | \u001b[0m 1.57    \u001b[0m | \u001b[0m 1.965   \u001b[0m | \u001b[0m 0.01689 \u001b[0m |\n",
      "| \u001b[0m 98      \u001b[0m | \u001b[0m 0.5318  \u001b[0m | \u001b[0m 0.2423  \u001b[0m | \u001b[0m 0.5047  \u001b[0m | \u001b[0m 1.479   \u001b[0m | \u001b[0m 0.4505  \u001b[0m | \u001b[0m 0.04001 \u001b[0m |\n",
      "| \u001b[0m 99      \u001b[0m | \u001b[0m 0.3723  \u001b[0m | \u001b[0m 0.6926  \u001b[0m | \u001b[0m 0.4425  \u001b[0m | \u001b[0m 0.05789 \u001b[0m | \u001b[0m 2.716   \u001b[0m | \u001b[0m 0.09811 \u001b[0m |\n"
     ]
    },
    {
     "name": "stderr",
     "output_type": "stream",
     "text": [
      "/anaconda3/lib/python3.7/site-packages/sklearn/metrics/classification.py:1143: UndefinedMetricWarning: F-score is ill-defined and being set to 0.0 due to no predicted samples.\n",
      "  'precision', 'predicted', average, warn_for)\n"
     ]
    },
    {
     "name": "stdout",
     "output_type": "stream",
     "text": [
      "| \u001b[0m 100     \u001b[0m | \u001b[0m 0.6659  \u001b[0m | \u001b[0m 0.3861  \u001b[0m | \u001b[0m 0.101   \u001b[0m | \u001b[0m 2.326   \u001b[0m | \u001b[0m 0.7574  \u001b[0m | \u001b[0m 0.00476 \u001b[0m |\n",
      "| \u001b[95m 101     \u001b[0m | \u001b[95m 0.9136  \u001b[0m | \u001b[95m 1e-06   \u001b[0m | \u001b[95m 1.0     \u001b[0m | \u001b[95m 3.0     \u001b[0m | \u001b[95m 3.0     \u001b[0m | \u001b[95m 0.1     \u001b[0m |\n",
      "| \u001b[0m 102     \u001b[0m | \u001b[0m 0.9004  \u001b[0m | \u001b[0m 1e-06   \u001b[0m | \u001b[0m 1.0     \u001b[0m | \u001b[0m 3.0     \u001b[0m | \u001b[0m 0.0     \u001b[0m | \u001b[0m 0.1     \u001b[0m |\n",
      "| \u001b[95m 103     \u001b[0m | \u001b[95m 0.9278  \u001b[0m | \u001b[95m 1e-06   \u001b[0m | \u001b[95m 0.0     \u001b[0m | \u001b[95m 3.0     \u001b[0m | \u001b[95m 3.0     \u001b[0m | \u001b[95m 1e-09   \u001b[0m |\n",
      "| \u001b[0m 104     \u001b[0m | \u001b[0m 0.9104  \u001b[0m | \u001b[0m 1e-06   \u001b[0m | \u001b[0m 0.0     \u001b[0m | \u001b[0m 0.0     \u001b[0m | \u001b[0m 3.0     \u001b[0m | \u001b[0m 0.1     \u001b[0m |\n",
      "| \u001b[0m 105     \u001b[0m | \u001b[0m 0.9004  \u001b[0m | \u001b[0m 1e-06   \u001b[0m | \u001b[0m 0.0     \u001b[0m | \u001b[0m 3.0     \u001b[0m | \u001b[0m 0.0     \u001b[0m | \u001b[0m 1e-09   \u001b[0m |\n",
      "| \u001b[0m 106     \u001b[0m | \u001b[0m 0.9136  \u001b[0m | \u001b[0m 1e-06   \u001b[0m | \u001b[0m 1.0     \u001b[0m | \u001b[0m 2.056   \u001b[0m | \u001b[0m 3.0     \u001b[0m | \u001b[0m 0.1     \u001b[0m |\n",
      "| \u001b[0m 107     \u001b[0m | \u001b[0m 0.9009  \u001b[0m | \u001b[0m 1e-06   \u001b[0m | \u001b[0m 1.0     \u001b[0m | \u001b[0m 0.0     \u001b[0m | \u001b[0m 0.0     \u001b[0m | \u001b[0m 1e-09   \u001b[0m |\n",
      "| \u001b[0m 108     \u001b[0m | \u001b[0m 0.9278  \u001b[0m | \u001b[0m 1e-06   \u001b[0m | \u001b[0m 0.0     \u001b[0m | \u001b[0m 3.0     \u001b[0m | \u001b[0m 2.031   \u001b[0m | \u001b[0m 1e-09   \u001b[0m |\n",
      "| \u001b[0m 109     \u001b[0m | \u001b[0m 0.9278  \u001b[0m | \u001b[0m 1e-06   \u001b[0m | \u001b[0m 1.0     \u001b[0m | \u001b[0m 3.0     \u001b[0m | \u001b[0m 2.013   \u001b[0m | \u001b[0m 1e-09   \u001b[0m |\n",
      "| \u001b[0m 110     \u001b[0m | \u001b[0m 0.9004  \u001b[0m | \u001b[0m 1e-06   \u001b[0m | \u001b[0m 1.0     \u001b[0m | \u001b[0m 2.25    \u001b[0m | \u001b[0m 0.0     \u001b[0m | \u001b[0m 1e-09   \u001b[0m |\n",
      "| \u001b[0m 111     \u001b[0m | \u001b[0m 0.9136  \u001b[0m | \u001b[0m 1e-06   \u001b[0m | \u001b[0m 0.0     \u001b[0m | \u001b[0m 2.307   \u001b[0m | \u001b[0m 3.0     \u001b[0m | \u001b[0m 0.1     \u001b[0m |\n",
      "| \u001b[0m 112     \u001b[0m | \u001b[0m 0.9104  \u001b[0m | \u001b[0m 1e-06   \u001b[0m | \u001b[0m 0.0     \u001b[0m | \u001b[0m 0.6845  \u001b[0m | \u001b[0m 3.0     \u001b[0m | \u001b[0m 0.1     \u001b[0m |\n",
      "| \u001b[0m 113     \u001b[0m | \u001b[0m 0.4036  \u001b[0m | \u001b[0m 1.0     \u001b[0m | \u001b[0m 1.0     \u001b[0m | \u001b[0m 3.0     \u001b[0m | \u001b[0m 3.0     \u001b[0m | \u001b[0m 1e-09   \u001b[0m |\n",
      "| \u001b[0m 114     \u001b[0m | \u001b[0m 0.5726  \u001b[0m | \u001b[0m 1.0     \u001b[0m | \u001b[0m 1.0     \u001b[0m | \u001b[0m 3.0     \u001b[0m | \u001b[0m 0.0     \u001b[0m | \u001b[0m 1e-09   \u001b[0m |\n",
      "| \u001b[0m 115     \u001b[0m | \u001b[0m 0.9009  \u001b[0m | \u001b[0m 1e-06   \u001b[0m | \u001b[0m 0.0     \u001b[0m | \u001b[0m 0.0     \u001b[0m | \u001b[0m 0.0     \u001b[0m | \u001b[0m 1e-09   \u001b[0m |\n",
      "| \u001b[0m 116     \u001b[0m | \u001b[0m 0.9104  \u001b[0m | \u001b[0m 1e-06   \u001b[0m | \u001b[0m 1.0     \u001b[0m | \u001b[0m 0.0     \u001b[0m | \u001b[0m 3.0     \u001b[0m | \u001b[0m 0.1     \u001b[0m |\n",
      "| \u001b[0m 117     \u001b[0m | \u001b[0m 0.9104  \u001b[0m | \u001b[0m 1e-06   \u001b[0m | \u001b[0m 1.0     \u001b[0m | \u001b[0m 0.0     \u001b[0m | \u001b[0m 2.119   \u001b[0m | \u001b[0m 0.1     \u001b[0m |\n",
      "| \u001b[0m 118     \u001b[0m | \u001b[0m 0.9278  \u001b[0m | \u001b[0m 1e-06   \u001b[0m | \u001b[0m 0.6228  \u001b[0m | \u001b[0m 2.555   \u001b[0m | \u001b[0m 3.0     \u001b[0m | \u001b[0m 1e-09   \u001b[0m |\n",
      "| \u001b[0m 119     \u001b[0m | \u001b[0m 0.9104  \u001b[0m | \u001b[0m 1e-06   \u001b[0m | \u001b[0m 0.0     \u001b[0m | \u001b[0m 0.0     \u001b[0m | \u001b[0m 2.267   \u001b[0m | \u001b[0m 0.1     \u001b[0m |\n",
      "| \u001b[0m 120     \u001b[0m | \u001b[0m 0.9004  \u001b[0m | \u001b[0m 1e-06   \u001b[0m | \u001b[0m 0.0     \u001b[0m | \u001b[0m 3.0     \u001b[0m | \u001b[0m 1.199   \u001b[0m | \u001b[0m 1e-09   \u001b[0m |\n",
      "| \u001b[0m 121     \u001b[0m | \u001b[0m 0.9136  \u001b[0m | \u001b[0m 1e-06   \u001b[0m | \u001b[0m 1.0     \u001b[0m | \u001b[0m 2.529   \u001b[0m | \u001b[0m 2.491   \u001b[0m | \u001b[0m 0.1     \u001b[0m |\n",
      "| \u001b[0m 122     \u001b[0m | \u001b[0m 0.9009  \u001b[0m | \u001b[0m 1e-06   \u001b[0m | \u001b[0m 0.0     \u001b[0m | \u001b[0m 0.8732  \u001b[0m | \u001b[0m 1.85    \u001b[0m | \u001b[0m 1e-09   \u001b[0m |\n",
      "| \u001b[0m 123     \u001b[0m | \u001b[0m 0.9004  \u001b[0m | \u001b[0m 1e-06   \u001b[0m | \u001b[0m 0.5028  \u001b[0m | \u001b[0m 2.588   \u001b[0m | \u001b[0m 0.0     \u001b[0m | \u001b[0m 0.1     \u001b[0m |\n",
      "| \u001b[0m 124     \u001b[0m | \u001b[0m 0.9136  \u001b[0m | \u001b[0m 1e-06   \u001b[0m | \u001b[0m 0.5386  \u001b[0m | \u001b[0m 3.0     \u001b[0m | \u001b[0m 2.469   \u001b[0m | \u001b[0m 0.1     \u001b[0m |\n",
      "| \u001b[0m 125     \u001b[0m | \u001b[0m 0.9009  \u001b[0m | \u001b[0m 1e-06   \u001b[0m | \u001b[0m 0.0     \u001b[0m | \u001b[0m 0.6707  \u001b[0m | \u001b[0m 0.0     \u001b[0m | \u001b[0m 1e-09   \u001b[0m |\n",
      "| \u001b[0m 126     \u001b[0m | \u001b[0m 0.9004  \u001b[0m | \u001b[0m 1e-06   \u001b[0m | \u001b[0m 0.0     \u001b[0m | \u001b[0m 2.122   \u001b[0m | \u001b[0m 1.202   \u001b[0m | \u001b[0m 1e-09   \u001b[0m |\n",
      "| \u001b[0m 127     \u001b[0m | \u001b[0m 0.9104  \u001b[0m | \u001b[0m 1e-06   \u001b[0m | \u001b[0m 0.5166  \u001b[0m | \u001b[0m 0.0     \u001b[0m | \u001b[0m 2.716   \u001b[0m | \u001b[0m 0.1     \u001b[0m |\n",
      "| \u001b[0m 128     \u001b[0m | \u001b[0m 0.9004  \u001b[0m | \u001b[0m 1e-06   \u001b[0m | \u001b[0m 0.3535  \u001b[0m | \u001b[0m 3.0     \u001b[0m | \u001b[0m 0.4443  \u001b[0m | \u001b[0m 0.1     \u001b[0m |\n",
      "| \u001b[0m 129     \u001b[0m | \u001b[0m 0.9136  \u001b[0m | \u001b[0m 1e-06   \u001b[0m | \u001b[0m 1.0     \u001b[0m | \u001b[0m 3.0     \u001b[0m | \u001b[0m 1.43    \u001b[0m | \u001b[0m 0.1     \u001b[0m |\n",
      "| \u001b[0m 130     \u001b[0m | \u001b[0m 0.8931  \u001b[0m | \u001b[0m 1e-06   \u001b[0m | \u001b[0m 0.5051  \u001b[0m | \u001b[0m 0.0     \u001b[0m | \u001b[0m 0.0     \u001b[0m | \u001b[0m 0.1     \u001b[0m |\n",
      "| \u001b[0m 131     \u001b[0m | \u001b[0m 0.8931  \u001b[0m | \u001b[0m 1e-06   \u001b[0m | \u001b[0m 1.0     \u001b[0m | \u001b[0m 0.6395  \u001b[0m | \u001b[0m 0.0     \u001b[0m | \u001b[0m 0.1     \u001b[0m |\n",
      "| \u001b[0m 132     \u001b[0m | \u001b[0m 0.9004  \u001b[0m | \u001b[0m 1e-06   \u001b[0m | \u001b[0m 0.0     \u001b[0m | \u001b[0m 2.66    \u001b[0m | \u001b[0m 0.5994  \u001b[0m | \u001b[0m 1e-09   \u001b[0m |\n",
      "| \u001b[0m 133     \u001b[0m | \u001b[0m 0.9004  \u001b[0m | \u001b[0m 1e-06   \u001b[0m | \u001b[0m 1.0     \u001b[0m | \u001b[0m 3.0     \u001b[0m | \u001b[0m 0.4691  \u001b[0m | \u001b[0m 1e-09   \u001b[0m |\n",
      "| \u001b[0m 134     \u001b[0m | \u001b[0m 0.926   \u001b[0m | \u001b[0m 1e-06   \u001b[0m | \u001b[0m 0.0     \u001b[0m | \u001b[0m 1.488   \u001b[0m | \u001b[0m 3.0     \u001b[0m | \u001b[0m 1e-09   \u001b[0m |\n",
      "| \u001b[0m 135     \u001b[0m | \u001b[0m 0.9031  \u001b[0m | \u001b[0m 1e-06   \u001b[0m | \u001b[0m 1.0     \u001b[0m | \u001b[0m 1.29    \u001b[0m | \u001b[0m 3.0     \u001b[0m | \u001b[0m 0.1     \u001b[0m |\n",
      "| \u001b[0m 136     \u001b[0m | \u001b[0m 0.9031  \u001b[0m | \u001b[0m 1e-06   \u001b[0m | \u001b[0m 0.5046  \u001b[0m | \u001b[0m 1.685   \u001b[0m | \u001b[0m 3.0     \u001b[0m | \u001b[0m 0.1     \u001b[0m |\n",
      "| \u001b[0m 137     \u001b[0m | \u001b[0m 0.9278  \u001b[0m | \u001b[0m 1e-06   \u001b[0m | \u001b[0m 1.0     \u001b[0m | \u001b[0m 2.116   \u001b[0m | \u001b[0m 1.924   \u001b[0m | \u001b[0m 1e-09   \u001b[0m |\n",
      "| \u001b[0m 138     \u001b[0m | \u001b[0m 0.9004  \u001b[0m | \u001b[0m 1e-06   \u001b[0m | \u001b[0m 0.5543  \u001b[0m | \u001b[0m 3.0     \u001b[0m | \u001b[0m 0.0     \u001b[0m | \u001b[0m 1e-09   \u001b[0m |\n",
      "| \u001b[0m 139     \u001b[0m | \u001b[0m 0.9136  \u001b[0m | \u001b[0m 1e-06   \u001b[0m | \u001b[0m 0.4322  \u001b[0m | \u001b[0m 3.0     \u001b[0m | \u001b[0m 3.0     \u001b[0m | \u001b[0m 0.1     \u001b[0m |\n",
      "| \u001b[0m 140     \u001b[0m | \u001b[0m 0.4039  \u001b[0m | \u001b[0m 1.0     \u001b[0m | \u001b[0m 0.0     \u001b[0m | \u001b[0m 3.0     \u001b[0m | \u001b[0m 3.0     \u001b[0m | \u001b[0m 0.1     \u001b[0m |\n",
      "| \u001b[0m 141     \u001b[0m | \u001b[0m 0.9136  \u001b[0m | \u001b[0m 1e-06   \u001b[0m | \u001b[0m 0.0     \u001b[0m | \u001b[0m 3.0     \u001b[0m | \u001b[0m 2.568   \u001b[0m | \u001b[0m 0.1     \u001b[0m |\n",
      "| \u001b[0m 142     \u001b[0m | \u001b[0m 0.9009  \u001b[0m | \u001b[0m 1e-06   \u001b[0m | \u001b[0m 0.5016  \u001b[0m | \u001b[0m 0.5157  \u001b[0m | \u001b[0m 0.0     \u001b[0m | \u001b[0m 1e-09   \u001b[0m |\n",
      "| \u001b[0m 143     \u001b[0m | \u001b[0m 0.9104  \u001b[0m | \u001b[0m 1e-06   \u001b[0m | \u001b[0m 0.0     \u001b[0m | \u001b[0m 0.8373  \u001b[0m | \u001b[0m 2.37    \u001b[0m | \u001b[0m 0.1     \u001b[0m |\n",
      "| \u001b[0m 144     \u001b[0m | \u001b[0m 0.9076  \u001b[0m | \u001b[0m 1e-06   \u001b[0m | \u001b[0m 0.3583  \u001b[0m | \u001b[0m 3.0     \u001b[0m | \u001b[0m 1.695   \u001b[0m | \u001b[0m 0.1     \u001b[0m |\n",
      "| \u001b[0m 145     \u001b[0m | \u001b[0m 0.8949  \u001b[0m | \u001b[0m 1e-06   \u001b[0m | \u001b[0m 1.0     \u001b[0m | \u001b[0m 1.604   \u001b[0m | \u001b[0m 0.0     \u001b[0m | \u001b[0m 0.1     \u001b[0m |\n",
      "| \u001b[0m 146     \u001b[0m | \u001b[0m 0.9136  \u001b[0m | \u001b[0m 1e-06   \u001b[0m | \u001b[0m 1.0     \u001b[0m | \u001b[0m 2.563   \u001b[0m | \u001b[0m 1.8     \u001b[0m | \u001b[0m 0.1     \u001b[0m |\n",
      "| \u001b[0m 147     \u001b[0m | \u001b[0m 0.9164  \u001b[0m | \u001b[0m 1e-06   \u001b[0m | \u001b[0m 0.0     \u001b[0m | \u001b[0m 0.0     \u001b[0m | \u001b[0m 2.636   \u001b[0m | \u001b[0m 1e-09   \u001b[0m |\n",
      "| \u001b[0m 148     \u001b[0m | \u001b[0m 0.9278  \u001b[0m | \u001b[0m 1e-06   \u001b[0m | \u001b[0m 1.0     \u001b[0m | \u001b[0m 3.0     \u001b[0m | \u001b[0m 2.608   \u001b[0m | \u001b[0m 1e-09   \u001b[0m |\n",
      "| \u001b[0m 149     \u001b[0m | \u001b[0m 0.9004  \u001b[0m | \u001b[0m 1e-06   \u001b[0m | \u001b[0m 0.0     \u001b[0m | \u001b[0m 2.606   \u001b[0m | \u001b[0m 1.275   \u001b[0m | \u001b[0m 0.1     \u001b[0m |\n",
      "| \u001b[0m 150     \u001b[0m | \u001b[0m 0.9164  \u001b[0m | \u001b[0m 1e-06   \u001b[0m | \u001b[0m 0.4994  \u001b[0m | \u001b[0m 0.0     \u001b[0m | \u001b[0m 2.004   \u001b[0m | \u001b[0m 1e-09   \u001b[0m |\n",
      "| \u001b[0m 151     \u001b[0m | \u001b[0m 0.9164  \u001b[0m | \u001b[0m 1e-06   \u001b[0m | \u001b[0m 1.0     \u001b[0m | \u001b[0m 0.0     \u001b[0m | \u001b[0m 2.543   \u001b[0m | \u001b[0m 1e-09   \u001b[0m |\n",
      "| \u001b[0m 152     \u001b[0m | \u001b[0m 0.9164  \u001b[0m | \u001b[0m 1e-06   \u001b[0m | \u001b[0m 0.4939  \u001b[0m | \u001b[0m 0.0     \u001b[0m | \u001b[0m 3.0     \u001b[0m | \u001b[0m 1e-09   \u001b[0m |\n",
      "| \u001b[0m 153     \u001b[0m | \u001b[0m 0.926   \u001b[0m | \u001b[0m 1e-06   \u001b[0m | \u001b[0m 1.0     \u001b[0m | \u001b[0m 1.673   \u001b[0m | \u001b[0m 3.0     \u001b[0m | \u001b[0m 1e-09   \u001b[0m |\n",
      "| \u001b[0m 154     \u001b[0m | \u001b[0m 0.9004  \u001b[0m | \u001b[0m 1e-06   \u001b[0m | \u001b[0m 0.0     \u001b[0m | \u001b[0m 2.408   \u001b[0m | \u001b[0m 0.0     \u001b[0m | \u001b[0m 1e-09   \u001b[0m |\n",
      "| \u001b[0m 155     \u001b[0m | \u001b[0m 0.5726  \u001b[0m | \u001b[0m 1.0     \u001b[0m | \u001b[0m 0.0     \u001b[0m | \u001b[0m 3.0     \u001b[0m | \u001b[0m 1.867   \u001b[0m | \u001b[0m 1e-09   \u001b[0m |\n",
      "| \u001b[0m 156     \u001b[0m | \u001b[0m 0.8931  \u001b[0m | \u001b[0m 1e-06   \u001b[0m | \u001b[0m 0.0     \u001b[0m | \u001b[0m 0.3267  \u001b[0m | \u001b[0m 0.0     \u001b[0m | \u001b[0m 0.1     \u001b[0m |\n",
      "| \u001b[0m 157     \u001b[0m | \u001b[0m 0.9031  \u001b[0m | \u001b[0m 1e-06   \u001b[0m | \u001b[0m 0.0     \u001b[0m | \u001b[0m 1.149   \u001b[0m | \u001b[0m 3.0     \u001b[0m | \u001b[0m 0.1     \u001b[0m |\n",
      "| \u001b[0m 158     \u001b[0m | \u001b[0m 0.9164  \u001b[0m | \u001b[0m 1e-06   \u001b[0m | \u001b[0m 0.0     \u001b[0m | \u001b[0m 0.459   \u001b[0m | \u001b[0m 2.12    \u001b[0m | \u001b[0m 1e-09   \u001b[0m |\n",
      "| \u001b[0m 159     \u001b[0m | \u001b[0m 0.9278  \u001b[0m | \u001b[0m 1e-06   \u001b[0m | \u001b[0m 1.0     \u001b[0m | \u001b[0m 2.585   \u001b[0m | \u001b[0m 3.0     \u001b[0m | \u001b[0m 1e-09   \u001b[0m |\n",
      "| \u001b[0m 160     \u001b[0m | \u001b[0m 0.9004  \u001b[0m | \u001b[0m 1e-06   \u001b[0m | \u001b[0m 1.0     \u001b[0m | \u001b[0m 2.466   \u001b[0m | \u001b[0m 0.3756  \u001b[0m | \u001b[0m 0.1     \u001b[0m |\n",
      "| \u001b[0m 161     \u001b[0m | \u001b[0m 0.8956  \u001b[0m | \u001b[0m 1e-06   \u001b[0m | \u001b[0m 1.0     \u001b[0m | \u001b[0m 1.11    \u001b[0m | \u001b[0m 0.0     \u001b[0m | \u001b[0m 1e-09   \u001b[0m |\n",
      "| \u001b[0m 162     \u001b[0m | \u001b[0m 0.9004  \u001b[0m | \u001b[0m 1e-06   \u001b[0m | \u001b[0m 0.0     \u001b[0m | \u001b[0m 2.666   \u001b[0m | \u001b[0m 1.727   \u001b[0m | \u001b[0m 1e-09   \u001b[0m |\n",
      "| \u001b[0m 163     \u001b[0m | \u001b[0m 0.9004  \u001b[0m | \u001b[0m 1e-06   \u001b[0m | \u001b[0m 0.5496  \u001b[0m | \u001b[0m 2.03    \u001b[0m | \u001b[0m 0.0     \u001b[0m | \u001b[0m 1e-09   \u001b[0m |\n",
      "| \u001b[0m 164     \u001b[0m | \u001b[0m 0.9278  \u001b[0m | \u001b[0m 1e-06   \u001b[0m | \u001b[0m 0.0     \u001b[0m | \u001b[0m 2.638   \u001b[0m | \u001b[0m 3.0     \u001b[0m | \u001b[0m 1e-09   \u001b[0m |\n",
      "| \u001b[0m 165     \u001b[0m | \u001b[0m 0.9164  \u001b[0m | \u001b[0m 1e-06   \u001b[0m | \u001b[0m 1.0     \u001b[0m | \u001b[0m 0.0     \u001b[0m | \u001b[0m 1.629   \u001b[0m | \u001b[0m 1e-09   \u001b[0m |\n",
      "| \u001b[0m 166     \u001b[0m | \u001b[0m 0.9278  \u001b[0m | \u001b[0m 1e-06   \u001b[0m | \u001b[0m 0.3457  \u001b[0m | \u001b[0m 2.095   \u001b[0m | \u001b[0m 3.0     \u001b[0m | \u001b[0m 1e-09   \u001b[0m |\n",
      "| \u001b[0m 167     \u001b[0m | \u001b[0m 0.9004  \u001b[0m | \u001b[0m 1e-06   \u001b[0m | \u001b[0m 0.5092  \u001b[0m | \u001b[0m 2.487   \u001b[0m | \u001b[0m 0.4801  \u001b[0m | \u001b[0m 1e-09   \u001b[0m |\n",
      "| \u001b[0m 168     \u001b[0m | \u001b[0m 0.9278  \u001b[0m | \u001b[0m 1e-06   \u001b[0m | \u001b[0m 1.0     \u001b[0m | \u001b[0m 2.593   \u001b[0m | \u001b[0m 1.256   \u001b[0m | \u001b[0m 1e-09   \u001b[0m |\n",
      "| \u001b[0m 169     \u001b[0m | \u001b[0m 0.9009  \u001b[0m | \u001b[0m 1e-06   \u001b[0m | \u001b[0m 0.0     \u001b[0m | \u001b[0m 0.0     \u001b[0m | \u001b[0m 1.83    \u001b[0m | \u001b[0m 1e-09   \u001b[0m |\n",
      "| \u001b[0m 170     \u001b[0m | \u001b[0m 0.9004  \u001b[0m | \u001b[0m 1e-06   \u001b[0m | \u001b[0m 0.0     \u001b[0m | \u001b[0m 3.0     \u001b[0m | \u001b[0m 1.697   \u001b[0m | \u001b[0m 0.1     \u001b[0m |\n",
      "| \u001b[0m 171     \u001b[0m | \u001b[0m 0.9278  \u001b[0m | \u001b[0m 1e-06   \u001b[0m | \u001b[0m 1.0     \u001b[0m | \u001b[0m 2.025   \u001b[0m | \u001b[0m 2.491   \u001b[0m | \u001b[0m 1e-09   \u001b[0m |\n",
      "| \u001b[0m 172     \u001b[0m | \u001b[0m 0.9031  \u001b[0m | \u001b[0m 1e-06   \u001b[0m | \u001b[0m 1.0     \u001b[0m | \u001b[0m 1.722   \u001b[0m | \u001b[0m 2.097   \u001b[0m | \u001b[0m 0.1     \u001b[0m |\n",
      "| \u001b[0m 173     \u001b[0m | \u001b[0m 0.8931  \u001b[0m | \u001b[0m 1e-06   \u001b[0m | \u001b[0m 1.0     \u001b[0m | \u001b[0m 0.0     \u001b[0m | \u001b[0m 0.3578  \u001b[0m | \u001b[0m 0.1     \u001b[0m |\n",
      "| \u001b[0m 174     \u001b[0m | \u001b[0m 0.9262  \u001b[0m | \u001b[0m 1e-06   \u001b[0m | \u001b[0m 0.6005  \u001b[0m | \u001b[0m 1.753   \u001b[0m | \u001b[0m 1.747   \u001b[0m | \u001b[0m 1e-09   \u001b[0m |\n",
      "| \u001b[0m 175     \u001b[0m | \u001b[0m 0.9175  \u001b[0m | \u001b[0m 1e-06   \u001b[0m | \u001b[0m 0.6216  \u001b[0m | \u001b[0m 2.114   \u001b[0m | \u001b[0m 1.721   \u001b[0m | \u001b[0m 0.1     \u001b[0m |\n",
      "| \u001b[0m 176     \u001b[0m | \u001b[0m 0.9278  \u001b[0m | \u001b[0m 1e-06   \u001b[0m | \u001b[0m 0.7323  \u001b[0m | \u001b[0m 3.0     \u001b[0m | \u001b[0m 3.0     \u001b[0m | \u001b[0m 1e-09   \u001b[0m |\n",
      "| \u001b[0m 177     \u001b[0m | \u001b[0m 0.9004  \u001b[0m | \u001b[0m 1e-06   \u001b[0m | \u001b[0m 0.0     \u001b[0m | \u001b[0m 3.0     \u001b[0m | \u001b[0m 0.7171  \u001b[0m | \u001b[0m 0.1     \u001b[0m |\n",
      "| \u001b[0m 178     \u001b[0m | \u001b[0m 0.926   \u001b[0m | \u001b[0m 1e-06   \u001b[0m | \u001b[0m 0.4416  \u001b[0m | \u001b[0m 1.182   \u001b[0m | \u001b[0m 3.0     \u001b[0m | \u001b[0m 1e-09   \u001b[0m |\n",
      "| \u001b[0m 179     \u001b[0m | \u001b[0m 0.9164  \u001b[0m | \u001b[0m 1e-06   \u001b[0m | \u001b[0m 0.0     \u001b[0m | \u001b[0m 0.8758  \u001b[0m | \u001b[0m 2.713   \u001b[0m | \u001b[0m 1e-09   \u001b[0m |\n",
      "| \u001b[0m 180     \u001b[0m | \u001b[0m 0.9214  \u001b[0m | \u001b[0m 1e-06   \u001b[0m | \u001b[0m 0.5166  \u001b[0m | \u001b[0m 2.534   \u001b[0m | \u001b[0m 1.545   \u001b[0m | \u001b[0m 1e-09   \u001b[0m |\n",
      "| \u001b[0m 181     \u001b[0m | \u001b[0m 0.9278  \u001b[0m | \u001b[0m 1e-06   \u001b[0m | \u001b[0m 1.0     \u001b[0m | \u001b[0m 3.0     \u001b[0m | \u001b[0m 1.026   \u001b[0m | \u001b[0m 1e-09   \u001b[0m |\n",
      "| \u001b[0m 182     \u001b[0m | \u001b[0m 0.9004  \u001b[0m | \u001b[0m 1e-06   \u001b[0m | \u001b[0m 1.0     \u001b[0m | \u001b[0m 2.273   \u001b[0m | \u001b[0m 0.7572  \u001b[0m | \u001b[0m 1e-09   \u001b[0m |\n",
      "| \u001b[0m 183     \u001b[0m | \u001b[0m 0.9278  \u001b[0m | \u001b[0m 1e-06   \u001b[0m | \u001b[0m 0.3076  \u001b[0m | \u001b[0m 2.762   \u001b[0m | \u001b[0m 2.249   \u001b[0m | \u001b[0m 1e-09   \u001b[0m |\n",
      "| \u001b[0m 184     \u001b[0m | \u001b[0m 0.9164  \u001b[0m | \u001b[0m 1e-06   \u001b[0m | \u001b[0m 0.0     \u001b[0m | \u001b[0m 0.3243  \u001b[0m | \u001b[0m 3.0     \u001b[0m | \u001b[0m 1e-09   \u001b[0m |\n",
      "| \u001b[0m 185     \u001b[0m | \u001b[0m 0.9278  \u001b[0m | \u001b[0m 1e-06   \u001b[0m | \u001b[0m 0.5191  \u001b[0m | \u001b[0m 3.0     \u001b[0m | \u001b[0m 2.076   \u001b[0m | \u001b[0m 1e-09   \u001b[0m |\n",
      "| \u001b[0m 186     \u001b[0m | \u001b[0m 0.9278  \u001b[0m | \u001b[0m 1e-06   \u001b[0m | \u001b[0m 0.2704  \u001b[0m | \u001b[0m 3.0     \u001b[0m | \u001b[0m 2.702   \u001b[0m | \u001b[0m 1e-09   \u001b[0m |\n",
      "| \u001b[0m 187     \u001b[0m | \u001b[0m 0.9004  \u001b[0m | \u001b[0m 1e-06   \u001b[0m | \u001b[0m 0.3211  \u001b[0m | \u001b[0m 3.0     \u001b[0m | \u001b[0m 0.8836  \u001b[0m | \u001b[0m 1e-09   \u001b[0m |\n",
      "| \u001b[0m 188     \u001b[0m | \u001b[0m 0.9278  \u001b[0m | \u001b[0m 1e-06   \u001b[0m | \u001b[0m 1.0     \u001b[0m | \u001b[0m 2.588   \u001b[0m | \u001b[0m 2.176   \u001b[0m | \u001b[0m 1e-09   \u001b[0m |\n",
      "| \u001b[0m 189     \u001b[0m | \u001b[0m 0.8944  \u001b[0m | \u001b[0m 1e-06   \u001b[0m | \u001b[0m 0.2381  \u001b[0m | \u001b[0m 2.113   \u001b[0m | \u001b[0m 1.555   \u001b[0m | \u001b[0m 1e-09   \u001b[0m |\n",
      "| \u001b[0m 190     \u001b[0m | \u001b[0m 0.926   \u001b[0m | \u001b[0m 1e-06   \u001b[0m | \u001b[0m 1.0     \u001b[0m | \u001b[0m 1.69    \u001b[0m | \u001b[0m 1.711   \u001b[0m | \u001b[0m 1e-09   \u001b[0m |\n",
      "| \u001b[0m 191     \u001b[0m | \u001b[0m 0.926   \u001b[0m | \u001b[0m 1e-06   \u001b[0m | \u001b[0m 0.0     \u001b[0m | \u001b[0m 1.981   \u001b[0m | \u001b[0m 3.0     \u001b[0m | \u001b[0m 1e-09   \u001b[0m |\n",
      "| \u001b[0m 192     \u001b[0m | \u001b[0m 0.9004  \u001b[0m | \u001b[0m 1e-06   \u001b[0m | \u001b[0m 0.0     \u001b[0m | \u001b[0m 2.264   \u001b[0m | \u001b[0m 0.7369  \u001b[0m | \u001b[0m 0.1     \u001b[0m |\n",
      "| \u001b[0m 193     \u001b[0m | \u001b[0m 0.9004  \u001b[0m | \u001b[0m 1e-06   \u001b[0m | \u001b[0m 0.0     \u001b[0m | \u001b[0m 2.73    \u001b[0m | \u001b[0m 0.0     \u001b[0m | \u001b[0m 0.1     \u001b[0m |\n",
      "| \u001b[0m 194     \u001b[0m | \u001b[0m 0.9164  \u001b[0m | \u001b[0m 1e-06   \u001b[0m | \u001b[0m 1.0     \u001b[0m | \u001b[0m 0.8896  \u001b[0m | \u001b[0m 3.0     \u001b[0m | \u001b[0m 1e-09   \u001b[0m |\n",
      "| \u001b[0m 195     \u001b[0m | \u001b[0m 0.9278  \u001b[0m | \u001b[0m 1e-06   \u001b[0m | \u001b[0m 0.7545  \u001b[0m | \u001b[0m 2.068   \u001b[0m | \u001b[0m 3.0     \u001b[0m | \u001b[0m 1e-09   \u001b[0m |\n",
      "| \u001b[0m 196     \u001b[0m | \u001b[0m 0.9164  \u001b[0m | \u001b[0m 1e-06   \u001b[0m | \u001b[0m 0.0     \u001b[0m | \u001b[0m 0.9195  \u001b[0m | \u001b[0m 3.0     \u001b[0m | \u001b[0m 1e-09   \u001b[0m |\n",
      "| \u001b[0m 197     \u001b[0m | \u001b[0m 0.8931  \u001b[0m | \u001b[0m 1e-06   \u001b[0m | \u001b[0m 0.4931  \u001b[0m | \u001b[0m 0.9224  \u001b[0m | \u001b[0m 0.0     \u001b[0m | \u001b[0m 0.1     \u001b[0m |\n",
      "| \u001b[0m 198     \u001b[0m | \u001b[0m 0.9004  \u001b[0m | \u001b[0m 1e-06   \u001b[0m | \u001b[0m 1.0     \u001b[0m | \u001b[0m 2.717   \u001b[0m | \u001b[0m 0.0     \u001b[0m | \u001b[0m 1e-09   \u001b[0m |\n",
      "| \u001b[0m 199     \u001b[0m | \u001b[0m 0.9004  \u001b[0m | \u001b[0m 1e-06   \u001b[0m | \u001b[0m 0.1926  \u001b[0m | \u001b[0m 2.338   \u001b[0m | \u001b[0m 0.9477  \u001b[0m | \u001b[0m 1e-09   \u001b[0m |\n",
      "| \u001b[0m 200     \u001b[0m | \u001b[0m 0.9104  \u001b[0m | \u001b[0m 1e-06   \u001b[0m | \u001b[0m 0.374   \u001b[0m | \u001b[0m 0.3863  \u001b[0m | \u001b[0m 3.0     \u001b[0m | \u001b[0m 0.1     \u001b[0m |\n",
      "| \u001b[0m 201     \u001b[0m | \u001b[0m 0.9164  \u001b[0m | \u001b[0m 1e-06   \u001b[0m | \u001b[0m 1.0     \u001b[0m | \u001b[0m 0.0     \u001b[0m | \u001b[0m 1.997   \u001b[0m | \u001b[0m 1e-09   \u001b[0m |\n",
      "| \u001b[0m 202     \u001b[0m | \u001b[0m 0.9233  \u001b[0m | \u001b[0m 1e-06   \u001b[0m | \u001b[0m 0.4371  \u001b[0m | \u001b[0m 2.105   \u001b[0m | \u001b[0m 1.298   \u001b[0m | \u001b[0m 0.1     \u001b[0m |\n",
      "| \u001b[0m 203     \u001b[0m | \u001b[0m 0.9164  \u001b[0m | \u001b[0m 1e-06   \u001b[0m | \u001b[0m 0.0     \u001b[0m | \u001b[0m 0.9682  \u001b[0m | \u001b[0m 2.213   \u001b[0m | \u001b[0m 1e-09   \u001b[0m |\n",
      "| \u001b[0m 204     \u001b[0m | \u001b[0m 0.9003  \u001b[0m | \u001b[0m 1e-06   \u001b[0m | \u001b[0m 0.5703  \u001b[0m | \u001b[0m 0.0     \u001b[0m | \u001b[0m 1.522   \u001b[0m | \u001b[0m 1e-09   \u001b[0m |\n",
      "| \u001b[0m 205     \u001b[0m | \u001b[0m 0.9136  \u001b[0m | \u001b[0m 1e-06   \u001b[0m | \u001b[0m 1.0     \u001b[0m | \u001b[0m 3.0     \u001b[0m | \u001b[0m 2.259   \u001b[0m | \u001b[0m 0.1     \u001b[0m |\n",
      "| \u001b[0m 206     \u001b[0m | \u001b[0m 0.9183  \u001b[0m | \u001b[0m 1e-06   \u001b[0m | \u001b[0m 0.7254  \u001b[0m | \u001b[0m 2.128   \u001b[0m | \u001b[0m 1.434   \u001b[0m | \u001b[0m 1e-09   \u001b[0m |\n",
      "| \u001b[0m 207     \u001b[0m | \u001b[0m 0.9136  \u001b[0m | \u001b[0m 1e-06   \u001b[0m | \u001b[0m 0.227   \u001b[0m | \u001b[0m 2.824   \u001b[0m | \u001b[0m 2.01    \u001b[0m | \u001b[0m 0.1     \u001b[0m |\n",
      "| \u001b[0m 208     \u001b[0m | \u001b[0m 0.9278  \u001b[0m | \u001b[0m 1e-06   \u001b[0m | \u001b[0m 0.6592  \u001b[0m | \u001b[0m 2.488   \u001b[0m | \u001b[0m 2.565   \u001b[0m | \u001b[0m 1e-09   \u001b[0m |\n",
      "| \u001b[0m 209     \u001b[0m | \u001b[0m 0.9104  \u001b[0m | \u001b[0m 1e-06   \u001b[0m | \u001b[0m 0.0     \u001b[0m | \u001b[0m 0.3416  \u001b[0m | \u001b[0m 2.659   \u001b[0m | \u001b[0m 0.1     \u001b[0m |\n",
      "| \u001b[0m 210     \u001b[0m | \u001b[0m 0.926   \u001b[0m | \u001b[0m 1e-06   \u001b[0m | \u001b[0m 1.0     \u001b[0m | \u001b[0m 1.47    \u001b[0m | \u001b[0m 1.977   \u001b[0m | \u001b[0m 1e-09   \u001b[0m |\n",
      "| \u001b[95m 211     \u001b[0m | \u001b[95m 0.9396  \u001b[0m | \u001b[95m 1e-06   \u001b[0m | \u001b[95m 0.8573  \u001b[0m | \u001b[95m 1.79    \u001b[0m | \u001b[95m 1.95    \u001b[0m | \u001b[95m 1e-09   \u001b[0m |\n",
      "| \u001b[0m 212     \u001b[0m | \u001b[0m 0.9278  \u001b[0m | \u001b[0m 1e-06   \u001b[0m | \u001b[0m 1.0     \u001b[0m | \u001b[0m 2.297   \u001b[0m | \u001b[0m 2.755   \u001b[0m | \u001b[0m 1e-09   \u001b[0m |\n",
      "| \u001b[0m 213     \u001b[0m | \u001b[0m 0.9063  \u001b[0m | \u001b[0m 1e-06   \u001b[0m | \u001b[0m 0.5007  \u001b[0m | \u001b[0m 1.222   \u001b[0m | \u001b[0m 1.765   \u001b[0m | \u001b[0m 1e-09   \u001b[0m |\n",
      "| \u001b[0m 214     \u001b[0m | \u001b[0m 0.9164  \u001b[0m | \u001b[0m 1e-06   \u001b[0m | \u001b[0m 1.0     \u001b[0m | \u001b[0m 0.3181  \u001b[0m | \u001b[0m 3.0     \u001b[0m | \u001b[0m 1e-09   \u001b[0m |\n",
      "| \u001b[0m 215     \u001b[0m | \u001b[0m 0.9278  \u001b[0m | \u001b[0m 1e-06   \u001b[0m | \u001b[0m 0.0     \u001b[0m | \u001b[0m 2.633   \u001b[0m | \u001b[0m 2.576   \u001b[0m | \u001b[0m 1e-09   \u001b[0m |\n",
      "| \u001b[0m 216     \u001b[0m | \u001b[0m 0.9028  \u001b[0m | \u001b[0m 1e-06   \u001b[0m | \u001b[0m 0.7427  \u001b[0m | \u001b[0m 3.0     \u001b[0m | \u001b[0m 1.451   \u001b[0m | \u001b[0m 1e-09   \u001b[0m |\n",
      "| \u001b[0m 217     \u001b[0m | \u001b[0m 0.9164  \u001b[0m | \u001b[0m 1e-06   \u001b[0m | \u001b[0m 1.0     \u001b[0m | \u001b[0m 0.0     \u001b[0m | \u001b[0m 1.103   \u001b[0m | \u001b[0m 1e-09   \u001b[0m |\n",
      "| \u001b[0m 218     \u001b[0m | \u001b[0m 0.9009  \u001b[0m | \u001b[0m 1e-06   \u001b[0m | \u001b[0m 1.0     \u001b[0m | \u001b[0m 0.0     \u001b[0m | \u001b[0m 0.6076  \u001b[0m | \u001b[0m 1e-09   \u001b[0m |\n",
      "| \u001b[0m 219     \u001b[0m | \u001b[0m 0.9004  \u001b[0m | \u001b[0m 1e-06   \u001b[0m | \u001b[0m 0.0     \u001b[0m | \u001b[0m 3.0     \u001b[0m | \u001b[0m 0.3565  \u001b[0m | \u001b[0m 1e-09   \u001b[0m |\n",
      "| \u001b[0m 220     \u001b[0m | \u001b[0m 0.9136  \u001b[0m | \u001b[0m 1e-06   \u001b[0m | \u001b[0m 0.7937  \u001b[0m | \u001b[0m 2.802   \u001b[0m | \u001b[0m 2.802   \u001b[0m | \u001b[0m 0.1     \u001b[0m |\n",
      "| \u001b[0m 221     \u001b[0m | \u001b[0m 0.9164  \u001b[0m | \u001b[0m 1e-06   \u001b[0m | \u001b[0m 0.0     \u001b[0m | \u001b[0m 0.6557  \u001b[0m | \u001b[0m 2.402   \u001b[0m | \u001b[0m 1e-09   \u001b[0m |\n",
      "| \u001b[0m 222     \u001b[0m | \u001b[0m 0.9004  \u001b[0m | \u001b[0m 1e-06   \u001b[0m | \u001b[0m 0.7543  \u001b[0m | \u001b[0m 2.158   \u001b[0m | \u001b[0m 0.0     \u001b[0m | \u001b[0m 0.1     \u001b[0m |\n",
      "| \u001b[0m 223     \u001b[0m | \u001b[0m 0.87    \u001b[0m | \u001b[0m 1e-06   \u001b[0m | \u001b[0m 0.2688  \u001b[0m | \u001b[0m 0.0     \u001b[0m | \u001b[0m 1.842   \u001b[0m | \u001b[0m 0.1     \u001b[0m |\n",
      "| \u001b[0m 224     \u001b[0m | \u001b[0m 0.9164  \u001b[0m | \u001b[0m 1e-06   \u001b[0m | \u001b[0m 0.2592  \u001b[0m | \u001b[0m 0.0     \u001b[0m | \u001b[0m 2.347   \u001b[0m | \u001b[0m 1e-09   \u001b[0m |\n",
      "| \u001b[0m 225     \u001b[0m | \u001b[0m 0.926   \u001b[0m | \u001b[0m 1e-06   \u001b[0m | \u001b[0m 0.7366  \u001b[0m | \u001b[0m 1.391   \u001b[0m | \u001b[0m 3.0     \u001b[0m | \u001b[0m 1e-09   \u001b[0m |\n",
      "| \u001b[0m 226     \u001b[0m | \u001b[0m 0.9198  \u001b[0m | \u001b[0m 1e-06   \u001b[0m | \u001b[0m 0.7896  \u001b[0m | \u001b[0m 1.474   \u001b[0m | \u001b[0m 1.767   \u001b[0m | \u001b[0m 1e-09   \u001b[0m |\n",
      "| \u001b[0m 227     \u001b[0m | \u001b[0m 0.9278  \u001b[0m | \u001b[0m 1e-06   \u001b[0m | \u001b[0m 0.2955  \u001b[0m | \u001b[0m 2.647   \u001b[0m | \u001b[0m 2.77    \u001b[0m | \u001b[0m 1e-09   \u001b[0m |\n",
      "| \u001b[0m 228     \u001b[0m | \u001b[0m 0.9278  \u001b[0m | \u001b[0m 1e-06   \u001b[0m | \u001b[0m 0.747   \u001b[0m | \u001b[0m 2.804   \u001b[0m | \u001b[0m 2.362   \u001b[0m | \u001b[0m 1e-09   \u001b[0m |\n",
      "| \u001b[0m 229     \u001b[0m | \u001b[0m 0.926   \u001b[0m | \u001b[0m 1e-06   \u001b[0m | \u001b[0m 0.3084  \u001b[0m | \u001b[0m 1.517   \u001b[0m | \u001b[0m 3.0     \u001b[0m | \u001b[0m 1e-09   \u001b[0m |\n",
      "| \u001b[0m 230     \u001b[0m | \u001b[0m 0.9278  \u001b[0m | \u001b[0m 1e-06   \u001b[0m | \u001b[0m 1.0     \u001b[0m | \u001b[0m 2.808   \u001b[0m | \u001b[0m 1.638   \u001b[0m | \u001b[0m 1e-09   \u001b[0m |\n",
      "| \u001b[0m 231     \u001b[0m | \u001b[0m 0.9004  \u001b[0m | \u001b[0m 1e-06   \u001b[0m | \u001b[0m 1.0     \u001b[0m | \u001b[0m 2.615   \u001b[0m | \u001b[0m 0.698   \u001b[0m | \u001b[0m 1e-09   \u001b[0m |\n",
      "| \u001b[0m 232     \u001b[0m | \u001b[0m 0.9004  \u001b[0m | \u001b[0m 1e-06   \u001b[0m | \u001b[0m 1.0     \u001b[0m | \u001b[0m 2.004   \u001b[0m | \u001b[0m 0.2837  \u001b[0m | \u001b[0m 1e-09   \u001b[0m |\n",
      "| \u001b[0m 233     \u001b[0m | \u001b[0m 0.9004  \u001b[0m | \u001b[0m 1e-06   \u001b[0m | \u001b[0m 1.0     \u001b[0m | \u001b[0m 3.0     \u001b[0m | \u001b[0m 0.7944  \u001b[0m | \u001b[0m 0.1     \u001b[0m |\n",
      "| \u001b[0m 234     \u001b[0m | \u001b[0m 0.9278  \u001b[0m | \u001b[0m 1e-06   \u001b[0m | \u001b[0m 0.0     \u001b[0m | \u001b[0m 3.0     \u001b[0m | \u001b[0m 2.379   \u001b[0m | \u001b[0m 1e-09   \u001b[0m |\n",
      "| \u001b[0m 235     \u001b[0m | \u001b[0m 0.926   \u001b[0m | \u001b[0m 1e-06   \u001b[0m | \u001b[0m 1.0     \u001b[0m | \u001b[0m 1.589   \u001b[0m | \u001b[0m 2.596   \u001b[0m | \u001b[0m 1e-09   \u001b[0m |\n",
      "| \u001b[0m 236     \u001b[0m | \u001b[0m 0.9104  \u001b[0m | \u001b[0m 1e-06   \u001b[0m | \u001b[0m 0.2292  \u001b[0m | \u001b[0m 0.0     \u001b[0m | \u001b[0m 2.864   \u001b[0m | \u001b[0m 0.1     \u001b[0m |\n",
      "| \u001b[0m 237     \u001b[0m | \u001b[0m 0.9004  \u001b[0m | \u001b[0m 1e-06   \u001b[0m | \u001b[0m 0.2212  \u001b[0m | \u001b[0m 2.695   \u001b[0m | \u001b[0m 0.0     \u001b[0m | \u001b[0m 1e-09   \u001b[0m |\n",
      "| \u001b[0m 238     \u001b[0m | \u001b[0m 0.8956  \u001b[0m | \u001b[0m 1e-06   \u001b[0m | \u001b[0m 0.7788  \u001b[0m | \u001b[0m 1.642   \u001b[0m | \u001b[0m 0.0     \u001b[0m | \u001b[0m 1e-09   \u001b[0m |\n",
      "| \u001b[0m 239     \u001b[0m | \u001b[0m 0.9164  \u001b[0m | \u001b[0m 1e-06   \u001b[0m | \u001b[0m 0.736   \u001b[0m | \u001b[0m 0.0     \u001b[0m | \u001b[0m 2.317   \u001b[0m | \u001b[0m 1e-09   \u001b[0m |\n",
      "| \u001b[0m 240     \u001b[0m | \u001b[0m 0.9009  \u001b[0m | \u001b[0m 1e-06   \u001b[0m | \u001b[0m 0.7505  \u001b[0m | \u001b[0m 0.8151  \u001b[0m | \u001b[0m 0.0     \u001b[0m | \u001b[0m 1e-09   \u001b[0m |\n",
      "| \u001b[0m 241     \u001b[0m | \u001b[0m 0.9104  \u001b[0m | \u001b[0m 1e-06   \u001b[0m | \u001b[0m 0.7294  \u001b[0m | \u001b[0m 0.144   \u001b[0m | \u001b[0m 3.0     \u001b[0m | \u001b[0m 0.1     \u001b[0m |\n",
      "| \u001b[0m 242     \u001b[0m | \u001b[0m 0.9004  \u001b[0m | \u001b[0m 1e-06   \u001b[0m | \u001b[0m 0.7403  \u001b[0m | \u001b[0m 2.232   \u001b[0m | \u001b[0m 0.3306  \u001b[0m | \u001b[0m 1e-09   \u001b[0m |\n",
      "| \u001b[0m 243     \u001b[0m | \u001b[0m 0.9004  \u001b[0m | \u001b[0m 1e-06   \u001b[0m | \u001b[0m 0.7652  \u001b[0m | \u001b[0m 2.881   \u001b[0m | \u001b[0m 0.2439  \u001b[0m | \u001b[0m 0.1     \u001b[0m |\n",
      "| \u001b[0m 244     \u001b[0m | \u001b[0m 0.8956  \u001b[0m | \u001b[0m 1e-06   \u001b[0m | \u001b[0m 1.0     \u001b[0m | \u001b[0m 1.858   \u001b[0m | \u001b[0m 0.0     \u001b[0m | \u001b[0m 1e-09   \u001b[0m |\n",
      "| \u001b[0m 245     \u001b[0m | \u001b[0m 0.9009  \u001b[0m | \u001b[0m 1e-06   \u001b[0m | \u001b[0m 0.1982  \u001b[0m | \u001b[0m 0.2432  \u001b[0m | \u001b[0m 0.0     \u001b[0m | \u001b[0m 1e-09   \u001b[0m |\n",
      "| \u001b[0m 246     \u001b[0m | \u001b[0m 0.9164  \u001b[0m | \u001b[0m 1e-06   \u001b[0m | \u001b[0m 0.8821  \u001b[0m | \u001b[0m 0.0     \u001b[0m | \u001b[0m 3.0     \u001b[0m | \u001b[0m 1e-09   \u001b[0m |\n",
      "| \u001b[0m 247     \u001b[0m | \u001b[0m 0.9004  \u001b[0m | \u001b[0m 1e-06   \u001b[0m | \u001b[0m 0.5234  \u001b[0m | \u001b[0m 2.591   \u001b[0m | \u001b[0m 0.9939  \u001b[0m | \u001b[0m 0.1     \u001b[0m |\n",
      "| \u001b[0m 248     \u001b[0m | \u001b[0m 0.926   \u001b[0m | \u001b[0m 1e-06   \u001b[0m | \u001b[0m 1.0     \u001b[0m | \u001b[0m 1.734   \u001b[0m | \u001b[0m 2.244   \u001b[0m | \u001b[0m 1e-09   \u001b[0m |\n",
      "| \u001b[0m 249     \u001b[0m | \u001b[0m 0.9278  \u001b[0m | \u001b[0m 1e-06   \u001b[0m | \u001b[0m 0.0     \u001b[0m | \u001b[0m 2.839   \u001b[0m | \u001b[0m 2.757   \u001b[0m | \u001b[0m 1e-09   \u001b[0m |\n",
      "| \u001b[0m 250     \u001b[0m | \u001b[0m 0.9018  \u001b[0m | \u001b[0m 1e-06   \u001b[0m | \u001b[0m 0.4895  \u001b[0m | \u001b[0m 2.242   \u001b[0m | \u001b[0m 1.532   \u001b[0m | \u001b[0m 1e-09   \u001b[0m |\n",
      "| \u001b[0m 251     \u001b[0m | \u001b[0m 0.8956  \u001b[0m | \u001b[0m 1e-06   \u001b[0m | \u001b[0m 0.0     \u001b[0m | \u001b[0m 1.326   \u001b[0m | \u001b[0m 1.535   \u001b[0m | \u001b[0m 1e-09   \u001b[0m |\n",
      "| \u001b[0m 252     \u001b[0m | \u001b[0m 0.9359  \u001b[0m | \u001b[0m 1e-06   \u001b[0m | \u001b[0m 0.376   \u001b[0m | \u001b[0m 1.94    \u001b[0m | \u001b[0m 1.331   \u001b[0m | \u001b[0m 1e-09   \u001b[0m |\n",
      "| \u001b[0m 253     \u001b[0m | \u001b[0m 0.9009  \u001b[0m | \u001b[0m 1e-06   \u001b[0m | \u001b[0m 0.0     \u001b[0m | \u001b[0m 0.9797  \u001b[0m | \u001b[0m 1.305   \u001b[0m | \u001b[0m 1e-09   \u001b[0m |\n",
      "| \u001b[0m 254     \u001b[0m | \u001b[0m 0.9124  \u001b[0m | \u001b[0m 1e-06   \u001b[0m | \u001b[0m 0.2244  \u001b[0m | \u001b[0m 1.062   \u001b[0m | \u001b[0m 1.529   \u001b[0m | \u001b[0m 1e-09   \u001b[0m |\n",
      "| \u001b[0m 255     \u001b[0m | \u001b[0m 0.9267  \u001b[0m | \u001b[0m 1e-06   \u001b[0m | \u001b[0m 0.7554  \u001b[0m | \u001b[0m 2.835   \u001b[0m | \u001b[0m 1.855   \u001b[0m | \u001b[0m 0.1     \u001b[0m |\n",
      "| \u001b[0m 256     \u001b[0m | \u001b[0m 0.9004  \u001b[0m | \u001b[0m 1e-06   \u001b[0m | \u001b[0m 0.0     \u001b[0m | \u001b[0m 2.293   \u001b[0m | \u001b[0m 0.3986  \u001b[0m | \u001b[0m 1e-09   \u001b[0m |\n",
      "| \u001b[0m 257     \u001b[0m | \u001b[0m 0.6659  \u001b[0m | \u001b[0m 0.3749  \u001b[0m | \u001b[0m 0.0     \u001b[0m | \u001b[0m 3.0     \u001b[0m | \u001b[0m 0.0     \u001b[0m | \u001b[0m 0.1     \u001b[0m |\n",
      "| \u001b[0m 258     \u001b[0m | \u001b[0m 0.9136  \u001b[0m | \u001b[0m 1e-06   \u001b[0m | \u001b[0m 0.0     \u001b[0m | \u001b[0m 2.737   \u001b[0m | \u001b[0m 2.235   \u001b[0m | \u001b[0m 0.1     \u001b[0m |\n",
      "| \u001b[0m 259     \u001b[0m | \u001b[0m 0.9035  \u001b[0m | \u001b[0m 1e-06   \u001b[0m | \u001b[0m 0.3681  \u001b[0m | \u001b[0m 2.776   \u001b[0m | \u001b[0m 1.393   \u001b[0m | \u001b[0m 0.1     \u001b[0m |\n",
      "| \u001b[0m 260     \u001b[0m | \u001b[0m 0.9136  \u001b[0m | \u001b[0m 1e-06   \u001b[0m | \u001b[0m 0.7888  \u001b[0m | \u001b[0m 2.293   \u001b[0m | \u001b[0m 2.243   \u001b[0m | \u001b[0m 0.1     \u001b[0m |\n",
      "| \u001b[0m 261     \u001b[0m | \u001b[0m 0.926   \u001b[0m | \u001b[0m 1e-06   \u001b[0m | \u001b[0m 1.0     \u001b[0m | \u001b[0m 1.248   \u001b[0m | \u001b[0m 3.0     \u001b[0m | \u001b[0m 1e-09   \u001b[0m |\n",
      "| \u001b[0m 262     \u001b[0m | \u001b[0m 0.926   \u001b[0m | \u001b[0m 1e-06   \u001b[0m | \u001b[0m 0.7857  \u001b[0m | \u001b[0m 1.87    \u001b[0m | \u001b[0m 2.72    \u001b[0m | \u001b[0m 1e-09   \u001b[0m |\n"
     ]
    },
    {
     "ename": "KeyboardInterrupt",
     "evalue": "",
     "output_type": "error",
     "traceback": [
      "\u001b[0;31m---------------------------------------------------------------------------\u001b[0m",
      "\u001b[0;31mStopIteration\u001b[0m                             Traceback (most recent call last)",
      "\u001b[0;32m/anaconda3/lib/python3.7/site-packages/bayes_opt/bayesian_optimization.py\u001b[0m in \u001b[0;36mmaximize\u001b[0;34m(self, init_points, n_iter, acq, kappa, xi, **gp_params)\u001b[0m\n\u001b[1;32m    168\u001b[0m             \u001b[0;32mtry\u001b[0m\u001b[0;34m:\u001b[0m\u001b[0;34m\u001b[0m\u001b[0;34m\u001b[0m\u001b[0m\n\u001b[0;32m--> 169\u001b[0;31m                 \u001b[0mx_probe\u001b[0m \u001b[0;34m=\u001b[0m \u001b[0mnext\u001b[0m\u001b[0;34m(\u001b[0m\u001b[0mself\u001b[0m\u001b[0;34m.\u001b[0m\u001b[0m_queue\u001b[0m\u001b[0;34m)\u001b[0m\u001b[0;34m\u001b[0m\u001b[0;34m\u001b[0m\u001b[0m\n\u001b[0m\u001b[1;32m    170\u001b[0m             \u001b[0;32mexcept\u001b[0m \u001b[0mStopIteration\u001b[0m\u001b[0;34m:\u001b[0m\u001b[0;34m\u001b[0m\u001b[0;34m\u001b[0m\u001b[0m\n",
      "\u001b[0;32m/anaconda3/lib/python3.7/site-packages/bayes_opt/bayesian_optimization.py\u001b[0m in \u001b[0;36m__next__\u001b[0;34m(self)\u001b[0m\n\u001b[1;32m     25\u001b[0m         \u001b[0;32mif\u001b[0m \u001b[0mself\u001b[0m\u001b[0;34m.\u001b[0m\u001b[0mempty\u001b[0m\u001b[0;34m:\u001b[0m\u001b[0;34m\u001b[0m\u001b[0;34m\u001b[0m\u001b[0m\n\u001b[0;32m---> 26\u001b[0;31m             \u001b[0;32mraise\u001b[0m \u001b[0mStopIteration\u001b[0m\u001b[0;34m(\u001b[0m\u001b[0;34m\"Queue is empty, no more objects to retrieve.\"\u001b[0m\u001b[0;34m)\u001b[0m\u001b[0;34m\u001b[0m\u001b[0;34m\u001b[0m\u001b[0m\n\u001b[0m\u001b[1;32m     27\u001b[0m         \u001b[0mobj\u001b[0m \u001b[0;34m=\u001b[0m \u001b[0mself\u001b[0m\u001b[0;34m.\u001b[0m\u001b[0m_queue\u001b[0m\u001b[0;34m[\u001b[0m\u001b[0;36m0\u001b[0m\u001b[0;34m]\u001b[0m\u001b[0;34m\u001b[0m\u001b[0;34m\u001b[0m\u001b[0m\n",
      "\u001b[0;31mStopIteration\u001b[0m: Queue is empty, no more objects to retrieve.",
      "\nDuring handling of the above exception, another exception occurred:\n",
      "\u001b[0;31mKeyboardInterrupt\u001b[0m                         Traceback (most recent call last)",
      "\u001b[0;32m<ipython-input-15-d4714b5f1b40>\u001b[0m in \u001b[0;36m<module>\u001b[0;34m\u001b[0m\n\u001b[1;32m      1\u001b[0m \u001b[0moptimization_sgd\u001b[0m \u001b[0;34m=\u001b[0m \u001b[0mBayesianOptimization\u001b[0m\u001b[0;34m(\u001b[0m\u001b[0mevaluateSgd\u001b[0m\u001b[0;34m,\u001b[0m \u001b[0mparams_sgd\u001b[0m\u001b[0;34m,\u001b[0m \u001b[0mrandom_state\u001b[0m\u001b[0;34m=\u001b[0m\u001b[0;36m231\u001b[0m\u001b[0;34m)\u001b[0m\u001b[0;34m\u001b[0m\u001b[0;34m\u001b[0m\u001b[0m\n\u001b[0;32m----> 2\u001b[0;31m \u001b[0moptimization_sgd\u001b[0m\u001b[0;34m.\u001b[0m\u001b[0mmaximize\u001b[0m\u001b[0;34m(\u001b[0m\u001b[0mn_iter\u001b[0m\u001b[0;34m=\u001b[0m\u001b[0;36m1000\u001b[0m\u001b[0;34m,\u001b[0m \u001b[0minit_points\u001b[0m\u001b[0;34m=\u001b[0m\u001b[0;36m100\u001b[0m\u001b[0;34m)\u001b[0m\u001b[0;34m\u001b[0m\u001b[0;34m\u001b[0m\u001b[0m\n\u001b[0m",
      "\u001b[0;32m/anaconda3/lib/python3.7/site-packages/bayes_opt/bayesian_optimization.py\u001b[0m in \u001b[0;36mmaximize\u001b[0;34m(self, init_points, n_iter, acq, kappa, xi, **gp_params)\u001b[0m\n\u001b[1;32m    169\u001b[0m                 \u001b[0mx_probe\u001b[0m \u001b[0;34m=\u001b[0m \u001b[0mnext\u001b[0m\u001b[0;34m(\u001b[0m\u001b[0mself\u001b[0m\u001b[0;34m.\u001b[0m\u001b[0m_queue\u001b[0m\u001b[0;34m)\u001b[0m\u001b[0;34m\u001b[0m\u001b[0;34m\u001b[0m\u001b[0m\n\u001b[1;32m    170\u001b[0m             \u001b[0;32mexcept\u001b[0m \u001b[0mStopIteration\u001b[0m\u001b[0;34m:\u001b[0m\u001b[0;34m\u001b[0m\u001b[0;34m\u001b[0m\u001b[0m\n\u001b[0;32m--> 171\u001b[0;31m                 \u001b[0mx_probe\u001b[0m \u001b[0;34m=\u001b[0m \u001b[0mself\u001b[0m\u001b[0;34m.\u001b[0m\u001b[0msuggest\u001b[0m\u001b[0;34m(\u001b[0m\u001b[0mutil\u001b[0m\u001b[0;34m)\u001b[0m\u001b[0;34m\u001b[0m\u001b[0;34m\u001b[0m\u001b[0m\n\u001b[0m\u001b[1;32m    172\u001b[0m                 \u001b[0miteration\u001b[0m \u001b[0;34m+=\u001b[0m \u001b[0;36m1\u001b[0m\u001b[0;34m\u001b[0m\u001b[0;34m\u001b[0m\u001b[0m\n\u001b[1;32m    173\u001b[0m \u001b[0;34m\u001b[0m\u001b[0m\n",
      "\u001b[0;32m/anaconda3/lib/python3.7/site-packages/bayes_opt/bayesian_optimization.py\u001b[0m in \u001b[0;36msuggest\u001b[0;34m(self, utility_function)\u001b[0m\n\u001b[1;32m    130\u001b[0m             \u001b[0my_max\u001b[0m\u001b[0;34m=\u001b[0m\u001b[0mself\u001b[0m\u001b[0;34m.\u001b[0m\u001b[0m_space\u001b[0m\u001b[0;34m.\u001b[0m\u001b[0mtarget\u001b[0m\u001b[0;34m.\u001b[0m\u001b[0mmax\u001b[0m\u001b[0;34m(\u001b[0m\u001b[0;34m)\u001b[0m\u001b[0;34m,\u001b[0m\u001b[0;34m\u001b[0m\u001b[0;34m\u001b[0m\u001b[0m\n\u001b[1;32m    131\u001b[0m             \u001b[0mbounds\u001b[0m\u001b[0;34m=\u001b[0m\u001b[0mself\u001b[0m\u001b[0;34m.\u001b[0m\u001b[0m_space\u001b[0m\u001b[0;34m.\u001b[0m\u001b[0mbounds\u001b[0m\u001b[0;34m,\u001b[0m\u001b[0;34m\u001b[0m\u001b[0;34m\u001b[0m\u001b[0m\n\u001b[0;32m--> 132\u001b[0;31m             \u001b[0mrandom_state\u001b[0m\u001b[0;34m=\u001b[0m\u001b[0mself\u001b[0m\u001b[0;34m.\u001b[0m\u001b[0m_random_state\u001b[0m\u001b[0;34m\u001b[0m\u001b[0;34m\u001b[0m\u001b[0m\n\u001b[0m\u001b[1;32m    133\u001b[0m         )\n\u001b[1;32m    134\u001b[0m \u001b[0;34m\u001b[0m\u001b[0m\n",
      "\u001b[0;32m/anaconda3/lib/python3.7/site-packages/bayes_opt/util.py\u001b[0m in \u001b[0;36macq_max\u001b[0;34m(ac, gp, y_max, bounds, random_state, n_warmup, n_iter)\u001b[0m\n\u001b[1;32m     44\u001b[0m     x_tries = random_state.uniform(bounds[:, 0], bounds[:, 1],\n\u001b[1;32m     45\u001b[0m                                    size=(n_warmup, bounds.shape[0]))\n\u001b[0;32m---> 46\u001b[0;31m     \u001b[0mys\u001b[0m \u001b[0;34m=\u001b[0m \u001b[0mac\u001b[0m\u001b[0;34m(\u001b[0m\u001b[0mx_tries\u001b[0m\u001b[0;34m,\u001b[0m \u001b[0mgp\u001b[0m\u001b[0;34m=\u001b[0m\u001b[0mgp\u001b[0m\u001b[0;34m,\u001b[0m \u001b[0my_max\u001b[0m\u001b[0;34m=\u001b[0m\u001b[0my_max\u001b[0m\u001b[0;34m)\u001b[0m\u001b[0;34m\u001b[0m\u001b[0;34m\u001b[0m\u001b[0m\n\u001b[0m\u001b[1;32m     47\u001b[0m     \u001b[0mx_max\u001b[0m \u001b[0;34m=\u001b[0m \u001b[0mx_tries\u001b[0m\u001b[0;34m[\u001b[0m\u001b[0mys\u001b[0m\u001b[0;34m.\u001b[0m\u001b[0margmax\u001b[0m\u001b[0;34m(\u001b[0m\u001b[0;34m)\u001b[0m\u001b[0;34m]\u001b[0m\u001b[0;34m\u001b[0m\u001b[0;34m\u001b[0m\u001b[0m\n\u001b[1;32m     48\u001b[0m     \u001b[0mmax_acq\u001b[0m \u001b[0;34m=\u001b[0m \u001b[0mys\u001b[0m\u001b[0;34m.\u001b[0m\u001b[0mmax\u001b[0m\u001b[0;34m(\u001b[0m\u001b[0;34m)\u001b[0m\u001b[0;34m\u001b[0m\u001b[0;34m\u001b[0m\u001b[0m\n",
      "\u001b[0;32m/anaconda3/lib/python3.7/site-packages/bayes_opt/util.py\u001b[0m in \u001b[0;36mutility\u001b[0;34m(self, x, gp, y_max)\u001b[0m\n\u001b[1;32m     95\u001b[0m     \u001b[0;32mdef\u001b[0m \u001b[0mutility\u001b[0m\u001b[0;34m(\u001b[0m\u001b[0mself\u001b[0m\u001b[0;34m,\u001b[0m \u001b[0mx\u001b[0m\u001b[0;34m,\u001b[0m \u001b[0mgp\u001b[0m\u001b[0;34m,\u001b[0m \u001b[0my_max\u001b[0m\u001b[0;34m)\u001b[0m\u001b[0;34m:\u001b[0m\u001b[0;34m\u001b[0m\u001b[0;34m\u001b[0m\u001b[0m\n\u001b[1;32m     96\u001b[0m         \u001b[0;32mif\u001b[0m \u001b[0mself\u001b[0m\u001b[0;34m.\u001b[0m\u001b[0mkind\u001b[0m \u001b[0;34m==\u001b[0m \u001b[0;34m'ucb'\u001b[0m\u001b[0;34m:\u001b[0m\u001b[0;34m\u001b[0m\u001b[0;34m\u001b[0m\u001b[0m\n\u001b[0;32m---> 97\u001b[0;31m             \u001b[0;32mreturn\u001b[0m \u001b[0mself\u001b[0m\u001b[0;34m.\u001b[0m\u001b[0m_ucb\u001b[0m\u001b[0;34m(\u001b[0m\u001b[0mx\u001b[0m\u001b[0;34m,\u001b[0m \u001b[0mgp\u001b[0m\u001b[0;34m,\u001b[0m \u001b[0mself\u001b[0m\u001b[0;34m.\u001b[0m\u001b[0mkappa\u001b[0m\u001b[0;34m)\u001b[0m\u001b[0;34m\u001b[0m\u001b[0;34m\u001b[0m\u001b[0m\n\u001b[0m\u001b[1;32m     98\u001b[0m         \u001b[0;32mif\u001b[0m \u001b[0mself\u001b[0m\u001b[0;34m.\u001b[0m\u001b[0mkind\u001b[0m \u001b[0;34m==\u001b[0m \u001b[0;34m'ei'\u001b[0m\u001b[0;34m:\u001b[0m\u001b[0;34m\u001b[0m\u001b[0;34m\u001b[0m\u001b[0m\n\u001b[1;32m     99\u001b[0m             \u001b[0;32mreturn\u001b[0m \u001b[0mself\u001b[0m\u001b[0;34m.\u001b[0m\u001b[0m_ei\u001b[0m\u001b[0;34m(\u001b[0m\u001b[0mx\u001b[0m\u001b[0;34m,\u001b[0m \u001b[0mgp\u001b[0m\u001b[0;34m,\u001b[0m \u001b[0my_max\u001b[0m\u001b[0;34m,\u001b[0m \u001b[0mself\u001b[0m\u001b[0;34m.\u001b[0m\u001b[0mxi\u001b[0m\u001b[0;34m)\u001b[0m\u001b[0;34m\u001b[0m\u001b[0;34m\u001b[0m\u001b[0m\n",
      "\u001b[0;32m/anaconda3/lib/python3.7/site-packages/bayes_opt/util.py\u001b[0m in \u001b[0;36m_ucb\u001b[0;34m(x, gp, kappa)\u001b[0m\n\u001b[1;32m    105\u001b[0m         \u001b[0;32mwith\u001b[0m \u001b[0mwarnings\u001b[0m\u001b[0;34m.\u001b[0m\u001b[0mcatch_warnings\u001b[0m\u001b[0;34m(\u001b[0m\u001b[0;34m)\u001b[0m\u001b[0;34m:\u001b[0m\u001b[0;34m\u001b[0m\u001b[0;34m\u001b[0m\u001b[0m\n\u001b[1;32m    106\u001b[0m             \u001b[0mwarnings\u001b[0m\u001b[0;34m.\u001b[0m\u001b[0msimplefilter\u001b[0m\u001b[0;34m(\u001b[0m\u001b[0;34m\"ignore\"\u001b[0m\u001b[0;34m)\u001b[0m\u001b[0;34m\u001b[0m\u001b[0;34m\u001b[0m\u001b[0m\n\u001b[0;32m--> 107\u001b[0;31m             \u001b[0mmean\u001b[0m\u001b[0;34m,\u001b[0m \u001b[0mstd\u001b[0m \u001b[0;34m=\u001b[0m \u001b[0mgp\u001b[0m\u001b[0;34m.\u001b[0m\u001b[0mpredict\u001b[0m\u001b[0;34m(\u001b[0m\u001b[0mx\u001b[0m\u001b[0;34m,\u001b[0m \u001b[0mreturn_std\u001b[0m\u001b[0;34m=\u001b[0m\u001b[0;32mTrue\u001b[0m\u001b[0;34m)\u001b[0m\u001b[0;34m\u001b[0m\u001b[0;34m\u001b[0m\u001b[0m\n\u001b[0m\u001b[1;32m    108\u001b[0m \u001b[0;34m\u001b[0m\u001b[0m\n\u001b[1;32m    109\u001b[0m         \u001b[0;32mreturn\u001b[0m \u001b[0mmean\u001b[0m \u001b[0;34m+\u001b[0m \u001b[0mkappa\u001b[0m \u001b[0;34m*\u001b[0m \u001b[0mstd\u001b[0m\u001b[0;34m\u001b[0m\u001b[0;34m\u001b[0m\u001b[0m\n",
      "\u001b[0;32m/anaconda3/lib/python3.7/site-packages/sklearn/gaussian_process/gpr.py\u001b[0m in \u001b[0;36mpredict\u001b[0;34m(self, X, return_std, return_cov)\u001b[0m\n\u001b[1;32m    349\u001b[0m                 \u001b[0my_var\u001b[0m \u001b[0;34m=\u001b[0m \u001b[0mself\u001b[0m\u001b[0;34m.\u001b[0m\u001b[0mkernel_\u001b[0m\u001b[0;34m.\u001b[0m\u001b[0mdiag\u001b[0m\u001b[0;34m(\u001b[0m\u001b[0mX\u001b[0m\u001b[0;34m)\u001b[0m\u001b[0;34m\u001b[0m\u001b[0;34m\u001b[0m\u001b[0m\n\u001b[1;32m    350\u001b[0m                 y_var -= np.einsum(\"ij,ij->i\",\n\u001b[0;32m--> 351\u001b[0;31m                                    np.dot(K_trans, self._K_inv), K_trans)\n\u001b[0m\u001b[1;32m    352\u001b[0m \u001b[0;34m\u001b[0m\u001b[0m\n\u001b[1;32m    353\u001b[0m                 \u001b[0;31m# Check if any of the variances is negative because of\u001b[0m\u001b[0;34m\u001b[0m\u001b[0;34m\u001b[0m\u001b[0;34m\u001b[0m\u001b[0m\n",
      "\u001b[0;31mKeyboardInterrupt\u001b[0m: "
     ]
    }
   ],
   "source": [
    "optimization_sgd = BayesianOptimization(evaluateSgd, params_sgd, random_state=231)\n",
    "optimization_sgd.maximize(n_iter=1000, init_points=100)"
   ]
  },
  {
   "cell_type": "code",
   "execution_count": 16,
   "metadata": {},
   "outputs": [
    {
     "data": {
      "text/plain": [
       "{'target': 0.9395534554436157,\n",
       " 'params': {'alpha': 1e-06,\n",
       "  'l1_ratio': 0.8573169692882996,\n",
       "  'loss': 1.790135476441257,\n",
       "  'penalty': 1.950482150001914,\n",
       "  'tol': 1e-09}}"
      ]
     },
     "execution_count": 16,
     "metadata": {},
     "output_type": "execute_result"
    }
   ],
   "source": [
    "optimization_sgd.max"
   ]
  },
  {
   "cell_type": "code",
   "execution_count": 20,
   "metadata": {},
   "outputs": [
    {
     "data": {
      "text/plain": [
       "0.9443153602055204"
      ]
     },
     "execution_count": 20,
     "metadata": {},
     "output_type": "execute_result"
    }
   ],
   "source": [
    "sgd = SGDClassifier(alpha=1e-6, l1_ratio=0.8573169692882996, loss='log', penalty='elasticnet', tol=1e-09)\n",
    "cross_val_imbalanced_f1(sgd, X_train_prepared, y_train, SMOTE(random_state=42))"
   ]
  },
  {
   "cell_type": "code",
   "execution_count": 21,
   "metadata": {},
   "outputs": [
    {
     "data": {
      "text/plain": [
       "SGDClassifier(alpha=1e-06, average=False, class_weight=None,\n",
       "       early_stopping=False, epsilon=0.1, eta0=0.0, fit_intercept=True,\n",
       "       l1_ratio=0.8573169692882996, learning_rate='optimal', loss='log',\n",
       "       max_iter=None, n_iter=None, n_iter_no_change=5, n_jobs=None,\n",
       "       penalty='elasticnet', power_t=0.5, random_state=None, shuffle=True,\n",
       "       tol=1e-09, validation_fraction=0.1, verbose=0, warm_start=False)"
      ]
     },
     "execution_count": 21,
     "metadata": {},
     "output_type": "execute_result"
    }
   ],
   "source": [
    "sgd.fit(X_train_prepared, y_train)"
   ]
  },
  {
   "cell_type": "markdown",
   "metadata": {},
   "source": [
    "### Generate New Training Set"
   ]
  },
  {
   "cell_type": "code",
   "execution_count": 22,
   "metadata": {},
   "outputs": [
    {
     "name": "stderr",
     "output_type": "stream",
     "text": [
      "/anaconda3/lib/python3.7/site-packages/sklearn/preprocessing/data.py:625: DataConversionWarning: Data with input dtype int64, float64 were all converted to float64 by StandardScaler.\n",
      "  return self.partial_fit(X, y)\n",
      "/anaconda3/lib/python3.7/site-packages/sklearn/base.py:462: DataConversionWarning: Data with input dtype int64, float64 were all converted to float64 by StandardScaler.\n",
      "  return self.fit(X, **fit_params).transform(X)\n"
     ]
    },
    {
     "data": {
      "text/plain": [
       "(498121, 15)"
      ]
     },
     "execution_count": 22,
     "metadata": {},
     "output_type": "execute_result"
    }
   ],
   "source": [
    "X_test_prepared = featureGeneration_pipeline.fit_transform(test)\n",
    "X_test_prepared = preprocessing_pipeline.fit_transform(X_test_prepared)\n",
    "X_test_prepared.shape"
   ]
  },
  {
   "cell_type": "code",
   "execution_count": 24,
   "metadata": {},
   "outputs": [],
   "source": [
    "sgd_pred = sgd.decision_function(X_test_prepared)"
   ]
  },
  {
   "cell_type": "code",
   "execution_count": 29,
   "metadata": {},
   "outputs": [
    {
     "data": {
      "text/plain": [
       "1358.780357178902"
      ]
     },
     "execution_count": 29,
     "metadata": {},
     "output_type": "execute_result"
    }
   ],
   "source": [
    "sgd_pred.max()"
   ]
  },
  {
   "cell_type": "code",
   "execution_count": 30,
   "metadata": {},
   "outputs": [
    {
     "data": {
      "text/plain": [
       "-12223.419243189055"
      ]
     },
     "execution_count": 30,
     "metadata": {},
     "output_type": "execute_result"
    }
   ],
   "source": [
    "sgd_pred.min()"
   ]
  },
  {
   "cell_type": "code",
   "execution_count": 59,
   "metadata": {},
   "outputs": [],
   "source": [
    "augment_pos = test.loc[np.where(sgd_pred > 1000)[0]]\n",
    "augment_pos['fraud'] = 1\n",
    "augment_neg = test.loc[np.where(sgd_pred < -2900)[0]]\n",
    "augment_neg['fraud'] = 0"
   ]
  },
  {
   "cell_type": "code",
   "execution_count": 60,
   "metadata": {},
   "outputs": [
    {
     "data": {
      "text/plain": [
       "0.05053052704818229"
      ]
     },
     "execution_count": 60,
     "metadata": {},
     "output_type": "execute_result"
    }
   ],
   "source": [
    "len(augment_pos) / (len(augment_pos) + len(augment_neg)) # target label distribution is approx. the same \n",
    "                                                         # as in the original training set"
   ]
  },
  {
   "cell_type": "code",
   "execution_count": 61,
   "metadata": {},
   "outputs": [
    {
     "data": {
      "text/plain": [
       "(11498, 16)"
      ]
     },
     "execution_count": 61,
     "metadata": {},
     "output_type": "execute_result"
    }
   ],
   "source": [
    "augment_df = pd.concat([augment_pos, augment_neg], ignore_index=True)\n",
    "augment_df.shape"
   ]
  },
  {
   "cell_type": "markdown",
   "metadata": {},
   "source": [
    "### Train the Models and Check the Performance"
   ]
  },
  {
   "cell_type": "code",
   "execution_count": 62,
   "metadata": {},
   "outputs": [],
   "source": [
    "X_train, y_train = augment_df.drop('fraud', axis=1), augment_df.fraud\n",
    "X_test, y_test = train.drop('fraud', axis=1), train.fraud"
   ]
  },
  {
   "cell_type": "code",
   "execution_count": 65,
   "metadata": {},
   "outputs": [
    {
     "name": "stderr",
     "output_type": "stream",
     "text": [
      "/anaconda3/lib/python3.7/site-packages/sklearn/preprocessing/data.py:625: DataConversionWarning: Data with input dtype int64, float64 were all converted to float64 by StandardScaler.\n",
      "  return self.partial_fit(X, y)\n",
      "/anaconda3/lib/python3.7/site-packages/sklearn/base.py:462: DataConversionWarning: Data with input dtype int64, float64 were all converted to float64 by StandardScaler.\n",
      "  return self.fit(X, **fit_params).transform(X)\n",
      "/Users/vasili.bocicariov/Documents/University/Semester III/Data Mining II/DMC_2019_task/github/DM/DM/pipes.py:108: DataConversionWarning: Data with input dtype int64, float64 were all converted to float64 by StandardScaler.\n",
      "  return self._scaler.transform(X)\n"
     ]
    }
   ],
   "source": [
    "X_train_prepared = preprocessing_pipeline.fit_transform(X_train)\n",
    "\n",
    "X_test = featureGeneration_pipeline.transform(X_test)\n",
    "X_test_prepared = preprocessing_pipeline.transform(X_test)"
   ]
  },
  {
   "cell_type": "code",
   "execution_count": 71,
   "metadata": {},
   "outputs": [],
   "source": [
    "cv = StratifiedKFold(n_splits=10, random_state=42)\n",
    "\n",
    "def profit_scorer(y, y_pred):\n",
    "    profit_matrix = {(0,0): 0, (0,1): -5, (1,0): -25, (1,1): 5}\n",
    "    return sum(profit_matrix[(pred, actual)] for pred, actual in zip(y_pred, y))\n",
    "\n",
    "profit_scoring = make_scorer(profit_scorer, greater_is_better=True)"
   ]
  },
  {
   "cell_type": "code",
   "execution_count": 75,
   "metadata": {},
   "outputs": [],
   "source": [
    "def cross_val_imbalanced(classifier, X, y, sampler):\n",
    "    kf = StratifiedKFold(n_splits=10, random_state=42)\n",
    "    cross_val_profit_lst = []\n",
    "    \n",
    "    X = pd.DataFrame(X)\n",
    "\n",
    "    for train_index, test_index in kf.split(X, y):\n",
    "        # keeping validation set apart and oversampling in each iteration using smote \n",
    "        train, test = X.iloc[train_index], X.iloc[test_index]\n",
    "        target_train, target_test = y.iloc[train_index], y.iloc[test_index]\n",
    "        X_train_res, y_train_res = sampler.fit_sample(train, target_train.ravel())\n",
    "\n",
    "        # training the model on oversampled 4 folds of training set\n",
    "        classifier.fit(pd.DataFrame(X_train_res), y_train_res)\n",
    "        # testing on 1 fold of validation set\n",
    "        test_preds = classifier.predict(test)\n",
    "        cross_val_profit_lst.append(profit_scorer(target_test, test_preds))\n",
    "        \n",
    "#     print ('Cross validated profit: {}'.format(np.sum(cross_val_profit_lst)))\n",
    "    return np.mean(cross_val_profit_lst)"
   ]
  },
  {
   "cell_type": "markdown",
   "metadata": {},
   "source": [
    "#### SGDClassifier"
   ]
  },
  {
   "cell_type": "code",
   "execution_count": 76,
   "metadata": {},
   "outputs": [],
   "source": [
    "def evaluateSgd(alpha, l1_ratio, tol, penalty, loss):\n",
    "    \n",
    "    # 3 options, l1 by default\n",
    "    penalty_str = 'l1'\n",
    "    if int(penalty) == 0:\n",
    "        penalty_str = 'l2'\n",
    "    elif int(penalty) == 1:\n",
    "        penalty_str = 'elasticnet'\n",
    "    \n",
    "    # 3 options, modified_huber by default\n",
    "    loss_str = 'modified_huber'\n",
    "    if int(loss) == 0:\n",
    "        loss_str = 'hinge'\n",
    "    elif int(loss) == 1:\n",
    "        loss_str = 'log'\n",
    "        \n",
    "    \n",
    "    model = SGDClassifier(alpha=alpha, l1_ratio=l1_ratio, tol=tol, penalty=penalty_str, loss=loss_str, random_state=231)\n",
    "    \n",
    "    \n",
    "    return cross_val_imbalanced(model, X_train_prepared, y_train, SMOTE(random_state=42))"
   ]
  },
  {
   "cell_type": "code",
   "execution_count": 77,
   "metadata": {},
   "outputs": [],
   "source": [
    "params_sgd = {\n",
    "    'alpha': (1e-6, 1),\n",
    "    'l1_ratio': (0, 1),\n",
    "    'tol': (1e-9, 1e-1),\n",
    "    'penalty': (0, 3),\n",
    "    'loss': (0, 3)\n",
    "}"
   ]
  },
  {
   "cell_type": "code",
   "execution_count": 78,
   "metadata": {},
   "outputs": [
    {
     "name": "stdout",
     "output_type": "stream",
     "text": [
      "|   iter    |  target   |   alpha   | l1_ratio  |   loss    |  penalty  |    tol    |\n",
      "-------------------------------------------------------------------------------------\n",
      "| \u001b[0m 1       \u001b[0m | \u001b[0m 225.5   \u001b[0m | \u001b[0m 0.7815  \u001b[0m | \u001b[0m 0.5842  \u001b[0m | \u001b[0m 1.28    \u001b[0m | \u001b[0m 0.946   \u001b[0m | \u001b[0m 0.08269 \u001b[0m |\n",
      "| \u001b[95m 2       \u001b[0m | \u001b[95m 290.5   \u001b[0m | \u001b[95m 0.9034  \u001b[0m | \u001b[95m 0.03894 \u001b[0m | \u001b[95m 2.746   \u001b[0m | \u001b[95m 0.1815  \u001b[0m | \u001b[95m 0.01807 \u001b[0m |\n",
      "| \u001b[0m 3       \u001b[0m | \u001b[0m 290.5   \u001b[0m | \u001b[0m 0.0723  \u001b[0m | \u001b[0m 0.4588  \u001b[0m | \u001b[0m 2.125   \u001b[0m | \u001b[0m 1.45    \u001b[0m | \u001b[0m 0.002545\u001b[0m |\n",
      "| \u001b[0m 4       \u001b[0m | \u001b[0m 290.5   \u001b[0m | \u001b[0m 0.0669  \u001b[0m | \u001b[0m 0.4259  \u001b[0m | \u001b[0m 0.6577  \u001b[0m | \u001b[0m 2.43    \u001b[0m | \u001b[0m 0.01401 \u001b[0m |\n",
      "| \u001b[0m 5       \u001b[0m | \u001b[0m 290.5   \u001b[0m | \u001b[0m 0.7512  \u001b[0m | \u001b[0m 0.2791  \u001b[0m | \u001b[0m 2.847   \u001b[0m | \u001b[0m 2.655   \u001b[0m | \u001b[0m 0.06102 \u001b[0m |\n",
      "| \u001b[0m 6       \u001b[0m | \u001b[0m 290.5   \u001b[0m | \u001b[0m 0.7791  \u001b[0m | \u001b[0m 0.04156 \u001b[0m | \u001b[0m 2.359   \u001b[0m | \u001b[0m 2.707   \u001b[0m | \u001b[0m 0.0433  \u001b[0m |\n",
      "| \u001b[0m 7       \u001b[0m | \u001b[0m 290.5   \u001b[0m | \u001b[0m 0.8866  \u001b[0m | \u001b[0m 0.5485  \u001b[0m | \u001b[0m 2.961   \u001b[0m | \u001b[0m 1.696   \u001b[0m | \u001b[0m 0.0901  \u001b[0m |\n",
      "| \u001b[0m 8       \u001b[0m | \u001b[0m 238.0   \u001b[0m | \u001b[0m 0.5637  \u001b[0m | \u001b[0m 0.0959  \u001b[0m | \u001b[0m 1.853   \u001b[0m | \u001b[0m 0.18    \u001b[0m | \u001b[0m 0.05804 \u001b[0m |\n",
      "| \u001b[0m 9       \u001b[0m | \u001b[0m 290.5   \u001b[0m | \u001b[0m 0.8717  \u001b[0m | \u001b[0m 0.7998  \u001b[0m | \u001b[0m 0.2     \u001b[0m | \u001b[0m 0.1805  \u001b[0m | \u001b[0m 0.08993 \u001b[0m |\n",
      "| \u001b[0m 10      \u001b[0m | \u001b[0m 290.5   \u001b[0m | \u001b[0m 0.6437  \u001b[0m | \u001b[0m 0.668   \u001b[0m | \u001b[0m 0.3004  \u001b[0m | \u001b[0m 1.938   \u001b[0m | \u001b[0m 0.004273\u001b[0m |\n",
      "| \u001b[0m 11      \u001b[0m | \u001b[0m 289.5   \u001b[0m | \u001b[0m 0.6171  \u001b[0m | \u001b[0m 0.262   \u001b[0m | \u001b[0m 2.152   \u001b[0m | \u001b[0m 2.991   \u001b[0m | \u001b[0m 0.026   \u001b[0m |\n",
      "| \u001b[0m 12      \u001b[0m | \u001b[0m 290.5   \u001b[0m | \u001b[0m 0.3193  \u001b[0m | \u001b[0m 0.1559  \u001b[0m | \u001b[0m 0.02604 \u001b[0m | \u001b[0m 1.492   \u001b[0m | \u001b[0m 0.02333 \u001b[0m |\n",
      "| \u001b[0m 13      \u001b[0m | \u001b[0m 290.5   \u001b[0m | \u001b[0m 0.1084  \u001b[0m | \u001b[0m 0.9453  \u001b[0m | \u001b[0m 2.674   \u001b[0m | \u001b[0m 0.836   \u001b[0m | \u001b[0m 0.08262 \u001b[0m |\n",
      "| \u001b[0m 14      \u001b[0m | \u001b[0m 290.5   \u001b[0m | \u001b[0m 0.4488  \u001b[0m | \u001b[0m 0.02227 \u001b[0m | \u001b[0m 2.712   \u001b[0m | \u001b[0m 1.917   \u001b[0m | \u001b[0m 0.06119 \u001b[0m |\n",
      "| \u001b[0m 15      \u001b[0m | \u001b[0m 288.0   \u001b[0m | \u001b[0m 0.5869  \u001b[0m | \u001b[0m 0.3344  \u001b[0m | \u001b[0m 0.7761  \u001b[0m | \u001b[0m 1.159   \u001b[0m | \u001b[0m 0.05321 \u001b[0m |\n",
      "| \u001b[0m 16      \u001b[0m | \u001b[0m 290.5   \u001b[0m | \u001b[0m 0.9719  \u001b[0m | \u001b[0m 0.9393  \u001b[0m | \u001b[0m 0.3421  \u001b[0m | \u001b[0m 2.91    \u001b[0m | \u001b[0m 0.05437 \u001b[0m |\n",
      "| \u001b[0m 17      \u001b[0m | \u001b[0m 290.5   \u001b[0m | \u001b[0m 0.4692  \u001b[0m | \u001b[0m 0.433   \u001b[0m | \u001b[0m 0.6649  \u001b[0m | \u001b[0m 0.9394  \u001b[0m | \u001b[0m 0.09047 \u001b[0m |\n",
      "| \u001b[0m 18      \u001b[0m | \u001b[0m 290.5   \u001b[0m | \u001b[0m 0.9692  \u001b[0m | \u001b[0m 0.5473  \u001b[0m | \u001b[0m 0.9498  \u001b[0m | \u001b[0m 0.8481  \u001b[0m | \u001b[0m 0.06274 \u001b[0m |\n",
      "| \u001b[0m 19      \u001b[0m | \u001b[0m 285.5   \u001b[0m | \u001b[0m 0.147   \u001b[0m | \u001b[0m 0.4413  \u001b[0m | \u001b[0m 1.411   \u001b[0m | \u001b[0m 1.044   \u001b[0m | \u001b[0m 0.06648 \u001b[0m |\n",
      "| \u001b[0m 20      \u001b[0m | \u001b[0m 290.5   \u001b[0m | \u001b[0m 0.9434  \u001b[0m | \u001b[0m 0.3161  \u001b[0m | \u001b[0m 0.3041  \u001b[0m | \u001b[0m 0.8433  \u001b[0m | \u001b[0m 0.006185\u001b[0m |\n",
      "| \u001b[0m 21      \u001b[0m | \u001b[0m 290.5   \u001b[0m | \u001b[0m 0.7615  \u001b[0m | \u001b[0m 0.912   \u001b[0m | \u001b[0m 2.34    \u001b[0m | \u001b[0m 0.128   \u001b[0m | \u001b[0m 0.009628\u001b[0m |\n",
      "| \u001b[0m 22      \u001b[0m | \u001b[0m 213.0   \u001b[0m | \u001b[0m 0.9636  \u001b[0m | \u001b[0m 0.1826  \u001b[0m | \u001b[0m 1.268   \u001b[0m | \u001b[0m 0.2957  \u001b[0m | \u001b[0m 0.0392  \u001b[0m |\n",
      "| \u001b[0m 23      \u001b[0m | \u001b[0m 290.5   \u001b[0m | \u001b[0m 0.3701  \u001b[0m | \u001b[0m 0.176   \u001b[0m | \u001b[0m 2.438   \u001b[0m | \u001b[0m 0.468   \u001b[0m | \u001b[0m 0.03746 \u001b[0m |\n",
      "| \u001b[0m 24      \u001b[0m | \u001b[0m 290.5   \u001b[0m | \u001b[0m 0.8679  \u001b[0m | \u001b[0m 0.09156 \u001b[0m | \u001b[0m 2.023   \u001b[0m | \u001b[0m 1.55    \u001b[0m | \u001b[0m 0.04309 \u001b[0m |\n",
      "| \u001b[0m 25      \u001b[0m | \u001b[0m 245.5   \u001b[0m | \u001b[0m 0.5181  \u001b[0m | \u001b[0m 0.1457  \u001b[0m | \u001b[0m 1.374   \u001b[0m | \u001b[0m 0.7611  \u001b[0m | \u001b[0m 0.03153 \u001b[0m |\n",
      "| \u001b[0m 26      \u001b[0m | \u001b[0m 290.5   \u001b[0m | \u001b[0m 0.4305  \u001b[0m | \u001b[0m 0.3977  \u001b[0m | \u001b[0m 2.856   \u001b[0m | \u001b[0m 1.65    \u001b[0m | \u001b[0m 0.01241 \u001b[0m |\n",
      "| \u001b[0m 27      \u001b[0m | \u001b[0m 290.5   \u001b[0m | \u001b[0m 0.887   \u001b[0m | \u001b[0m 0.8881  \u001b[0m | \u001b[0m 0.4804  \u001b[0m | \u001b[0m 1.307   \u001b[0m | \u001b[0m 0.06233 \u001b[0m |\n",
      "| \u001b[0m 28      \u001b[0m | \u001b[0m 280.5   \u001b[0m | \u001b[0m 0.07705 \u001b[0m | \u001b[0m 0.02587 \u001b[0m | \u001b[0m 1.597   \u001b[0m | \u001b[0m 0.1616  \u001b[0m | \u001b[0m 0.0683  \u001b[0m |\n",
      "| \u001b[0m 29      \u001b[0m | \u001b[0m 290.5   \u001b[0m | \u001b[0m 0.2012  \u001b[0m | \u001b[0m 0.8356  \u001b[0m | \u001b[0m 0.3355  \u001b[0m | \u001b[0m 1.104   \u001b[0m | \u001b[0m 0.09121 \u001b[0m |\n",
      "| \u001b[0m 30      \u001b[0m | \u001b[0m 290.5   \u001b[0m | \u001b[0m 0.4478  \u001b[0m | \u001b[0m 0.2655  \u001b[0m | \u001b[0m 0.8961  \u001b[0m | \u001b[0m 2.243   \u001b[0m | \u001b[0m 0.008349\u001b[0m |\n",
      "| \u001b[0m 31      \u001b[0m | \u001b[0m 290.5   \u001b[0m | \u001b[0m 0.8114  \u001b[0m | \u001b[0m 0.3955  \u001b[0m | \u001b[0m 0.9163  \u001b[0m | \u001b[0m 0.6078  \u001b[0m | \u001b[0m 0.09837 \u001b[0m |\n",
      "| \u001b[0m 32      \u001b[0m | \u001b[0m 290.5   \u001b[0m | \u001b[0m 0.4882  \u001b[0m | \u001b[0m 0.1755  \u001b[0m | \u001b[0m 1.785   \u001b[0m | \u001b[0m 2.079   \u001b[0m | \u001b[0m 0.03995 \u001b[0m |\n",
      "| \u001b[0m 33      \u001b[0m | \u001b[0m 243.0   \u001b[0m | \u001b[0m 0.5341  \u001b[0m | \u001b[0m 0.4075  \u001b[0m | \u001b[0m 1.62    \u001b[0m | \u001b[0m 0.4151  \u001b[0m | \u001b[0m 0.02291 \u001b[0m |\n",
      "| \u001b[0m 34      \u001b[0m | \u001b[0m 290.5   \u001b[0m | \u001b[0m 0.07316 \u001b[0m | \u001b[0m 0.9006  \u001b[0m | \u001b[0m 0.528   \u001b[0m | \u001b[0m 2.675   \u001b[0m | \u001b[0m 0.09519 \u001b[0m |\n",
      "| \u001b[0m 35      \u001b[0m | \u001b[0m 290.5   \u001b[0m | \u001b[0m 0.4674  \u001b[0m | \u001b[0m 0.4513  \u001b[0m | \u001b[0m 1.853   \u001b[0m | \u001b[0m 1.306   \u001b[0m | \u001b[0m 0.02686 \u001b[0m |\n",
      "| \u001b[0m 36      \u001b[0m | \u001b[0m 213.0   \u001b[0m | \u001b[0m 0.7434  \u001b[0m | \u001b[0m 0.07095 \u001b[0m | \u001b[0m 1.745   \u001b[0m | \u001b[0m 1.419   \u001b[0m | \u001b[0m 0.005491\u001b[0m |\n",
      "| \u001b[0m 37      \u001b[0m | \u001b[0m 290.5   \u001b[0m | \u001b[0m 0.3392  \u001b[0m | \u001b[0m 0.2243  \u001b[0m | \u001b[0m 1.128   \u001b[0m | \u001b[0m 2.874   \u001b[0m | \u001b[0m 0.03449 \u001b[0m |\n",
      "| \u001b[0m 38      \u001b[0m | \u001b[0m 255.5   \u001b[0m | \u001b[0m 0.5454  \u001b[0m | \u001b[0m 0.2823  \u001b[0m | \u001b[0m 1.24    \u001b[0m | \u001b[0m 1.706   \u001b[0m | \u001b[0m 0.03295 \u001b[0m |\n",
      "| \u001b[0m 39      \u001b[0m | \u001b[0m 290.5   \u001b[0m | \u001b[0m 0.4385  \u001b[0m | \u001b[0m 0.6479  \u001b[0m | \u001b[0m 0.8982  \u001b[0m | \u001b[0m 1.639   \u001b[0m | \u001b[0m 0.05225 \u001b[0m |\n",
      "| \u001b[0m 40      \u001b[0m | \u001b[0m 290.5   \u001b[0m | \u001b[0m 0.8873  \u001b[0m | \u001b[0m 0.6043  \u001b[0m | \u001b[0m 2.61    \u001b[0m | \u001b[0m 1.975   \u001b[0m | \u001b[0m 0.05089 \u001b[0m |\n",
      "| \u001b[0m 41      \u001b[0m | \u001b[0m 290.5   \u001b[0m | \u001b[0m 0.3036  \u001b[0m | \u001b[0m 0.138   \u001b[0m | \u001b[0m 0.7087  \u001b[0m | \u001b[0m 0.8932  \u001b[0m | \u001b[0m 0.09726 \u001b[0m |\n",
      "| \u001b[0m 42      \u001b[0m | \u001b[0m 290.5   \u001b[0m | \u001b[0m 0.6682  \u001b[0m | \u001b[0m 0.009902\u001b[0m | \u001b[0m 2.546   \u001b[0m | \u001b[0m 1.439   \u001b[0m | \u001b[0m 0.03732 \u001b[0m |\n",
      "| \u001b[0m 43      \u001b[0m | \u001b[0m 290.5   \u001b[0m | \u001b[0m 0.2089  \u001b[0m | \u001b[0m 0.8076  \u001b[0m | \u001b[0m 0.8939  \u001b[0m | \u001b[0m 2.019   \u001b[0m | \u001b[0m 0.09902 \u001b[0m |\n",
      "| \u001b[0m 44      \u001b[0m | \u001b[0m 290.5   \u001b[0m | \u001b[0m 0.1004  \u001b[0m | \u001b[0m 0.7283  \u001b[0m | \u001b[0m 0.8062  \u001b[0m | \u001b[0m 0.6855  \u001b[0m | \u001b[0m 0.08894 \u001b[0m |\n",
      "| \u001b[0m 45      \u001b[0m | \u001b[0m 290.5   \u001b[0m | \u001b[0m 0.9008  \u001b[0m | \u001b[0m 0.09592 \u001b[0m | \u001b[0m 0.6147  \u001b[0m | \u001b[0m 2.366   \u001b[0m | \u001b[0m 0.06041 \u001b[0m |\n",
      "| \u001b[0m 46      \u001b[0m | \u001b[0m 290.5   \u001b[0m | \u001b[0m 0.03231 \u001b[0m | \u001b[0m 0.2048  \u001b[0m | \u001b[0m 0.5945  \u001b[0m | \u001b[0m 0.8885  \u001b[0m | \u001b[0m 0.05676 \u001b[0m |\n",
      "| \u001b[0m 47      \u001b[0m | \u001b[0m 290.5   \u001b[0m | \u001b[0m 0.9078  \u001b[0m | \u001b[0m 0.3622  \u001b[0m | \u001b[0m 1.655   \u001b[0m | \u001b[0m 2.592   \u001b[0m | \u001b[0m 0.01883 \u001b[0m |\n",
      "| \u001b[0m 48      \u001b[0m | \u001b[0m 290.5   \u001b[0m | \u001b[0m 0.1482  \u001b[0m | \u001b[0m 0.4535  \u001b[0m | \u001b[0m 0.007191\u001b[0m | \u001b[0m 0.6033  \u001b[0m | \u001b[0m 0.008541\u001b[0m |\n",
      "| \u001b[0m 49      \u001b[0m | \u001b[0m 290.5   \u001b[0m | \u001b[0m 0.07578 \u001b[0m | \u001b[0m 0.6292  \u001b[0m | \u001b[0m 0.738   \u001b[0m | \u001b[0m 1.574   \u001b[0m | \u001b[0m 0.09411 \u001b[0m |\n",
      "| \u001b[0m 50      \u001b[0m | \u001b[0m 290.5   \u001b[0m | \u001b[0m 0.04136 \u001b[0m | \u001b[0m 0.7879  \u001b[0m | \u001b[0m 2.846   \u001b[0m | \u001b[0m 0.8865  \u001b[0m | \u001b[0m 0.01983 \u001b[0m |\n",
      "| \u001b[0m 51      \u001b[0m | \u001b[0m 290.5   \u001b[0m | \u001b[0m 0.4235  \u001b[0m | \u001b[0m 0.3695  \u001b[0m | \u001b[0m 0.5758  \u001b[0m | \u001b[0m 2.266   \u001b[0m | \u001b[0m 0.01336 \u001b[0m |\n",
      "| \u001b[0m 52      \u001b[0m | \u001b[0m 290.5   \u001b[0m | \u001b[0m 0.998   \u001b[0m | \u001b[0m 0.5708  \u001b[0m | \u001b[0m 1.4     \u001b[0m | \u001b[0m 1.094   \u001b[0m | \u001b[0m 0.06923 \u001b[0m |\n",
      "| \u001b[0m 53      \u001b[0m | \u001b[0m 290.5   \u001b[0m | \u001b[0m 0.08546 \u001b[0m | \u001b[0m 0.9574  \u001b[0m | \u001b[0m 0.1977  \u001b[0m | \u001b[0m 0.8879  \u001b[0m | \u001b[0m 0.09676 \u001b[0m |\n",
      "| \u001b[0m 54      \u001b[0m | \u001b[0m 290.5   \u001b[0m | \u001b[0m 0.714   \u001b[0m | \u001b[0m 0.7338  \u001b[0m | \u001b[0m 2.171   \u001b[0m | \u001b[0m 2.914   \u001b[0m | \u001b[0m 0.06863 \u001b[0m |\n",
      "| \u001b[0m 55      \u001b[0m | \u001b[0m 255.5   \u001b[0m | \u001b[0m 0.434   \u001b[0m | \u001b[0m 0.8846  \u001b[0m | \u001b[0m 1.449   \u001b[0m | \u001b[0m 0.5984  \u001b[0m | \u001b[0m 0.01101 \u001b[0m |\n",
      "| \u001b[0m 56      \u001b[0m | \u001b[0m 290.5   \u001b[0m | \u001b[0m 0.7338  \u001b[0m | \u001b[0m 0.3263  \u001b[0m | \u001b[0m 2.677   \u001b[0m | \u001b[0m 2.793   \u001b[0m | \u001b[0m 0.05477 \u001b[0m |\n",
      "| \u001b[0m 57      \u001b[0m | \u001b[0m 290.5   \u001b[0m | \u001b[0m 0.3203  \u001b[0m | \u001b[0m 0.8574  \u001b[0m | \u001b[0m 0.8473  \u001b[0m | \u001b[0m 1.455   \u001b[0m | \u001b[0m 0.001987\u001b[0m |\n",
      "| \u001b[0m 58      \u001b[0m | \u001b[0m 283.0   \u001b[0m | \u001b[0m 0.5358  \u001b[0m | \u001b[0m 0.358   \u001b[0m | \u001b[0m 1.938   \u001b[0m | \u001b[0m 1.273   \u001b[0m | \u001b[0m 0.06128 \u001b[0m |\n",
      "| \u001b[0m 59      \u001b[0m | \u001b[0m 290.5   \u001b[0m | \u001b[0m 0.6061  \u001b[0m | \u001b[0m 0.187   \u001b[0m | \u001b[0m 0.7549  \u001b[0m | \u001b[0m 0.1393  \u001b[0m | \u001b[0m 0.006488\u001b[0m |\n",
      "| \u001b[0m 60      \u001b[0m | \u001b[0m 290.5   \u001b[0m | \u001b[0m 0.4024  \u001b[0m | \u001b[0m 0.793   \u001b[0m | \u001b[0m 1.987   \u001b[0m | \u001b[0m 1.477   \u001b[0m | \u001b[0m 0.04596 \u001b[0m |\n",
      "| \u001b[0m 61      \u001b[0m | \u001b[0m 290.5   \u001b[0m | \u001b[0m 0.7941  \u001b[0m | \u001b[0m 0.842   \u001b[0m | \u001b[0m 2.711   \u001b[0m | \u001b[0m 0.6389  \u001b[0m | \u001b[0m 0.0482  \u001b[0m |\n",
      "| \u001b[0m 62      \u001b[0m | \u001b[0m 290.5   \u001b[0m | \u001b[0m 0.2448  \u001b[0m | \u001b[0m 0.8392  \u001b[0m | \u001b[0m 2.432   \u001b[0m | \u001b[0m 1.235   \u001b[0m | \u001b[0m 0.09855 \u001b[0m |\n",
      "| \u001b[0m 63      \u001b[0m | \u001b[0m 290.5   \u001b[0m | \u001b[0m 0.7744  \u001b[0m | \u001b[0m 0.8856  \u001b[0m | \u001b[0m 0.5062  \u001b[0m | \u001b[0m 2.81    \u001b[0m | \u001b[0m 0.08735 \u001b[0m |\n",
      "| \u001b[0m 64      \u001b[0m | \u001b[0m 258.0   \u001b[0m | \u001b[0m 0.4118  \u001b[0m | \u001b[0m 0.5424  \u001b[0m | \u001b[0m 1.315   \u001b[0m | \u001b[0m 0.1382  \u001b[0m | \u001b[0m 0.0472  \u001b[0m |\n",
      "| \u001b[0m 65      \u001b[0m | \u001b[0m 290.5   \u001b[0m | \u001b[0m 0.3726  \u001b[0m | \u001b[0m 0.7975  \u001b[0m | \u001b[0m 1.704   \u001b[0m | \u001b[0m 1.75    \u001b[0m | \u001b[0m 0.07076 \u001b[0m |\n",
      "| \u001b[0m 66      \u001b[0m | \u001b[0m 290.5   \u001b[0m | \u001b[0m 0.5301  \u001b[0m | \u001b[0m 0.9044  \u001b[0m | \u001b[0m 1.314   \u001b[0m | \u001b[0m 1.913   \u001b[0m | \u001b[0m 0.07356 \u001b[0m |\n",
      "| \u001b[0m 67      \u001b[0m | \u001b[0m 290.5   \u001b[0m | \u001b[0m 0.2012  \u001b[0m | \u001b[0m 0.8248  \u001b[0m | \u001b[0m 0.3446  \u001b[0m | \u001b[0m 1.253   \u001b[0m | \u001b[0m 0.03034 \u001b[0m |\n",
      "| \u001b[0m 68      \u001b[0m | \u001b[0m 290.5   \u001b[0m | \u001b[0m 0.01347 \u001b[0m | \u001b[0m 0.5512  \u001b[0m | \u001b[0m 0.8074  \u001b[0m | \u001b[0m 1.007   \u001b[0m | \u001b[0m 0.05728 \u001b[0m |\n",
      "| \u001b[0m 69      \u001b[0m | \u001b[0m 290.5   \u001b[0m | \u001b[0m 0.2654  \u001b[0m | \u001b[0m 0.6499  \u001b[0m | \u001b[0m 1.14    \u001b[0m | \u001b[0m 1.102   \u001b[0m | \u001b[0m 0.06328 \u001b[0m |\n",
      "| \u001b[0m 70      \u001b[0m | \u001b[0m 290.5   \u001b[0m | \u001b[0m 0.7437  \u001b[0m | \u001b[0m 0.6021  \u001b[0m | \u001b[0m 1.027   \u001b[0m | \u001b[0m 2.293   \u001b[0m | \u001b[0m 0.007132\u001b[0m |\n",
      "| \u001b[0m 71      \u001b[0m | \u001b[0m 290.5   \u001b[0m | \u001b[0m 0.5364  \u001b[0m | \u001b[0m 0.5156  \u001b[0m | \u001b[0m 2.641   \u001b[0m | \u001b[0m 0.3479  \u001b[0m | \u001b[0m 0.009225\u001b[0m |\n",
      "| \u001b[0m 72      \u001b[0m | \u001b[0m 289.5   \u001b[0m | \u001b[0m 0.01982 \u001b[0m | \u001b[0m 0.6282  \u001b[0m | \u001b[0m 2.534   \u001b[0m | \u001b[0m 1.899   \u001b[0m | \u001b[0m 0.0483  \u001b[0m |\n",
      "| \u001b[0m 73      \u001b[0m | \u001b[0m 290.5   \u001b[0m | \u001b[0m 0.9509  \u001b[0m | \u001b[0m 0.7544  \u001b[0m | \u001b[0m 0.8791  \u001b[0m | \u001b[0m 1.954   \u001b[0m | \u001b[0m 0.08164 \u001b[0m |\n",
      "| \u001b[0m 74      \u001b[0m | \u001b[0m 290.5   \u001b[0m | \u001b[0m 0.3241  \u001b[0m | \u001b[0m 0.7589  \u001b[0m | \u001b[0m 1.594   \u001b[0m | \u001b[0m 1.149   \u001b[0m | \u001b[0m 0.02788 \u001b[0m |\n",
      "| \u001b[0m 75      \u001b[0m | \u001b[0m 243.0   \u001b[0m | \u001b[0m 0.5293  \u001b[0m | \u001b[0m 0.5685  \u001b[0m | \u001b[0m 1.199   \u001b[0m | \u001b[0m 0.04264 \u001b[0m | \u001b[0m 0.008818\u001b[0m |\n",
      "| \u001b[0m 76      \u001b[0m | \u001b[0m 255.5   \u001b[0m | \u001b[0m 0.7532  \u001b[0m | \u001b[0m 0.274   \u001b[0m | \u001b[0m 1.816   \u001b[0m | \u001b[0m 1.602   \u001b[0m | \u001b[0m 0.007338\u001b[0m |\n",
      "| \u001b[0m 77      \u001b[0m | \u001b[0m 290.5   \u001b[0m | \u001b[0m 0.4172  \u001b[0m | \u001b[0m 0.05366 \u001b[0m | \u001b[0m 2.889   \u001b[0m | \u001b[0m 0.8389  \u001b[0m | \u001b[0m 0.07926 \u001b[0m |\n",
      "| \u001b[0m 78      \u001b[0m | \u001b[0m 230.5   \u001b[0m | \u001b[0m 0.7194  \u001b[0m | \u001b[0m 0.9006  \u001b[0m | \u001b[0m 1.485   \u001b[0m | \u001b[0m 0.8284  \u001b[0m | \u001b[0m 0.05561 \u001b[0m |\n",
      "| \u001b[0m 79      \u001b[0m | \u001b[0m 290.5   \u001b[0m | \u001b[0m 0.3331  \u001b[0m | \u001b[0m 0.6955  \u001b[0m | \u001b[0m 0.3536  \u001b[0m | \u001b[0m 0.3571  \u001b[0m | \u001b[0m 0.001816\u001b[0m |\n",
      "| \u001b[0m 80      \u001b[0m | \u001b[0m 290.5   \u001b[0m | \u001b[0m 0.6124  \u001b[0m | \u001b[0m 0.6823  \u001b[0m | \u001b[0m 2.857   \u001b[0m | \u001b[0m 1.077   \u001b[0m | \u001b[0m 0.06702 \u001b[0m |\n",
      "| \u001b[0m 81      \u001b[0m | \u001b[0m 290.5   \u001b[0m | \u001b[0m 0.4335  \u001b[0m | \u001b[0m 0.6471  \u001b[0m | \u001b[0m 0.7213  \u001b[0m | \u001b[0m 2.824   \u001b[0m | \u001b[0m 0.009265\u001b[0m |\n",
      "| \u001b[0m 82      \u001b[0m | \u001b[0m 218.0   \u001b[0m | \u001b[0m 0.8857  \u001b[0m | \u001b[0m 0.3716  \u001b[0m | \u001b[0m 1.228   \u001b[0m | \u001b[0m 0.4159  \u001b[0m | \u001b[0m 0.08075 \u001b[0m |\n",
      "| \u001b[0m 83      \u001b[0m | \u001b[0m 290.5   \u001b[0m | \u001b[0m 0.06465 \u001b[0m | \u001b[0m 0.4492  \u001b[0m | \u001b[0m 2.32    \u001b[0m | \u001b[0m 1.233   \u001b[0m | \u001b[0m 0.007632\u001b[0m |\n",
      "| \u001b[0m 84      \u001b[0m | \u001b[0m 290.5   \u001b[0m | \u001b[0m 0.4333  \u001b[0m | \u001b[0m 0.1317  \u001b[0m | \u001b[0m 2.395   \u001b[0m | \u001b[0m 1.366   \u001b[0m | \u001b[0m 0.01624 \u001b[0m |\n",
      "| \u001b[0m 85      \u001b[0m | \u001b[0m 290.5   \u001b[0m | \u001b[0m 0.9199  \u001b[0m | \u001b[0m 0.9954  \u001b[0m | \u001b[0m 1.717   \u001b[0m | \u001b[0m 1.446   \u001b[0m | \u001b[0m 0.08343 \u001b[0m |\n",
      "| \u001b[0m 86      \u001b[0m | \u001b[0m 290.5   \u001b[0m | \u001b[0m 0.7203  \u001b[0m | \u001b[0m 0.578   \u001b[0m | \u001b[0m 2.651   \u001b[0m | \u001b[0m 0.1701  \u001b[0m | \u001b[0m 0.0407  \u001b[0m |\n",
      "| \u001b[0m 87      \u001b[0m | \u001b[0m 290.5   \u001b[0m | \u001b[0m 0.03448 \u001b[0m | \u001b[0m 0.5745  \u001b[0m | \u001b[0m 2.293   \u001b[0m | \u001b[0m 0.9431  \u001b[0m | \u001b[0m 0.01846 \u001b[0m |\n",
      "| \u001b[0m 88      \u001b[0m | \u001b[0m 290.5   \u001b[0m | \u001b[0m 0.4752  \u001b[0m | \u001b[0m 0.7162  \u001b[0m | \u001b[0m 1.068   \u001b[0m | \u001b[0m 2.008   \u001b[0m | \u001b[0m 0.06807 \u001b[0m |\n",
      "| \u001b[0m 89      \u001b[0m | \u001b[0m 290.5   \u001b[0m | \u001b[0m 0.1456  \u001b[0m | \u001b[0m 0.177   \u001b[0m | \u001b[0m 2.464   \u001b[0m | \u001b[0m 1.684   \u001b[0m | \u001b[0m 0.06217 \u001b[0m |\n",
      "| \u001b[0m 90      \u001b[0m | \u001b[0m 290.5   \u001b[0m | \u001b[0m 0.8004  \u001b[0m | \u001b[0m 0.5657  \u001b[0m | \u001b[0m 0.2266  \u001b[0m | \u001b[0m 1.751   \u001b[0m | \u001b[0m 0.04191 \u001b[0m |\n",
      "| \u001b[0m 91      \u001b[0m | \u001b[0m 289.5   \u001b[0m | \u001b[0m 0.5537  \u001b[0m | \u001b[0m 0.1614  \u001b[0m | \u001b[0m 2.67    \u001b[0m | \u001b[0m 2.261   \u001b[0m | \u001b[0m 0.05516 \u001b[0m |\n",
      "| \u001b[0m 92      \u001b[0m | \u001b[0m 290.5   \u001b[0m | \u001b[0m 0.524   \u001b[0m | \u001b[0m 0.9729  \u001b[0m | \u001b[0m 2.197   \u001b[0m | \u001b[0m 0.4341  \u001b[0m | \u001b[0m 0.09636 \u001b[0m |\n",
      "| \u001b[0m 93      \u001b[0m | \u001b[0m 290.5   \u001b[0m | \u001b[0m 0.6416  \u001b[0m | \u001b[0m 0.2216  \u001b[0m | \u001b[0m 0.2052  \u001b[0m | \u001b[0m 0.000529\u001b[0m | \u001b[0m 0.002023\u001b[0m |\n",
      "| \u001b[0m 94      \u001b[0m | \u001b[0m 290.5   \u001b[0m | \u001b[0m 0.894   \u001b[0m | \u001b[0m 0.9404  \u001b[0m | \u001b[0m 2.433   \u001b[0m | \u001b[0m 1.283   \u001b[0m | \u001b[0m 0.03264 \u001b[0m |\n",
      "| \u001b[0m 95      \u001b[0m | \u001b[0m 290.5   \u001b[0m | \u001b[0m 0.7259  \u001b[0m | \u001b[0m 0.9531  \u001b[0m | \u001b[0m 1.632   \u001b[0m | \u001b[0m 2.314   \u001b[0m | \u001b[0m 0.09157 \u001b[0m |\n",
      "| \u001b[0m 96      \u001b[0m | \u001b[0m 290.5   \u001b[0m | \u001b[0m 0.7659  \u001b[0m | \u001b[0m 0.8777  \u001b[0m | \u001b[0m 2.652   \u001b[0m | \u001b[0m 2.413   \u001b[0m | \u001b[0m 0.07136 \u001b[0m |\n",
      "| \u001b[0m 97      \u001b[0m | \u001b[0m 283.0   \u001b[0m | \u001b[0m 0.915   \u001b[0m | \u001b[0m 0.3332  \u001b[0m | \u001b[0m 1.57    \u001b[0m | \u001b[0m 1.965   \u001b[0m | \u001b[0m 0.01689 \u001b[0m |\n",
      "| \u001b[0m 98      \u001b[0m | \u001b[0m 268.0   \u001b[0m | \u001b[0m 0.2423  \u001b[0m | \u001b[0m 0.5047  \u001b[0m | \u001b[0m 1.479   \u001b[0m | \u001b[0m 0.4505  \u001b[0m | \u001b[0m 0.04001 \u001b[0m |\n",
      "| \u001b[0m 99      \u001b[0m | \u001b[0m 290.5   \u001b[0m | \u001b[0m 0.6926  \u001b[0m | \u001b[0m 0.4425  \u001b[0m | \u001b[0m 0.05789 \u001b[0m | \u001b[0m 2.716   \u001b[0m | \u001b[0m 0.09811 \u001b[0m |\n",
      "| \u001b[0m 100     \u001b[0m | \u001b[0m 290.5   \u001b[0m | \u001b[0m 0.3861  \u001b[0m | \u001b[0m 0.101   \u001b[0m | \u001b[0m 2.326   \u001b[0m | \u001b[0m 0.7574  \u001b[0m | \u001b[0m 0.00476 \u001b[0m |\n",
      "| \u001b[0m 101     \u001b[0m | \u001b[0m 290.5   \u001b[0m | \u001b[0m 0.9121  \u001b[0m | \u001b[0m 0.09893 \u001b[0m | \u001b[0m 2.164   \u001b[0m | \u001b[0m 1.601   \u001b[0m | \u001b[0m 0.06148 \u001b[0m |\n",
      "| \u001b[0m 102     \u001b[0m | \u001b[0m 290.5   \u001b[0m | \u001b[0m 0.8608  \u001b[0m | \u001b[0m 0.4324  \u001b[0m | \u001b[0m 0.7667  \u001b[0m | \u001b[0m 0.7041  \u001b[0m | \u001b[0m 0.09075 \u001b[0m |\n",
      "| \u001b[0m 103     \u001b[0m | \u001b[0m 290.5   \u001b[0m | \u001b[0m 0.3539  \u001b[0m | \u001b[0m 0.5759  \u001b[0m | \u001b[0m 1.893   \u001b[0m | \u001b[0m 1.293   \u001b[0m | \u001b[0m 0.03393 \u001b[0m |\n",
      "| \u001b[0m 104     \u001b[0m | \u001b[0m 290.5   \u001b[0m | \u001b[0m 1.0     \u001b[0m | \u001b[0m 0.5282  \u001b[0m | \u001b[0m 0.8508  \u001b[0m | \u001b[0m 0.85    \u001b[0m | \u001b[0m 0.05744 \u001b[0m |\n",
      "| \u001b[0m 105     \u001b[0m | \u001b[0m 290.5   \u001b[0m | \u001b[0m 1.0     \u001b[0m | \u001b[0m 0.5853  \u001b[0m | \u001b[0m 1.443   \u001b[0m | \u001b[0m 1.203   \u001b[0m | \u001b[0m 0.06699 \u001b[0m |\n",
      "| \u001b[0m 106     \u001b[0m | \u001b[0m 290.5   \u001b[0m | \u001b[0m 0.7618  \u001b[0m | \u001b[0m 0.3911  \u001b[0m | \u001b[0m 0.8189  \u001b[0m | \u001b[0m 0.6211  \u001b[0m | \u001b[0m 0.1     \u001b[0m |\n",
      "| \u001b[0m 107     \u001b[0m | \u001b[0m 290.5   \u001b[0m | \u001b[0m 0.1566  \u001b[0m | \u001b[0m 0.6624  \u001b[0m | \u001b[0m 1.064   \u001b[0m | \u001b[0m 1.158   \u001b[0m | \u001b[0m 0.06106 \u001b[0m |\n",
      "| \u001b[0m 108     \u001b[0m | \u001b[0m 290.5   \u001b[0m | \u001b[0m 0.9121  \u001b[0m | \u001b[0m 0.07338 \u001b[0m | \u001b[0m 2.075   \u001b[0m | \u001b[0m 1.571   \u001b[0m | \u001b[0m 0.05093 \u001b[0m |\n",
      "| \u001b[0m 109     \u001b[0m | \u001b[0m 290.5   \u001b[0m | \u001b[0m 0.8053  \u001b[0m | \u001b[0m 0.1484  \u001b[0m | \u001b[0m 2.137   \u001b[0m | \u001b[0m 1.564   \u001b[0m | \u001b[0m 0.05352 \u001b[0m |\n",
      "| \u001b[0m 110     \u001b[0m | \u001b[0m 290.5   \u001b[0m | \u001b[0m 0.2456  \u001b[0m | \u001b[0m 0.7388  \u001b[0m | \u001b[0m 1.609   \u001b[0m | \u001b[0m 1.248   \u001b[0m | \u001b[0m 0.02667 \u001b[0m |\n",
      "| \u001b[0m 111     \u001b[0m | \u001b[0m 290.5   \u001b[0m | \u001b[0m 0.8767  \u001b[0m | \u001b[0m 0.4364  \u001b[0m | \u001b[0m 0.872   \u001b[0m | \u001b[0m 0.6788  \u001b[0m | \u001b[0m 0.1     \u001b[0m |\n",
      "| \u001b[0m 112     \u001b[0m | \u001b[0m 290.5   \u001b[0m | \u001b[0m 0.3185  \u001b[0m | \u001b[0m 0.7327  \u001b[0m | \u001b[0m 0.8018  \u001b[0m | \u001b[0m 1.64    \u001b[0m | \u001b[0m 0.06173 \u001b[0m |\n",
      "| \u001b[0m 113     \u001b[0m | \u001b[0m 290.5   \u001b[0m | \u001b[0m 0.5882  \u001b[0m | \u001b[0m 0.1752  \u001b[0m | \u001b[0m 0.619   \u001b[0m | \u001b[0m 0.1433  \u001b[0m | \u001b[0m 0.005772\u001b[0m |\n",
      "| \u001b[0m 114     \u001b[0m | \u001b[0m 290.5   \u001b[0m | \u001b[0m 0.2131  \u001b[0m | \u001b[0m 0.3563  \u001b[0m | \u001b[0m 0.654   \u001b[0m | \u001b[0m 0.9322  \u001b[0m | \u001b[0m 0.07401 \u001b[0m |\n",
      "| \u001b[0m 115     \u001b[0m | \u001b[0m 290.5   \u001b[0m | \u001b[0m 0.4257  \u001b[0m | \u001b[0m 0.4234  \u001b[0m | \u001b[0m 0.7902  \u001b[0m | \u001b[0m 2.326   \u001b[0m | \u001b[0m 0.02236 \u001b[0m |\n",
      "| \u001b[0m 116     \u001b[0m | \u001b[0m 290.5   \u001b[0m | \u001b[0m 0.38    \u001b[0m | \u001b[0m 0.1778  \u001b[0m | \u001b[0m 2.498   \u001b[0m | \u001b[0m 0.6605  \u001b[0m | \u001b[0m 0.02735 \u001b[0m |\n",
      "| \u001b[0m 117     \u001b[0m | \u001b[0m 290.5   \u001b[0m | \u001b[0m 0.4579  \u001b[0m | \u001b[0m 0.5321  \u001b[0m | \u001b[0m 1.906   \u001b[0m | \u001b[0m 1.314   \u001b[0m | \u001b[0m 0.01989 \u001b[0m |\n",
      "| \u001b[0m 118     \u001b[0m | \u001b[0m 290.5   \u001b[0m | \u001b[0m 0.4198  \u001b[0m | \u001b[0m 0.1918  \u001b[0m | \u001b[0m 2.579   \u001b[0m | \u001b[0m 1.599   \u001b[0m | \u001b[0m 0.04    \u001b[0m |\n",
      "| \u001b[0m 119     \u001b[0m | \u001b[0m 290.5   \u001b[0m | \u001b[0m 0.375   \u001b[0m | \u001b[0m 0.4757  \u001b[0m | \u001b[0m 1.842   \u001b[0m | \u001b[0m 1.278   \u001b[0m | \u001b[0m 0.03943 \u001b[0m |\n",
      "| \u001b[0m 120     \u001b[0m | \u001b[0m 290.5   \u001b[0m | \u001b[0m 1.0     \u001b[0m | \u001b[0m 0.545   \u001b[0m | \u001b[0m 1.427   \u001b[0m | \u001b[0m 1.138   \u001b[0m | \u001b[0m 0.0627  \u001b[0m |\n",
      "| \u001b[0m 121     \u001b[0m | \u001b[0m 290.5   \u001b[0m | \u001b[0m 0.1567  \u001b[0m | \u001b[0m 0.7804  \u001b[0m | \u001b[0m 2.652   \u001b[0m | \u001b[0m 0.9441  \u001b[0m | \u001b[0m 0.05041 \u001b[0m |\n",
      "| \u001b[0m 122     \u001b[0m | \u001b[0m 290.5   \u001b[0m | \u001b[0m 0.4277  \u001b[0m | \u001b[0m 0.7895  \u001b[0m | \u001b[0m 0.9206  \u001b[0m | \u001b[0m 1.917   \u001b[0m | \u001b[0m 0.06846 \u001b[0m |\n",
      "| \u001b[0m 123     \u001b[0m | \u001b[0m 290.5   \u001b[0m | \u001b[0m 0.8682  \u001b[0m | \u001b[0m 0.1314  \u001b[0m | \u001b[0m 2.072   \u001b[0m | \u001b[0m 1.588   \u001b[0m | \u001b[0m 0.05323 \u001b[0m |\n",
      "| \u001b[0m 124     \u001b[0m | \u001b[0m 290.5   \u001b[0m | \u001b[0m 0.8399  \u001b[0m | \u001b[0m 0.06584 \u001b[0m | \u001b[0m 2.136   \u001b[0m | \u001b[0m 1.522   \u001b[0m | \u001b[0m 0.03544 \u001b[0m |\n",
      "| \u001b[0m 125     \u001b[0m | \u001b[0m 290.5   \u001b[0m | \u001b[0m 0.124   \u001b[0m | \u001b[0m 0.6418  \u001b[0m | \u001b[0m 0.7302  \u001b[0m | \u001b[0m 0.8592  \u001b[0m | \u001b[0m 0.07612 \u001b[0m |\n",
      "| \u001b[0m 126     \u001b[0m | \u001b[0m 290.5   \u001b[0m | \u001b[0m 0.6325  \u001b[0m | \u001b[0m 0.9056  \u001b[0m | \u001b[0m 2.37    \u001b[0m | \u001b[0m 0.3302  \u001b[0m | \u001b[0m 0.05654 \u001b[0m |\n",
      "| \u001b[0m 127     \u001b[0m | \u001b[0m 290.5   \u001b[0m | \u001b[0m 0.1594  \u001b[0m | \u001b[0m 0.6377  \u001b[0m | \u001b[0m 2.353   \u001b[0m | \u001b[0m 1.139   \u001b[0m | \u001b[0m 0.04384 \u001b[0m |\n",
      "| \u001b[0m 128     \u001b[0m | \u001b[0m 290.5   \u001b[0m | \u001b[0m 0.2694  \u001b[0m | \u001b[0m 0.6808  \u001b[0m | \u001b[0m 0.7706  \u001b[0m | \u001b[0m 1.418   \u001b[0m | \u001b[0m 0.05385 \u001b[0m |\n",
      "| \u001b[0m 129     \u001b[0m | \u001b[0m 290.5   \u001b[0m | \u001b[0m 0.6282  \u001b[0m | \u001b[0m 0.1449  \u001b[0m | \u001b[0m 2.455   \u001b[0m | \u001b[0m 1.524   \u001b[0m | \u001b[0m 0.05421 \u001b[0m |\n",
      "| \u001b[0m 130     \u001b[0m | \u001b[0m 290.5   \u001b[0m | \u001b[0m 0.6635  \u001b[0m | \u001b[0m 0.7259  \u001b[0m | \u001b[0m 0.9512  \u001b[0m | \u001b[0m 2.12    \u001b[0m | \u001b[0m 0.05453 \u001b[0m |\n",
      "| \u001b[0m 131     \u001b[0m | \u001b[0m 290.5   \u001b[0m | \u001b[0m 0.19    \u001b[0m | \u001b[0m 0.4687  \u001b[0m | \u001b[0m 2.292   \u001b[0m | \u001b[0m 1.418   \u001b[0m | \u001b[0m 0.0327  \u001b[0m |\n",
      "| \u001b[0m 132     \u001b[0m | \u001b[0m 290.5   \u001b[0m | \u001b[0m 1.0     \u001b[0m | \u001b[0m 0.6157  \u001b[0m | \u001b[0m 1.397   \u001b[0m | \u001b[0m 1.156   \u001b[0m | \u001b[0m 0.08073 \u001b[0m |\n",
      "| \u001b[0m 133     \u001b[0m | \u001b[0m 290.5   \u001b[0m | \u001b[0m 0.331   \u001b[0m | \u001b[0m 0.7462  \u001b[0m | \u001b[0m 1.719   \u001b[0m | \u001b[0m 1.233   \u001b[0m | \u001b[0m 0.02316 \u001b[0m |\n",
      "| \u001b[0m 134     \u001b[0m | \u001b[0m 290.5   \u001b[0m | \u001b[0m 0.6808  \u001b[0m | \u001b[0m 0.6779  \u001b[0m | \u001b[0m 2.605   \u001b[0m | \u001b[0m 0.3474  \u001b[0m | \u001b[0m 0.03447 \u001b[0m |\n",
      "| \u001b[0m 135     \u001b[0m | \u001b[0m 290.5   \u001b[0m | \u001b[0m 0.179   \u001b[0m | \u001b[0m 0.677   \u001b[0m | \u001b[0m 1.208   \u001b[0m | \u001b[0m 1.147   \u001b[0m | \u001b[0m 0.05618 \u001b[0m |\n",
      "| \u001b[0m 136     \u001b[0m | \u001b[0m 290.5   \u001b[0m | \u001b[0m 0.4627  \u001b[0m | \u001b[0m 0.231   \u001b[0m | \u001b[0m 2.7     \u001b[0m | \u001b[0m 1.812   \u001b[0m | \u001b[0m 0.0471  \u001b[0m |\n",
      "| \u001b[0m 137     \u001b[0m | \u001b[0m 290.5   \u001b[0m | \u001b[0m 0.7781  \u001b[0m | \u001b[0m 0.5123  \u001b[0m | \u001b[0m 2.791   \u001b[0m | \u001b[0m 1.772   \u001b[0m | \u001b[0m 0.06293 \u001b[0m |\n",
      "| \u001b[0m 138     \u001b[0m | \u001b[0m 290.5   \u001b[0m | \u001b[0m 0.8443  \u001b[0m | \u001b[0m 0.1299  \u001b[0m | \u001b[0m 2.312   \u001b[0m | \u001b[0m 1.607   \u001b[0m | \u001b[0m 0.08927 \u001b[0m |\n",
      "| \u001b[0m 139     \u001b[0m | \u001b[0m 290.5   \u001b[0m | \u001b[0m 0.735   \u001b[0m | \u001b[0m 0.2368  \u001b[0m | \u001b[0m 2.636   \u001b[0m | \u001b[0m 2.644   \u001b[0m | \u001b[0m 0.05423 \u001b[0m |\n",
      "| \u001b[0m 140     \u001b[0m | \u001b[0m 290.5   \u001b[0m | \u001b[0m 0.4818  \u001b[0m | \u001b[0m 0.195   \u001b[0m | \u001b[0m 1.832   \u001b[0m | \u001b[0m 2.187   \u001b[0m | \u001b[0m 0.04613 \u001b[0m |\n",
      "| \u001b[0m 141     \u001b[0m | \u001b[0m 290.5   \u001b[0m | \u001b[0m 0.8287  \u001b[0m | \u001b[0m 0.3718  \u001b[0m | \u001b[0m 0.8565  \u001b[0m | \u001b[0m 0.6322  \u001b[0m | \u001b[0m 0.08423 \u001b[0m |\n",
      "| \u001b[0m 142     \u001b[0m | \u001b[0m 290.5   \u001b[0m | \u001b[0m 0.5     \u001b[0m | \u001b[0m 0.8663  \u001b[0m | \u001b[0m 1.116   \u001b[0m | \u001b[0m 2.029   \u001b[0m | \u001b[0m 0.07417 \u001b[0m |\n",
      "| \u001b[0m 143     \u001b[0m | \u001b[0m 290.5   \u001b[0m | \u001b[0m 0.5707  \u001b[0m | \u001b[0m 0.2906  \u001b[0m | \u001b[0m 0.7475  \u001b[0m | \u001b[0m 2.306   \u001b[0m | \u001b[0m 0.02073 \u001b[0m |\n",
      "| \u001b[0m 144     \u001b[0m | \u001b[0m 290.5   \u001b[0m | \u001b[0m 0.4723  \u001b[0m | \u001b[0m 0.7505  \u001b[0m | \u001b[0m 0.824   \u001b[0m | \u001b[0m 1.585   \u001b[0m | \u001b[0m 0.0366  \u001b[0m |\n",
      "| \u001b[0m 145     \u001b[0m | \u001b[0m 290.5   \u001b[0m | \u001b[0m 0.391   \u001b[0m | \u001b[0m 0.7187  \u001b[0m | \u001b[0m 0.9297  \u001b[0m | \u001b[0m 2.113   \u001b[0m | \u001b[0m 0.06556 \u001b[0m |\n",
      "| \u001b[0m 146     \u001b[0m | \u001b[0m 290.5   \u001b[0m | \u001b[0m 0.5166  \u001b[0m | \u001b[0m 0.1459  \u001b[0m | \u001b[0m 2.554   \u001b[0m | \u001b[0m 1.39    \u001b[0m | \u001b[0m 0.03589 \u001b[0m |\n",
      "| \u001b[0m 147     \u001b[0m | \u001b[0m 290.5   \u001b[0m | \u001b[0m 0.2596  \u001b[0m | \u001b[0m 0.258   \u001b[0m | \u001b[0m 2.44    \u001b[0m | \u001b[0m 1.516   \u001b[0m | \u001b[0m 0.0356  \u001b[0m |\n",
      "| \u001b[0m 148     \u001b[0m | \u001b[0m 290.5   \u001b[0m | \u001b[0m 0.2458  \u001b[0m | \u001b[0m 0.6811  \u001b[0m | \u001b[0m 0.6295  \u001b[0m | \u001b[0m 2.636   \u001b[0m | \u001b[0m 0.0481  \u001b[0m |\n",
      "| \u001b[0m 149     \u001b[0m | \u001b[0m 290.5   \u001b[0m | \u001b[0m 0.8032  \u001b[0m | \u001b[0m 0.4582  \u001b[0m | \u001b[0m 0.8592  \u001b[0m | \u001b[0m 0.6151  \u001b[0m | \u001b[0m 0.1     \u001b[0m |\n",
      "| \u001b[0m 150     \u001b[0m | \u001b[0m 290.5   \u001b[0m | \u001b[0m 0.2495  \u001b[0m | \u001b[0m 0.4642  \u001b[0m | \u001b[0m 0.6524  \u001b[0m | \u001b[0m 2.443   \u001b[0m | \u001b[0m 0.02435 \u001b[0m |\n",
      "| \u001b[0m 151     \u001b[0m | \u001b[0m 290.5   \u001b[0m | \u001b[0m 0.3746  \u001b[0m | \u001b[0m 0.2513  \u001b[0m | \u001b[0m 0.5892  \u001b[0m | \u001b[0m 0.9238  \u001b[0m | \u001b[0m 0.08226 \u001b[0m |\n",
      "| \u001b[0m 152     \u001b[0m | \u001b[0m 290.5   \u001b[0m | \u001b[0m 0.2026  \u001b[0m | \u001b[0m 0.5926  \u001b[0m | \u001b[0m 0.8271  \u001b[0m | \u001b[0m 1.071   \u001b[0m | \u001b[0m 0.06707 \u001b[0m |\n",
      "| \u001b[0m 153     \u001b[0m | \u001b[0m 290.5   \u001b[0m | \u001b[0m 0.1496  \u001b[0m | \u001b[0m 0.5973  \u001b[0m | \u001b[0m 2.167   \u001b[0m | \u001b[0m 1.33    \u001b[0m | \u001b[0m 0.02675 \u001b[0m |\n",
      "| \u001b[0m 154     \u001b[0m | \u001b[0m 290.5   \u001b[0m | \u001b[0m 0.7082  \u001b[0m | \u001b[0m 0.623   \u001b[0m | \u001b[0m 0.369   \u001b[0m | \u001b[0m 1.795   \u001b[0m | \u001b[0m 0.03553 \u001b[0m |\n",
      "| \u001b[0m 155     \u001b[0m | \u001b[0m 290.5   \u001b[0m | \u001b[0m 0.363   \u001b[0m | \u001b[0m 0.8122  \u001b[0m | \u001b[0m 1.822   \u001b[0m | \u001b[0m 1.578   \u001b[0m | \u001b[0m 0.06888 \u001b[0m |\n",
      "| \u001b[0m 156     \u001b[0m | \u001b[0m 290.5   \u001b[0m | \u001b[0m 0.2403  \u001b[0m | \u001b[0m 0.5865  \u001b[0m | \u001b[0m 0.2202  \u001b[0m | \u001b[0m 0.5536  \u001b[0m | \u001b[0m 0.02117 \u001b[0m |\n",
      "| \u001b[0m 157     \u001b[0m | \u001b[0m 290.5   \u001b[0m | \u001b[0m 0.3599  \u001b[0m | \u001b[0m 0.2723  \u001b[0m | \u001b[0m 0.7452  \u001b[0m | \u001b[0m 2.313   \u001b[0m | \u001b[0m 0.008625\u001b[0m |\n",
      "| \u001b[0m 158     \u001b[0m | \u001b[0m 290.5   \u001b[0m | \u001b[0m 0.2534  \u001b[0m | \u001b[0m 0.3249  \u001b[0m | \u001b[0m 2.571   \u001b[0m | \u001b[0m 1.715   \u001b[0m | \u001b[0m 0.04467 \u001b[0m |\n",
      "| \u001b[0m 159     \u001b[0m | \u001b[0m 290.5   \u001b[0m | \u001b[0m 0.1465  \u001b[0m | \u001b[0m 0.7909  \u001b[0m | \u001b[0m 0.2888  \u001b[0m | \u001b[0m 0.8522  \u001b[0m | \u001b[0m 0.05876 \u001b[0m |\n",
      "| \u001b[0m 160     \u001b[0m | \u001b[0m 290.5   \u001b[0m | \u001b[0m 0.2152  \u001b[0m | \u001b[0m 0.7011  \u001b[0m | \u001b[0m 0.5269  \u001b[0m | \u001b[0m 1.176   \u001b[0m | \u001b[0m 0.0457  \u001b[0m |\n",
      "| \u001b[0m 161     \u001b[0m | \u001b[0m 290.5   \u001b[0m | \u001b[0m 0.7319  \u001b[0m | \u001b[0m 0.2147  \u001b[0m | \u001b[0m 2.398   \u001b[0m | \u001b[0m 2.769   \u001b[0m | \u001b[0m 0.04552 \u001b[0m |\n",
      "| \u001b[0m 162     \u001b[0m | \u001b[0m 290.5   \u001b[0m | \u001b[0m 0.5637  \u001b[0m | \u001b[0m 0.384   \u001b[0m | \u001b[0m 2.726   \u001b[0m | \u001b[0m 1.63    \u001b[0m | \u001b[0m 0.04598 \u001b[0m |\n",
      "| \u001b[0m 163     \u001b[0m | \u001b[0m 290.5   \u001b[0m | \u001b[0m 0.2399  \u001b[0m | \u001b[0m 0.7741  \u001b[0m | \u001b[0m 1.632   \u001b[0m | \u001b[0m 1.152   \u001b[0m | \u001b[0m 0.01883 \u001b[0m |\n",
      "| \u001b[0m 164     \u001b[0m | \u001b[0m 290.5   \u001b[0m | \u001b[0m 0.201   \u001b[0m | \u001b[0m 0.2018  \u001b[0m | \u001b[0m 0.61    \u001b[0m | \u001b[0m 0.8306  \u001b[0m | \u001b[0m 0.09713 \u001b[0m |\n"
     ]
    },
    {
     "ename": "KeyboardInterrupt",
     "evalue": "",
     "output_type": "error",
     "traceback": [
      "\u001b[0;31m---------------------------------------------------------------------------\u001b[0m",
      "\u001b[0;31mStopIteration\u001b[0m                             Traceback (most recent call last)",
      "\u001b[0;32m/anaconda3/lib/python3.7/site-packages/bayes_opt/bayesian_optimization.py\u001b[0m in \u001b[0;36mmaximize\u001b[0;34m(self, init_points, n_iter, acq, kappa, xi, **gp_params)\u001b[0m\n\u001b[1;32m    168\u001b[0m             \u001b[0;32mtry\u001b[0m\u001b[0;34m:\u001b[0m\u001b[0;34m\u001b[0m\u001b[0;34m\u001b[0m\u001b[0m\n\u001b[0;32m--> 169\u001b[0;31m                 \u001b[0mx_probe\u001b[0m \u001b[0;34m=\u001b[0m \u001b[0mnext\u001b[0m\u001b[0;34m(\u001b[0m\u001b[0mself\u001b[0m\u001b[0;34m.\u001b[0m\u001b[0m_queue\u001b[0m\u001b[0;34m)\u001b[0m\u001b[0;34m\u001b[0m\u001b[0;34m\u001b[0m\u001b[0m\n\u001b[0m\u001b[1;32m    170\u001b[0m             \u001b[0;32mexcept\u001b[0m \u001b[0mStopIteration\u001b[0m\u001b[0;34m:\u001b[0m\u001b[0;34m\u001b[0m\u001b[0;34m\u001b[0m\u001b[0m\n",
      "\u001b[0;32m/anaconda3/lib/python3.7/site-packages/bayes_opt/bayesian_optimization.py\u001b[0m in \u001b[0;36m__next__\u001b[0;34m(self)\u001b[0m\n\u001b[1;32m     25\u001b[0m         \u001b[0;32mif\u001b[0m \u001b[0mself\u001b[0m\u001b[0;34m.\u001b[0m\u001b[0mempty\u001b[0m\u001b[0;34m:\u001b[0m\u001b[0;34m\u001b[0m\u001b[0;34m\u001b[0m\u001b[0m\n\u001b[0;32m---> 26\u001b[0;31m             \u001b[0;32mraise\u001b[0m \u001b[0mStopIteration\u001b[0m\u001b[0;34m(\u001b[0m\u001b[0;34m\"Queue is empty, no more objects to retrieve.\"\u001b[0m\u001b[0;34m)\u001b[0m\u001b[0;34m\u001b[0m\u001b[0;34m\u001b[0m\u001b[0m\n\u001b[0m\u001b[1;32m     27\u001b[0m         \u001b[0mobj\u001b[0m \u001b[0;34m=\u001b[0m \u001b[0mself\u001b[0m\u001b[0;34m.\u001b[0m\u001b[0m_queue\u001b[0m\u001b[0;34m[\u001b[0m\u001b[0;36m0\u001b[0m\u001b[0;34m]\u001b[0m\u001b[0;34m\u001b[0m\u001b[0;34m\u001b[0m\u001b[0m\n",
      "\u001b[0;31mStopIteration\u001b[0m: Queue is empty, no more objects to retrieve.",
      "\nDuring handling of the above exception, another exception occurred:\n",
      "\u001b[0;31mKeyboardInterrupt\u001b[0m                         Traceback (most recent call last)",
      "\u001b[0;32m<ipython-input-78-d4714b5f1b40>\u001b[0m in \u001b[0;36m<module>\u001b[0;34m\u001b[0m\n\u001b[1;32m      1\u001b[0m \u001b[0moptimization_sgd\u001b[0m \u001b[0;34m=\u001b[0m \u001b[0mBayesianOptimization\u001b[0m\u001b[0;34m(\u001b[0m\u001b[0mevaluateSgd\u001b[0m\u001b[0;34m,\u001b[0m \u001b[0mparams_sgd\u001b[0m\u001b[0;34m,\u001b[0m \u001b[0mrandom_state\u001b[0m\u001b[0;34m=\u001b[0m\u001b[0;36m231\u001b[0m\u001b[0;34m)\u001b[0m\u001b[0;34m\u001b[0m\u001b[0;34m\u001b[0m\u001b[0m\n\u001b[0;32m----> 2\u001b[0;31m \u001b[0moptimization_sgd\u001b[0m\u001b[0;34m.\u001b[0m\u001b[0mmaximize\u001b[0m\u001b[0;34m(\u001b[0m\u001b[0mn_iter\u001b[0m\u001b[0;34m=\u001b[0m\u001b[0;36m1000\u001b[0m\u001b[0;34m,\u001b[0m \u001b[0minit_points\u001b[0m\u001b[0;34m=\u001b[0m\u001b[0;36m100\u001b[0m\u001b[0;34m)\u001b[0m\u001b[0;34m\u001b[0m\u001b[0;34m\u001b[0m\u001b[0m\n\u001b[0m",
      "\u001b[0;32m/anaconda3/lib/python3.7/site-packages/bayes_opt/bayesian_optimization.py\u001b[0m in \u001b[0;36mmaximize\u001b[0;34m(self, init_points, n_iter, acq, kappa, xi, **gp_params)\u001b[0m\n\u001b[1;32m    169\u001b[0m                 \u001b[0mx_probe\u001b[0m \u001b[0;34m=\u001b[0m \u001b[0mnext\u001b[0m\u001b[0;34m(\u001b[0m\u001b[0mself\u001b[0m\u001b[0;34m.\u001b[0m\u001b[0m_queue\u001b[0m\u001b[0;34m)\u001b[0m\u001b[0;34m\u001b[0m\u001b[0;34m\u001b[0m\u001b[0m\n\u001b[1;32m    170\u001b[0m             \u001b[0;32mexcept\u001b[0m \u001b[0mStopIteration\u001b[0m\u001b[0;34m:\u001b[0m\u001b[0;34m\u001b[0m\u001b[0;34m\u001b[0m\u001b[0m\n\u001b[0;32m--> 171\u001b[0;31m                 \u001b[0mx_probe\u001b[0m \u001b[0;34m=\u001b[0m \u001b[0mself\u001b[0m\u001b[0;34m.\u001b[0m\u001b[0msuggest\u001b[0m\u001b[0;34m(\u001b[0m\u001b[0mutil\u001b[0m\u001b[0;34m)\u001b[0m\u001b[0;34m\u001b[0m\u001b[0;34m\u001b[0m\u001b[0m\n\u001b[0m\u001b[1;32m    172\u001b[0m                 \u001b[0miteration\u001b[0m \u001b[0;34m+=\u001b[0m \u001b[0;36m1\u001b[0m\u001b[0;34m\u001b[0m\u001b[0;34m\u001b[0m\u001b[0m\n\u001b[1;32m    173\u001b[0m \u001b[0;34m\u001b[0m\u001b[0m\n",
      "\u001b[0;32m/anaconda3/lib/python3.7/site-packages/bayes_opt/bayesian_optimization.py\u001b[0m in \u001b[0;36msuggest\u001b[0;34m(self, utility_function)\u001b[0m\n\u001b[1;32m    130\u001b[0m             \u001b[0my_max\u001b[0m\u001b[0;34m=\u001b[0m\u001b[0mself\u001b[0m\u001b[0;34m.\u001b[0m\u001b[0m_space\u001b[0m\u001b[0;34m.\u001b[0m\u001b[0mtarget\u001b[0m\u001b[0;34m.\u001b[0m\u001b[0mmax\u001b[0m\u001b[0;34m(\u001b[0m\u001b[0;34m)\u001b[0m\u001b[0;34m,\u001b[0m\u001b[0;34m\u001b[0m\u001b[0;34m\u001b[0m\u001b[0m\n\u001b[1;32m    131\u001b[0m             \u001b[0mbounds\u001b[0m\u001b[0;34m=\u001b[0m\u001b[0mself\u001b[0m\u001b[0;34m.\u001b[0m\u001b[0m_space\u001b[0m\u001b[0;34m.\u001b[0m\u001b[0mbounds\u001b[0m\u001b[0;34m,\u001b[0m\u001b[0;34m\u001b[0m\u001b[0;34m\u001b[0m\u001b[0m\n\u001b[0;32m--> 132\u001b[0;31m             \u001b[0mrandom_state\u001b[0m\u001b[0;34m=\u001b[0m\u001b[0mself\u001b[0m\u001b[0;34m.\u001b[0m\u001b[0m_random_state\u001b[0m\u001b[0;34m\u001b[0m\u001b[0;34m\u001b[0m\u001b[0m\n\u001b[0m\u001b[1;32m    133\u001b[0m         )\n\u001b[1;32m    134\u001b[0m \u001b[0;34m\u001b[0m\u001b[0m\n",
      "\u001b[0;32m/anaconda3/lib/python3.7/site-packages/bayes_opt/util.py\u001b[0m in \u001b[0;36macq_max\u001b[0;34m(ac, gp, y_max, bounds, random_state, n_warmup, n_iter)\u001b[0m\n\u001b[1;32m     56\u001b[0m                        \u001b[0mx_try\u001b[0m\u001b[0;34m.\u001b[0m\u001b[0mreshape\u001b[0m\u001b[0;34m(\u001b[0m\u001b[0;36m1\u001b[0m\u001b[0;34m,\u001b[0m \u001b[0;34m-\u001b[0m\u001b[0;36m1\u001b[0m\u001b[0;34m)\u001b[0m\u001b[0;34m,\u001b[0m\u001b[0;34m\u001b[0m\u001b[0;34m\u001b[0m\u001b[0m\n\u001b[1;32m     57\u001b[0m                        \u001b[0mbounds\u001b[0m\u001b[0;34m=\u001b[0m\u001b[0mbounds\u001b[0m\u001b[0;34m,\u001b[0m\u001b[0;34m\u001b[0m\u001b[0;34m\u001b[0m\u001b[0m\n\u001b[0;32m---> 58\u001b[0;31m                        method=\"L-BFGS-B\")\n\u001b[0m\u001b[1;32m     59\u001b[0m \u001b[0;34m\u001b[0m\u001b[0m\n\u001b[1;32m     60\u001b[0m         \u001b[0;31m# See if success\u001b[0m\u001b[0;34m\u001b[0m\u001b[0;34m\u001b[0m\u001b[0;34m\u001b[0m\u001b[0m\n",
      "\u001b[0;32m/anaconda3/lib/python3.7/site-packages/scipy/optimize/_minimize.py\u001b[0m in \u001b[0;36mminimize\u001b[0;34m(fun, x0, args, method, jac, hess, hessp, bounds, constraints, tol, callback, options)\u001b[0m\n\u001b[1;32m    601\u001b[0m     \u001b[0;32melif\u001b[0m \u001b[0mmeth\u001b[0m \u001b[0;34m==\u001b[0m \u001b[0;34m'l-bfgs-b'\u001b[0m\u001b[0;34m:\u001b[0m\u001b[0;34m\u001b[0m\u001b[0;34m\u001b[0m\u001b[0m\n\u001b[1;32m    602\u001b[0m         return _minimize_lbfgsb(fun, x0, args, jac, bounds,\n\u001b[0;32m--> 603\u001b[0;31m                                 callback=callback, **options)\n\u001b[0m\u001b[1;32m    604\u001b[0m     \u001b[0;32melif\u001b[0m \u001b[0mmeth\u001b[0m \u001b[0;34m==\u001b[0m \u001b[0;34m'tnc'\u001b[0m\u001b[0;34m:\u001b[0m\u001b[0;34m\u001b[0m\u001b[0;34m\u001b[0m\u001b[0m\n\u001b[1;32m    605\u001b[0m         return _minimize_tnc(fun, x0, args, jac, bounds, callback=callback,\n",
      "\u001b[0;32m/anaconda3/lib/python3.7/site-packages/scipy/optimize/lbfgsb.py\u001b[0m in \u001b[0;36m_minimize_lbfgsb\u001b[0;34m(fun, x0, args, jac, bounds, disp, maxcor, ftol, gtol, eps, maxfun, maxiter, iprint, callback, maxls, **unknown_options)\u001b[0m\n\u001b[1;32m    333\u001b[0m             \u001b[0;31m# until the completion of the current minimization iteration.\u001b[0m\u001b[0;34m\u001b[0m\u001b[0;34m\u001b[0m\u001b[0;34m\u001b[0m\u001b[0m\n\u001b[1;32m    334\u001b[0m             \u001b[0;31m# Overwrite f and g:\u001b[0m\u001b[0;34m\u001b[0m\u001b[0;34m\u001b[0m\u001b[0;34m\u001b[0m\u001b[0m\n\u001b[0;32m--> 335\u001b[0;31m             \u001b[0mf\u001b[0m\u001b[0;34m,\u001b[0m \u001b[0mg\u001b[0m \u001b[0;34m=\u001b[0m \u001b[0mfunc_and_grad\u001b[0m\u001b[0;34m(\u001b[0m\u001b[0mx\u001b[0m\u001b[0;34m)\u001b[0m\u001b[0;34m\u001b[0m\u001b[0;34m\u001b[0m\u001b[0m\n\u001b[0m\u001b[1;32m    336\u001b[0m         \u001b[0;32melif\u001b[0m \u001b[0mtask_str\u001b[0m\u001b[0;34m.\u001b[0m\u001b[0mstartswith\u001b[0m\u001b[0;34m(\u001b[0m\u001b[0;34mb'NEW_X'\u001b[0m\u001b[0;34m)\u001b[0m\u001b[0;34m:\u001b[0m\u001b[0;34m\u001b[0m\u001b[0;34m\u001b[0m\u001b[0m\n\u001b[1;32m    337\u001b[0m             \u001b[0;31m# new iteration\u001b[0m\u001b[0;34m\u001b[0m\u001b[0;34m\u001b[0m\u001b[0;34m\u001b[0m\u001b[0m\n",
      "\u001b[0;32m/anaconda3/lib/python3.7/site-packages/scipy/optimize/lbfgsb.py\u001b[0m in \u001b[0;36mfunc_and_grad\u001b[0;34m(x)\u001b[0m\n\u001b[1;32m    279\u001b[0m         \u001b[0;32mdef\u001b[0m \u001b[0mfunc_and_grad\u001b[0m\u001b[0;34m(\u001b[0m\u001b[0mx\u001b[0m\u001b[0;34m)\u001b[0m\u001b[0;34m:\u001b[0m\u001b[0;34m\u001b[0m\u001b[0;34m\u001b[0m\u001b[0m\n\u001b[1;32m    280\u001b[0m             \u001b[0mf\u001b[0m \u001b[0;34m=\u001b[0m \u001b[0mfun\u001b[0m\u001b[0;34m(\u001b[0m\u001b[0mx\u001b[0m\u001b[0;34m,\u001b[0m \u001b[0;34m*\u001b[0m\u001b[0margs\u001b[0m\u001b[0;34m)\u001b[0m\u001b[0;34m\u001b[0m\u001b[0;34m\u001b[0m\u001b[0m\n\u001b[0;32m--> 281\u001b[0;31m             \u001b[0mg\u001b[0m \u001b[0;34m=\u001b[0m \u001b[0m_approx_fprime_helper\u001b[0m\u001b[0;34m(\u001b[0m\u001b[0mx\u001b[0m\u001b[0;34m,\u001b[0m \u001b[0mfun\u001b[0m\u001b[0;34m,\u001b[0m \u001b[0mepsilon\u001b[0m\u001b[0;34m,\u001b[0m \u001b[0margs\u001b[0m\u001b[0;34m=\u001b[0m\u001b[0margs\u001b[0m\u001b[0;34m,\u001b[0m \u001b[0mf0\u001b[0m\u001b[0;34m=\u001b[0m\u001b[0mf\u001b[0m\u001b[0;34m)\u001b[0m\u001b[0;34m\u001b[0m\u001b[0;34m\u001b[0m\u001b[0m\n\u001b[0m\u001b[1;32m    282\u001b[0m             \u001b[0;32mreturn\u001b[0m \u001b[0mf\u001b[0m\u001b[0;34m,\u001b[0m \u001b[0mg\u001b[0m\u001b[0;34m\u001b[0m\u001b[0;34m\u001b[0m\u001b[0m\n\u001b[1;32m    283\u001b[0m     \u001b[0;32melse\u001b[0m\u001b[0;34m:\u001b[0m\u001b[0;34m\u001b[0m\u001b[0;34m\u001b[0m\u001b[0m\n",
      "\u001b[0;32m/anaconda3/lib/python3.7/site-packages/scipy/optimize/optimize.py\u001b[0m in \u001b[0;36m_approx_fprime_helper\u001b[0;34m(xk, f, epsilon, args, f0)\u001b[0m\n\u001b[1;32m    661\u001b[0m         \u001b[0mei\u001b[0m\u001b[0;34m[\u001b[0m\u001b[0mk\u001b[0m\u001b[0;34m]\u001b[0m \u001b[0;34m=\u001b[0m \u001b[0;36m1.0\u001b[0m\u001b[0;34m\u001b[0m\u001b[0;34m\u001b[0m\u001b[0m\n\u001b[1;32m    662\u001b[0m         \u001b[0md\u001b[0m \u001b[0;34m=\u001b[0m \u001b[0mepsilon\u001b[0m \u001b[0;34m*\u001b[0m \u001b[0mei\u001b[0m\u001b[0;34m\u001b[0m\u001b[0;34m\u001b[0m\u001b[0m\n\u001b[0;32m--> 663\u001b[0;31m         \u001b[0mgrad\u001b[0m\u001b[0;34m[\u001b[0m\u001b[0mk\u001b[0m\u001b[0;34m]\u001b[0m \u001b[0;34m=\u001b[0m \u001b[0;34m(\u001b[0m\u001b[0mf\u001b[0m\u001b[0;34m(\u001b[0m\u001b[0;34m*\u001b[0m\u001b[0;34m(\u001b[0m\u001b[0;34m(\u001b[0m\u001b[0mxk\u001b[0m \u001b[0;34m+\u001b[0m \u001b[0md\u001b[0m\u001b[0;34m,\u001b[0m\u001b[0;34m)\u001b[0m \u001b[0;34m+\u001b[0m \u001b[0margs\u001b[0m\u001b[0;34m)\u001b[0m\u001b[0;34m)\u001b[0m \u001b[0;34m-\u001b[0m \u001b[0mf0\u001b[0m\u001b[0;34m)\u001b[0m \u001b[0;34m/\u001b[0m \u001b[0md\u001b[0m\u001b[0;34m[\u001b[0m\u001b[0mk\u001b[0m\u001b[0;34m]\u001b[0m\u001b[0;34m\u001b[0m\u001b[0;34m\u001b[0m\u001b[0m\n\u001b[0m\u001b[1;32m    664\u001b[0m         \u001b[0mei\u001b[0m\u001b[0;34m[\u001b[0m\u001b[0mk\u001b[0m\u001b[0;34m]\u001b[0m \u001b[0;34m=\u001b[0m \u001b[0;36m0.0\u001b[0m\u001b[0;34m\u001b[0m\u001b[0;34m\u001b[0m\u001b[0m\n\u001b[1;32m    665\u001b[0m     \u001b[0;32mreturn\u001b[0m \u001b[0mgrad\u001b[0m\u001b[0;34m\u001b[0m\u001b[0;34m\u001b[0m\u001b[0m\n",
      "\u001b[0;32m/anaconda3/lib/python3.7/site-packages/scipy/optimize/optimize.py\u001b[0m in \u001b[0;36mfunction_wrapper\u001b[0;34m(*wrapper_args)\u001b[0m\n\u001b[1;32m    291\u001b[0m     \u001b[0;32mdef\u001b[0m \u001b[0mfunction_wrapper\u001b[0m\u001b[0;34m(\u001b[0m\u001b[0;34m*\u001b[0m\u001b[0mwrapper_args\u001b[0m\u001b[0;34m)\u001b[0m\u001b[0;34m:\u001b[0m\u001b[0;34m\u001b[0m\u001b[0;34m\u001b[0m\u001b[0m\n\u001b[1;32m    292\u001b[0m         \u001b[0mncalls\u001b[0m\u001b[0;34m[\u001b[0m\u001b[0;36m0\u001b[0m\u001b[0;34m]\u001b[0m \u001b[0;34m+=\u001b[0m \u001b[0;36m1\u001b[0m\u001b[0;34m\u001b[0m\u001b[0;34m\u001b[0m\u001b[0m\n\u001b[0;32m--> 293\u001b[0;31m         \u001b[0;32mreturn\u001b[0m \u001b[0mfunction\u001b[0m\u001b[0;34m(\u001b[0m\u001b[0;34m*\u001b[0m\u001b[0;34m(\u001b[0m\u001b[0mwrapper_args\u001b[0m \u001b[0;34m+\u001b[0m \u001b[0margs\u001b[0m\u001b[0;34m)\u001b[0m\u001b[0;34m)\u001b[0m\u001b[0;34m\u001b[0m\u001b[0;34m\u001b[0m\u001b[0m\n\u001b[0m\u001b[1;32m    294\u001b[0m \u001b[0;34m\u001b[0m\u001b[0m\n\u001b[1;32m    295\u001b[0m     \u001b[0;32mreturn\u001b[0m \u001b[0mncalls\u001b[0m\u001b[0;34m,\u001b[0m \u001b[0mfunction_wrapper\u001b[0m\u001b[0;34m\u001b[0m\u001b[0;34m\u001b[0m\u001b[0m\n",
      "\u001b[0;32m/anaconda3/lib/python3.7/site-packages/bayes_opt/util.py\u001b[0m in \u001b[0;36m<lambda>\u001b[0;34m(x)\u001b[0m\n\u001b[1;32m     53\u001b[0m     \u001b[0;32mfor\u001b[0m \u001b[0mx_try\u001b[0m \u001b[0;32min\u001b[0m \u001b[0mx_seeds\u001b[0m\u001b[0;34m:\u001b[0m\u001b[0;34m\u001b[0m\u001b[0;34m\u001b[0m\u001b[0m\n\u001b[1;32m     54\u001b[0m         \u001b[0;31m# Find the minimum of minus the acquisition function\u001b[0m\u001b[0;34m\u001b[0m\u001b[0;34m\u001b[0m\u001b[0;34m\u001b[0m\u001b[0m\n\u001b[0;32m---> 55\u001b[0;31m         res = minimize(lambda x: -ac(x.reshape(1, -1), gp=gp, y_max=y_max),\n\u001b[0m\u001b[1;32m     56\u001b[0m                        \u001b[0mx_try\u001b[0m\u001b[0;34m.\u001b[0m\u001b[0mreshape\u001b[0m\u001b[0;34m(\u001b[0m\u001b[0;36m1\u001b[0m\u001b[0;34m,\u001b[0m \u001b[0;34m-\u001b[0m\u001b[0;36m1\u001b[0m\u001b[0;34m)\u001b[0m\u001b[0;34m,\u001b[0m\u001b[0;34m\u001b[0m\u001b[0;34m\u001b[0m\u001b[0m\n\u001b[1;32m     57\u001b[0m                        \u001b[0mbounds\u001b[0m\u001b[0;34m=\u001b[0m\u001b[0mbounds\u001b[0m\u001b[0;34m,\u001b[0m\u001b[0;34m\u001b[0m\u001b[0;34m\u001b[0m\u001b[0m\n",
      "\u001b[0;32m/anaconda3/lib/python3.7/site-packages/bayes_opt/util.py\u001b[0m in \u001b[0;36mutility\u001b[0;34m(self, x, gp, y_max)\u001b[0m\n\u001b[1;32m     95\u001b[0m     \u001b[0;32mdef\u001b[0m \u001b[0mutility\u001b[0m\u001b[0;34m(\u001b[0m\u001b[0mself\u001b[0m\u001b[0;34m,\u001b[0m \u001b[0mx\u001b[0m\u001b[0;34m,\u001b[0m \u001b[0mgp\u001b[0m\u001b[0;34m,\u001b[0m \u001b[0my_max\u001b[0m\u001b[0;34m)\u001b[0m\u001b[0;34m:\u001b[0m\u001b[0;34m\u001b[0m\u001b[0;34m\u001b[0m\u001b[0m\n\u001b[1;32m     96\u001b[0m         \u001b[0;32mif\u001b[0m \u001b[0mself\u001b[0m\u001b[0;34m.\u001b[0m\u001b[0mkind\u001b[0m \u001b[0;34m==\u001b[0m \u001b[0;34m'ucb'\u001b[0m\u001b[0;34m:\u001b[0m\u001b[0;34m\u001b[0m\u001b[0;34m\u001b[0m\u001b[0m\n\u001b[0;32m---> 97\u001b[0;31m             \u001b[0;32mreturn\u001b[0m \u001b[0mself\u001b[0m\u001b[0;34m.\u001b[0m\u001b[0m_ucb\u001b[0m\u001b[0;34m(\u001b[0m\u001b[0mx\u001b[0m\u001b[0;34m,\u001b[0m \u001b[0mgp\u001b[0m\u001b[0;34m,\u001b[0m \u001b[0mself\u001b[0m\u001b[0;34m.\u001b[0m\u001b[0mkappa\u001b[0m\u001b[0;34m)\u001b[0m\u001b[0;34m\u001b[0m\u001b[0;34m\u001b[0m\u001b[0m\n\u001b[0m\u001b[1;32m     98\u001b[0m         \u001b[0;32mif\u001b[0m \u001b[0mself\u001b[0m\u001b[0;34m.\u001b[0m\u001b[0mkind\u001b[0m \u001b[0;34m==\u001b[0m \u001b[0;34m'ei'\u001b[0m\u001b[0;34m:\u001b[0m\u001b[0;34m\u001b[0m\u001b[0;34m\u001b[0m\u001b[0m\n\u001b[1;32m     99\u001b[0m             \u001b[0;32mreturn\u001b[0m \u001b[0mself\u001b[0m\u001b[0;34m.\u001b[0m\u001b[0m_ei\u001b[0m\u001b[0;34m(\u001b[0m\u001b[0mx\u001b[0m\u001b[0;34m,\u001b[0m \u001b[0mgp\u001b[0m\u001b[0;34m,\u001b[0m \u001b[0my_max\u001b[0m\u001b[0;34m,\u001b[0m \u001b[0mself\u001b[0m\u001b[0;34m.\u001b[0m\u001b[0mxi\u001b[0m\u001b[0;34m)\u001b[0m\u001b[0;34m\u001b[0m\u001b[0;34m\u001b[0m\u001b[0m\n",
      "\u001b[0;32m/anaconda3/lib/python3.7/site-packages/bayes_opt/util.py\u001b[0m in \u001b[0;36m_ucb\u001b[0;34m(x, gp, kappa)\u001b[0m\n\u001b[1;32m    105\u001b[0m         \u001b[0;32mwith\u001b[0m \u001b[0mwarnings\u001b[0m\u001b[0;34m.\u001b[0m\u001b[0mcatch_warnings\u001b[0m\u001b[0;34m(\u001b[0m\u001b[0;34m)\u001b[0m\u001b[0;34m:\u001b[0m\u001b[0;34m\u001b[0m\u001b[0;34m\u001b[0m\u001b[0m\n\u001b[1;32m    106\u001b[0m             \u001b[0mwarnings\u001b[0m\u001b[0;34m.\u001b[0m\u001b[0msimplefilter\u001b[0m\u001b[0;34m(\u001b[0m\u001b[0;34m\"ignore\"\u001b[0m\u001b[0;34m)\u001b[0m\u001b[0;34m\u001b[0m\u001b[0;34m\u001b[0m\u001b[0m\n\u001b[0;32m--> 107\u001b[0;31m             \u001b[0mmean\u001b[0m\u001b[0;34m,\u001b[0m \u001b[0mstd\u001b[0m \u001b[0;34m=\u001b[0m \u001b[0mgp\u001b[0m\u001b[0;34m.\u001b[0m\u001b[0mpredict\u001b[0m\u001b[0;34m(\u001b[0m\u001b[0mx\u001b[0m\u001b[0;34m,\u001b[0m \u001b[0mreturn_std\u001b[0m\u001b[0;34m=\u001b[0m\u001b[0;32mTrue\u001b[0m\u001b[0;34m)\u001b[0m\u001b[0;34m\u001b[0m\u001b[0;34m\u001b[0m\u001b[0m\n\u001b[0m\u001b[1;32m    108\u001b[0m \u001b[0;34m\u001b[0m\u001b[0m\n\u001b[1;32m    109\u001b[0m         \u001b[0;32mreturn\u001b[0m \u001b[0mmean\u001b[0m \u001b[0;34m+\u001b[0m \u001b[0mkappa\u001b[0m \u001b[0;34m*\u001b[0m \u001b[0mstd\u001b[0m\u001b[0;34m\u001b[0m\u001b[0;34m\u001b[0m\u001b[0m\n",
      "\u001b[0;32m/anaconda3/lib/python3.7/site-packages/sklearn/gaussian_process/gpr.py\u001b[0m in \u001b[0;36mpredict\u001b[0;34m(self, X, return_std, return_cov)\u001b[0m\n\u001b[1;32m    330\u001b[0m                 \u001b[0;32mreturn\u001b[0m \u001b[0my_mean\u001b[0m\u001b[0;34m\u001b[0m\u001b[0;34m\u001b[0m\u001b[0m\n\u001b[1;32m    331\u001b[0m         \u001b[0;32melse\u001b[0m\u001b[0;34m:\u001b[0m  \u001b[0;31m# Predict based on GP posterior\u001b[0m\u001b[0;34m\u001b[0m\u001b[0;34m\u001b[0m\u001b[0m\n\u001b[0;32m--> 332\u001b[0;31m             \u001b[0mK_trans\u001b[0m \u001b[0;34m=\u001b[0m \u001b[0mself\u001b[0m\u001b[0;34m.\u001b[0m\u001b[0mkernel_\u001b[0m\u001b[0;34m(\u001b[0m\u001b[0mX\u001b[0m\u001b[0;34m,\u001b[0m \u001b[0mself\u001b[0m\u001b[0;34m.\u001b[0m\u001b[0mX_train_\u001b[0m\u001b[0;34m)\u001b[0m\u001b[0;34m\u001b[0m\u001b[0;34m\u001b[0m\u001b[0m\n\u001b[0m\u001b[1;32m    333\u001b[0m             \u001b[0my_mean\u001b[0m \u001b[0;34m=\u001b[0m \u001b[0mK_trans\u001b[0m\u001b[0;34m.\u001b[0m\u001b[0mdot\u001b[0m\u001b[0;34m(\u001b[0m\u001b[0mself\u001b[0m\u001b[0;34m.\u001b[0m\u001b[0malpha_\u001b[0m\u001b[0;34m)\u001b[0m  \u001b[0;31m# Line 4 (y_mean = f_star)\u001b[0m\u001b[0;34m\u001b[0m\u001b[0;34m\u001b[0m\u001b[0m\n\u001b[1;32m    334\u001b[0m             \u001b[0my_mean\u001b[0m \u001b[0;34m=\u001b[0m \u001b[0mself\u001b[0m\u001b[0;34m.\u001b[0m\u001b[0m_y_train_mean\u001b[0m \u001b[0;34m+\u001b[0m \u001b[0my_mean\u001b[0m  \u001b[0;31m# undo normal.\u001b[0m\u001b[0;34m\u001b[0m\u001b[0;34m\u001b[0m\u001b[0m\n",
      "\u001b[0;32m/anaconda3/lib/python3.7/site-packages/sklearn/gaussian_process/kernels.py\u001b[0m in \u001b[0;36m__call__\u001b[0;34m(self, X, Y, eval_gradient)\u001b[0m\n\u001b[1;32m   1337\u001b[0m                     \"Gradient can only be evaluated when Y is None.\")\n\u001b[1;32m   1338\u001b[0m             dists = cdist(X / length_scale, Y / length_scale,\n\u001b[0;32m-> 1339\u001b[0;31m                           metric='euclidean')\n\u001b[0m\u001b[1;32m   1340\u001b[0m \u001b[0;34m\u001b[0m\u001b[0m\n\u001b[1;32m   1341\u001b[0m         \u001b[0;32mif\u001b[0m \u001b[0mself\u001b[0m\u001b[0;34m.\u001b[0m\u001b[0mnu\u001b[0m \u001b[0;34m==\u001b[0m \u001b[0;36m0.5\u001b[0m\u001b[0;34m:\u001b[0m\u001b[0;34m\u001b[0m\u001b[0;34m\u001b[0m\u001b[0m\n",
      "\u001b[0;32m/anaconda3/lib/python3.7/site-packages/scipy/spatial/distance.py\u001b[0m in \u001b[0;36mcdist\u001b[0;34m(XA, XB, metric, *args, **kwargs)\u001b[0m\n\u001b[1;32m   2654\u001b[0m         \u001b[0;32mif\u001b[0m \u001b[0mmetric_name\u001b[0m \u001b[0;32mis\u001b[0m \u001b[0;32mnot\u001b[0m \u001b[0;32mNone\u001b[0m\u001b[0;34m:\u001b[0m\u001b[0;34m\u001b[0m\u001b[0;34m\u001b[0m\u001b[0m\n\u001b[1;32m   2655\u001b[0m             XA, XB, typ, kwargs = _validate_cdist_input(XA, XB, mA, mB, n,\n\u001b[0;32m-> 2656\u001b[0;31m                                                         metric_name, **kwargs)\n\u001b[0m\u001b[1;32m   2657\u001b[0m             \u001b[0;31m# get cdist wrapper\u001b[0m\u001b[0;34m\u001b[0m\u001b[0;34m\u001b[0m\u001b[0;34m\u001b[0m\u001b[0m\n\u001b[1;32m   2658\u001b[0m             cdist_fn = getattr(_distance_wrap,\n",
      "\u001b[0;32m/anaconda3/lib/python3.7/site-packages/scipy/spatial/distance.py\u001b[0m in \u001b[0;36m_validate_cdist_input\u001b[0;34m(XA, XB, mA, mB, n, metric_name, **kwargs)\u001b[0m\n\u001b[1;32m    243\u001b[0m         \u001b[0mtypes\u001b[0m \u001b[0;34m=\u001b[0m \u001b[0m_METRICS\u001b[0m\u001b[0;34m[\u001b[0m\u001b[0mmetric_name\u001b[0m\u001b[0;34m]\u001b[0m\u001b[0;34m.\u001b[0m\u001b[0mtypes\u001b[0m\u001b[0;34m\u001b[0m\u001b[0;34m\u001b[0m\u001b[0m\n\u001b[1;32m    244\u001b[0m         \u001b[0;31m# choose best type\u001b[0m\u001b[0;34m\u001b[0m\u001b[0;34m\u001b[0m\u001b[0;34m\u001b[0m\u001b[0m\n\u001b[0;32m--> 245\u001b[0;31m         \u001b[0mtyp\u001b[0m \u001b[0;34m=\u001b[0m \u001b[0mtypes\u001b[0m\u001b[0;34m[\u001b[0m\u001b[0mtypes\u001b[0m\u001b[0;34m.\u001b[0m\u001b[0mindex\u001b[0m\u001b[0;34m(\u001b[0m\u001b[0mXA\u001b[0m\u001b[0;34m.\u001b[0m\u001b[0mdtype\u001b[0m\u001b[0;34m)\u001b[0m\u001b[0;34m]\u001b[0m \u001b[0;32mif\u001b[0m \u001b[0mXA\u001b[0m\u001b[0;34m.\u001b[0m\u001b[0mdtype\u001b[0m \u001b[0;32min\u001b[0m \u001b[0mtypes\u001b[0m \u001b[0;32melse\u001b[0m \u001b[0mtypes\u001b[0m\u001b[0;34m[\u001b[0m\u001b[0;36m0\u001b[0m\u001b[0;34m]\u001b[0m\u001b[0;34m\u001b[0m\u001b[0;34m\u001b[0m\u001b[0m\n\u001b[0m\u001b[1;32m    246\u001b[0m         \u001b[0;31m# validate data\u001b[0m\u001b[0;34m\u001b[0m\u001b[0;34m\u001b[0m\u001b[0;34m\u001b[0m\u001b[0m\n\u001b[1;32m    247\u001b[0m         \u001b[0mXA\u001b[0m \u001b[0;34m=\u001b[0m \u001b[0m_convert_to_type\u001b[0m\u001b[0;34m(\u001b[0m\u001b[0mXA\u001b[0m\u001b[0;34m,\u001b[0m \u001b[0mout_type\u001b[0m\u001b[0;34m=\u001b[0m\u001b[0mtyp\u001b[0m\u001b[0;34m)\u001b[0m\u001b[0;34m\u001b[0m\u001b[0;34m\u001b[0m\u001b[0m\n",
      "\u001b[0;31mKeyboardInterrupt\u001b[0m: "
     ]
    }
   ],
   "source": [
    "optimization_sgd = BayesianOptimization(evaluateSgd, params_sgd, random_state=231)\n",
    "optimization_sgd.maximize(n_iter=1000, init_points=100)"
   ]
  },
  {
   "cell_type": "code",
   "execution_count": 79,
   "metadata": {},
   "outputs": [
    {
     "data": {
      "text/plain": [
       "{'target': 290.5,\n",
       " 'params': {'alpha': 0.9034295731744418,\n",
       "  'l1_ratio': 0.03893810541480702,\n",
       "  'loss': 2.745667790244739,\n",
       "  'penalty': 0.18151621259516437,\n",
       "  'tol': 0.0180726867014855}}"
      ]
     },
     "execution_count": 79,
     "metadata": {},
     "output_type": "execute_result"
    }
   ],
   "source": [
    "optimization_sgd.max"
   ]
  },
  {
   "cell_type": "code",
   "execution_count": 84,
   "metadata": {},
   "outputs": [
    {
     "data": {
      "text/plain": [
       "-740"
      ]
     },
     "execution_count": 84,
     "metadata": {},
     "output_type": "execute_result"
    }
   ],
   "source": [
    "# Evaluation on the original training set\n",
    "sgd = SGDClassifier(alpha=0.9034295731744418, l1_ratio=0.03893810541480702, tol=0.0180726867014855,\n",
    "                    loss='modified_huber', penalty='l2')\n",
    "sgd.fit(X_train_prepared, y_train)\n",
    "sgd_pred = sgd.predict(X_test_prepared)\n",
    "profit_scorer(y_test, sgd_pred)"
   ]
  },
  {
   "cell_type": "markdown",
   "metadata": {},
   "source": [
    "#### Random Forest"
   ]
  },
  {
   "cell_type": "code",
   "execution_count": 81,
   "metadata": {},
   "outputs": [],
   "source": [
    "def evaluateRandomForest(n_estimators, max_depth, min_samples_split, min_samples_leaf):\n",
    "    \n",
    "    model = RandomForestClassifier(n_estimators=int(n_estimators), \n",
    "                                   max_depth=int(max_depth), \n",
    "                                   min_samples_split=int(min_samples_split), \n",
    "                                   min_samples_leaf=int(min_samples_leaf),\n",
    "                                   random_state=231)\n",
    "    \n",
    "    return cross_val_imbalanced_f1(model, X_train_prepared, y_train, SMOTE(random_state=42))"
   ]
  },
  {
   "cell_type": "code",
   "execution_count": 82,
   "metadata": {},
   "outputs": [],
   "source": [
    "params_random_forest = {\n",
    "    'n_estimators': (10, 500),\n",
    "    'max_depth': (1, 10),\n",
    "    'min_samples_split': (2, 20),\n",
    "    'min_samples_leaf': (1, 20)\n",
    "}"
   ]
  },
  {
   "cell_type": "code",
   "execution_count": 85,
   "metadata": {},
   "outputs": [
    {
     "name": "stdout",
     "output_type": "stream",
     "text": [
      "|   iter    |  target   | max_depth | min_sa... | min_sa... | n_esti... |\n",
      "-------------------------------------------------------------------------\n",
      "| \u001b[0m 1       \u001b[0m | \u001b[0m 1.0     \u001b[0m | \u001b[0m 8.033   \u001b[0m | \u001b[0m 12.1    \u001b[0m | \u001b[0m 9.681   \u001b[0m | \u001b[0m 164.5   \u001b[0m |\n",
      "| \u001b[0m 2       \u001b[0m | \u001b[0m 1.0     \u001b[0m | \u001b[0m 8.442   \u001b[0m | \u001b[0m 18.17   \u001b[0m | \u001b[0m 2.701   \u001b[0m | \u001b[0m 458.5   \u001b[0m |\n",
      "| \u001b[0m 3       \u001b[0m | \u001b[0m 0.9915  \u001b[0m | \u001b[0m 1.545   \u001b[0m | \u001b[0m 4.434   \u001b[0m | \u001b[0m 3.301   \u001b[0m | \u001b[0m 234.8   \u001b[0m |\n",
      "| \u001b[0m 4       \u001b[0m | \u001b[0m 1.0     \u001b[0m | \u001b[0m 7.375   \u001b[0m | \u001b[0m 10.18   \u001b[0m | \u001b[0m 2.458   \u001b[0m | \u001b[0m 42.78   \u001b[0m |\n",
      "| \u001b[0m 5       \u001b[0m | \u001b[0m 1.0     \u001b[0m | \u001b[0m 4.833   \u001b[0m | \u001b[0m 5.166   \u001b[0m | \u001b[0m 16.58   \u001b[0m | \u001b[0m 78.63   \u001b[0m |\n",
      "| \u001b[0m 6       \u001b[0m | \u001b[0m 1.0     \u001b[0m | \u001b[0m 7.761   \u001b[0m | \u001b[0m 6.303   \u001b[0m | \u001b[0m 19.08   \u001b[0m | \u001b[0m 443.7   \u001b[0m |\n",
      "| \u001b[0m 7       \u001b[0m | \u001b[0m 1.0     \u001b[0m | \u001b[0m 6.491   \u001b[0m | \u001b[0m 15.8    \u001b[0m | \u001b[0m 2.748   \u001b[0m | \u001b[0m 395.3   \u001b[0m |\n",
      "| \u001b[0m 8       \u001b[0m | \u001b[0m 1.0     \u001b[0m | \u001b[0m 9.122   \u001b[0m | \u001b[0m 9.227   \u001b[0m | \u001b[0m 17.96   \u001b[0m | \u001b[0m 278.8   \u001b[0m |\n",
      "| \u001b[0m 9       \u001b[0m | \u001b[0m 1.0     \u001b[0m | \u001b[0m 9.883   \u001b[0m | \u001b[0m 11.74   \u001b[0m | \u001b[0m 18.22   \u001b[0m | \u001b[0m 286.2   \u001b[0m |\n",
      "| \u001b[0m 10      \u001b[0m | \u001b[0m 0.9924  \u001b[0m | \u001b[0m 1.863   \u001b[0m | \u001b[0m 12.73   \u001b[0m | \u001b[0m 3.08    \u001b[0m | \u001b[0m 294.4   \u001b[0m |\n",
      "| \u001b[0m 11      \u001b[0m | \u001b[0m 1.0     \u001b[0m | \u001b[0m 8.845   \u001b[0m | \u001b[0m 16.2    \u001b[0m | \u001b[0m 3.2     \u001b[0m | \u001b[0m 39.47   \u001b[0m |\n",
      "| \u001b[0m 12      \u001b[0m | \u001b[0m 1.0     \u001b[0m | \u001b[0m 9.094   \u001b[0m | \u001b[0m 13.23   \u001b[0m | \u001b[0m 14.02   \u001b[0m | \u001b[0m 59.07   \u001b[0m |\n",
      "| \u001b[0m 13      \u001b[0m | \u001b[0m 1.0     \u001b[0m | \u001b[0m 6.814   \u001b[0m | \u001b[0m 1.812   \u001b[0m | \u001b[0m 13.11   \u001b[0m | \u001b[0m 138.4   \u001b[0m |\n",
      "| \u001b[0m 14      \u001b[0m | \u001b[0m 1.0     \u001b[0m | \u001b[0m 7.457   \u001b[0m | \u001b[0m 19.94   \u001b[0m | \u001b[0m 6.68    \u001b[0m | \u001b[0m 166.5   \u001b[0m |\n",
      "| \u001b[0m 15      \u001b[0m | \u001b[0m 1.0     \u001b[0m | \u001b[0m 2.403   \u001b[0m | \u001b[0m 1.165   \u001b[0m | \u001b[0m 10.95   \u001b[0m | \u001b[0m 124.3   \u001b[0m |\n",
      "| \u001b[0m 16      \u001b[0m | \u001b[0m 0.9899  \u001b[0m | \u001b[0m 1.976   \u001b[0m | \u001b[0m 18.96   \u001b[0m | \u001b[0m 18.04   \u001b[0m | \u001b[0m 146.6   \u001b[0m |\n",
      "| \u001b[0m 17      \u001b[0m | \u001b[0m 1.0     \u001b[0m | \u001b[0m 8.436   \u001b[0m | \u001b[0m 9.528   \u001b[0m | \u001b[0m 2.401   \u001b[0m | \u001b[0m 453.0   \u001b[0m |\n",
      "| \u001b[0m 18      \u001b[0m | \u001b[0m 1.0     \u001b[0m | \u001b[0m 6.751   \u001b[0m | \u001b[0m 12.63   \u001b[0m | \u001b[0m 12.56   \u001b[0m | \u001b[0m 173.9   \u001b[0m |\n",
      "| \u001b[0m 19      \u001b[0m | \u001b[0m 1.0     \u001b[0m | \u001b[0m 3.328   \u001b[0m | \u001b[0m 8.341   \u001b[0m | \u001b[0m 11.58   \u001b[0m | \u001b[0m 486.2   \u001b[0m |\n",
      "| \u001b[0m 20      \u001b[0m | \u001b[0m 1.0     \u001b[0m | \u001b[0m 9.454   \u001b[0m | \u001b[0m 3.167   \u001b[0m | \u001b[0m 19.46   \u001b[0m | \u001b[0m 276.4   \u001b[0m |\n",
      "| \u001b[0m 21      \u001b[0m | \u001b[0m 1.0     \u001b[0m | \u001b[0m 5.222   \u001b[0m | \u001b[0m 9.227   \u001b[0m | \u001b[0m 5.989   \u001b[0m | \u001b[0m 163.4   \u001b[0m |\n",
      "| \u001b[0m 22      \u001b[0m | \u001b[0m 1.0     \u001b[0m | \u001b[0m 9.142   \u001b[0m | \u001b[0m 19.41   \u001b[0m | \u001b[0m 11.85   \u001b[0m | \u001b[0m 165.1   \u001b[0m |\n",
      "| \u001b[0m 23      \u001b[0m | \u001b[0m 1.0     \u001b[0m | \u001b[0m 3.544   \u001b[0m | \u001b[0m 12.92   \u001b[0m | \u001b[0m 4.646   \u001b[0m | \u001b[0m 226.2   \u001b[0m |\n",
      "| \u001b[0m 24      \u001b[0m | \u001b[0m 1.0     \u001b[0m | \u001b[0m 5.234   \u001b[0m | \u001b[0m 7.613   \u001b[0m | \u001b[0m 13.97   \u001b[0m | \u001b[0m 472.3   \u001b[0m |\n",
      "| \u001b[0m 25      \u001b[0m | \u001b[0m 1.0     \u001b[0m | \u001b[0m 3.845   \u001b[0m | \u001b[0m 2.926   \u001b[0m | \u001b[0m 7.06    \u001b[0m | \u001b[0m 40.31   \u001b[0m |\n",
      "| \u001b[0m 26      \u001b[0m | \u001b[0m 1.0     \u001b[0m | \u001b[0m 9.541   \u001b[0m | \u001b[0m 19.81   \u001b[0m | \u001b[0m 19.18   \u001b[0m | \u001b[0m 500.0   \u001b[0m |\n",
      "| \u001b[0m 27      \u001b[0m | \u001b[0m 1.0     \u001b[0m | \u001b[0m 9.156   \u001b[0m | \u001b[0m 1.031   \u001b[0m | \u001b[0m 18.79   \u001b[0m | \u001b[0m 10.34   \u001b[0m |\n",
      "| \u001b[0m 28      \u001b[0m | \u001b[0m 1.0     \u001b[0m | \u001b[0m 9.857   \u001b[0m | \u001b[0m 1.258   \u001b[0m | \u001b[0m 2.16    \u001b[0m | \u001b[0m 65.37   \u001b[0m |\n",
      "| \u001b[0m 29      \u001b[0m | \u001b[0m 1.0     \u001b[0m | \u001b[0m 9.103   \u001b[0m | \u001b[0m 1.022   \u001b[0m | \u001b[0m 4.591   \u001b[0m | \u001b[0m 499.4   \u001b[0m |\n",
      "| \u001b[0m 30      \u001b[0m | \u001b[0m 0.994   \u001b[0m | \u001b[0m 2.374   \u001b[0m | \u001b[0m 19.78   \u001b[0m | \u001b[0m 19.42   \u001b[0m | \u001b[0m 10.4    \u001b[0m |\n",
      "| \u001b[0m 31      \u001b[0m | \u001b[0m 1.0     \u001b[0m | \u001b[0m 9.94    \u001b[0m | \u001b[0m 19.9    \u001b[0m | \u001b[0m 3.465   \u001b[0m | \u001b[0m 247.3   \u001b[0m |\n",
      "| \u001b[0m 32      \u001b[0m | \u001b[0m 1.0     \u001b[0m | \u001b[0m 9.903   \u001b[0m | \u001b[0m 1.203   \u001b[0m | \u001b[0m 2.156   \u001b[0m | \u001b[0m 62.12   \u001b[0m |\n",
      "| \u001b[0m 33      \u001b[0m | \u001b[0m 1.0     \u001b[0m | \u001b[0m 9.676   \u001b[0m | \u001b[0m 2.014   \u001b[0m | \u001b[0m 19.9    \u001b[0m | \u001b[0m 361.9   \u001b[0m |\n",
      "| \u001b[0m 34      \u001b[0m | \u001b[0m 1.0     \u001b[0m | \u001b[0m 9.48    \u001b[0m | \u001b[0m 19.87   \u001b[0m | \u001b[0m 19.67   \u001b[0m | \u001b[0m 364.2   \u001b[0m |\n",
      "| \u001b[0m 35      \u001b[0m | \u001b[0m 1.0     \u001b[0m | \u001b[0m 9.778   \u001b[0m | \u001b[0m 1.69    \u001b[0m | \u001b[0m 19.03   \u001b[0m | \u001b[0m 198.4   \u001b[0m |\n",
      "| \u001b[0m 36      \u001b[0m | \u001b[0m 0.9932  \u001b[0m | \u001b[0m 1.22    \u001b[0m | \u001b[0m 18.43   \u001b[0m | \u001b[0m 4.083   \u001b[0m | \u001b[0m 499.8   \u001b[0m |\n",
      "| \u001b[0m 37      \u001b[0m | \u001b[0m 1.0     \u001b[0m | \u001b[0m 9.776   \u001b[0m | \u001b[0m 2.235   \u001b[0m | \u001b[0m 19.21   \u001b[0m | \u001b[0m 496.2   \u001b[0m |\n",
      "| \u001b[0m 38      \u001b[0m | \u001b[0m 1.0     \u001b[0m | \u001b[0m 9.741   \u001b[0m | \u001b[0m 1.185   \u001b[0m | \u001b[0m 2.582   \u001b[0m | \u001b[0m 89.8    \u001b[0m |\n",
      "| \u001b[0m 39      \u001b[0m | \u001b[0m 1.0     \u001b[0m | \u001b[0m 9.794   \u001b[0m | \u001b[0m 1.181   \u001b[0m | \u001b[0m 4.383   \u001b[0m | \u001b[0m 497.3   \u001b[0m |\n",
      "| \u001b[0m 40      \u001b[0m | \u001b[0m 1.0     \u001b[0m | \u001b[0m 9.992   \u001b[0m | \u001b[0m 15.49   \u001b[0m | \u001b[0m 2.032   \u001b[0m | \u001b[0m 205.0   \u001b[0m |\n",
      "| \u001b[0m 41      \u001b[0m | \u001b[0m 1.0     \u001b[0m | \u001b[0m 9.875   \u001b[0m | \u001b[0m 1.308   \u001b[0m | \u001b[0m 2.735   \u001b[0m | \u001b[0m 64.37   \u001b[0m |\n",
      "| \u001b[0m 42      \u001b[0m | \u001b[0m 1.0     \u001b[0m | \u001b[0m 9.972   \u001b[0m | \u001b[0m 1.392   \u001b[0m | \u001b[0m 4.248   \u001b[0m | \u001b[0m 14.8    \u001b[0m |\n",
      "| \u001b[0m 43      \u001b[0m | \u001b[0m 1.0     \u001b[0m | \u001b[0m 9.945   \u001b[0m | \u001b[0m 1.189   \u001b[0m | \u001b[0m 19.4    \u001b[0m | \u001b[0m 495.9   \u001b[0m |\n",
      "| \u001b[0m 44      \u001b[0m | \u001b[0m 1.0     \u001b[0m | \u001b[0m 9.909   \u001b[0m | \u001b[0m 1.097   \u001b[0m | \u001b[0m 19.32   \u001b[0m | \u001b[0m 97.89   \u001b[0m |\n",
      "| \u001b[0m 45      \u001b[0m | \u001b[0m 1.0     \u001b[0m | \u001b[0m 9.936   \u001b[0m | \u001b[0m 1.434   \u001b[0m | \u001b[0m 2.225   \u001b[0m | \u001b[0m 13.59   \u001b[0m |\n",
      "| \u001b[0m 46      \u001b[0m | \u001b[0m 1.0     \u001b[0m | \u001b[0m 9.922   \u001b[0m | \u001b[0m 1.096   \u001b[0m | \u001b[0m 2.853   \u001b[0m | \u001b[0m 417.6   \u001b[0m |\n",
      "| \u001b[0m 47      \u001b[0m | \u001b[0m 1.0     \u001b[0m | \u001b[0m 9.991   \u001b[0m | \u001b[0m 1.149   \u001b[0m | \u001b[0m 18.82   \u001b[0m | \u001b[0m 492.8   \u001b[0m |\n",
      "| \u001b[0m 48      \u001b[0m | \u001b[0m 1.0     \u001b[0m | \u001b[0m 9.961   \u001b[0m | \u001b[0m 1.425   \u001b[0m | \u001b[0m 2.595   \u001b[0m | \u001b[0m 96.43   \u001b[0m |\n",
      "| \u001b[0m 49      \u001b[0m | \u001b[0m 1.0     \u001b[0m | \u001b[0m 9.915   \u001b[0m | \u001b[0m 1.743   \u001b[0m | \u001b[0m 19.8    \u001b[0m | \u001b[0m 108.6   \u001b[0m |\n",
      "| \u001b[0m 50      \u001b[0m | \u001b[0m 1.0     \u001b[0m | \u001b[0m 9.93    \u001b[0m | \u001b[0m 1.581   \u001b[0m | \u001b[0m 2.066   \u001b[0m | \u001b[0m 420.9   \u001b[0m |\n",
      "| \u001b[0m 51      \u001b[0m | \u001b[0m 1.0     \u001b[0m | \u001b[0m 9.919   \u001b[0m | \u001b[0m 1.506   \u001b[0m | \u001b[0m 2.397   \u001b[0m | \u001b[0m 494.6   \u001b[0m |\n",
      "| \u001b[0m 52      \u001b[0m | \u001b[0m 1.0     \u001b[0m | \u001b[0m 9.961   \u001b[0m | \u001b[0m 1.219   \u001b[0m | \u001b[0m 2.628   \u001b[0m | \u001b[0m 85.52   \u001b[0m |\n",
      "| \u001b[0m 53      \u001b[0m | \u001b[0m 1.0     \u001b[0m | \u001b[0m 9.957   \u001b[0m | \u001b[0m 1.704   \u001b[0m | \u001b[0m 4.426   \u001b[0m | \u001b[0m 13.31   \u001b[0m |\n",
      "| \u001b[0m 54      \u001b[0m | \u001b[0m 1.0     \u001b[0m | \u001b[0m 9.842   \u001b[0m | \u001b[0m 19.1    \u001b[0m | \u001b[0m 19.6    \u001b[0m | \u001b[0m 494.8   \u001b[0m |\n",
      "| \u001b[0m 55      \u001b[0m | \u001b[0m 1.0     \u001b[0m | \u001b[0m 9.949   \u001b[0m | \u001b[0m 1.983   \u001b[0m | \u001b[0m 18.51   \u001b[0m | \u001b[0m 494.7   \u001b[0m |\n",
      "| \u001b[0m 56      \u001b[0m | \u001b[0m 1.0     \u001b[0m | \u001b[0m 9.983   \u001b[0m | \u001b[0m 1.003   \u001b[0m | \u001b[0m 19.54   \u001b[0m | \u001b[0m 10.94   \u001b[0m |\n",
      "| \u001b[0m 57      \u001b[0m | \u001b[0m 1.0     \u001b[0m | \u001b[0m 9.957   \u001b[0m | \u001b[0m 1.372   \u001b[0m | \u001b[0m 19.73   \u001b[0m | \u001b[0m 111.8   \u001b[0m |\n",
      "| \u001b[0m 58      \u001b[0m | \u001b[0m 1.0     \u001b[0m | \u001b[0m 9.994   \u001b[0m | \u001b[0m 1.363   \u001b[0m | \u001b[0m 19.51   \u001b[0m | \u001b[0m 492.7   \u001b[0m |\n"
     ]
    },
    {
     "ename": "KeyboardInterrupt",
     "evalue": "",
     "output_type": "error",
     "traceback": [
      "\u001b[0;31m---------------------------------------------------------------------------\u001b[0m",
      "\u001b[0;31mStopIteration\u001b[0m                             Traceback (most recent call last)",
      "\u001b[0;32m/anaconda3/lib/python3.7/site-packages/bayes_opt/bayesian_optimization.py\u001b[0m in \u001b[0;36mmaximize\u001b[0;34m(self, init_points, n_iter, acq, kappa, xi, **gp_params)\u001b[0m\n\u001b[1;32m    168\u001b[0m             \u001b[0;32mtry\u001b[0m\u001b[0;34m:\u001b[0m\u001b[0;34m\u001b[0m\u001b[0;34m\u001b[0m\u001b[0m\n\u001b[0;32m--> 169\u001b[0;31m                 \u001b[0mx_probe\u001b[0m \u001b[0;34m=\u001b[0m \u001b[0mnext\u001b[0m\u001b[0;34m(\u001b[0m\u001b[0mself\u001b[0m\u001b[0;34m.\u001b[0m\u001b[0m_queue\u001b[0m\u001b[0;34m)\u001b[0m\u001b[0;34m\u001b[0m\u001b[0;34m\u001b[0m\u001b[0m\n\u001b[0m\u001b[1;32m    170\u001b[0m             \u001b[0;32mexcept\u001b[0m \u001b[0mStopIteration\u001b[0m\u001b[0;34m:\u001b[0m\u001b[0;34m\u001b[0m\u001b[0;34m\u001b[0m\u001b[0m\n",
      "\u001b[0;32m/anaconda3/lib/python3.7/site-packages/bayes_opt/bayesian_optimization.py\u001b[0m in \u001b[0;36m__next__\u001b[0;34m(self)\u001b[0m\n\u001b[1;32m     25\u001b[0m         \u001b[0;32mif\u001b[0m \u001b[0mself\u001b[0m\u001b[0;34m.\u001b[0m\u001b[0mempty\u001b[0m\u001b[0;34m:\u001b[0m\u001b[0;34m\u001b[0m\u001b[0;34m\u001b[0m\u001b[0m\n\u001b[0;32m---> 26\u001b[0;31m             \u001b[0;32mraise\u001b[0m \u001b[0mStopIteration\u001b[0m\u001b[0;34m(\u001b[0m\u001b[0;34m\"Queue is empty, no more objects to retrieve.\"\u001b[0m\u001b[0;34m)\u001b[0m\u001b[0;34m\u001b[0m\u001b[0;34m\u001b[0m\u001b[0m\n\u001b[0m\u001b[1;32m     27\u001b[0m         \u001b[0mobj\u001b[0m \u001b[0;34m=\u001b[0m \u001b[0mself\u001b[0m\u001b[0;34m.\u001b[0m\u001b[0m_queue\u001b[0m\u001b[0;34m[\u001b[0m\u001b[0;36m0\u001b[0m\u001b[0;34m]\u001b[0m\u001b[0;34m\u001b[0m\u001b[0;34m\u001b[0m\u001b[0m\n",
      "\u001b[0;31mStopIteration\u001b[0m: Queue is empty, no more objects to retrieve.",
      "\nDuring handling of the above exception, another exception occurred:\n",
      "\u001b[0;31mKeyboardInterrupt\u001b[0m                         Traceback (most recent call last)",
      "\u001b[0;32m<ipython-input-85-d0b0f5a6ade3>\u001b[0m in \u001b[0;36m<module>\u001b[0;34m\u001b[0m\n\u001b[1;32m      1\u001b[0m \u001b[0moptimization_rf\u001b[0m \u001b[0;34m=\u001b[0m \u001b[0mBayesianOptimization\u001b[0m\u001b[0;34m(\u001b[0m\u001b[0mevaluateRandomForest\u001b[0m\u001b[0;34m,\u001b[0m \u001b[0mparams_random_forest\u001b[0m\u001b[0;34m,\u001b[0m \u001b[0mrandom_state\u001b[0m\u001b[0;34m=\u001b[0m\u001b[0;36m231\u001b[0m\u001b[0;34m)\u001b[0m\u001b[0;34m\u001b[0m\u001b[0;34m\u001b[0m\u001b[0m\n\u001b[0;32m----> 2\u001b[0;31m \u001b[0moptimization_rf\u001b[0m\u001b[0;34m.\u001b[0m\u001b[0mmaximize\u001b[0m\u001b[0;34m(\u001b[0m\u001b[0mn_iter\u001b[0m\u001b[0;34m=\u001b[0m\u001b[0;36m100\u001b[0m\u001b[0;34m,\u001b[0m \u001b[0minit_points\u001b[0m\u001b[0;34m=\u001b[0m\u001b[0;36m25\u001b[0m\u001b[0;34m)\u001b[0m\u001b[0;34m\u001b[0m\u001b[0;34m\u001b[0m\u001b[0m\n\u001b[0m",
      "\u001b[0;32m/anaconda3/lib/python3.7/site-packages/bayes_opt/bayesian_optimization.py\u001b[0m in \u001b[0;36mmaximize\u001b[0;34m(self, init_points, n_iter, acq, kappa, xi, **gp_params)\u001b[0m\n\u001b[1;32m    169\u001b[0m                 \u001b[0mx_probe\u001b[0m \u001b[0;34m=\u001b[0m \u001b[0mnext\u001b[0m\u001b[0;34m(\u001b[0m\u001b[0mself\u001b[0m\u001b[0;34m.\u001b[0m\u001b[0m_queue\u001b[0m\u001b[0;34m)\u001b[0m\u001b[0;34m\u001b[0m\u001b[0;34m\u001b[0m\u001b[0m\n\u001b[1;32m    170\u001b[0m             \u001b[0;32mexcept\u001b[0m \u001b[0mStopIteration\u001b[0m\u001b[0;34m:\u001b[0m\u001b[0;34m\u001b[0m\u001b[0;34m\u001b[0m\u001b[0m\n\u001b[0;32m--> 171\u001b[0;31m                 \u001b[0mx_probe\u001b[0m \u001b[0;34m=\u001b[0m \u001b[0mself\u001b[0m\u001b[0;34m.\u001b[0m\u001b[0msuggest\u001b[0m\u001b[0;34m(\u001b[0m\u001b[0mutil\u001b[0m\u001b[0;34m)\u001b[0m\u001b[0;34m\u001b[0m\u001b[0;34m\u001b[0m\u001b[0m\n\u001b[0m\u001b[1;32m    172\u001b[0m                 \u001b[0miteration\u001b[0m \u001b[0;34m+=\u001b[0m \u001b[0;36m1\u001b[0m\u001b[0;34m\u001b[0m\u001b[0;34m\u001b[0m\u001b[0m\n\u001b[1;32m    173\u001b[0m \u001b[0;34m\u001b[0m\u001b[0m\n",
      "\u001b[0;32m/anaconda3/lib/python3.7/site-packages/bayes_opt/bayesian_optimization.py\u001b[0m in \u001b[0;36msuggest\u001b[0;34m(self, utility_function)\u001b[0m\n\u001b[1;32m    130\u001b[0m             \u001b[0my_max\u001b[0m\u001b[0;34m=\u001b[0m\u001b[0mself\u001b[0m\u001b[0;34m.\u001b[0m\u001b[0m_space\u001b[0m\u001b[0;34m.\u001b[0m\u001b[0mtarget\u001b[0m\u001b[0;34m.\u001b[0m\u001b[0mmax\u001b[0m\u001b[0;34m(\u001b[0m\u001b[0;34m)\u001b[0m\u001b[0;34m,\u001b[0m\u001b[0;34m\u001b[0m\u001b[0;34m\u001b[0m\u001b[0m\n\u001b[1;32m    131\u001b[0m             \u001b[0mbounds\u001b[0m\u001b[0;34m=\u001b[0m\u001b[0mself\u001b[0m\u001b[0;34m.\u001b[0m\u001b[0m_space\u001b[0m\u001b[0;34m.\u001b[0m\u001b[0mbounds\u001b[0m\u001b[0;34m,\u001b[0m\u001b[0;34m\u001b[0m\u001b[0;34m\u001b[0m\u001b[0m\n\u001b[0;32m--> 132\u001b[0;31m             \u001b[0mrandom_state\u001b[0m\u001b[0;34m=\u001b[0m\u001b[0mself\u001b[0m\u001b[0;34m.\u001b[0m\u001b[0m_random_state\u001b[0m\u001b[0;34m\u001b[0m\u001b[0;34m\u001b[0m\u001b[0m\n\u001b[0m\u001b[1;32m    133\u001b[0m         )\n\u001b[1;32m    134\u001b[0m \u001b[0;34m\u001b[0m\u001b[0m\n",
      "\u001b[0;32m/anaconda3/lib/python3.7/site-packages/bayes_opt/util.py\u001b[0m in \u001b[0;36macq_max\u001b[0;34m(ac, gp, y_max, bounds, random_state, n_warmup, n_iter)\u001b[0m\n\u001b[1;32m     56\u001b[0m                        \u001b[0mx_try\u001b[0m\u001b[0;34m.\u001b[0m\u001b[0mreshape\u001b[0m\u001b[0;34m(\u001b[0m\u001b[0;36m1\u001b[0m\u001b[0;34m,\u001b[0m \u001b[0;34m-\u001b[0m\u001b[0;36m1\u001b[0m\u001b[0;34m)\u001b[0m\u001b[0;34m,\u001b[0m\u001b[0;34m\u001b[0m\u001b[0;34m\u001b[0m\u001b[0m\n\u001b[1;32m     57\u001b[0m                        \u001b[0mbounds\u001b[0m\u001b[0;34m=\u001b[0m\u001b[0mbounds\u001b[0m\u001b[0;34m,\u001b[0m\u001b[0;34m\u001b[0m\u001b[0;34m\u001b[0m\u001b[0m\n\u001b[0;32m---> 58\u001b[0;31m                        method=\"L-BFGS-B\")\n\u001b[0m\u001b[1;32m     59\u001b[0m \u001b[0;34m\u001b[0m\u001b[0m\n\u001b[1;32m     60\u001b[0m         \u001b[0;31m# See if success\u001b[0m\u001b[0;34m\u001b[0m\u001b[0;34m\u001b[0m\u001b[0;34m\u001b[0m\u001b[0m\n",
      "\u001b[0;32m/anaconda3/lib/python3.7/site-packages/scipy/optimize/_minimize.py\u001b[0m in \u001b[0;36mminimize\u001b[0;34m(fun, x0, args, method, jac, hess, hessp, bounds, constraints, tol, callback, options)\u001b[0m\n\u001b[1;32m    601\u001b[0m     \u001b[0;32melif\u001b[0m \u001b[0mmeth\u001b[0m \u001b[0;34m==\u001b[0m \u001b[0;34m'l-bfgs-b'\u001b[0m\u001b[0;34m:\u001b[0m\u001b[0;34m\u001b[0m\u001b[0;34m\u001b[0m\u001b[0m\n\u001b[1;32m    602\u001b[0m         return _minimize_lbfgsb(fun, x0, args, jac, bounds,\n\u001b[0;32m--> 603\u001b[0;31m                                 callback=callback, **options)\n\u001b[0m\u001b[1;32m    604\u001b[0m     \u001b[0;32melif\u001b[0m \u001b[0mmeth\u001b[0m \u001b[0;34m==\u001b[0m \u001b[0;34m'tnc'\u001b[0m\u001b[0;34m:\u001b[0m\u001b[0;34m\u001b[0m\u001b[0;34m\u001b[0m\u001b[0m\n\u001b[1;32m    605\u001b[0m         return _minimize_tnc(fun, x0, args, jac, bounds, callback=callback,\n",
      "\u001b[0;32m/anaconda3/lib/python3.7/site-packages/scipy/optimize/lbfgsb.py\u001b[0m in \u001b[0;36m_minimize_lbfgsb\u001b[0;34m(fun, x0, args, jac, bounds, disp, maxcor, ftol, gtol, eps, maxfun, maxiter, iprint, callback, maxls, **unknown_options)\u001b[0m\n\u001b[1;32m    333\u001b[0m             \u001b[0;31m# until the completion of the current minimization iteration.\u001b[0m\u001b[0;34m\u001b[0m\u001b[0;34m\u001b[0m\u001b[0;34m\u001b[0m\u001b[0m\n\u001b[1;32m    334\u001b[0m             \u001b[0;31m# Overwrite f and g:\u001b[0m\u001b[0;34m\u001b[0m\u001b[0;34m\u001b[0m\u001b[0;34m\u001b[0m\u001b[0m\n\u001b[0;32m--> 335\u001b[0;31m             \u001b[0mf\u001b[0m\u001b[0;34m,\u001b[0m \u001b[0mg\u001b[0m \u001b[0;34m=\u001b[0m \u001b[0mfunc_and_grad\u001b[0m\u001b[0;34m(\u001b[0m\u001b[0mx\u001b[0m\u001b[0;34m)\u001b[0m\u001b[0;34m\u001b[0m\u001b[0;34m\u001b[0m\u001b[0m\n\u001b[0m\u001b[1;32m    336\u001b[0m         \u001b[0;32melif\u001b[0m \u001b[0mtask_str\u001b[0m\u001b[0;34m.\u001b[0m\u001b[0mstartswith\u001b[0m\u001b[0;34m(\u001b[0m\u001b[0;34mb'NEW_X'\u001b[0m\u001b[0;34m)\u001b[0m\u001b[0;34m:\u001b[0m\u001b[0;34m\u001b[0m\u001b[0;34m\u001b[0m\u001b[0m\n\u001b[1;32m    337\u001b[0m             \u001b[0;31m# new iteration\u001b[0m\u001b[0;34m\u001b[0m\u001b[0;34m\u001b[0m\u001b[0;34m\u001b[0m\u001b[0m\n",
      "\u001b[0;32m/anaconda3/lib/python3.7/site-packages/scipy/optimize/lbfgsb.py\u001b[0m in \u001b[0;36mfunc_and_grad\u001b[0;34m(x)\u001b[0m\n\u001b[1;32m    278\u001b[0m     \u001b[0;32mif\u001b[0m \u001b[0mjac\u001b[0m \u001b[0;32mis\u001b[0m \u001b[0;32mNone\u001b[0m\u001b[0;34m:\u001b[0m\u001b[0;34m\u001b[0m\u001b[0;34m\u001b[0m\u001b[0m\n\u001b[1;32m    279\u001b[0m         \u001b[0;32mdef\u001b[0m \u001b[0mfunc_and_grad\u001b[0m\u001b[0;34m(\u001b[0m\u001b[0mx\u001b[0m\u001b[0;34m)\u001b[0m\u001b[0;34m:\u001b[0m\u001b[0;34m\u001b[0m\u001b[0;34m\u001b[0m\u001b[0m\n\u001b[0;32m--> 280\u001b[0;31m             \u001b[0mf\u001b[0m \u001b[0;34m=\u001b[0m \u001b[0mfun\u001b[0m\u001b[0;34m(\u001b[0m\u001b[0mx\u001b[0m\u001b[0;34m,\u001b[0m \u001b[0;34m*\u001b[0m\u001b[0margs\u001b[0m\u001b[0;34m)\u001b[0m\u001b[0;34m\u001b[0m\u001b[0;34m\u001b[0m\u001b[0m\n\u001b[0m\u001b[1;32m    281\u001b[0m             \u001b[0mg\u001b[0m \u001b[0;34m=\u001b[0m \u001b[0m_approx_fprime_helper\u001b[0m\u001b[0;34m(\u001b[0m\u001b[0mx\u001b[0m\u001b[0;34m,\u001b[0m \u001b[0mfun\u001b[0m\u001b[0;34m,\u001b[0m \u001b[0mepsilon\u001b[0m\u001b[0;34m,\u001b[0m \u001b[0margs\u001b[0m\u001b[0;34m=\u001b[0m\u001b[0margs\u001b[0m\u001b[0;34m,\u001b[0m \u001b[0mf0\u001b[0m\u001b[0;34m=\u001b[0m\u001b[0mf\u001b[0m\u001b[0;34m)\u001b[0m\u001b[0;34m\u001b[0m\u001b[0;34m\u001b[0m\u001b[0m\n\u001b[1;32m    282\u001b[0m             \u001b[0;32mreturn\u001b[0m \u001b[0mf\u001b[0m\u001b[0;34m,\u001b[0m \u001b[0mg\u001b[0m\u001b[0;34m\u001b[0m\u001b[0;34m\u001b[0m\u001b[0m\n",
      "\u001b[0;32m/anaconda3/lib/python3.7/site-packages/scipy/optimize/optimize.py\u001b[0m in \u001b[0;36mfunction_wrapper\u001b[0;34m(*wrapper_args)\u001b[0m\n\u001b[1;32m    291\u001b[0m     \u001b[0;32mdef\u001b[0m \u001b[0mfunction_wrapper\u001b[0m\u001b[0;34m(\u001b[0m\u001b[0;34m*\u001b[0m\u001b[0mwrapper_args\u001b[0m\u001b[0;34m)\u001b[0m\u001b[0;34m:\u001b[0m\u001b[0;34m\u001b[0m\u001b[0;34m\u001b[0m\u001b[0m\n\u001b[1;32m    292\u001b[0m         \u001b[0mncalls\u001b[0m\u001b[0;34m[\u001b[0m\u001b[0;36m0\u001b[0m\u001b[0;34m]\u001b[0m \u001b[0;34m+=\u001b[0m \u001b[0;36m1\u001b[0m\u001b[0;34m\u001b[0m\u001b[0;34m\u001b[0m\u001b[0m\n\u001b[0;32m--> 293\u001b[0;31m         \u001b[0;32mreturn\u001b[0m \u001b[0mfunction\u001b[0m\u001b[0;34m(\u001b[0m\u001b[0;34m*\u001b[0m\u001b[0;34m(\u001b[0m\u001b[0mwrapper_args\u001b[0m \u001b[0;34m+\u001b[0m \u001b[0margs\u001b[0m\u001b[0;34m)\u001b[0m\u001b[0;34m)\u001b[0m\u001b[0;34m\u001b[0m\u001b[0;34m\u001b[0m\u001b[0m\n\u001b[0m\u001b[1;32m    294\u001b[0m \u001b[0;34m\u001b[0m\u001b[0m\n\u001b[1;32m    295\u001b[0m     \u001b[0;32mreturn\u001b[0m \u001b[0mncalls\u001b[0m\u001b[0;34m,\u001b[0m \u001b[0mfunction_wrapper\u001b[0m\u001b[0;34m\u001b[0m\u001b[0;34m\u001b[0m\u001b[0m\n",
      "\u001b[0;32m/anaconda3/lib/python3.7/site-packages/bayes_opt/util.py\u001b[0m in \u001b[0;36m<lambda>\u001b[0;34m(x)\u001b[0m\n\u001b[1;32m     53\u001b[0m     \u001b[0;32mfor\u001b[0m \u001b[0mx_try\u001b[0m \u001b[0;32min\u001b[0m \u001b[0mx_seeds\u001b[0m\u001b[0;34m:\u001b[0m\u001b[0;34m\u001b[0m\u001b[0;34m\u001b[0m\u001b[0m\n\u001b[1;32m     54\u001b[0m         \u001b[0;31m# Find the minimum of minus the acquisition function\u001b[0m\u001b[0;34m\u001b[0m\u001b[0;34m\u001b[0m\u001b[0;34m\u001b[0m\u001b[0m\n\u001b[0;32m---> 55\u001b[0;31m         res = minimize(lambda x: -ac(x.reshape(1, -1), gp=gp, y_max=y_max),\n\u001b[0m\u001b[1;32m     56\u001b[0m                        \u001b[0mx_try\u001b[0m\u001b[0;34m.\u001b[0m\u001b[0mreshape\u001b[0m\u001b[0;34m(\u001b[0m\u001b[0;36m1\u001b[0m\u001b[0;34m,\u001b[0m \u001b[0;34m-\u001b[0m\u001b[0;36m1\u001b[0m\u001b[0;34m)\u001b[0m\u001b[0;34m,\u001b[0m\u001b[0;34m\u001b[0m\u001b[0;34m\u001b[0m\u001b[0m\n\u001b[1;32m     57\u001b[0m                        \u001b[0mbounds\u001b[0m\u001b[0;34m=\u001b[0m\u001b[0mbounds\u001b[0m\u001b[0;34m,\u001b[0m\u001b[0;34m\u001b[0m\u001b[0;34m\u001b[0m\u001b[0m\n",
      "\u001b[0;32m/anaconda3/lib/python3.7/site-packages/bayes_opt/util.py\u001b[0m in \u001b[0;36mutility\u001b[0;34m(self, x, gp, y_max)\u001b[0m\n\u001b[1;32m     95\u001b[0m     \u001b[0;32mdef\u001b[0m \u001b[0mutility\u001b[0m\u001b[0;34m(\u001b[0m\u001b[0mself\u001b[0m\u001b[0;34m,\u001b[0m \u001b[0mx\u001b[0m\u001b[0;34m,\u001b[0m \u001b[0mgp\u001b[0m\u001b[0;34m,\u001b[0m \u001b[0my_max\u001b[0m\u001b[0;34m)\u001b[0m\u001b[0;34m:\u001b[0m\u001b[0;34m\u001b[0m\u001b[0;34m\u001b[0m\u001b[0m\n\u001b[1;32m     96\u001b[0m         \u001b[0;32mif\u001b[0m \u001b[0mself\u001b[0m\u001b[0;34m.\u001b[0m\u001b[0mkind\u001b[0m \u001b[0;34m==\u001b[0m \u001b[0;34m'ucb'\u001b[0m\u001b[0;34m:\u001b[0m\u001b[0;34m\u001b[0m\u001b[0;34m\u001b[0m\u001b[0m\n\u001b[0;32m---> 97\u001b[0;31m             \u001b[0;32mreturn\u001b[0m \u001b[0mself\u001b[0m\u001b[0;34m.\u001b[0m\u001b[0m_ucb\u001b[0m\u001b[0;34m(\u001b[0m\u001b[0mx\u001b[0m\u001b[0;34m,\u001b[0m \u001b[0mgp\u001b[0m\u001b[0;34m,\u001b[0m \u001b[0mself\u001b[0m\u001b[0;34m.\u001b[0m\u001b[0mkappa\u001b[0m\u001b[0;34m)\u001b[0m\u001b[0;34m\u001b[0m\u001b[0;34m\u001b[0m\u001b[0m\n\u001b[0m\u001b[1;32m     98\u001b[0m         \u001b[0;32mif\u001b[0m \u001b[0mself\u001b[0m\u001b[0;34m.\u001b[0m\u001b[0mkind\u001b[0m \u001b[0;34m==\u001b[0m \u001b[0;34m'ei'\u001b[0m\u001b[0;34m:\u001b[0m\u001b[0;34m\u001b[0m\u001b[0;34m\u001b[0m\u001b[0m\n\u001b[1;32m     99\u001b[0m             \u001b[0;32mreturn\u001b[0m \u001b[0mself\u001b[0m\u001b[0;34m.\u001b[0m\u001b[0m_ei\u001b[0m\u001b[0;34m(\u001b[0m\u001b[0mx\u001b[0m\u001b[0;34m,\u001b[0m \u001b[0mgp\u001b[0m\u001b[0;34m,\u001b[0m \u001b[0my_max\u001b[0m\u001b[0;34m,\u001b[0m \u001b[0mself\u001b[0m\u001b[0;34m.\u001b[0m\u001b[0mxi\u001b[0m\u001b[0;34m)\u001b[0m\u001b[0;34m\u001b[0m\u001b[0;34m\u001b[0m\u001b[0m\n",
      "\u001b[0;32m/anaconda3/lib/python3.7/site-packages/bayes_opt/util.py\u001b[0m in \u001b[0;36m_ucb\u001b[0;34m(x, gp, kappa)\u001b[0m\n\u001b[1;32m    105\u001b[0m         \u001b[0;32mwith\u001b[0m \u001b[0mwarnings\u001b[0m\u001b[0;34m.\u001b[0m\u001b[0mcatch_warnings\u001b[0m\u001b[0;34m(\u001b[0m\u001b[0;34m)\u001b[0m\u001b[0;34m:\u001b[0m\u001b[0;34m\u001b[0m\u001b[0;34m\u001b[0m\u001b[0m\n\u001b[1;32m    106\u001b[0m             \u001b[0mwarnings\u001b[0m\u001b[0;34m.\u001b[0m\u001b[0msimplefilter\u001b[0m\u001b[0;34m(\u001b[0m\u001b[0;34m\"ignore\"\u001b[0m\u001b[0;34m)\u001b[0m\u001b[0;34m\u001b[0m\u001b[0;34m\u001b[0m\u001b[0m\n\u001b[0;32m--> 107\u001b[0;31m             \u001b[0mmean\u001b[0m\u001b[0;34m,\u001b[0m \u001b[0mstd\u001b[0m \u001b[0;34m=\u001b[0m \u001b[0mgp\u001b[0m\u001b[0;34m.\u001b[0m\u001b[0mpredict\u001b[0m\u001b[0;34m(\u001b[0m\u001b[0mx\u001b[0m\u001b[0;34m,\u001b[0m \u001b[0mreturn_std\u001b[0m\u001b[0;34m=\u001b[0m\u001b[0;32mTrue\u001b[0m\u001b[0;34m)\u001b[0m\u001b[0;34m\u001b[0m\u001b[0;34m\u001b[0m\u001b[0m\n\u001b[0m\u001b[1;32m    108\u001b[0m \u001b[0;34m\u001b[0m\u001b[0m\n\u001b[1;32m    109\u001b[0m         \u001b[0;32mreturn\u001b[0m \u001b[0mmean\u001b[0m \u001b[0;34m+\u001b[0m \u001b[0mkappa\u001b[0m \u001b[0;34m*\u001b[0m \u001b[0mstd\u001b[0m\u001b[0;34m\u001b[0m\u001b[0;34m\u001b[0m\u001b[0m\n",
      "\u001b[0;32m/anaconda3/lib/python3.7/site-packages/sklearn/gaussian_process/gpr.py\u001b[0m in \u001b[0;36mpredict\u001b[0;34m(self, X, return_std, return_cov)\u001b[0m\n\u001b[1;32m    354\u001b[0m                 \u001b[0;31m# numerical issues. If yes: set the variance to 0.\u001b[0m\u001b[0;34m\u001b[0m\u001b[0;34m\u001b[0m\u001b[0;34m\u001b[0m\u001b[0m\n\u001b[1;32m    355\u001b[0m                 \u001b[0my_var_negative\u001b[0m \u001b[0;34m=\u001b[0m \u001b[0my_var\u001b[0m \u001b[0;34m<\u001b[0m \u001b[0;36m0\u001b[0m\u001b[0;34m\u001b[0m\u001b[0;34m\u001b[0m\u001b[0m\n\u001b[0;32m--> 356\u001b[0;31m                 \u001b[0;32mif\u001b[0m \u001b[0mnp\u001b[0m\u001b[0;34m.\u001b[0m\u001b[0many\u001b[0m\u001b[0;34m(\u001b[0m\u001b[0my_var_negative\u001b[0m\u001b[0;34m)\u001b[0m\u001b[0;34m:\u001b[0m\u001b[0;34m\u001b[0m\u001b[0;34m\u001b[0m\u001b[0m\n\u001b[0m\u001b[1;32m    357\u001b[0m                     warnings.warn(\"Predicted variances smaller than 0. \"\n\u001b[1;32m    358\u001b[0m                                   \"Setting those variances to 0.\")\n",
      "\u001b[0;32m/anaconda3/lib/python3.7/site-packages/numpy/core/fromnumeric.py\u001b[0m in \u001b[0;36many\u001b[0;34m(a, axis, out, keepdims)\u001b[0m\n\u001b[1;32m   2011\u001b[0m \u001b[0;34m\u001b[0m\u001b[0m\n\u001b[1;32m   2012\u001b[0m     \"\"\"\n\u001b[0;32m-> 2013\u001b[0;31m     \u001b[0;32mreturn\u001b[0m \u001b[0m_wrapreduction\u001b[0m\u001b[0;34m(\u001b[0m\u001b[0ma\u001b[0m\u001b[0;34m,\u001b[0m \u001b[0mnp\u001b[0m\u001b[0;34m.\u001b[0m\u001b[0mlogical_or\u001b[0m\u001b[0;34m,\u001b[0m \u001b[0;34m'any'\u001b[0m\u001b[0;34m,\u001b[0m \u001b[0maxis\u001b[0m\u001b[0;34m,\u001b[0m \u001b[0;32mNone\u001b[0m\u001b[0;34m,\u001b[0m \u001b[0mout\u001b[0m\u001b[0;34m,\u001b[0m \u001b[0mkeepdims\u001b[0m\u001b[0;34m=\u001b[0m\u001b[0mkeepdims\u001b[0m\u001b[0;34m)\u001b[0m\u001b[0;34m\u001b[0m\u001b[0;34m\u001b[0m\u001b[0m\n\u001b[0m\u001b[1;32m   2014\u001b[0m \u001b[0;34m\u001b[0m\u001b[0m\n\u001b[1;32m   2015\u001b[0m \u001b[0;34m\u001b[0m\u001b[0m\n",
      "\u001b[0;31mKeyboardInterrupt\u001b[0m: "
     ]
    }
   ],
   "source": [
    "optimization_rf = BayesianOptimization(evaluateRandomForest, params_random_forest, random_state=231)\n",
    "optimization_rf.maximize(n_iter=100, init_points=25)"
   ]
  },
  {
   "cell_type": "code",
   "execution_count": 86,
   "metadata": {},
   "outputs": [
    {
     "data": {
      "text/plain": [
       "{'target': 1.0,\n",
       " 'params': {'max_depth': 8.03344636745938,\n",
       "  'min_samples_leaf': 12.099973205625322,\n",
       "  'min_samples_split': 9.68078126340425,\n",
       "  'n_estimators': 164.51890050855397}}"
      ]
     },
     "execution_count": 86,
     "metadata": {},
     "output_type": "execute_result"
    }
   ],
   "source": [
    "optimization_rf.max"
   ]
  },
  {
   "cell_type": "code",
   "execution_count": 87,
   "metadata": {},
   "outputs": [
    {
     "data": {
      "text/plain": [
       "-3040"
      ]
     },
     "execution_count": 87,
     "metadata": {},
     "output_type": "execute_result"
    }
   ],
   "source": [
    "# Evaluation on the original training set\n",
    "rf = RandomForestClassifier(max_depth=8, min_samples_leaf=12, min_samples_split=9, n_estimators=164)\n",
    "rf.fit(X_train_prepared, y_train)\n",
    "rf_pred = rf.predict(X_test_prepared)\n",
    "profit_scorer(y_test, rf_pred)"
   ]
  },
  {
   "cell_type": "markdown",
   "metadata": {},
   "source": [
    "#### XGBoost"
   ]
  },
  {
   "cell_type": "code",
   "execution_count": 88,
   "metadata": {},
   "outputs": [],
   "source": [
    "def evaluateXgb(max_depth, n_estimators, gamma, reg_alpha, reg_lambda):\n",
    "    \n",
    "    model = XGBClassifier(max_depth=int(max_depth), n_estimators=int(n_estimators), gamma=gamma,\n",
    "                          reg_alpha=reg_alpha, reg_lambda=reg_lambda, n_jobs=-1, random_state=231)\n",
    "    \n",
    "    return cross_val_imbalanced(model, X_train_prepared, y_train, SMOTE(random_state=42))"
   ]
  },
  {
   "cell_type": "code",
   "execution_count": 89,
   "metadata": {},
   "outputs": [],
   "source": [
    "params_xgb = {\n",
    "    'max_depth': (1, 10),\n",
    "    'n_estimators': (25, 500),\n",
    "    'gamma': (0, 1),\n",
    "    'reg_alpha': (1e-9, 0.1),\n",
    "    'reg_lambda': (1e-9, 0.1)\n",
    "}"
   ]
  },
  {
   "cell_type": "code",
   "execution_count": 91,
   "metadata": {},
   "outputs": [
    {
     "name": "stdout",
     "output_type": "stream",
     "text": [
      "|   iter    |  target   |   gamma   | max_depth | n_esti... | reg_alpha | reg_la... |\n",
      "-------------------------------------------------------------------------------------\n",
      "| \u001b[0m 1       \u001b[0m | \u001b[0m 290.5   \u001b[0m | \u001b[0m 0.7815  \u001b[0m | \u001b[0m 6.258   \u001b[0m | \u001b[0m 227.7   \u001b[0m | \u001b[0m 0.03153 \u001b[0m | \u001b[0m 0.08269 \u001b[0m |\n",
      "| \u001b[0m 2       \u001b[0m | \u001b[0m 290.5   \u001b[0m | \u001b[0m 0.9034  \u001b[0m | \u001b[0m 1.35    \u001b[0m | \u001b[0m 459.7   \u001b[0m | \u001b[0m 0.006051\u001b[0m | \u001b[0m 0.01807 \u001b[0m |\n",
      "| \u001b[0m 3       \u001b[0m | \u001b[0m 290.5   \u001b[0m | \u001b[0m 0.0723  \u001b[0m | \u001b[0m 5.129   \u001b[0m | \u001b[0m 361.5   \u001b[0m | \u001b[0m 0.04832 \u001b[0m | \u001b[0m 0.002545\u001b[0m |\n",
      "| \u001b[0m 4       \u001b[0m | \u001b[0m 290.5   \u001b[0m | \u001b[0m 0.0669  \u001b[0m | \u001b[0m 4.833   \u001b[0m | \u001b[0m 129.1   \u001b[0m | \u001b[0m 0.08101 \u001b[0m | \u001b[0m 0.01401 \u001b[0m |\n",
      "| \u001b[0m 5       \u001b[0m | \u001b[0m 290.5   \u001b[0m | \u001b[0m 0.7512  \u001b[0m | \u001b[0m 3.512   \u001b[0m | \u001b[0m 475.8   \u001b[0m | \u001b[0m 0.0885  \u001b[0m | \u001b[0m 0.06102 \u001b[0m |\n",
      "| \u001b[0m 6       \u001b[0m | \u001b[0m 290.5   \u001b[0m | \u001b[0m 0.7791  \u001b[0m | \u001b[0m 1.374   \u001b[0m | \u001b[0m 398.5   \u001b[0m | \u001b[0m 0.09025 \u001b[0m | \u001b[0m 0.0433  \u001b[0m |\n",
      "| \u001b[0m 7       \u001b[0m | \u001b[0m 290.5   \u001b[0m | \u001b[0m 0.8866  \u001b[0m | \u001b[0m 5.937   \u001b[0m | \u001b[0m 493.8   \u001b[0m | \u001b[0m 0.05653 \u001b[0m | \u001b[0m 0.0901  \u001b[0m |\n",
      "| \u001b[0m 8       \u001b[0m | \u001b[0m 290.5   \u001b[0m | \u001b[0m 0.5637  \u001b[0m | \u001b[0m 1.863   \u001b[0m | \u001b[0m 318.3   \u001b[0m | \u001b[0m 0.006001\u001b[0m | \u001b[0m 0.05804 \u001b[0m |\n",
      "| \u001b[0m 9       \u001b[0m | \u001b[0m 290.5   \u001b[0m | \u001b[0m 0.8717  \u001b[0m | \u001b[0m 8.199   \u001b[0m | \u001b[0m 56.66   \u001b[0m | \u001b[0m 0.006015\u001b[0m | \u001b[0m 0.08993 \u001b[0m |\n",
      "| \u001b[0m 10      \u001b[0m | \u001b[0m 290.5   \u001b[0m | \u001b[0m 0.6437  \u001b[0m | \u001b[0m 7.012   \u001b[0m | \u001b[0m 72.57   \u001b[0m | \u001b[0m 0.0646  \u001b[0m | \u001b[0m 0.004273\u001b[0m |\n",
      "| \u001b[0m 11      \u001b[0m | \u001b[0m 290.5   \u001b[0m | \u001b[0m 0.6171  \u001b[0m | \u001b[0m 3.358   \u001b[0m | \u001b[0m 365.8   \u001b[0m | \u001b[0m 0.09969 \u001b[0m | \u001b[0m 0.026   \u001b[0m |\n",
      "| \u001b[0m 12      \u001b[0m | \u001b[0m 290.5   \u001b[0m | \u001b[0m 0.3193  \u001b[0m | \u001b[0m 2.403   \u001b[0m | \u001b[0m 29.12   \u001b[0m | \u001b[0m 0.04974 \u001b[0m | \u001b[0m 0.02333 \u001b[0m |\n",
      "| \u001b[0m 13      \u001b[0m | \u001b[0m 290.5   \u001b[0m | \u001b[0m 0.1084  \u001b[0m | \u001b[0m 9.508   \u001b[0m | \u001b[0m 448.3   \u001b[0m | \u001b[0m 0.02787 \u001b[0m | \u001b[0m 0.08262 \u001b[0m |\n",
      "| \u001b[0m 14      \u001b[0m | \u001b[0m 290.5   \u001b[0m | \u001b[0m 0.4488  \u001b[0m | \u001b[0m 1.2     \u001b[0m | \u001b[0m 454.4   \u001b[0m | \u001b[0m 0.0639  \u001b[0m | \u001b[0m 0.06119 \u001b[0m |\n",
      "| \u001b[0m 15      \u001b[0m | \u001b[0m 290.5   \u001b[0m | \u001b[0m 0.5869  \u001b[0m | \u001b[0m 4.01    \u001b[0m | \u001b[0m 147.9   \u001b[0m | \u001b[0m 0.03864 \u001b[0m | \u001b[0m 0.05321 \u001b[0m |\n",
      "| \u001b[0m 16      \u001b[0m | \u001b[0m 290.5   \u001b[0m | \u001b[0m 0.9719  \u001b[0m | \u001b[0m 9.454   \u001b[0m | \u001b[0m 79.17   \u001b[0m | \u001b[0m 0.09699 \u001b[0m | \u001b[0m 0.05437 \u001b[0m |\n",
      "| \u001b[0m 17      \u001b[0m | \u001b[0m 290.5   \u001b[0m | \u001b[0m 0.4692  \u001b[0m | \u001b[0m 4.897   \u001b[0m | \u001b[0m 130.3   \u001b[0m | \u001b[0m 0.03131 \u001b[0m | \u001b[0m 0.09047 \u001b[0m |\n",
      "| \u001b[0m 18      \u001b[0m | \u001b[0m 290.5   \u001b[0m | \u001b[0m 0.9692  \u001b[0m | \u001b[0m 5.926   \u001b[0m | \u001b[0m 175.4   \u001b[0m | \u001b[0m 0.02827 \u001b[0m | \u001b[0m 0.06274 \u001b[0m |\n",
      "| \u001b[0m 19      \u001b[0m | \u001b[0m 290.5   \u001b[0m | \u001b[0m 0.147   \u001b[0m | \u001b[0m 4.971   \u001b[0m | \u001b[0m 248.5   \u001b[0m | \u001b[0m 0.0348  \u001b[0m | \u001b[0m 0.06648 \u001b[0m |\n",
      "| \u001b[0m 20      \u001b[0m | \u001b[0m 290.5   \u001b[0m | \u001b[0m 0.9434  \u001b[0m | \u001b[0m 3.845   \u001b[0m | \u001b[0m 73.14   \u001b[0m | \u001b[0m 0.02811 \u001b[0m | \u001b[0m 0.006185\u001b[0m |\n",
      "| \u001b[0m 21      \u001b[0m | \u001b[0m 290.5   \u001b[0m | \u001b[0m 0.7615  \u001b[0m | \u001b[0m 9.208   \u001b[0m | \u001b[0m 395.6   \u001b[0m | \u001b[0m 0.004268\u001b[0m | \u001b[0m 0.009628\u001b[0m |\n",
      "| \u001b[0m 22      \u001b[0m | \u001b[0m 290.5   \u001b[0m | \u001b[0m 0.9636  \u001b[0m | \u001b[0m 2.643   \u001b[0m | \u001b[0m 225.8   \u001b[0m | \u001b[0m 0.009857\u001b[0m | \u001b[0m 0.0392  \u001b[0m |\n",
      "| \u001b[0m 23      \u001b[0m | \u001b[0m 290.5   \u001b[0m | \u001b[0m 0.3701  \u001b[0m | \u001b[0m 2.584   \u001b[0m | \u001b[0m 411.0   \u001b[0m | \u001b[0m 0.0156  \u001b[0m | \u001b[0m 0.03746 \u001b[0m |\n",
      "| \u001b[0m 24      \u001b[0m | \u001b[0m 290.5   \u001b[0m | \u001b[0m 0.8679  \u001b[0m | \u001b[0m 1.824   \u001b[0m | \u001b[0m 345.2   \u001b[0m | \u001b[0m 0.05167 \u001b[0m | \u001b[0m 0.04309 \u001b[0m |\n",
      "| \u001b[0m 25      \u001b[0m | \u001b[0m 290.5   \u001b[0m | \u001b[0m 0.5181  \u001b[0m | \u001b[0m 2.311   \u001b[0m | \u001b[0m 242.5   \u001b[0m | \u001b[0m 0.02537 \u001b[0m | \u001b[0m 0.03153 \u001b[0m |\n",
      "| \u001b[0m 26      \u001b[0m | \u001b[0m 290.5   \u001b[0m | \u001b[0m 0.2911  \u001b[0m | \u001b[0m 1.092   \u001b[0m | \u001b[0m 25.31   \u001b[0m | \u001b[0m 0.01354 \u001b[0m | \u001b[0m 0.06818 \u001b[0m |\n",
      "| \u001b[0m 27      \u001b[0m | \u001b[0m 290.5   \u001b[0m | \u001b[0m 0.5208  \u001b[0m | \u001b[0m 9.983   \u001b[0m | \u001b[0m 500.0   \u001b[0m | \u001b[0m 0.06413 \u001b[0m | \u001b[0m 0.08767 \u001b[0m |\n",
      "| \u001b[0m 28      \u001b[0m | \u001b[0m 290.5   \u001b[0m | \u001b[0m 0.4749  \u001b[0m | \u001b[0m 9.866   \u001b[0m | \u001b[0m 25.88   \u001b[0m | \u001b[0m 0.06973 \u001b[0m | \u001b[0m 0.01475 \u001b[0m |\n",
      "| \u001b[0m 29      \u001b[0m | \u001b[0m 290.5   \u001b[0m | \u001b[0m 0.9285  \u001b[0m | \u001b[0m 9.958   \u001b[0m | \u001b[0m 500.0   \u001b[0m | \u001b[0m 0.02162 \u001b[0m | \u001b[0m 0.08191 \u001b[0m |\n",
      "| \u001b[0m 30      \u001b[0m | \u001b[0m 290.5   \u001b[0m | \u001b[0m 0.3371  \u001b[0m | \u001b[0m 9.776   \u001b[0m | \u001b[0m 25.12   \u001b[0m | \u001b[0m 0.07272 \u001b[0m | \u001b[0m 0.06321 \u001b[0m |\n",
      "| \u001b[0m 31      \u001b[0m | \u001b[0m 290.5   \u001b[0m | \u001b[0m 0.4627  \u001b[0m | \u001b[0m 9.645   \u001b[0m | \u001b[0m 499.4   \u001b[0m | \u001b[0m 0.04694 \u001b[0m | \u001b[0m 0.09541 \u001b[0m |\n",
      "| \u001b[0m 32      \u001b[0m | \u001b[0m 290.5   \u001b[0m | \u001b[0m 0.7915  \u001b[0m | \u001b[0m 9.553   \u001b[0m | \u001b[0m 25.54   \u001b[0m | \u001b[0m 0.09454 \u001b[0m | \u001b[0m 0.07544 \u001b[0m |\n"
     ]
    },
    {
     "ename": "KeyboardInterrupt",
     "evalue": "",
     "output_type": "error",
     "traceback": [
      "\u001b[0;31m---------------------------------------------------------------------------\u001b[0m",
      "\u001b[0;31mKeyError\u001b[0m                                  Traceback (most recent call last)",
      "\u001b[0;32m/anaconda3/lib/python3.7/site-packages/bayes_opt/target_space.py\u001b[0m in \u001b[0;36mprobe\u001b[0;34m(self, params)\u001b[0m\n\u001b[1;32m    190\u001b[0m         \u001b[0;32mtry\u001b[0m\u001b[0;34m:\u001b[0m\u001b[0;34m\u001b[0m\u001b[0;34m\u001b[0m\u001b[0m\n\u001b[0;32m--> 191\u001b[0;31m             \u001b[0mtarget\u001b[0m \u001b[0;34m=\u001b[0m \u001b[0mself\u001b[0m\u001b[0;34m.\u001b[0m\u001b[0m_cache\u001b[0m\u001b[0;34m[\u001b[0m\u001b[0m_hashable\u001b[0m\u001b[0;34m(\u001b[0m\u001b[0mx\u001b[0m\u001b[0;34m)\u001b[0m\u001b[0;34m]\u001b[0m\u001b[0;34m\u001b[0m\u001b[0;34m\u001b[0m\u001b[0m\n\u001b[0m\u001b[1;32m    192\u001b[0m         \u001b[0;32mexcept\u001b[0m \u001b[0mKeyError\u001b[0m\u001b[0;34m:\u001b[0m\u001b[0;34m\u001b[0m\u001b[0;34m\u001b[0m\u001b[0m\n",
      "\u001b[0;31mKeyError\u001b[0m: (0.06547815739609408, 9.584605227828515, 499.46491976623224, 0.026093369615660326, 0.056488199847525164)",
      "\nDuring handling of the above exception, another exception occurred:\n",
      "\u001b[0;31mKeyboardInterrupt\u001b[0m                         Traceback (most recent call last)",
      "\u001b[0;32m<ipython-input-91-6e2828d97684>\u001b[0m in \u001b[0;36m<module>\u001b[0;34m\u001b[0m\n\u001b[1;32m      1\u001b[0m \u001b[0moptimization_xgb\u001b[0m \u001b[0;34m=\u001b[0m \u001b[0mBayesianOptimization\u001b[0m\u001b[0;34m(\u001b[0m\u001b[0mevaluateXgb\u001b[0m\u001b[0;34m,\u001b[0m \u001b[0mparams_xgb\u001b[0m\u001b[0;34m,\u001b[0m \u001b[0mrandom_state\u001b[0m\u001b[0;34m=\u001b[0m\u001b[0;36m231\u001b[0m\u001b[0;34m)\u001b[0m\u001b[0;34m\u001b[0m\u001b[0;34m\u001b[0m\u001b[0m\n\u001b[0;32m----> 2\u001b[0;31m \u001b[0moptimization_xgb\u001b[0m\u001b[0;34m.\u001b[0m\u001b[0mmaximize\u001b[0m\u001b[0;34m(\u001b[0m\u001b[0mn_iter\u001b[0m\u001b[0;34m=\u001b[0m\u001b[0;36m100\u001b[0m\u001b[0;34m,\u001b[0m \u001b[0minit_points\u001b[0m\u001b[0;34m=\u001b[0m\u001b[0;36m25\u001b[0m\u001b[0;34m)\u001b[0m\u001b[0;34m\u001b[0m\u001b[0;34m\u001b[0m\u001b[0m\n\u001b[0m",
      "\u001b[0;32m/anaconda3/lib/python3.7/site-packages/bayes_opt/bayesian_optimization.py\u001b[0m in \u001b[0;36mmaximize\u001b[0;34m(self, init_points, n_iter, acq, kappa, xi, **gp_params)\u001b[0m\n\u001b[1;32m    172\u001b[0m                 \u001b[0miteration\u001b[0m \u001b[0;34m+=\u001b[0m \u001b[0;36m1\u001b[0m\u001b[0;34m\u001b[0m\u001b[0;34m\u001b[0m\u001b[0m\n\u001b[1;32m    173\u001b[0m \u001b[0;34m\u001b[0m\u001b[0m\n\u001b[0;32m--> 174\u001b[0;31m             \u001b[0mself\u001b[0m\u001b[0;34m.\u001b[0m\u001b[0mprobe\u001b[0m\u001b[0;34m(\u001b[0m\u001b[0mx_probe\u001b[0m\u001b[0;34m,\u001b[0m \u001b[0mlazy\u001b[0m\u001b[0;34m=\u001b[0m\u001b[0;32mFalse\u001b[0m\u001b[0;34m)\u001b[0m\u001b[0;34m\u001b[0m\u001b[0;34m\u001b[0m\u001b[0m\n\u001b[0m\u001b[1;32m    175\u001b[0m \u001b[0;34m\u001b[0m\u001b[0m\n\u001b[1;32m    176\u001b[0m         \u001b[0mself\u001b[0m\u001b[0;34m.\u001b[0m\u001b[0mdispatch\u001b[0m\u001b[0;34m(\u001b[0m\u001b[0mEvents\u001b[0m\u001b[0;34m.\u001b[0m\u001b[0mOPTMIZATION_END\u001b[0m\u001b[0;34m)\u001b[0m\u001b[0;34m\u001b[0m\u001b[0;34m\u001b[0m\u001b[0m\n",
      "\u001b[0;32m/anaconda3/lib/python3.7/site-packages/bayes_opt/bayesian_optimization.py\u001b[0m in \u001b[0;36mprobe\u001b[0;34m(self, params, lazy)\u001b[0m\n\u001b[1;32m    110\u001b[0m             \u001b[0mself\u001b[0m\u001b[0;34m.\u001b[0m\u001b[0m_queue\u001b[0m\u001b[0;34m.\u001b[0m\u001b[0madd\u001b[0m\u001b[0;34m(\u001b[0m\u001b[0mparams\u001b[0m\u001b[0;34m)\u001b[0m\u001b[0;34m\u001b[0m\u001b[0;34m\u001b[0m\u001b[0m\n\u001b[1;32m    111\u001b[0m         \u001b[0;32melse\u001b[0m\u001b[0;34m:\u001b[0m\u001b[0;34m\u001b[0m\u001b[0;34m\u001b[0m\u001b[0m\n\u001b[0;32m--> 112\u001b[0;31m             \u001b[0mself\u001b[0m\u001b[0;34m.\u001b[0m\u001b[0m_space\u001b[0m\u001b[0;34m.\u001b[0m\u001b[0mprobe\u001b[0m\u001b[0;34m(\u001b[0m\u001b[0mparams\u001b[0m\u001b[0;34m)\u001b[0m\u001b[0;34m\u001b[0m\u001b[0;34m\u001b[0m\u001b[0m\n\u001b[0m\u001b[1;32m    113\u001b[0m             \u001b[0mself\u001b[0m\u001b[0;34m.\u001b[0m\u001b[0mdispatch\u001b[0m\u001b[0;34m(\u001b[0m\u001b[0mEvents\u001b[0m\u001b[0;34m.\u001b[0m\u001b[0mOPTMIZATION_STEP\u001b[0m\u001b[0;34m)\u001b[0m\u001b[0;34m\u001b[0m\u001b[0;34m\u001b[0m\u001b[0m\n\u001b[1;32m    114\u001b[0m \u001b[0;34m\u001b[0m\u001b[0m\n",
      "\u001b[0;32m/anaconda3/lib/python3.7/site-packages/bayes_opt/target_space.py\u001b[0m in \u001b[0;36mprobe\u001b[0;34m(self, params)\u001b[0m\n\u001b[1;32m    192\u001b[0m         \u001b[0;32mexcept\u001b[0m \u001b[0mKeyError\u001b[0m\u001b[0;34m:\u001b[0m\u001b[0;34m\u001b[0m\u001b[0;34m\u001b[0m\u001b[0m\n\u001b[1;32m    193\u001b[0m             \u001b[0mparams\u001b[0m \u001b[0;34m=\u001b[0m \u001b[0mdict\u001b[0m\u001b[0;34m(\u001b[0m\u001b[0mzip\u001b[0m\u001b[0;34m(\u001b[0m\u001b[0mself\u001b[0m\u001b[0;34m.\u001b[0m\u001b[0m_keys\u001b[0m\u001b[0;34m,\u001b[0m \u001b[0mx\u001b[0m\u001b[0;34m)\u001b[0m\u001b[0;34m)\u001b[0m\u001b[0;34m\u001b[0m\u001b[0;34m\u001b[0m\u001b[0m\n\u001b[0;32m--> 194\u001b[0;31m             \u001b[0mtarget\u001b[0m \u001b[0;34m=\u001b[0m \u001b[0mself\u001b[0m\u001b[0;34m.\u001b[0m\u001b[0mtarget_func\u001b[0m\u001b[0;34m(\u001b[0m\u001b[0;34m**\u001b[0m\u001b[0mparams\u001b[0m\u001b[0;34m)\u001b[0m\u001b[0;34m\u001b[0m\u001b[0;34m\u001b[0m\u001b[0m\n\u001b[0m\u001b[1;32m    195\u001b[0m             \u001b[0mself\u001b[0m\u001b[0;34m.\u001b[0m\u001b[0mregister\u001b[0m\u001b[0;34m(\u001b[0m\u001b[0mx\u001b[0m\u001b[0;34m,\u001b[0m \u001b[0mtarget\u001b[0m\u001b[0;34m)\u001b[0m\u001b[0;34m\u001b[0m\u001b[0;34m\u001b[0m\u001b[0m\n\u001b[1;32m    196\u001b[0m         \u001b[0;32mreturn\u001b[0m \u001b[0mtarget\u001b[0m\u001b[0;34m\u001b[0m\u001b[0;34m\u001b[0m\u001b[0m\n",
      "\u001b[0;32m<ipython-input-88-92f8b2d673b7>\u001b[0m in \u001b[0;36mevaluateXgb\u001b[0;34m(max_depth, n_estimators, gamma, reg_alpha, reg_lambda)\u001b[0m\n\u001b[1;32m      4\u001b[0m                           reg_alpha=reg_alpha, reg_lambda=reg_lambda, n_jobs=-1, random_state=231)\n\u001b[1;32m      5\u001b[0m \u001b[0;34m\u001b[0m\u001b[0m\n\u001b[0;32m----> 6\u001b[0;31m     \u001b[0;32mreturn\u001b[0m \u001b[0mcross_val_imbalanced\u001b[0m\u001b[0;34m(\u001b[0m\u001b[0mmodel\u001b[0m\u001b[0;34m,\u001b[0m \u001b[0mX_train_prepared\u001b[0m\u001b[0;34m,\u001b[0m \u001b[0my_train\u001b[0m\u001b[0;34m,\u001b[0m \u001b[0mSMOTE\u001b[0m\u001b[0;34m(\u001b[0m\u001b[0mrandom_state\u001b[0m\u001b[0;34m=\u001b[0m\u001b[0;36m42\u001b[0m\u001b[0;34m)\u001b[0m\u001b[0;34m)\u001b[0m\u001b[0;34m\u001b[0m\u001b[0;34m\u001b[0m\u001b[0m\n\u001b[0m",
      "\u001b[0;32m<ipython-input-75-af4d24caaae1>\u001b[0m in \u001b[0;36mcross_val_imbalanced\u001b[0;34m(classifier, X, y, sampler)\u001b[0m\n\u001b[1;32m     12\u001b[0m \u001b[0;34m\u001b[0m\u001b[0m\n\u001b[1;32m     13\u001b[0m         \u001b[0;31m# training the model on oversampled 4 folds of training set\u001b[0m\u001b[0;34m\u001b[0m\u001b[0;34m\u001b[0m\u001b[0;34m\u001b[0m\u001b[0m\n\u001b[0;32m---> 14\u001b[0;31m         \u001b[0mclassifier\u001b[0m\u001b[0;34m.\u001b[0m\u001b[0mfit\u001b[0m\u001b[0;34m(\u001b[0m\u001b[0mpd\u001b[0m\u001b[0;34m.\u001b[0m\u001b[0mDataFrame\u001b[0m\u001b[0;34m(\u001b[0m\u001b[0mX_train_res\u001b[0m\u001b[0;34m)\u001b[0m\u001b[0;34m,\u001b[0m \u001b[0my_train_res\u001b[0m\u001b[0;34m)\u001b[0m\u001b[0;34m\u001b[0m\u001b[0;34m\u001b[0m\u001b[0m\n\u001b[0m\u001b[1;32m     15\u001b[0m         \u001b[0;31m# testing on 1 fold of validation set\u001b[0m\u001b[0;34m\u001b[0m\u001b[0;34m\u001b[0m\u001b[0;34m\u001b[0m\u001b[0m\n\u001b[1;32m     16\u001b[0m         \u001b[0mtest_preds\u001b[0m \u001b[0;34m=\u001b[0m \u001b[0mclassifier\u001b[0m\u001b[0;34m.\u001b[0m\u001b[0mpredict\u001b[0m\u001b[0;34m(\u001b[0m\u001b[0mtest\u001b[0m\u001b[0;34m)\u001b[0m\u001b[0;34m\u001b[0m\u001b[0;34m\u001b[0m\u001b[0m\n",
      "\u001b[0;32m/anaconda3/lib/python3.7/site-packages/xgboost/sklearn.py\u001b[0m in \u001b[0;36mfit\u001b[0;34m(self, X, y, sample_weight, eval_set, eval_metric, early_stopping_rounds, verbose, xgb_model, sample_weight_eval_set, callbacks)\u001b[0m\n\u001b[1;32m    711\u001b[0m                               \u001b[0mevals_result\u001b[0m\u001b[0;34m=\u001b[0m\u001b[0mevals_result\u001b[0m\u001b[0;34m,\u001b[0m \u001b[0mobj\u001b[0m\u001b[0;34m=\u001b[0m\u001b[0mobj\u001b[0m\u001b[0;34m,\u001b[0m \u001b[0mfeval\u001b[0m\u001b[0;34m=\u001b[0m\u001b[0mfeval\u001b[0m\u001b[0;34m,\u001b[0m\u001b[0;34m\u001b[0m\u001b[0;34m\u001b[0m\u001b[0m\n\u001b[1;32m    712\u001b[0m                               \u001b[0mverbose_eval\u001b[0m\u001b[0;34m=\u001b[0m\u001b[0mverbose\u001b[0m\u001b[0;34m,\u001b[0m \u001b[0mxgb_model\u001b[0m\u001b[0;34m=\u001b[0m\u001b[0mxgb_model\u001b[0m\u001b[0;34m,\u001b[0m\u001b[0;34m\u001b[0m\u001b[0;34m\u001b[0m\u001b[0m\n\u001b[0;32m--> 713\u001b[0;31m                               callbacks=callbacks)\n\u001b[0m\u001b[1;32m    714\u001b[0m \u001b[0;34m\u001b[0m\u001b[0m\n\u001b[1;32m    715\u001b[0m         \u001b[0mself\u001b[0m\u001b[0;34m.\u001b[0m\u001b[0mobjective\u001b[0m \u001b[0;34m=\u001b[0m \u001b[0mxgb_options\u001b[0m\u001b[0;34m[\u001b[0m\u001b[0;34m\"objective\"\u001b[0m\u001b[0;34m]\u001b[0m\u001b[0;34m\u001b[0m\u001b[0;34m\u001b[0m\u001b[0m\n",
      "\u001b[0;32m/anaconda3/lib/python3.7/site-packages/xgboost/training.py\u001b[0m in \u001b[0;36mtrain\u001b[0;34m(params, dtrain, num_boost_round, evals, obj, feval, maximize, early_stopping_rounds, evals_result, verbose_eval, xgb_model, callbacks, learning_rates)\u001b[0m\n\u001b[1;32m    214\u001b[0m                            \u001b[0mevals\u001b[0m\u001b[0;34m=\u001b[0m\u001b[0mevals\u001b[0m\u001b[0;34m,\u001b[0m\u001b[0;34m\u001b[0m\u001b[0;34m\u001b[0m\u001b[0m\n\u001b[1;32m    215\u001b[0m                            \u001b[0mobj\u001b[0m\u001b[0;34m=\u001b[0m\u001b[0mobj\u001b[0m\u001b[0;34m,\u001b[0m \u001b[0mfeval\u001b[0m\u001b[0;34m=\u001b[0m\u001b[0mfeval\u001b[0m\u001b[0;34m,\u001b[0m\u001b[0;34m\u001b[0m\u001b[0;34m\u001b[0m\u001b[0m\n\u001b[0;32m--> 216\u001b[0;31m                            xgb_model=xgb_model, callbacks=callbacks)\n\u001b[0m\u001b[1;32m    217\u001b[0m \u001b[0;34m\u001b[0m\u001b[0m\n\u001b[1;32m    218\u001b[0m \u001b[0;34m\u001b[0m\u001b[0m\n",
      "\u001b[0;32m/anaconda3/lib/python3.7/site-packages/xgboost/training.py\u001b[0m in \u001b[0;36m_train_internal\u001b[0;34m(params, dtrain, num_boost_round, evals, obj, feval, xgb_model, callbacks)\u001b[0m\n\u001b[1;32m     72\u001b[0m         \u001b[0;31m# Skip the first update if it is a recovery step.\u001b[0m\u001b[0;34m\u001b[0m\u001b[0;34m\u001b[0m\u001b[0;34m\u001b[0m\u001b[0m\n\u001b[1;32m     73\u001b[0m         \u001b[0;32mif\u001b[0m \u001b[0mversion\u001b[0m \u001b[0;34m%\u001b[0m \u001b[0;36m2\u001b[0m \u001b[0;34m==\u001b[0m \u001b[0;36m0\u001b[0m\u001b[0;34m:\u001b[0m\u001b[0;34m\u001b[0m\u001b[0;34m\u001b[0m\u001b[0m\n\u001b[0;32m---> 74\u001b[0;31m             \u001b[0mbst\u001b[0m\u001b[0;34m.\u001b[0m\u001b[0mupdate\u001b[0m\u001b[0;34m(\u001b[0m\u001b[0mdtrain\u001b[0m\u001b[0;34m,\u001b[0m \u001b[0mi\u001b[0m\u001b[0;34m,\u001b[0m \u001b[0mobj\u001b[0m\u001b[0;34m)\u001b[0m\u001b[0;34m\u001b[0m\u001b[0;34m\u001b[0m\u001b[0m\n\u001b[0m\u001b[1;32m     75\u001b[0m             \u001b[0mbst\u001b[0m\u001b[0;34m.\u001b[0m\u001b[0msave_rabit_checkpoint\u001b[0m\u001b[0;34m(\u001b[0m\u001b[0;34m)\u001b[0m\u001b[0;34m\u001b[0m\u001b[0;34m\u001b[0m\u001b[0m\n\u001b[1;32m     76\u001b[0m             \u001b[0mversion\u001b[0m \u001b[0;34m+=\u001b[0m \u001b[0;36m1\u001b[0m\u001b[0;34m\u001b[0m\u001b[0;34m\u001b[0m\u001b[0m\n",
      "\u001b[0;32m/anaconda3/lib/python3.7/site-packages/xgboost/core.py\u001b[0m in \u001b[0;36mupdate\u001b[0;34m(self, dtrain, iteration, fobj)\u001b[0m\n\u001b[1;32m   1108\u001b[0m         \u001b[0;32mif\u001b[0m \u001b[0mfobj\u001b[0m \u001b[0;32mis\u001b[0m \u001b[0;32mNone\u001b[0m\u001b[0;34m:\u001b[0m\u001b[0;34m\u001b[0m\u001b[0;34m\u001b[0m\u001b[0m\n\u001b[1;32m   1109\u001b[0m             _check_call(_LIB.XGBoosterUpdateOneIter(self.handle, ctypes.c_int(iteration),\n\u001b[0;32m-> 1110\u001b[0;31m                                                     dtrain.handle))\n\u001b[0m\u001b[1;32m   1111\u001b[0m         \u001b[0;32melse\u001b[0m\u001b[0;34m:\u001b[0m\u001b[0;34m\u001b[0m\u001b[0;34m\u001b[0m\u001b[0m\n\u001b[1;32m   1112\u001b[0m             \u001b[0mpred\u001b[0m \u001b[0;34m=\u001b[0m \u001b[0mself\u001b[0m\u001b[0;34m.\u001b[0m\u001b[0mpredict\u001b[0m\u001b[0;34m(\u001b[0m\u001b[0mdtrain\u001b[0m\u001b[0;34m)\u001b[0m\u001b[0;34m\u001b[0m\u001b[0;34m\u001b[0m\u001b[0m\n",
      "\u001b[0;31mKeyboardInterrupt\u001b[0m: "
     ]
    }
   ],
   "source": [
    "optimization_xgb = BayesianOptimization(evaluateXgb, params_xgb, random_state=231)\n",
    "optimization_xgb.maximize(n_iter=100, init_points=25)"
   ]
  },
  {
   "cell_type": "code",
   "execution_count": 92,
   "metadata": {},
   "outputs": [
    {
     "data": {
      "text/plain": [
       "{'target': 290.5,\n",
       " 'params': {'gamma': 0.78149404082882,\n",
       "  'max_depth': 6.2578820447698895,\n",
       "  'n_estimators': 227.68728333983438,\n",
       "  'reg_alpha': 0.031534470176196934,\n",
       "  'reg_lambda': 0.08268882927323766}}"
      ]
     },
     "execution_count": 92,
     "metadata": {},
     "output_type": "execute_result"
    }
   ],
   "source": [
    "optimization_xgb.max"
   ]
  },
  {
   "cell_type": "code",
   "execution_count": 93,
   "metadata": {},
   "outputs": [
    {
     "data": {
      "text/plain": [
       "-4420"
      ]
     },
     "execution_count": 93,
     "metadata": {},
     "output_type": "execute_result"
    }
   ],
   "source": [
    "# Evaluation on the original training set\n",
    "xgb = XGBClassifier(n_estimators=227, gamma=0.78149404082882, max_depth=6, \n",
    "                    reg_alpha=0.031534470176196934, reg_lambda=0.08268882927323766)\n",
    "xgb.fit(X_train_prepared, y_train)\n",
    "xgb_pred = xgb.predict(X_test_prepared)\n",
    "profit_scorer(y_test, xgb_pred)"
   ]
  },
  {
   "cell_type": "markdown",
   "metadata": {},
   "source": [
    "#### Logistic Regression"
   ]
  },
  {
   "cell_type": "code",
   "execution_count": 94,
   "metadata": {},
   "outputs": [],
   "source": [
    "def evaluateLogReg(C):\n",
    "    \n",
    "    model = LogisticRegression(C=C, max_iter=1000, solver='lbfgs')\n",
    "    \n",
    "    return cross_val_imbalanced(model, X_train_prepared, y_train, SMOTE(random_state=42))"
   ]
  },
  {
   "cell_type": "code",
   "execution_count": 95,
   "metadata": {},
   "outputs": [],
   "source": [
    "params_logreg = {\n",
    "    'C': (0.0001, 10000)\n",
    "}"
   ]
  },
  {
   "cell_type": "code",
   "execution_count": 96,
   "metadata": {},
   "outputs": [
    {
     "name": "stdout",
     "output_type": "stream",
     "text": [
      "|   iter    |  target   |     C     |\n",
      "-------------------------------------\n",
      "| \u001b[0m 1       \u001b[0m | \u001b[0m 290.5   \u001b[0m | \u001b[0m 7.815e+0\u001b[0m |\n",
      "| \u001b[0m 2       \u001b[0m | \u001b[0m 290.5   \u001b[0m | \u001b[0m 5.842e+0\u001b[0m |\n",
      "| \u001b[0m 3       \u001b[0m | \u001b[0m 290.5   \u001b[0m | \u001b[0m 4.267e+0\u001b[0m |\n",
      "| \u001b[0m 4       \u001b[0m | \u001b[0m 290.5   \u001b[0m | \u001b[0m 3.153e+0\u001b[0m |\n",
      "| \u001b[0m 5       \u001b[0m | \u001b[0m 290.5   \u001b[0m | \u001b[0m 8.269e+0\u001b[0m |\n",
      "| \u001b[0m 6       \u001b[0m | \u001b[0m 290.5   \u001b[0m | \u001b[0m 9.034e+0\u001b[0m |\n",
      "| \u001b[0m 7       \u001b[0m | \u001b[0m 290.5   \u001b[0m | \u001b[0m 389.4   \u001b[0m |\n",
      "| \u001b[0m 8       \u001b[0m | \u001b[0m 290.5   \u001b[0m | \u001b[0m 9.152e+0\u001b[0m |\n",
      "| \u001b[0m 9       \u001b[0m | \u001b[0m 290.5   \u001b[0m | \u001b[0m 605.1   \u001b[0m |\n",
      "| \u001b[0m 10      \u001b[0m | \u001b[0m 290.5   \u001b[0m | \u001b[0m 1.807e+0\u001b[0m |\n",
      "| \u001b[0m 11      \u001b[0m | \u001b[0m 290.5   \u001b[0m | \u001b[0m 723.0   \u001b[0m |\n",
      "| \u001b[0m 12      \u001b[0m | \u001b[0m 290.5   \u001b[0m | \u001b[0m 4.588e+0\u001b[0m |\n",
      "| \u001b[0m 13      \u001b[0m | \u001b[0m 290.5   \u001b[0m | \u001b[0m 7.084e+0\u001b[0m |\n",
      "| \u001b[0m 14      \u001b[0m | \u001b[0m 290.5   \u001b[0m | \u001b[0m 4.832e+0\u001b[0m |\n",
      "| \u001b[0m 15      \u001b[0m | \u001b[0m 290.5   \u001b[0m | \u001b[0m 254.5   \u001b[0m |\n",
      "| \u001b[0m 16      \u001b[0m | \u001b[0m 290.5   \u001b[0m | \u001b[0m 669.0   \u001b[0m |\n",
      "| \u001b[0m 17      \u001b[0m | \u001b[0m 290.5   \u001b[0m | \u001b[0m 4.259e+0\u001b[0m |\n",
      "| \u001b[0m 18      \u001b[0m | \u001b[0m 290.5   \u001b[0m | \u001b[0m 2.192e+0\u001b[0m |\n",
      "| \u001b[0m 19      \u001b[0m | \u001b[0m 290.5   \u001b[0m | \u001b[0m 8.101e+0\u001b[0m |\n",
      "| \u001b[0m 20      \u001b[0m | \u001b[0m 290.5   \u001b[0m | \u001b[0m 1.401e+0\u001b[0m |\n",
      "| \u001b[0m 21      \u001b[0m | \u001b[0m 290.5   \u001b[0m | \u001b[0m 1e+04   \u001b[0m |\n",
      "| \u001b[0m 22      \u001b[0m | \u001b[0m 290.5   \u001b[0m | \u001b[0m 1e+04   \u001b[0m |\n",
      "| \u001b[0m 23      \u001b[0m | \u001b[0m 290.5   \u001b[0m | \u001b[0m 1e+04   \u001b[0m |\n",
      "| \u001b[0m 24      \u001b[0m | \u001b[0m 290.5   \u001b[0m | \u001b[0m 0.3018  \u001b[0m |\n",
      "| \u001b[0m 25      \u001b[0m | \u001b[0m 290.5   \u001b[0m | \u001b[0m 0.1634  \u001b[0m |\n",
      "| \u001b[0m 26      \u001b[0m | \u001b[0m 290.5   \u001b[0m | \u001b[0m 1e+04   \u001b[0m |\n",
      "| \u001b[0m 27      \u001b[0m | \u001b[0m 290.5   \u001b[0m | \u001b[0m 1e+04   \u001b[0m |\n",
      "| \u001b[0m 28      \u001b[0m | \u001b[0m 290.5   \u001b[0m | \u001b[0m 0.4966  \u001b[0m |\n",
      "| \u001b[0m 29      \u001b[0m | \u001b[0m 290.5   \u001b[0m | \u001b[0m 9.999e+0\u001b[0m |\n",
      "| \u001b[0m 30      \u001b[0m | \u001b[0m 290.5   \u001b[0m | \u001b[0m 0.7844  \u001b[0m |\n",
      "| \u001b[0m 31      \u001b[0m | \u001b[0m 290.5   \u001b[0m | \u001b[0m 6.973e+0\u001b[0m |\n",
      "| \u001b[0m 32      \u001b[0m | \u001b[0m 290.5   \u001b[0m | \u001b[0m 0.1911  \u001b[0m |\n",
      "| \u001b[0m 33      \u001b[0m | \u001b[0m 290.5   \u001b[0m | \u001b[0m 9.999e+0\u001b[0m |\n",
      "| \u001b[0m 34      \u001b[0m | \u001b[0m 290.5   \u001b[0m | \u001b[0m 3.035e+0\u001b[0m |\n",
      "| \u001b[0m 35      \u001b[0m | \u001b[0m 290.5   \u001b[0m | \u001b[0m 6.829e+0\u001b[0m |\n",
      "| \u001b[0m 36      \u001b[0m | \u001b[0m 290.5   \u001b[0m | \u001b[0m 9.998e+0\u001b[0m |\n",
      "| \u001b[0m 37      \u001b[0m | \u001b[0m 290.5   \u001b[0m | \u001b[0m 3.788   \u001b[0m |\n",
      "| \u001b[0m 38      \u001b[0m | \u001b[0m 290.5   \u001b[0m | \u001b[0m 2.876e+0\u001b[0m |\n",
      "| \u001b[0m 39      \u001b[0m | \u001b[0m 290.5   \u001b[0m | \u001b[0m 7.1e+03 \u001b[0m |\n",
      "| \u001b[0m 40      \u001b[0m | \u001b[0m 290.5   \u001b[0m | \u001b[0m 1e+04   \u001b[0m |\n",
      "| \u001b[0m 41      \u001b[0m | \u001b[0m 288.0   \u001b[0m | \u001b[0m 0.004559\u001b[0m |\n",
      "| \u001b[0m 42      \u001b[0m | \u001b[0m 290.5   \u001b[0m | \u001b[0m 1.308   \u001b[0m |\n",
      "| \u001b[0m 43      \u001b[0m | \u001b[0m 290.5   \u001b[0m | \u001b[0m 9.035e+0\u001b[0m |\n",
      "| \u001b[0m 44      \u001b[0m | \u001b[0m 290.5   \u001b[0m | \u001b[0m 1.808e+0\u001b[0m |\n",
      "| \u001b[0m 45      \u001b[0m | \u001b[0m 290.5   \u001b[0m | \u001b[0m 388.9   \u001b[0m |\n",
      "| \u001b[0m 46      \u001b[0m | \u001b[0m 290.5   \u001b[0m | \u001b[0m 2.877e+0\u001b[0m |\n",
      "| \u001b[0m 47      \u001b[0m | \u001b[0m 290.5   \u001b[0m | \u001b[0m 2.193e+0\u001b[0m |\n",
      "| \u001b[0m 48      \u001b[0m | \u001b[0m 290.5   \u001b[0m | \u001b[0m 722.5   \u001b[0m |\n",
      "| \u001b[0m 49      \u001b[0m | \u001b[0m 290.5   \u001b[0m | \u001b[0m 7.814e+0\u001b[0m |\n",
      "| \u001b[0m 50      \u001b[0m | \u001b[0m 290.5   \u001b[0m | \u001b[0m 8.102e+0\u001b[0m |\n",
      "| \u001b[0m 51      \u001b[0m | \u001b[0m 290.5   \u001b[0m | \u001b[0m 9.153e+0\u001b[0m |\n",
      "| \u001b[0m 52      \u001b[0m | \u001b[0m 290.5   \u001b[0m | \u001b[0m 6.972e+0\u001b[0m |\n",
      "| \u001b[0m 53      \u001b[0m | \u001b[0m 290.5   \u001b[0m | \u001b[0m 8.269e+0\u001b[0m |\n",
      "| \u001b[0m 54      \u001b[0m | \u001b[0m 290.5   \u001b[0m | \u001b[0m 3.247   \u001b[0m |\n",
      "| \u001b[0m 55      \u001b[0m | \u001b[0m 290.5   \u001b[0m | \u001b[0m 604.5   \u001b[0m |\n",
      "| \u001b[0m 56      \u001b[0m | \u001b[0m 290.5   \u001b[0m | \u001b[0m 4.587e+0\u001b[0m |\n",
      "| \u001b[0m 57      \u001b[0m | \u001b[0m 290.5   \u001b[0m | \u001b[0m 6.829e+0\u001b[0m |\n",
      "| \u001b[0m 58      \u001b[0m | \u001b[0m 290.5   \u001b[0m | \u001b[0m 7.084e+0\u001b[0m |\n",
      "| \u001b[0m 59      \u001b[0m | \u001b[0m 290.5   \u001b[0m | \u001b[0m 3.035e+0\u001b[0m |\n",
      "| \u001b[0m 60      \u001b[0m | \u001b[0m 290.5   \u001b[0m | \u001b[0m 3.154e+0\u001b[0m |\n",
      "| \u001b[0m 61      \u001b[0m | \u001b[0m 290.5   \u001b[0m | \u001b[0m 5.842e+0\u001b[0m |\n",
      "| \u001b[0m 62      \u001b[0m | \u001b[0m 290.5   \u001b[0m | \u001b[0m 4.258e+0\u001b[0m |\n",
      "| \u001b[0m 63      \u001b[0m | \u001b[0m 290.5   \u001b[0m | \u001b[0m 4.268e+0\u001b[0m |\n",
      "| \u001b[0m 64      \u001b[0m | \u001b[0m 290.5   \u001b[0m | \u001b[0m 668.5   \u001b[0m |\n",
      "| \u001b[0m 65      \u001b[0m | \u001b[0m 290.5   \u001b[0m | \u001b[0m 255.0   \u001b[0m |\n",
      "| \u001b[0m 66      \u001b[0m | \u001b[0m 290.5   \u001b[0m | \u001b[0m 7.1e+03 \u001b[0m |\n",
      "| \u001b[0m 67      \u001b[0m | \u001b[0m 290.5   \u001b[0m | \u001b[0m 1.4e+03 \u001b[0m |\n",
      "| \u001b[0m 68      \u001b[0m | \u001b[0m 290.5   \u001b[0m | \u001b[0m 4.833e+0\u001b[0m |\n",
      "| \u001b[0m 69      \u001b[0m | \u001b[0m 290.5   \u001b[0m | \u001b[0m 7.099e+0\u001b[0m |\n",
      "| \u001b[0m 70      \u001b[0m | \u001b[0m 290.5   \u001b[0m | \u001b[0m 9.997e+0\u001b[0m |\n",
      "| \u001b[0m 71      \u001b[0m | \u001b[0m 290.5   \u001b[0m | \u001b[0m 669.6   \u001b[0m |\n",
      "| \u001b[0m 72      \u001b[0m | \u001b[0m 290.5   \u001b[0m | \u001b[0m 7.099e+0\u001b[0m |\n",
      "| \u001b[0m 73      \u001b[0m | \u001b[0m 290.5   \u001b[0m | \u001b[0m 7.101e+0\u001b[0m |\n",
      "| \u001b[0m 74      \u001b[0m | \u001b[0m 290.5   \u001b[0m | \u001b[0m 670.2   \u001b[0m |\n",
      "| \u001b[0m 75      \u001b[0m | \u001b[0m 290.5   \u001b[0m | \u001b[0m 4.268e+0\u001b[0m |\n",
      "| \u001b[0m 76      \u001b[0m | \u001b[0m 290.5   \u001b[0m | \u001b[0m 1.399e+0\u001b[0m |\n",
      "| \u001b[0m 77      \u001b[0m | \u001b[0m 290.5   \u001b[0m | \u001b[0m 4.833e+0\u001b[0m |\n",
      "| \u001b[0m 78      \u001b[0m | \u001b[0m 290.5   \u001b[0m | \u001b[0m 7.098e+0\u001b[0m |\n",
      "| \u001b[0m 79      \u001b[0m | \u001b[0m 290.5   \u001b[0m | \u001b[0m 4.834e+0\u001b[0m |\n",
      "| \u001b[0m 80      \u001b[0m | \u001b[0m 290.5   \u001b[0m | \u001b[0m 1.401e+0\u001b[0m |\n",
      "| \u001b[0m 81      \u001b[0m | \u001b[0m 290.5   \u001b[0m | \u001b[0m 7.097e+0\u001b[0m |\n",
      "| \u001b[0m 82      \u001b[0m | \u001b[0m 290.5   \u001b[0m | \u001b[0m 1.402e+0\u001b[0m |\n",
      "| \u001b[0m 83      \u001b[0m | \u001b[0m 290.5   \u001b[0m | \u001b[0m 667.9   \u001b[0m |\n",
      "| \u001b[0m 84      \u001b[0m | \u001b[0m 290.5   \u001b[0m | \u001b[0m 4.835e+0\u001b[0m |\n",
      "| \u001b[0m 85      \u001b[0m | \u001b[0m 290.5   \u001b[0m | \u001b[0m 4.835e+0\u001b[0m |\n",
      "| \u001b[0m 86      \u001b[0m | \u001b[0m 290.5   \u001b[0m | \u001b[0m 4.267e+0\u001b[0m |\n",
      "| \u001b[0m 87      \u001b[0m | \u001b[0m 290.5   \u001b[0m | \u001b[0m 4.269e+0\u001b[0m |\n",
      "| \u001b[0m 88      \u001b[0m | \u001b[0m 290.5   \u001b[0m | \u001b[0m 7.097e+0\u001b[0m |\n",
      "| \u001b[0m 89      \u001b[0m | \u001b[0m 290.5   \u001b[0m | \u001b[0m 667.3   \u001b[0m |\n",
      "| \u001b[0m 90      \u001b[0m | \u001b[0m 290.5   \u001b[0m | \u001b[0m 1.402e+0\u001b[0m |\n",
      "| \u001b[0m 91      \u001b[0m | \u001b[0m 290.5   \u001b[0m | \u001b[0m 7.096e+0\u001b[0m |\n",
      "| \u001b[0m 92      \u001b[0m | \u001b[0m 290.5   \u001b[0m | \u001b[0m 6.83e+03\u001b[0m |\n",
      "| \u001b[0m 93      \u001b[0m | \u001b[0m 290.5   \u001b[0m | \u001b[0m 1.403e+0\u001b[0m |\n",
      "| \u001b[0m 94      \u001b[0m | \u001b[0m 290.5   \u001b[0m | \u001b[0m 7.096e+0\u001b[0m |\n",
      "| \u001b[0m 95      \u001b[0m | \u001b[0m 290.5   \u001b[0m | \u001b[0m 7.095e+0\u001b[0m |\n",
      "| \u001b[0m 96      \u001b[0m | \u001b[0m 290.5   \u001b[0m | \u001b[0m 1.404e+0\u001b[0m |\n",
      "| \u001b[0m 97      \u001b[0m | \u001b[0m 290.5   \u001b[0m | \u001b[0m 4.259e+0\u001b[0m |\n",
      "| \u001b[0m 98      \u001b[0m | \u001b[0m 290.5   \u001b[0m | \u001b[0m 4.26e+03\u001b[0m |\n",
      "| \u001b[0m 99      \u001b[0m | \u001b[0m 290.5   \u001b[0m | \u001b[0m 670.8   \u001b[0m |\n",
      "| \u001b[0m 100     \u001b[0m | \u001b[0m 290.5   \u001b[0m | \u001b[0m 4.266e+0\u001b[0m |\n"
     ]
    },
    {
     "ename": "KeyboardInterrupt",
     "evalue": "",
     "output_type": "error",
     "traceback": [
      "\u001b[0;31m---------------------------------------------------------------------------\u001b[0m",
      "\u001b[0;31mStopIteration\u001b[0m                             Traceback (most recent call last)",
      "\u001b[0;32m/anaconda3/lib/python3.7/site-packages/bayes_opt/bayesian_optimization.py\u001b[0m in \u001b[0;36mmaximize\u001b[0;34m(self, init_points, n_iter, acq, kappa, xi, **gp_params)\u001b[0m\n\u001b[1;32m    168\u001b[0m             \u001b[0;32mtry\u001b[0m\u001b[0;34m:\u001b[0m\u001b[0;34m\u001b[0m\u001b[0;34m\u001b[0m\u001b[0m\n\u001b[0;32m--> 169\u001b[0;31m                 \u001b[0mx_probe\u001b[0m \u001b[0;34m=\u001b[0m \u001b[0mnext\u001b[0m\u001b[0;34m(\u001b[0m\u001b[0mself\u001b[0m\u001b[0;34m.\u001b[0m\u001b[0m_queue\u001b[0m\u001b[0;34m)\u001b[0m\u001b[0;34m\u001b[0m\u001b[0;34m\u001b[0m\u001b[0m\n\u001b[0m\u001b[1;32m    170\u001b[0m             \u001b[0;32mexcept\u001b[0m \u001b[0mStopIteration\u001b[0m\u001b[0;34m:\u001b[0m\u001b[0;34m\u001b[0m\u001b[0;34m\u001b[0m\u001b[0m\n",
      "\u001b[0;32m/anaconda3/lib/python3.7/site-packages/bayes_opt/bayesian_optimization.py\u001b[0m in \u001b[0;36m__next__\u001b[0;34m(self)\u001b[0m\n\u001b[1;32m     25\u001b[0m         \u001b[0;32mif\u001b[0m \u001b[0mself\u001b[0m\u001b[0;34m.\u001b[0m\u001b[0mempty\u001b[0m\u001b[0;34m:\u001b[0m\u001b[0;34m\u001b[0m\u001b[0;34m\u001b[0m\u001b[0m\n\u001b[0;32m---> 26\u001b[0;31m             \u001b[0;32mraise\u001b[0m \u001b[0mStopIteration\u001b[0m\u001b[0;34m(\u001b[0m\u001b[0;34m\"Queue is empty, no more objects to retrieve.\"\u001b[0m\u001b[0;34m)\u001b[0m\u001b[0;34m\u001b[0m\u001b[0;34m\u001b[0m\u001b[0m\n\u001b[0m\u001b[1;32m     27\u001b[0m         \u001b[0mobj\u001b[0m \u001b[0;34m=\u001b[0m \u001b[0mself\u001b[0m\u001b[0;34m.\u001b[0m\u001b[0m_queue\u001b[0m\u001b[0;34m[\u001b[0m\u001b[0;36m0\u001b[0m\u001b[0;34m]\u001b[0m\u001b[0;34m\u001b[0m\u001b[0;34m\u001b[0m\u001b[0m\n",
      "\u001b[0;31mStopIteration\u001b[0m: Queue is empty, no more objects to retrieve.",
      "\nDuring handling of the above exception, another exception occurred:\n",
      "\u001b[0;31mKeyboardInterrupt\u001b[0m                         Traceback (most recent call last)",
      "\u001b[0;32m<ipython-input-96-dc93a99b5578>\u001b[0m in \u001b[0;36m<module>\u001b[0;34m\u001b[0m\n\u001b[1;32m      1\u001b[0m \u001b[0moptimization_logreg\u001b[0m \u001b[0;34m=\u001b[0m \u001b[0mBayesianOptimization\u001b[0m\u001b[0;34m(\u001b[0m\u001b[0mevaluateLogReg\u001b[0m\u001b[0;34m,\u001b[0m \u001b[0mparams_logreg\u001b[0m\u001b[0;34m,\u001b[0m \u001b[0mrandom_state\u001b[0m\u001b[0;34m=\u001b[0m\u001b[0;36m231\u001b[0m\u001b[0;34m)\u001b[0m\u001b[0;34m\u001b[0m\u001b[0;34m\u001b[0m\u001b[0m\n\u001b[0;32m----> 2\u001b[0;31m \u001b[0moptimization_logreg\u001b[0m\u001b[0;34m.\u001b[0m\u001b[0mmaximize\u001b[0m\u001b[0;34m(\u001b[0m\u001b[0mn_iter\u001b[0m\u001b[0;34m=\u001b[0m\u001b[0;36m1000\u001b[0m\u001b[0;34m,\u001b[0m \u001b[0minit_points\u001b[0m\u001b[0;34m=\u001b[0m\u001b[0;36m20\u001b[0m\u001b[0;34m)\u001b[0m\u001b[0;34m\u001b[0m\u001b[0;34m\u001b[0m\u001b[0m\n\u001b[0m",
      "\u001b[0;32m/anaconda3/lib/python3.7/site-packages/bayes_opt/bayesian_optimization.py\u001b[0m in \u001b[0;36mmaximize\u001b[0;34m(self, init_points, n_iter, acq, kappa, xi, **gp_params)\u001b[0m\n\u001b[1;32m    169\u001b[0m                 \u001b[0mx_probe\u001b[0m \u001b[0;34m=\u001b[0m \u001b[0mnext\u001b[0m\u001b[0;34m(\u001b[0m\u001b[0mself\u001b[0m\u001b[0;34m.\u001b[0m\u001b[0m_queue\u001b[0m\u001b[0;34m)\u001b[0m\u001b[0;34m\u001b[0m\u001b[0;34m\u001b[0m\u001b[0m\n\u001b[1;32m    170\u001b[0m             \u001b[0;32mexcept\u001b[0m \u001b[0mStopIteration\u001b[0m\u001b[0;34m:\u001b[0m\u001b[0;34m\u001b[0m\u001b[0;34m\u001b[0m\u001b[0m\n\u001b[0;32m--> 171\u001b[0;31m                 \u001b[0mx_probe\u001b[0m \u001b[0;34m=\u001b[0m \u001b[0mself\u001b[0m\u001b[0;34m.\u001b[0m\u001b[0msuggest\u001b[0m\u001b[0;34m(\u001b[0m\u001b[0mutil\u001b[0m\u001b[0;34m)\u001b[0m\u001b[0;34m\u001b[0m\u001b[0;34m\u001b[0m\u001b[0m\n\u001b[0m\u001b[1;32m    172\u001b[0m                 \u001b[0miteration\u001b[0m \u001b[0;34m+=\u001b[0m \u001b[0;36m1\u001b[0m\u001b[0;34m\u001b[0m\u001b[0;34m\u001b[0m\u001b[0m\n\u001b[1;32m    173\u001b[0m \u001b[0;34m\u001b[0m\u001b[0m\n",
      "\u001b[0;32m/anaconda3/lib/python3.7/site-packages/bayes_opt/bayesian_optimization.py\u001b[0m in \u001b[0;36msuggest\u001b[0;34m(self, utility_function)\u001b[0m\n\u001b[1;32m    130\u001b[0m             \u001b[0my_max\u001b[0m\u001b[0;34m=\u001b[0m\u001b[0mself\u001b[0m\u001b[0;34m.\u001b[0m\u001b[0m_space\u001b[0m\u001b[0;34m.\u001b[0m\u001b[0mtarget\u001b[0m\u001b[0;34m.\u001b[0m\u001b[0mmax\u001b[0m\u001b[0;34m(\u001b[0m\u001b[0;34m)\u001b[0m\u001b[0;34m,\u001b[0m\u001b[0;34m\u001b[0m\u001b[0;34m\u001b[0m\u001b[0m\n\u001b[1;32m    131\u001b[0m             \u001b[0mbounds\u001b[0m\u001b[0;34m=\u001b[0m\u001b[0mself\u001b[0m\u001b[0;34m.\u001b[0m\u001b[0m_space\u001b[0m\u001b[0;34m.\u001b[0m\u001b[0mbounds\u001b[0m\u001b[0;34m,\u001b[0m\u001b[0;34m\u001b[0m\u001b[0;34m\u001b[0m\u001b[0m\n\u001b[0;32m--> 132\u001b[0;31m             \u001b[0mrandom_state\u001b[0m\u001b[0;34m=\u001b[0m\u001b[0mself\u001b[0m\u001b[0;34m.\u001b[0m\u001b[0m_random_state\u001b[0m\u001b[0;34m\u001b[0m\u001b[0;34m\u001b[0m\u001b[0m\n\u001b[0m\u001b[1;32m    133\u001b[0m         )\n\u001b[1;32m    134\u001b[0m \u001b[0;34m\u001b[0m\u001b[0m\n",
      "\u001b[0;32m/anaconda3/lib/python3.7/site-packages/bayes_opt/util.py\u001b[0m in \u001b[0;36macq_max\u001b[0;34m(ac, gp, y_max, bounds, random_state, n_warmup, n_iter)\u001b[0m\n\u001b[1;32m     44\u001b[0m     x_tries = random_state.uniform(bounds[:, 0], bounds[:, 1],\n\u001b[1;32m     45\u001b[0m                                    size=(n_warmup, bounds.shape[0]))\n\u001b[0;32m---> 46\u001b[0;31m     \u001b[0mys\u001b[0m \u001b[0;34m=\u001b[0m \u001b[0mac\u001b[0m\u001b[0;34m(\u001b[0m\u001b[0mx_tries\u001b[0m\u001b[0;34m,\u001b[0m \u001b[0mgp\u001b[0m\u001b[0;34m=\u001b[0m\u001b[0mgp\u001b[0m\u001b[0;34m,\u001b[0m \u001b[0my_max\u001b[0m\u001b[0;34m=\u001b[0m\u001b[0my_max\u001b[0m\u001b[0;34m)\u001b[0m\u001b[0;34m\u001b[0m\u001b[0;34m\u001b[0m\u001b[0m\n\u001b[0m\u001b[1;32m     47\u001b[0m     \u001b[0mx_max\u001b[0m \u001b[0;34m=\u001b[0m \u001b[0mx_tries\u001b[0m\u001b[0;34m[\u001b[0m\u001b[0mys\u001b[0m\u001b[0;34m.\u001b[0m\u001b[0margmax\u001b[0m\u001b[0;34m(\u001b[0m\u001b[0;34m)\u001b[0m\u001b[0;34m]\u001b[0m\u001b[0;34m\u001b[0m\u001b[0;34m\u001b[0m\u001b[0m\n\u001b[1;32m     48\u001b[0m     \u001b[0mmax_acq\u001b[0m \u001b[0;34m=\u001b[0m \u001b[0mys\u001b[0m\u001b[0;34m.\u001b[0m\u001b[0mmax\u001b[0m\u001b[0;34m(\u001b[0m\u001b[0;34m)\u001b[0m\u001b[0;34m\u001b[0m\u001b[0;34m\u001b[0m\u001b[0m\n",
      "\u001b[0;32m/anaconda3/lib/python3.7/site-packages/bayes_opt/util.py\u001b[0m in \u001b[0;36mutility\u001b[0;34m(self, x, gp, y_max)\u001b[0m\n\u001b[1;32m     95\u001b[0m     \u001b[0;32mdef\u001b[0m \u001b[0mutility\u001b[0m\u001b[0;34m(\u001b[0m\u001b[0mself\u001b[0m\u001b[0;34m,\u001b[0m \u001b[0mx\u001b[0m\u001b[0;34m,\u001b[0m \u001b[0mgp\u001b[0m\u001b[0;34m,\u001b[0m \u001b[0my_max\u001b[0m\u001b[0;34m)\u001b[0m\u001b[0;34m:\u001b[0m\u001b[0;34m\u001b[0m\u001b[0;34m\u001b[0m\u001b[0m\n\u001b[1;32m     96\u001b[0m         \u001b[0;32mif\u001b[0m \u001b[0mself\u001b[0m\u001b[0;34m.\u001b[0m\u001b[0mkind\u001b[0m \u001b[0;34m==\u001b[0m \u001b[0;34m'ucb'\u001b[0m\u001b[0;34m:\u001b[0m\u001b[0;34m\u001b[0m\u001b[0;34m\u001b[0m\u001b[0m\n\u001b[0;32m---> 97\u001b[0;31m             \u001b[0;32mreturn\u001b[0m \u001b[0mself\u001b[0m\u001b[0;34m.\u001b[0m\u001b[0m_ucb\u001b[0m\u001b[0;34m(\u001b[0m\u001b[0mx\u001b[0m\u001b[0;34m,\u001b[0m \u001b[0mgp\u001b[0m\u001b[0;34m,\u001b[0m \u001b[0mself\u001b[0m\u001b[0;34m.\u001b[0m\u001b[0mkappa\u001b[0m\u001b[0;34m)\u001b[0m\u001b[0;34m\u001b[0m\u001b[0;34m\u001b[0m\u001b[0m\n\u001b[0m\u001b[1;32m     98\u001b[0m         \u001b[0;32mif\u001b[0m \u001b[0mself\u001b[0m\u001b[0;34m.\u001b[0m\u001b[0mkind\u001b[0m \u001b[0;34m==\u001b[0m \u001b[0;34m'ei'\u001b[0m\u001b[0;34m:\u001b[0m\u001b[0;34m\u001b[0m\u001b[0;34m\u001b[0m\u001b[0m\n\u001b[1;32m     99\u001b[0m             \u001b[0;32mreturn\u001b[0m \u001b[0mself\u001b[0m\u001b[0;34m.\u001b[0m\u001b[0m_ei\u001b[0m\u001b[0;34m(\u001b[0m\u001b[0mx\u001b[0m\u001b[0;34m,\u001b[0m \u001b[0mgp\u001b[0m\u001b[0;34m,\u001b[0m \u001b[0my_max\u001b[0m\u001b[0;34m,\u001b[0m \u001b[0mself\u001b[0m\u001b[0;34m.\u001b[0m\u001b[0mxi\u001b[0m\u001b[0;34m)\u001b[0m\u001b[0;34m\u001b[0m\u001b[0;34m\u001b[0m\u001b[0m\n",
      "\u001b[0;32m/anaconda3/lib/python3.7/site-packages/bayes_opt/util.py\u001b[0m in \u001b[0;36m_ucb\u001b[0;34m(x, gp, kappa)\u001b[0m\n\u001b[1;32m    105\u001b[0m         \u001b[0;32mwith\u001b[0m \u001b[0mwarnings\u001b[0m\u001b[0;34m.\u001b[0m\u001b[0mcatch_warnings\u001b[0m\u001b[0;34m(\u001b[0m\u001b[0;34m)\u001b[0m\u001b[0;34m:\u001b[0m\u001b[0;34m\u001b[0m\u001b[0;34m\u001b[0m\u001b[0m\n\u001b[1;32m    106\u001b[0m             \u001b[0mwarnings\u001b[0m\u001b[0;34m.\u001b[0m\u001b[0msimplefilter\u001b[0m\u001b[0;34m(\u001b[0m\u001b[0;34m\"ignore\"\u001b[0m\u001b[0;34m)\u001b[0m\u001b[0;34m\u001b[0m\u001b[0;34m\u001b[0m\u001b[0m\n\u001b[0;32m--> 107\u001b[0;31m             \u001b[0mmean\u001b[0m\u001b[0;34m,\u001b[0m \u001b[0mstd\u001b[0m \u001b[0;34m=\u001b[0m \u001b[0mgp\u001b[0m\u001b[0;34m.\u001b[0m\u001b[0mpredict\u001b[0m\u001b[0;34m(\u001b[0m\u001b[0mx\u001b[0m\u001b[0;34m,\u001b[0m \u001b[0mreturn_std\u001b[0m\u001b[0;34m=\u001b[0m\u001b[0;32mTrue\u001b[0m\u001b[0;34m)\u001b[0m\u001b[0;34m\u001b[0m\u001b[0;34m\u001b[0m\u001b[0m\n\u001b[0m\u001b[1;32m    108\u001b[0m \u001b[0;34m\u001b[0m\u001b[0m\n\u001b[1;32m    109\u001b[0m         \u001b[0;32mreturn\u001b[0m \u001b[0mmean\u001b[0m \u001b[0;34m+\u001b[0m \u001b[0mkappa\u001b[0m \u001b[0;34m*\u001b[0m \u001b[0mstd\u001b[0m\u001b[0;34m\u001b[0m\u001b[0;34m\u001b[0m\u001b[0m\n",
      "\u001b[0;32m/anaconda3/lib/python3.7/site-packages/sklearn/gaussian_process/gpr.py\u001b[0m in \u001b[0;36mpredict\u001b[0;34m(self, X, return_std, return_cov)\u001b[0m\n\u001b[1;32m    330\u001b[0m                 \u001b[0;32mreturn\u001b[0m \u001b[0my_mean\u001b[0m\u001b[0;34m\u001b[0m\u001b[0;34m\u001b[0m\u001b[0m\n\u001b[1;32m    331\u001b[0m         \u001b[0;32melse\u001b[0m\u001b[0;34m:\u001b[0m  \u001b[0;31m# Predict based on GP posterior\u001b[0m\u001b[0;34m\u001b[0m\u001b[0;34m\u001b[0m\u001b[0m\n\u001b[0;32m--> 332\u001b[0;31m             \u001b[0mK_trans\u001b[0m \u001b[0;34m=\u001b[0m \u001b[0mself\u001b[0m\u001b[0;34m.\u001b[0m\u001b[0mkernel_\u001b[0m\u001b[0;34m(\u001b[0m\u001b[0mX\u001b[0m\u001b[0;34m,\u001b[0m \u001b[0mself\u001b[0m\u001b[0;34m.\u001b[0m\u001b[0mX_train_\u001b[0m\u001b[0;34m)\u001b[0m\u001b[0;34m\u001b[0m\u001b[0;34m\u001b[0m\u001b[0m\n\u001b[0m\u001b[1;32m    333\u001b[0m             \u001b[0my_mean\u001b[0m \u001b[0;34m=\u001b[0m \u001b[0mK_trans\u001b[0m\u001b[0;34m.\u001b[0m\u001b[0mdot\u001b[0m\u001b[0;34m(\u001b[0m\u001b[0mself\u001b[0m\u001b[0;34m.\u001b[0m\u001b[0malpha_\u001b[0m\u001b[0;34m)\u001b[0m  \u001b[0;31m# Line 4 (y_mean = f_star)\u001b[0m\u001b[0;34m\u001b[0m\u001b[0;34m\u001b[0m\u001b[0m\n\u001b[1;32m    334\u001b[0m             \u001b[0my_mean\u001b[0m \u001b[0;34m=\u001b[0m \u001b[0mself\u001b[0m\u001b[0;34m.\u001b[0m\u001b[0m_y_train_mean\u001b[0m \u001b[0;34m+\u001b[0m \u001b[0my_mean\u001b[0m  \u001b[0;31m# undo normal.\u001b[0m\u001b[0;34m\u001b[0m\u001b[0;34m\u001b[0m\u001b[0m\n",
      "\u001b[0;32m/anaconda3/lib/python3.7/site-packages/sklearn/gaussian_process/kernels.py\u001b[0m in \u001b[0;36m__call__\u001b[0;34m(self, X, Y, eval_gradient)\u001b[0m\n\u001b[1;32m   1346\u001b[0m         \u001b[0;32melif\u001b[0m \u001b[0mself\u001b[0m\u001b[0;34m.\u001b[0m\u001b[0mnu\u001b[0m \u001b[0;34m==\u001b[0m \u001b[0;36m2.5\u001b[0m\u001b[0;34m:\u001b[0m\u001b[0;34m\u001b[0m\u001b[0;34m\u001b[0m\u001b[0m\n\u001b[1;32m   1347\u001b[0m             \u001b[0mK\u001b[0m \u001b[0;34m=\u001b[0m \u001b[0mdists\u001b[0m \u001b[0;34m*\u001b[0m \u001b[0mmath\u001b[0m\u001b[0;34m.\u001b[0m\u001b[0msqrt\u001b[0m\u001b[0;34m(\u001b[0m\u001b[0;36m5\u001b[0m\u001b[0;34m)\u001b[0m\u001b[0;34m\u001b[0m\u001b[0;34m\u001b[0m\u001b[0m\n\u001b[0;32m-> 1348\u001b[0;31m             \u001b[0mK\u001b[0m \u001b[0;34m=\u001b[0m \u001b[0;34m(\u001b[0m\u001b[0;36m1.\u001b[0m \u001b[0;34m+\u001b[0m \u001b[0mK\u001b[0m \u001b[0;34m+\u001b[0m \u001b[0mK\u001b[0m \u001b[0;34m**\u001b[0m \u001b[0;36m2\u001b[0m \u001b[0;34m/\u001b[0m \u001b[0;36m3.0\u001b[0m\u001b[0;34m)\u001b[0m \u001b[0;34m*\u001b[0m \u001b[0mnp\u001b[0m\u001b[0;34m.\u001b[0m\u001b[0mexp\u001b[0m\u001b[0;34m(\u001b[0m\u001b[0;34m-\u001b[0m\u001b[0mK\u001b[0m\u001b[0;34m)\u001b[0m\u001b[0;34m\u001b[0m\u001b[0;34m\u001b[0m\u001b[0m\n\u001b[0m\u001b[1;32m   1349\u001b[0m         \u001b[0;32melse\u001b[0m\u001b[0;34m:\u001b[0m  \u001b[0;31m# general case; expensive to evaluate\u001b[0m\u001b[0;34m\u001b[0m\u001b[0;34m\u001b[0m\u001b[0m\n\u001b[1;32m   1350\u001b[0m             \u001b[0mK\u001b[0m \u001b[0;34m=\u001b[0m \u001b[0mdists\u001b[0m\u001b[0;34m\u001b[0m\u001b[0;34m\u001b[0m\u001b[0m\n",
      "\u001b[0;31mKeyboardInterrupt\u001b[0m: "
     ]
    }
   ],
   "source": [
    "optimization_logreg = BayesianOptimization(evaluateLogReg, params_logreg, random_state=231)\n",
    "optimization_logreg.maximize(n_iter=1000, init_points=20)"
   ]
  },
  {
   "cell_type": "code",
   "execution_count": 97,
   "metadata": {},
   "outputs": [
    {
     "data": {
      "text/plain": [
       "{'target': 290.5, 'params': {'C': 7814.940430138797}}"
      ]
     },
     "execution_count": 97,
     "metadata": {},
     "output_type": "execute_result"
    }
   ],
   "source": [
    "optimization_logreg.max"
   ]
  },
  {
   "cell_type": "code",
   "execution_count": 99,
   "metadata": {},
   "outputs": [
    {
     "data": {
      "text/plain": [
       "-3665"
      ]
     },
     "execution_count": 99,
     "metadata": {},
     "output_type": "execute_result"
    }
   ],
   "source": [
    "# Evaluation on the original training set\n",
    "logreg = LogisticRegression(C=7814, max_iter=1000, solver='lbfgs')\n",
    "logreg.fit(X_train_prepared, y_train)\n",
    "logreg_pred = logreg.predict(X_test_prepared)\n",
    "profit_scorer(y_test, logreg_pred)"
   ]
  },
  {
   "cell_type": "code",
   "execution_count": null,
   "metadata": {},
   "outputs": [],
   "source": []
  },
  {
   "cell_type": "code",
   "execution_count": null,
   "metadata": {},
   "outputs": [],
   "source": []
  }
 ],
 "metadata": {
  "kernelspec": {
   "display_name": "Python 3",
   "language": "python",
   "name": "python3"
  },
  "language_info": {
   "codemirror_mode": {
    "name": "ipython",
    "version": 3
   },
   "file_extension": ".py",
   "mimetype": "text/x-python",
   "name": "python",
   "nbconvert_exporter": "python",
   "pygments_lexer": "ipython3",
   "version": "3.7.1"
  }
 },
 "nbformat": 4,
 "nbformat_minor": 2
}
