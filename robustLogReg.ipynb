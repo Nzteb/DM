{
 "cells": [
  {
   "cell_type": "code",
   "execution_count": 1,
   "metadata": {},
   "outputs": [],
   "source": [
    "import pandas as pd\n",
    "import numpy as np\n",
    "from matplotlib import pyplot as plt\n",
    "from sklearn.model_selection import cross_val_score, cross_validate\n",
    "from sklearn.model_selection import StratifiedKFold\n",
    "from sklearn.preprocessing import StandardScaler, MinMaxScaler\n",
    "\n",
    "from sklearn.ensemble import RandomForestClassifier\n",
    "from sklearn.linear_model import LogisticRegression\n",
    "from sklearn.decomposition import PCA\n",
    "import itertools\n",
    "from sklearn.pipeline import Pipeline\n",
    "from sklearn.preprocessing import PolynomialFeatures\n",
    "\n",
    "from sklearn import svm as SVM\n",
    "from funcs import cv_profits_for_models, cv_preds_and_confusion_matrix, CustomModelWithThreshold\n",
    "from funcs import profit_scorer, profit_scoring\n",
    "from customClassifiers import OutlierRemover\n",
    "from xgboost import XGBClassifier\n",
    "from bayes_opt import BayesianOptimization\n",
    "\n",
    "from sklearn.feature_selection import SelectKBest, SelectFromModel\n",
    "from sklearn.feature_selection import chi2"
   ]
  },
  {
   "cell_type": "code",
   "execution_count": 2,
   "metadata": {},
   "outputs": [],
   "source": [
    "X_train = pd.read_csv('train.csv' ,delimiter=\"|\")\n",
    "X_test = pd.read_csv('test.csv', delimiter=\"|\")\n",
    "\n",
    "X_train['scannedLineItemsTotal'] = X_train['scannedLineItemsPerSecond'] * X_train['totalScanTimeInSeconds']\n",
    "X_train['valuePerLineItem'] = X_train['grandTotal'] * X_train['scannedLineItemsTotal']\n",
    "X_train['quantityModificationsPerLineItem'] = X_train['quantityModifications'] * X_train['scannedLineItemsTotal']\n",
    "X_train['lineItemVoids*scansWithoutRegistration'] = X_train['lineItemVoids'] * X_train['scansWithoutRegistration']"
   ]
  },
  {
   "cell_type": "code",
   "execution_count": 3,
   "metadata": {},
   "outputs": [],
   "source": [
    "X_train1 = X_train[X_train['trustLevel']==1]\n",
    "y1 = X_train1.pop('fraud')\n",
    "l=X_train1.pop('trustLevel')"
   ]
  },
  {
   "cell_type": "code",
   "execution_count": 4,
   "metadata": {},
   "outputs": [],
   "source": [
    "X_train2 = X_train[X_train['trustLevel']==2]\n",
    "y2 = X_train2.pop('fraud')\n",
    "l=X_train2.pop('trustLevel')"
   ]
  },
  {
   "cell_type": "markdown",
   "metadata": {},
   "source": [
    "# Trust Level 1 (Calculate Feature Importance with XGboost)"
   ]
  },
  {
   "cell_type": "code",
   "execution_count": 5,
   "metadata": {},
   "outputs": [
    {
     "name": "stderr",
     "output_type": "stream",
     "text": [
      "/home/html/anaconda3/lib/python3.6/site-packages/sklearn/preprocessing/data.py:645: DataConversionWarning: Data with input dtype int64, float64 were all converted to float64 by StandardScaler.\n",
      "  return self.partial_fit(X, y)\n",
      "/home/html/anaconda3/lib/python3.6/site-packages/sklearn/base.py:464: DataConversionWarning: Data with input dtype int64, float64 were all converted to float64 by StandardScaler.\n",
      "  return self.fit(X, **fit_params).transform(X)\n"
     ]
    }
   ],
   "source": [
    "# normalize data first to prevent 0's in dataset\n",
    "prep_pipeline = Pipeline([\n",
    "    ('scaling', StandardScaler())\n",
    "])\n",
    "X_train1 = prep_pipeline.fit_transform(X_train1)\n",
    "\n",
    "\n",
    "# generate features and rescale\n",
    "prep_pipeline = Pipeline([\n",
    "    ('interaction', PolynomialFeatures(3, interaction_only=False)),\n",
    "    ('scaling', StandardScaler()),\n",
    "])\n",
    "X_train1_all = prep_pipeline.fit_transform(X_train1)\n",
    "\n",
    "#remove the first var because it is the constant term\n",
    "X_train1_all = X_train1_all[:,1:]"
   ]
  },
  {
   "cell_type": "code",
   "execution_count": 6,
   "metadata": {},
   "outputs": [],
   "source": [
    "# obtain feature importance by xgboost\n",
    "xgb = XGBClassifier(num_estimator=100)\n",
    "xgb.fit(X_train1_all, y1)\n",
    "imp = xgb.feature_importances_"
   ]
  },
  {
   "cell_type": "code",
   "execution_count": 7,
   "metadata": {},
   "outputs": [],
   "source": [
    "# order the feature indices by importance\n",
    "imp = pd.DataFrame(imp)\n",
    "imp = imp.sort_values(by=0, ascending=False)"
   ]
  },
  {
   "cell_type": "code",
   "execution_count": 8,
   "metadata": {},
   "outputs": [],
   "source": [
    "# choose starting model\n",
    "model = CustomModelWithThreshold(LogisticRegression(C=10, solver='lbfgs', max_iter=300), 0.9)\n",
    "\n",
    "cv = StratifiedKFold(n_splits=10, random_state=42)\n",
    "last_score = -10000"
   ]
  },
  {
   "cell_type": "code",
   "execution_count": 9,
   "metadata": {
    "scrolled": false
   },
   "outputs": [
    {
     "name": "stdout",
     "output_type": "stream",
     "text": [
      "-215\n",
      "-135\n",
      "-70\n",
      "-30\n",
      "45\n",
      "65\n",
      "90\n",
      "100\n",
      "140\n",
      "180\n",
      "190\n",
      "230\n",
      "250\n",
      "270\n",
      "290\n",
      "310\n",
      "320\n",
      "330\n",
      "340\n"
     ]
    }
   ],
   "source": [
    "# add most important feature\n",
    "X1_temporary = pd.DataFrame(X_train1_all[:,(list(imp.index))[0]])\n",
    "\n",
    "features_to_use1 = []\n",
    "# iteratively add features one by one\n",
    "for featnum in (list(imp.index))[1:]:\n",
    "    X_check = pd.concat([X1_temporary,pd.Series(X_train1_all[:,featnum])], axis=1)\n",
    "    score = sum(cross_validate(model,X_check, y1, scoring=profit_scoring, cv=cv)['test_score'])\n",
    "    # add the feature ultimatively if score improved\n",
    "    if score > last_score:\n",
    "        X1_temporary = pd.concat([X1_temporary,pd.Series(X_train1_all[:,featnum])], axis=1)\n",
    "        features_to_use1.append(featnum)\n",
    "        last_score = score    \n",
    "        print(last_score)\n",
    "    \n",
    "# for test predictions use features_to_use to select the according features in the test set    "
   ]
  },
  {
   "cell_type": "code",
   "execution_count": 54,
   "metadata": {
    "scrolled": true
   },
   "outputs": [
    {
     "name": "stdout",
     "output_type": "stream",
     "text": [
      "|   iter    |  target   |     C     | pred_t... |\n",
      "-------------------------------------------------\n",
      "| \u001b[0m 1       \u001b[0m | \u001b[0m 275.0   \u001b[0m | \u001b[0m 4.098   \u001b[0m | \u001b[0m 0.5279  \u001b[0m |\n",
      "| \u001b[95m 2       \u001b[0m | \u001b[95m 345.0   \u001b[0m | \u001b[95m 0.2743  \u001b[0m | \u001b[95m 0.5696  \u001b[0m |\n",
      "| \u001b[0m 3       \u001b[0m | \u001b[0m 275.0   \u001b[0m | \u001b[0m 4.981   \u001b[0m | \u001b[0m 0.5781  \u001b[0m |\n",
      "| \u001b[95m 4       \u001b[0m | \u001b[95m 365.0   \u001b[0m | \u001b[95m 0.477   \u001b[0m | \u001b[95m 0.5786  \u001b[0m |\n",
      "| \u001b[0m 5       \u001b[0m | \u001b[0m 275.0   \u001b[0m | \u001b[0m 2.734   \u001b[0m | \u001b[0m 0.5356  \u001b[0m |\n",
      "| \u001b[95m 6       \u001b[0m | \u001b[95m 375.0   \u001b[0m | \u001b[95m 0.9518  \u001b[0m | \u001b[95m 0.5484  \u001b[0m |\n",
      "| \u001b[0m 7       \u001b[0m | \u001b[0m 350.0   \u001b[0m | \u001b[0m 1.876   \u001b[0m | \u001b[0m 0.5882  \u001b[0m |\n",
      "| \u001b[0m 8       \u001b[0m | \u001b[0m 365.0   \u001b[0m | \u001b[0m 1.157   \u001b[0m | \u001b[0m 0.5951  \u001b[0m |\n",
      "| \u001b[0m 9       \u001b[0m | \u001b[0m 300.0   \u001b[0m | \u001b[0m 1.664   \u001b[0m | \u001b[0m 0.5309  \u001b[0m |\n",
      "| \u001b[0m 10      \u001b[0m | \u001b[0m 275.0   \u001b[0m | \u001b[0m 4.621   \u001b[0m | \u001b[0m 0.5606  \u001b[0m |\n",
      "| \u001b[0m 11      \u001b[0m | \u001b[0m 275.0   \u001b[0m | \u001b[0m 3.923   \u001b[0m | \u001b[0m 0.5954  \u001b[0m |\n",
      "| \u001b[0m 12      \u001b[0m | \u001b[0m 285.0   \u001b[0m | \u001b[0m 3.946   \u001b[0m | \u001b[0m 0.515   \u001b[0m |\n",
      "| \u001b[0m 13      \u001b[0m | \u001b[0m 365.0   \u001b[0m | \u001b[0m 0.9684  \u001b[0m | \u001b[0m 0.5815  \u001b[0m |\n",
      "| \u001b[0m 14      \u001b[0m | \u001b[0m 275.0   \u001b[0m | \u001b[0m 1.949   \u001b[0m | \u001b[0m 0.5345  \u001b[0m |\n",
      "| \u001b[0m 15      \u001b[0m | \u001b[0m 350.0   \u001b[0m | \u001b[0m 0.4413  \u001b[0m | \u001b[0m 0.5173  \u001b[0m |\n",
      "| \u001b[0m 16      \u001b[0m | \u001b[0m 350.0   \u001b[0m | \u001b[0m 1.589   \u001b[0m | \u001b[0m 0.5587  \u001b[0m |\n",
      "| \u001b[0m 17      \u001b[0m | \u001b[0m 275.0   \u001b[0m | \u001b[0m 3.645   \u001b[0m | \u001b[0m 0.5527  \u001b[0m |\n",
      "| \u001b[0m 18      \u001b[0m | \u001b[0m 375.0   \u001b[0m | \u001b[0m 1.009   \u001b[0m | \u001b[0m 0.5542  \u001b[0m |\n",
      "| \u001b[0m 19      \u001b[0m | \u001b[0m 275.0   \u001b[0m | \u001b[0m 3.136   \u001b[0m | \u001b[0m 0.5292  \u001b[0m |\n",
      "| \u001b[0m 20      \u001b[0m | \u001b[0m 345.0   \u001b[0m | \u001b[0m 0.3759  \u001b[0m | \u001b[0m 0.593   \u001b[0m |\n",
      "| \u001b[0m 21      \u001b[0m | \u001b[0m 275.0   \u001b[0m | \u001b[0m 4.719   \u001b[0m | \u001b[0m 0.539   \u001b[0m |\n",
      "| \u001b[0m 22      \u001b[0m | \u001b[0m 285.0   \u001b[0m | \u001b[0m 2.193   \u001b[0m | \u001b[0m 0.5002  \u001b[0m |\n",
      "| \u001b[0m 23      \u001b[0m | \u001b[0m 345.0   \u001b[0m | \u001b[0m 0.3928  \u001b[0m | \u001b[0m 0.5854  \u001b[0m |\n",
      "| \u001b[0m 24      \u001b[0m | \u001b[0m 285.0   \u001b[0m | \u001b[0m 3.549   \u001b[0m | \u001b[0m 0.5085  \u001b[0m |\n",
      "| \u001b[0m 25      \u001b[0m | \u001b[0m 335.0   \u001b[0m | \u001b[0m 0.2228  \u001b[0m | \u001b[0m 0.5922  \u001b[0m |\n",
      "| \u001b[0m 26      \u001b[0m | \u001b[0m 275.0   \u001b[0m | \u001b[0m 3.587   \u001b[0m | \u001b[0m 0.5936  \u001b[0m |\n",
      "| \u001b[0m 27      \u001b[0m | \u001b[0m 275.0   \u001b[0m | \u001b[0m 2.467   \u001b[0m | \u001b[0m 0.5423  \u001b[0m |\n",
      "| \u001b[0m 28      \u001b[0m | \u001b[0m 275.0   \u001b[0m | \u001b[0m 3.171   \u001b[0m | \u001b[0m 0.5776  \u001b[0m |\n",
      "| \u001b[0m 29      \u001b[0m | \u001b[0m 275.0   \u001b[0m | \u001b[0m 3.44    \u001b[0m | \u001b[0m 0.5636  \u001b[0m |\n",
      "| \u001b[0m 30      \u001b[0m | \u001b[0m 275.0   \u001b[0m | \u001b[0m 3.132   \u001b[0m | \u001b[0m 0.5748  \u001b[0m |\n",
      "| \u001b[0m 31      \u001b[0m | \u001b[0m 365.0   \u001b[0m | \u001b[0m 1.29    \u001b[0m | \u001b[0m 0.582   \u001b[0m |\n",
      "| \u001b[0m 32      \u001b[0m | \u001b[0m 345.0   \u001b[0m | \u001b[0m 0.2118  \u001b[0m | \u001b[0m 0.5411  \u001b[0m |\n",
      "| \u001b[0m 33      \u001b[0m | \u001b[0m 275.0   \u001b[0m | \u001b[0m 2.587   \u001b[0m | \u001b[0m 0.5713  \u001b[0m |\n",
      "| \u001b[0m 34      \u001b[0m | \u001b[0m 365.0   \u001b[0m | \u001b[0m 1.145   \u001b[0m | \u001b[0m 0.5852  \u001b[0m |\n",
      "| \u001b[0m 35      \u001b[0m | \u001b[0m 350.0   \u001b[0m | \u001b[0m 0.2859  \u001b[0m | \u001b[0m 0.5065  \u001b[0m |\n",
      "| \u001b[0m 36      \u001b[0m | \u001b[0m 285.0   \u001b[0m | \u001b[0m 2.986   \u001b[0m | \u001b[0m 0.512   \u001b[0m |\n",
      "| \u001b[0m 37      \u001b[0m | \u001b[0m 375.0   \u001b[0m | \u001b[0m 0.7533  \u001b[0m | \u001b[0m 0.539   \u001b[0m |\n",
      "| \u001b[0m 38      \u001b[0m | \u001b[0m 275.0   \u001b[0m | \u001b[0m 2.156   \u001b[0m | \u001b[0m 0.5203  \u001b[0m |\n",
      "| \u001b[0m 39      \u001b[0m | \u001b[0m 300.0   \u001b[0m | \u001b[0m 0.9227  \u001b[0m | \u001b[0m 0.5093  \u001b[0m |\n",
      "| \u001b[0m 40      \u001b[0m | \u001b[0m 285.0   \u001b[0m | \u001b[0m 3.11    \u001b[0m | \u001b[0m 0.5159  \u001b[0m |\n",
      "| \u001b[0m 41      \u001b[0m | \u001b[0m 300.0   \u001b[0m | \u001b[0m 1.641   \u001b[0m | \u001b[0m 0.5257  \u001b[0m |\n",
      "| \u001b[0m 42      \u001b[0m | \u001b[0m 300.0   \u001b[0m | \u001b[0m 1.064   \u001b[0m | \u001b[0m 0.5143  \u001b[0m |\n",
      "| \u001b[0m 43      \u001b[0m | \u001b[0m 275.0   \u001b[0m | \u001b[0m 3.627   \u001b[0m | \u001b[0m 0.5667  \u001b[0m |\n",
      "| \u001b[0m 44      \u001b[0m | \u001b[0m 275.0   \u001b[0m | \u001b[0m 3.61    \u001b[0m | \u001b[0m 0.5355  \u001b[0m |\n",
      "| \u001b[0m 45      \u001b[0m | \u001b[0m 275.0   \u001b[0m | \u001b[0m 4.481   \u001b[0m | \u001b[0m 0.5583  \u001b[0m |\n",
      "| \u001b[0m 46      \u001b[0m | \u001b[0m 275.0   \u001b[0m | \u001b[0m 3.96    \u001b[0m | \u001b[0m 0.527   \u001b[0m |\n",
      "| \u001b[0m 47      \u001b[0m | \u001b[0m 275.0   \u001b[0m | \u001b[0m 1.341   \u001b[0m | \u001b[0m 0.5062  \u001b[0m |\n",
      "| \u001b[0m 48      \u001b[0m | \u001b[0m 275.0   \u001b[0m | \u001b[0m 4.56    \u001b[0m | \u001b[0m 0.5636  \u001b[0m |\n",
      "| \u001b[0m 49      \u001b[0m | \u001b[0m 275.0   \u001b[0m | \u001b[0m 3.363   \u001b[0m | \u001b[0m 0.5745  \u001b[0m |\n",
      "| \u001b[0m 50      \u001b[0m | \u001b[0m 300.0   \u001b[0m | \u001b[0m 1.378   \u001b[0m | \u001b[0m 0.5169  \u001b[0m |\n",
      "| \u001b[0m 51      \u001b[0m | \u001b[0m 300.0   \u001b[0m | \u001b[0m 2.339   \u001b[0m | \u001b[0m 0.5756  \u001b[0m |\n",
      "| \u001b[0m 52      \u001b[0m | \u001b[0m 275.0   \u001b[0m | \u001b[0m 4.641   \u001b[0m | \u001b[0m 0.5886  \u001b[0m |\n",
      "| \u001b[0m 53      \u001b[0m | \u001b[0m 365.0   \u001b[0m | \u001b[0m 1.221   \u001b[0m | \u001b[0m 0.5795  \u001b[0m |\n",
      "| \u001b[0m 54      \u001b[0m | \u001b[0m 325.0   \u001b[0m | \u001b[0m 2.483   \u001b[0m | \u001b[0m 0.5853  \u001b[0m |\n",
      "| \u001b[0m 55      \u001b[0m | \u001b[0m 325.0   \u001b[0m | \u001b[0m 1.399   \u001b[0m | \u001b[0m 0.5364  \u001b[0m |\n",
      "| \u001b[0m 56      \u001b[0m | \u001b[0m 365.0   \u001b[0m | \u001b[0m 0.8859  \u001b[0m | \u001b[0m 0.5626  \u001b[0m |\n",
      "| \u001b[0m 57      \u001b[0m | \u001b[0m 300.0   \u001b[0m | \u001b[0m 1.495   \u001b[0m | \u001b[0m 0.5072  \u001b[0m |\n",
      "| \u001b[0m 58      \u001b[0m | \u001b[0m 325.0   \u001b[0m | \u001b[0m 2.49    \u001b[0m | \u001b[0m 0.5873  \u001b[0m |\n",
      "| \u001b[0m 59      \u001b[0m | \u001b[0m 365.0   \u001b[0m | \u001b[0m 0.6443  \u001b[0m | \u001b[0m 0.5532  \u001b[0m |\n",
      "| \u001b[0m 60      \u001b[0m | \u001b[0m 325.0   \u001b[0m | \u001b[0m 1.926   \u001b[0m | \u001b[0m 0.5779  \u001b[0m |\n",
      "| \u001b[0m 61      \u001b[0m | \u001b[0m 365.0   \u001b[0m | \u001b[0m 0.6077  \u001b[0m | \u001b[0m 0.5504  \u001b[0m |\n",
      "| \u001b[0m 62      \u001b[0m | \u001b[0m 275.0   \u001b[0m | \u001b[0m 3.333   \u001b[0m | \u001b[0m 0.5433  \u001b[0m |\n",
      "| \u001b[0m 63      \u001b[0m | \u001b[0m 285.0   \u001b[0m | \u001b[0m 2.975   \u001b[0m | \u001b[0m 0.5138  \u001b[0m |\n",
      "| \u001b[0m 64      \u001b[0m | \u001b[0m 285.0   \u001b[0m | \u001b[0m 3.85    \u001b[0m | \u001b[0m 0.5086  \u001b[0m |\n",
      "| \u001b[0m 65      \u001b[0m | \u001b[0m 275.0   \u001b[0m | \u001b[0m 4.268   \u001b[0m | \u001b[0m 0.5735  \u001b[0m |\n",
      "| \u001b[0m 66      \u001b[0m | \u001b[0m 275.0   \u001b[0m | \u001b[0m 3.35    \u001b[0m | \u001b[0m 0.5865  \u001b[0m |\n",
      "| \u001b[0m 67      \u001b[0m | \u001b[0m 325.0   \u001b[0m | \u001b[0m 1.875   \u001b[0m | \u001b[0m 0.5705  \u001b[0m |\n",
      "| \u001b[0m 68      \u001b[0m | \u001b[0m 275.0   \u001b[0m | \u001b[0m 3.429   \u001b[0m | \u001b[0m 0.5949  \u001b[0m |\n",
      "| \u001b[0m 69      \u001b[0m | \u001b[0m 275.0   \u001b[0m | \u001b[0m 2.045   \u001b[0m | \u001b[0m 0.5037  \u001b[0m |\n",
      "| \u001b[0m 70      \u001b[0m | \u001b[0m 300.0   \u001b[0m | \u001b[0m 2.077   \u001b[0m | \u001b[0m 0.564   \u001b[0m |\n",
      "| \u001b[0m 71      \u001b[0m | \u001b[0m 275.0   \u001b[0m | \u001b[0m 4.097   \u001b[0m | \u001b[0m 0.5302  \u001b[0m |\n",
      "| \u001b[0m 72      \u001b[0m | \u001b[0m 275.0   \u001b[0m | \u001b[0m 4.748   \u001b[0m | \u001b[0m 0.5495  \u001b[0m |\n",
      "| \u001b[0m 73      \u001b[0m | \u001b[0m 275.0   \u001b[0m | \u001b[0m 4.041   \u001b[0m | \u001b[0m 0.5797  \u001b[0m |\n",
      "| \u001b[0m 74      \u001b[0m | \u001b[0m 285.0   \u001b[0m | \u001b[0m 3.962   \u001b[0m | \u001b[0m 0.5083  \u001b[0m |\n",
      "| \u001b[0m 75      \u001b[0m | \u001b[0m 350.0   \u001b[0m | \u001b[0m 1.282   \u001b[0m | \u001b[0m 0.5473  \u001b[0m |\n",
      "| \u001b[0m 76      \u001b[0m | \u001b[0m 275.0   \u001b[0m | \u001b[0m 4.529   \u001b[0m | \u001b[0m 0.594   \u001b[0m |\n",
      "| \u001b[0m 77      \u001b[0m | \u001b[0m 350.0   \u001b[0m | \u001b[0m 0.8695  \u001b[0m | \u001b[0m 0.5323  \u001b[0m |\n",
      "| \u001b[0m 78      \u001b[0m | \u001b[0m 285.0   \u001b[0m | \u001b[0m 4.133   \u001b[0m | \u001b[0m 0.5167  \u001b[0m |\n",
      "| \u001b[0m 79      \u001b[0m | \u001b[0m 375.0   \u001b[0m | \u001b[0m 1.584   \u001b[0m | \u001b[0m 0.59    \u001b[0m |\n",
      "| \u001b[0m 80      \u001b[0m | \u001b[0m 325.0   \u001b[0m | \u001b[0m 1.889   \u001b[0m | \u001b[0m 0.578   \u001b[0m |\n",
      "| \u001b[0m 81      \u001b[0m | \u001b[0m 285.0   \u001b[0m | \u001b[0m 4.967   \u001b[0m | \u001b[0m 0.5244  \u001b[0m |\n",
      "| \u001b[0m 82      \u001b[0m | \u001b[0m 375.0   \u001b[0m | \u001b[0m 1.508   \u001b[0m | \u001b[0m 0.5728  \u001b[0m |\n",
      "| \u001b[0m 83      \u001b[0m | \u001b[0m 285.0   \u001b[0m | \u001b[0m 3.969   \u001b[0m | \u001b[0m 0.5095  \u001b[0m |\n",
      "| \u001b[0m 84      \u001b[0m | \u001b[0m 275.0   \u001b[0m | \u001b[0m 4.044   \u001b[0m | \u001b[0m 0.5778  \u001b[0m |\n",
      "| \u001b[0m 85      \u001b[0m | \u001b[0m 275.0   \u001b[0m | \u001b[0m 2.938   \u001b[0m | \u001b[0m 0.569   \u001b[0m |\n",
      "| \u001b[0m 86      \u001b[0m | \u001b[0m 365.0   \u001b[0m | \u001b[0m 0.6736  \u001b[0m | \u001b[0m 0.5914  \u001b[0m |\n",
      "| \u001b[0m 87      \u001b[0m | \u001b[0m 275.0   \u001b[0m | \u001b[0m 3.364   \u001b[0m | \u001b[0m 0.5329  \u001b[0m |\n",
      "| \u001b[0m 88      \u001b[0m | \u001b[0m 275.0   \u001b[0m | \u001b[0m 4.324   \u001b[0m | \u001b[0m 0.5575  \u001b[0m |\n",
      "| \u001b[0m 89      \u001b[0m | \u001b[0m 275.0   \u001b[0m | \u001b[0m 2.577   \u001b[0m | \u001b[0m 0.5411  \u001b[0m |\n",
      "| \u001b[0m 90      \u001b[0m | \u001b[0m 355.0   \u001b[0m | \u001b[0m 0.4483  \u001b[0m | \u001b[0m 0.5805  \u001b[0m |\n",
      "| \u001b[0m 91      \u001b[0m | \u001b[0m 275.0   \u001b[0m | \u001b[0m 4.841   \u001b[0m | \u001b[0m 0.5386  \u001b[0m |\n",
      "| \u001b[0m 92      \u001b[0m | \u001b[0m 300.0   \u001b[0m | \u001b[0m 0.8637  \u001b[0m | \u001b[0m 0.5206  \u001b[0m |\n",
      "| \u001b[0m 93      \u001b[0m | \u001b[0m 275.0   \u001b[0m | \u001b[0m 1.897   \u001b[0m | \u001b[0m 0.5391  \u001b[0m |\n",
      "| \u001b[0m 94      \u001b[0m | \u001b[0m 275.0   \u001b[0m | \u001b[0m 2.988   \u001b[0m | \u001b[0m 0.522   \u001b[0m |\n",
      "| \u001b[0m 95      \u001b[0m | \u001b[0m 275.0   \u001b[0m | \u001b[0m 3.789   \u001b[0m | \u001b[0m 0.5571  \u001b[0m |\n",
      "| \u001b[0m 96      \u001b[0m | \u001b[0m 375.0   \u001b[0m | \u001b[0m 1.029   \u001b[0m | \u001b[0m 0.5653  \u001b[0m |\n",
      "| \u001b[0m 97      \u001b[0m | \u001b[0m 275.0   \u001b[0m | \u001b[0m 3.507   \u001b[0m | \u001b[0m 0.5768  \u001b[0m |\n",
      "| \u001b[0m 98      \u001b[0m | \u001b[0m 275.0   \u001b[0m | \u001b[0m 4.102   \u001b[0m | \u001b[0m 0.5722  \u001b[0m |\n",
      "| \u001b[0m 99      \u001b[0m | \u001b[0m 300.0   \u001b[0m | \u001b[0m 1.774   \u001b[0m | \u001b[0m 0.5536  \u001b[0m |\n",
      "| \u001b[0m 100     \u001b[0m | \u001b[0m 275.0   \u001b[0m | \u001b[0m 4.867   \u001b[0m | \u001b[0m 0.5802  \u001b[0m |\n"
     ]
    },
    {
     "name": "stdout",
     "output_type": "stream",
     "text": [
      "| \u001b[0m 101     \u001b[0m | \u001b[0m 375.0   \u001b[0m | \u001b[0m 0.9623  \u001b[0m | \u001b[0m 0.5569  \u001b[0m |\n"
     ]
    },
    {
     "ename": "KeyboardInterrupt",
     "evalue": "",
     "output_type": "error",
     "traceback": [
      "\u001b[0;31m---------------------------------------------------------------------------\u001b[0m",
      "\u001b[0;31mStopIteration\u001b[0m                             Traceback (most recent call last)",
      "\u001b[0;32m~/anaconda3/lib/python3.6/site-packages/bayes_opt/bayesian_optimization.py\u001b[0m in \u001b[0;36mmaximize\u001b[0;34m(self, init_points, n_iter, acq, kappa, xi, **gp_params)\u001b[0m\n\u001b[1;32m    168\u001b[0m             \u001b[0;32mtry\u001b[0m\u001b[0;34m:\u001b[0m\u001b[0;34m\u001b[0m\u001b[0;34m\u001b[0m\u001b[0m\n\u001b[0;32m--> 169\u001b[0;31m                 \u001b[0mx_probe\u001b[0m \u001b[0;34m=\u001b[0m \u001b[0mnext\u001b[0m\u001b[0;34m(\u001b[0m\u001b[0mself\u001b[0m\u001b[0;34m.\u001b[0m\u001b[0m_queue\u001b[0m\u001b[0;34m)\u001b[0m\u001b[0;34m\u001b[0m\u001b[0;34m\u001b[0m\u001b[0m\n\u001b[0m\u001b[1;32m    170\u001b[0m             \u001b[0;32mexcept\u001b[0m \u001b[0mStopIteration\u001b[0m\u001b[0;34m:\u001b[0m\u001b[0;34m\u001b[0m\u001b[0;34m\u001b[0m\u001b[0m\n",
      "\u001b[0;32m~/anaconda3/lib/python3.6/site-packages/bayes_opt/bayesian_optimization.py\u001b[0m in \u001b[0;36m__next__\u001b[0;34m(self)\u001b[0m\n\u001b[1;32m     25\u001b[0m         \u001b[0;32mif\u001b[0m \u001b[0mself\u001b[0m\u001b[0;34m.\u001b[0m\u001b[0mempty\u001b[0m\u001b[0;34m:\u001b[0m\u001b[0;34m\u001b[0m\u001b[0;34m\u001b[0m\u001b[0m\n\u001b[0;32m---> 26\u001b[0;31m             \u001b[0;32mraise\u001b[0m \u001b[0mStopIteration\u001b[0m\u001b[0;34m(\u001b[0m\u001b[0;34m\"Queue is empty, no more objects to retrieve.\"\u001b[0m\u001b[0;34m)\u001b[0m\u001b[0;34m\u001b[0m\u001b[0;34m\u001b[0m\u001b[0m\n\u001b[0m\u001b[1;32m     27\u001b[0m         \u001b[0mobj\u001b[0m \u001b[0;34m=\u001b[0m \u001b[0mself\u001b[0m\u001b[0;34m.\u001b[0m\u001b[0m_queue\u001b[0m\u001b[0;34m[\u001b[0m\u001b[0;36m0\u001b[0m\u001b[0;34m]\u001b[0m\u001b[0;34m\u001b[0m\u001b[0;34m\u001b[0m\u001b[0m\n",
      "\u001b[0;31mStopIteration\u001b[0m: Queue is empty, no more objects to retrieve.",
      "\nDuring handling of the above exception, another exception occurred:\n",
      "\u001b[0;31mKeyboardInterrupt\u001b[0m                         Traceback (most recent call last)",
      "\u001b[0;32m<ipython-input-54-8914d34d0e1f>\u001b[0m in \u001b[0;36m<module>\u001b[0;34m()\u001b[0m\n\u001b[1;32m     11\u001b[0m \u001b[0;34m\u001b[0m\u001b[0m\n\u001b[1;32m     12\u001b[0m \u001b[0moptimization_logreg1\u001b[0m \u001b[0;34m=\u001b[0m \u001b[0mBayesianOptimization\u001b[0m\u001b[0;34m(\u001b[0m\u001b[0mevaluateLogReg\u001b[0m\u001b[0;34m,\u001b[0m \u001b[0mparams_logreg\u001b[0m\u001b[0;34m)\u001b[0m\u001b[0;34m\u001b[0m\u001b[0;34m\u001b[0m\u001b[0m\n\u001b[0;32m---> 13\u001b[0;31m \u001b[0moptimization_logreg1\u001b[0m\u001b[0;34m.\u001b[0m\u001b[0mmaximize\u001b[0m\u001b[0;34m(\u001b[0m\u001b[0mn_iter\u001b[0m\u001b[0;34m=\u001b[0m\u001b[0;36m100\u001b[0m\u001b[0;34m,\u001b[0m \u001b[0minit_points\u001b[0m\u001b[0;34m=\u001b[0m\u001b[0;36m100\u001b[0m\u001b[0;34m)\u001b[0m\u001b[0;34m\u001b[0m\u001b[0;34m\u001b[0m\u001b[0m\n\u001b[0m",
      "\u001b[0;32m~/anaconda3/lib/python3.6/site-packages/bayes_opt/bayesian_optimization.py\u001b[0m in \u001b[0;36mmaximize\u001b[0;34m(self, init_points, n_iter, acq, kappa, xi, **gp_params)\u001b[0m\n\u001b[1;32m    169\u001b[0m                 \u001b[0mx_probe\u001b[0m \u001b[0;34m=\u001b[0m \u001b[0mnext\u001b[0m\u001b[0;34m(\u001b[0m\u001b[0mself\u001b[0m\u001b[0;34m.\u001b[0m\u001b[0m_queue\u001b[0m\u001b[0;34m)\u001b[0m\u001b[0;34m\u001b[0m\u001b[0;34m\u001b[0m\u001b[0m\n\u001b[1;32m    170\u001b[0m             \u001b[0;32mexcept\u001b[0m \u001b[0mStopIteration\u001b[0m\u001b[0;34m:\u001b[0m\u001b[0;34m\u001b[0m\u001b[0;34m\u001b[0m\u001b[0m\n\u001b[0;32m--> 171\u001b[0;31m                 \u001b[0mx_probe\u001b[0m \u001b[0;34m=\u001b[0m \u001b[0mself\u001b[0m\u001b[0;34m.\u001b[0m\u001b[0msuggest\u001b[0m\u001b[0;34m(\u001b[0m\u001b[0mutil\u001b[0m\u001b[0;34m)\u001b[0m\u001b[0;34m\u001b[0m\u001b[0;34m\u001b[0m\u001b[0m\n\u001b[0m\u001b[1;32m    172\u001b[0m                 \u001b[0miteration\u001b[0m \u001b[0;34m+=\u001b[0m \u001b[0;36m1\u001b[0m\u001b[0;34m\u001b[0m\u001b[0;34m\u001b[0m\u001b[0m\n\u001b[1;32m    173\u001b[0m \u001b[0;34m\u001b[0m\u001b[0m\n",
      "\u001b[0;32m~/anaconda3/lib/python3.6/site-packages/bayes_opt/bayesian_optimization.py\u001b[0m in \u001b[0;36msuggest\u001b[0;34m(self, utility_function)\u001b[0m\n\u001b[1;32m    130\u001b[0m             \u001b[0my_max\u001b[0m\u001b[0;34m=\u001b[0m\u001b[0mself\u001b[0m\u001b[0;34m.\u001b[0m\u001b[0m_space\u001b[0m\u001b[0;34m.\u001b[0m\u001b[0mtarget\u001b[0m\u001b[0;34m.\u001b[0m\u001b[0mmax\u001b[0m\u001b[0;34m(\u001b[0m\u001b[0;34m)\u001b[0m\u001b[0;34m,\u001b[0m\u001b[0;34m\u001b[0m\u001b[0;34m\u001b[0m\u001b[0m\n\u001b[1;32m    131\u001b[0m             \u001b[0mbounds\u001b[0m\u001b[0;34m=\u001b[0m\u001b[0mself\u001b[0m\u001b[0;34m.\u001b[0m\u001b[0m_space\u001b[0m\u001b[0;34m.\u001b[0m\u001b[0mbounds\u001b[0m\u001b[0;34m,\u001b[0m\u001b[0;34m\u001b[0m\u001b[0;34m\u001b[0m\u001b[0m\n\u001b[0;32m--> 132\u001b[0;31m             \u001b[0mrandom_state\u001b[0m\u001b[0;34m=\u001b[0m\u001b[0mself\u001b[0m\u001b[0;34m.\u001b[0m\u001b[0m_random_state\u001b[0m\u001b[0;34m\u001b[0m\u001b[0;34m\u001b[0m\u001b[0m\n\u001b[0m\u001b[1;32m    133\u001b[0m         )\n\u001b[1;32m    134\u001b[0m \u001b[0;34m\u001b[0m\u001b[0m\n",
      "\u001b[0;32m~/anaconda3/lib/python3.6/site-packages/bayes_opt/util.py\u001b[0m in \u001b[0;36macq_max\u001b[0;34m(ac, gp, y_max, bounds, random_state, n_warmup, n_iter)\u001b[0m\n\u001b[1;32m     56\u001b[0m                        \u001b[0mx_try\u001b[0m\u001b[0;34m.\u001b[0m\u001b[0mreshape\u001b[0m\u001b[0;34m(\u001b[0m\u001b[0;36m1\u001b[0m\u001b[0;34m,\u001b[0m \u001b[0;34m-\u001b[0m\u001b[0;36m1\u001b[0m\u001b[0;34m)\u001b[0m\u001b[0;34m,\u001b[0m\u001b[0;34m\u001b[0m\u001b[0;34m\u001b[0m\u001b[0m\n\u001b[1;32m     57\u001b[0m                        \u001b[0mbounds\u001b[0m\u001b[0;34m=\u001b[0m\u001b[0mbounds\u001b[0m\u001b[0;34m,\u001b[0m\u001b[0;34m\u001b[0m\u001b[0;34m\u001b[0m\u001b[0m\n\u001b[0;32m---> 58\u001b[0;31m                        method=\"L-BFGS-B\")\n\u001b[0m\u001b[1;32m     59\u001b[0m \u001b[0;34m\u001b[0m\u001b[0m\n\u001b[1;32m     60\u001b[0m         \u001b[0;31m# See if success\u001b[0m\u001b[0;34m\u001b[0m\u001b[0;34m\u001b[0m\u001b[0;34m\u001b[0m\u001b[0m\n",
      "\u001b[0;32m~/anaconda3/lib/python3.6/site-packages/scipy/optimize/_minimize.py\u001b[0m in \u001b[0;36mminimize\u001b[0;34m(fun, x0, args, method, jac, hess, hessp, bounds, constraints, tol, callback, options)\u001b[0m\n\u001b[1;32m    599\u001b[0m     \u001b[0;32melif\u001b[0m \u001b[0mmeth\u001b[0m \u001b[0;34m==\u001b[0m \u001b[0;34m'l-bfgs-b'\u001b[0m\u001b[0;34m:\u001b[0m\u001b[0;34m\u001b[0m\u001b[0;34m\u001b[0m\u001b[0m\n\u001b[1;32m    600\u001b[0m         return _minimize_lbfgsb(fun, x0, args, jac, bounds,\n\u001b[0;32m--> 601\u001b[0;31m                                 callback=callback, **options)\n\u001b[0m\u001b[1;32m    602\u001b[0m     \u001b[0;32melif\u001b[0m \u001b[0mmeth\u001b[0m \u001b[0;34m==\u001b[0m \u001b[0;34m'tnc'\u001b[0m\u001b[0;34m:\u001b[0m\u001b[0;34m\u001b[0m\u001b[0;34m\u001b[0m\u001b[0m\n\u001b[1;32m    603\u001b[0m         return _minimize_tnc(fun, x0, args, jac, bounds, callback=callback,\n",
      "\u001b[0;32m~/anaconda3/lib/python3.6/site-packages/scipy/optimize/lbfgsb.py\u001b[0m in \u001b[0;36m_minimize_lbfgsb\u001b[0;34m(fun, x0, args, jac, bounds, disp, maxcor, ftol, gtol, eps, maxfun, maxiter, iprint, callback, maxls, **unknown_options)\u001b[0m\n\u001b[1;32m    333\u001b[0m             \u001b[0;31m# until the completion of the current minimization iteration.\u001b[0m\u001b[0;34m\u001b[0m\u001b[0;34m\u001b[0m\u001b[0;34m\u001b[0m\u001b[0m\n\u001b[1;32m    334\u001b[0m             \u001b[0;31m# Overwrite f and g:\u001b[0m\u001b[0;34m\u001b[0m\u001b[0;34m\u001b[0m\u001b[0;34m\u001b[0m\u001b[0m\n\u001b[0;32m--> 335\u001b[0;31m             \u001b[0mf\u001b[0m\u001b[0;34m,\u001b[0m \u001b[0mg\u001b[0m \u001b[0;34m=\u001b[0m \u001b[0mfunc_and_grad\u001b[0m\u001b[0;34m(\u001b[0m\u001b[0mx\u001b[0m\u001b[0;34m)\u001b[0m\u001b[0;34m\u001b[0m\u001b[0;34m\u001b[0m\u001b[0m\n\u001b[0m\u001b[1;32m    336\u001b[0m         \u001b[0;32melif\u001b[0m \u001b[0mtask_str\u001b[0m\u001b[0;34m.\u001b[0m\u001b[0mstartswith\u001b[0m\u001b[0;34m(\u001b[0m\u001b[0;34mb'NEW_X'\u001b[0m\u001b[0;34m)\u001b[0m\u001b[0;34m:\u001b[0m\u001b[0;34m\u001b[0m\u001b[0;34m\u001b[0m\u001b[0m\n\u001b[1;32m    337\u001b[0m             \u001b[0;31m# new iteration\u001b[0m\u001b[0;34m\u001b[0m\u001b[0;34m\u001b[0m\u001b[0;34m\u001b[0m\u001b[0m\n",
      "\u001b[0;32m~/anaconda3/lib/python3.6/site-packages/scipy/optimize/lbfgsb.py\u001b[0m in \u001b[0;36mfunc_and_grad\u001b[0;34m(x)\u001b[0m\n\u001b[1;32m    278\u001b[0m     \u001b[0;32mif\u001b[0m \u001b[0mjac\u001b[0m \u001b[0;32mis\u001b[0m \u001b[0;32mNone\u001b[0m\u001b[0;34m:\u001b[0m\u001b[0;34m\u001b[0m\u001b[0;34m\u001b[0m\u001b[0m\n\u001b[1;32m    279\u001b[0m         \u001b[0;32mdef\u001b[0m \u001b[0mfunc_and_grad\u001b[0m\u001b[0;34m(\u001b[0m\u001b[0mx\u001b[0m\u001b[0;34m)\u001b[0m\u001b[0;34m:\u001b[0m\u001b[0;34m\u001b[0m\u001b[0;34m\u001b[0m\u001b[0m\n\u001b[0;32m--> 280\u001b[0;31m             \u001b[0mf\u001b[0m \u001b[0;34m=\u001b[0m \u001b[0mfun\u001b[0m\u001b[0;34m(\u001b[0m\u001b[0mx\u001b[0m\u001b[0;34m,\u001b[0m \u001b[0;34m*\u001b[0m\u001b[0margs\u001b[0m\u001b[0;34m)\u001b[0m\u001b[0;34m\u001b[0m\u001b[0;34m\u001b[0m\u001b[0m\n\u001b[0m\u001b[1;32m    281\u001b[0m             \u001b[0mg\u001b[0m \u001b[0;34m=\u001b[0m \u001b[0m_approx_fprime_helper\u001b[0m\u001b[0;34m(\u001b[0m\u001b[0mx\u001b[0m\u001b[0;34m,\u001b[0m \u001b[0mfun\u001b[0m\u001b[0;34m,\u001b[0m \u001b[0mepsilon\u001b[0m\u001b[0;34m,\u001b[0m \u001b[0margs\u001b[0m\u001b[0;34m=\u001b[0m\u001b[0margs\u001b[0m\u001b[0;34m,\u001b[0m \u001b[0mf0\u001b[0m\u001b[0;34m=\u001b[0m\u001b[0mf\u001b[0m\u001b[0;34m)\u001b[0m\u001b[0;34m\u001b[0m\u001b[0;34m\u001b[0m\u001b[0m\n\u001b[1;32m    282\u001b[0m             \u001b[0;32mreturn\u001b[0m \u001b[0mf\u001b[0m\u001b[0;34m,\u001b[0m \u001b[0mg\u001b[0m\u001b[0;34m\u001b[0m\u001b[0;34m\u001b[0m\u001b[0m\n",
      "\u001b[0;32m~/anaconda3/lib/python3.6/site-packages/scipy/optimize/optimize.py\u001b[0m in \u001b[0;36mfunction_wrapper\u001b[0;34m(*wrapper_args)\u001b[0m\n\u001b[1;32m    298\u001b[0m     \u001b[0;32mdef\u001b[0m \u001b[0mfunction_wrapper\u001b[0m\u001b[0;34m(\u001b[0m\u001b[0;34m*\u001b[0m\u001b[0mwrapper_args\u001b[0m\u001b[0;34m)\u001b[0m\u001b[0;34m:\u001b[0m\u001b[0;34m\u001b[0m\u001b[0;34m\u001b[0m\u001b[0m\n\u001b[1;32m    299\u001b[0m         \u001b[0mncalls\u001b[0m\u001b[0;34m[\u001b[0m\u001b[0;36m0\u001b[0m\u001b[0;34m]\u001b[0m \u001b[0;34m+=\u001b[0m \u001b[0;36m1\u001b[0m\u001b[0;34m\u001b[0m\u001b[0;34m\u001b[0m\u001b[0m\n\u001b[0;32m--> 300\u001b[0;31m         \u001b[0;32mreturn\u001b[0m \u001b[0mfunction\u001b[0m\u001b[0;34m(\u001b[0m\u001b[0;34m*\u001b[0m\u001b[0;34m(\u001b[0m\u001b[0mwrapper_args\u001b[0m \u001b[0;34m+\u001b[0m \u001b[0margs\u001b[0m\u001b[0;34m)\u001b[0m\u001b[0;34m)\u001b[0m\u001b[0;34m\u001b[0m\u001b[0;34m\u001b[0m\u001b[0m\n\u001b[0m\u001b[1;32m    301\u001b[0m \u001b[0;34m\u001b[0m\u001b[0m\n\u001b[1;32m    302\u001b[0m     \u001b[0;32mreturn\u001b[0m \u001b[0mncalls\u001b[0m\u001b[0;34m,\u001b[0m \u001b[0mfunction_wrapper\u001b[0m\u001b[0;34m\u001b[0m\u001b[0;34m\u001b[0m\u001b[0m\n",
      "\u001b[0;32m~/anaconda3/lib/python3.6/site-packages/bayes_opt/util.py\u001b[0m in \u001b[0;36m<lambda>\u001b[0;34m(x)\u001b[0m\n\u001b[1;32m     53\u001b[0m     \u001b[0;32mfor\u001b[0m \u001b[0mx_try\u001b[0m \u001b[0;32min\u001b[0m \u001b[0mx_seeds\u001b[0m\u001b[0;34m:\u001b[0m\u001b[0;34m\u001b[0m\u001b[0;34m\u001b[0m\u001b[0m\n\u001b[1;32m     54\u001b[0m         \u001b[0;31m# Find the minimum of minus the acquisition function\u001b[0m\u001b[0;34m\u001b[0m\u001b[0;34m\u001b[0m\u001b[0;34m\u001b[0m\u001b[0m\n\u001b[0;32m---> 55\u001b[0;31m         res = minimize(lambda x: -ac(x.reshape(1, -1), gp=gp, y_max=y_max),\n\u001b[0m\u001b[1;32m     56\u001b[0m                        \u001b[0mx_try\u001b[0m\u001b[0;34m.\u001b[0m\u001b[0mreshape\u001b[0m\u001b[0;34m(\u001b[0m\u001b[0;36m1\u001b[0m\u001b[0;34m,\u001b[0m \u001b[0;34m-\u001b[0m\u001b[0;36m1\u001b[0m\u001b[0;34m)\u001b[0m\u001b[0;34m,\u001b[0m\u001b[0;34m\u001b[0m\u001b[0;34m\u001b[0m\u001b[0m\n\u001b[1;32m     57\u001b[0m                        \u001b[0mbounds\u001b[0m\u001b[0;34m=\u001b[0m\u001b[0mbounds\u001b[0m\u001b[0;34m,\u001b[0m\u001b[0;34m\u001b[0m\u001b[0;34m\u001b[0m\u001b[0m\n",
      "\u001b[0;32m~/anaconda3/lib/python3.6/site-packages/bayes_opt/util.py\u001b[0m in \u001b[0;36mutility\u001b[0;34m(self, x, gp, y_max)\u001b[0m\n\u001b[1;32m     95\u001b[0m     \u001b[0;32mdef\u001b[0m \u001b[0mutility\u001b[0m\u001b[0;34m(\u001b[0m\u001b[0mself\u001b[0m\u001b[0;34m,\u001b[0m \u001b[0mx\u001b[0m\u001b[0;34m,\u001b[0m \u001b[0mgp\u001b[0m\u001b[0;34m,\u001b[0m \u001b[0my_max\u001b[0m\u001b[0;34m)\u001b[0m\u001b[0;34m:\u001b[0m\u001b[0;34m\u001b[0m\u001b[0;34m\u001b[0m\u001b[0m\n\u001b[1;32m     96\u001b[0m         \u001b[0;32mif\u001b[0m \u001b[0mself\u001b[0m\u001b[0;34m.\u001b[0m\u001b[0mkind\u001b[0m \u001b[0;34m==\u001b[0m \u001b[0;34m'ucb'\u001b[0m\u001b[0;34m:\u001b[0m\u001b[0;34m\u001b[0m\u001b[0;34m\u001b[0m\u001b[0m\n\u001b[0;32m---> 97\u001b[0;31m             \u001b[0;32mreturn\u001b[0m \u001b[0mself\u001b[0m\u001b[0;34m.\u001b[0m\u001b[0m_ucb\u001b[0m\u001b[0;34m(\u001b[0m\u001b[0mx\u001b[0m\u001b[0;34m,\u001b[0m \u001b[0mgp\u001b[0m\u001b[0;34m,\u001b[0m \u001b[0mself\u001b[0m\u001b[0;34m.\u001b[0m\u001b[0mkappa\u001b[0m\u001b[0;34m)\u001b[0m\u001b[0;34m\u001b[0m\u001b[0;34m\u001b[0m\u001b[0m\n\u001b[0m\u001b[1;32m     98\u001b[0m         \u001b[0;32mif\u001b[0m \u001b[0mself\u001b[0m\u001b[0;34m.\u001b[0m\u001b[0mkind\u001b[0m \u001b[0;34m==\u001b[0m \u001b[0;34m'ei'\u001b[0m\u001b[0;34m:\u001b[0m\u001b[0;34m\u001b[0m\u001b[0;34m\u001b[0m\u001b[0m\n\u001b[1;32m     99\u001b[0m             \u001b[0;32mreturn\u001b[0m \u001b[0mself\u001b[0m\u001b[0;34m.\u001b[0m\u001b[0m_ei\u001b[0m\u001b[0;34m(\u001b[0m\u001b[0mx\u001b[0m\u001b[0;34m,\u001b[0m \u001b[0mgp\u001b[0m\u001b[0;34m,\u001b[0m \u001b[0my_max\u001b[0m\u001b[0;34m,\u001b[0m \u001b[0mself\u001b[0m\u001b[0;34m.\u001b[0m\u001b[0mxi\u001b[0m\u001b[0;34m)\u001b[0m\u001b[0;34m\u001b[0m\u001b[0;34m\u001b[0m\u001b[0m\n",
      "\u001b[0;32m~/anaconda3/lib/python3.6/site-packages/bayes_opt/util.py\u001b[0m in \u001b[0;36m_ucb\u001b[0;34m(x, gp, kappa)\u001b[0m\n\u001b[1;32m    105\u001b[0m         \u001b[0;32mwith\u001b[0m \u001b[0mwarnings\u001b[0m\u001b[0;34m.\u001b[0m\u001b[0mcatch_warnings\u001b[0m\u001b[0;34m(\u001b[0m\u001b[0;34m)\u001b[0m\u001b[0;34m:\u001b[0m\u001b[0;34m\u001b[0m\u001b[0;34m\u001b[0m\u001b[0m\n\u001b[1;32m    106\u001b[0m             \u001b[0mwarnings\u001b[0m\u001b[0;34m.\u001b[0m\u001b[0msimplefilter\u001b[0m\u001b[0;34m(\u001b[0m\u001b[0;34m\"ignore\"\u001b[0m\u001b[0;34m)\u001b[0m\u001b[0;34m\u001b[0m\u001b[0;34m\u001b[0m\u001b[0m\n\u001b[0;32m--> 107\u001b[0;31m             \u001b[0mmean\u001b[0m\u001b[0;34m,\u001b[0m \u001b[0mstd\u001b[0m \u001b[0;34m=\u001b[0m \u001b[0mgp\u001b[0m\u001b[0;34m.\u001b[0m\u001b[0mpredict\u001b[0m\u001b[0;34m(\u001b[0m\u001b[0mx\u001b[0m\u001b[0;34m,\u001b[0m \u001b[0mreturn_std\u001b[0m\u001b[0;34m=\u001b[0m\u001b[0;32mTrue\u001b[0m\u001b[0;34m)\u001b[0m\u001b[0;34m\u001b[0m\u001b[0;34m\u001b[0m\u001b[0m\n\u001b[0m\u001b[1;32m    108\u001b[0m \u001b[0;34m\u001b[0m\u001b[0m\n\u001b[1;32m    109\u001b[0m         \u001b[0;32mreturn\u001b[0m \u001b[0mmean\u001b[0m \u001b[0;34m+\u001b[0m \u001b[0mkappa\u001b[0m \u001b[0;34m*\u001b[0m \u001b[0mstd\u001b[0m\u001b[0;34m\u001b[0m\u001b[0;34m\u001b[0m\u001b[0m\n",
      "\u001b[0;32m~/anaconda3/lib/python3.6/site-packages/sklearn/gaussian_process/gpr.py\u001b[0m in \u001b[0;36mpredict\u001b[0;34m(self, X, return_std, return_cov)\u001b[0m\n\u001b[1;32m    330\u001b[0m                 \u001b[0;32mreturn\u001b[0m \u001b[0my_mean\u001b[0m\u001b[0;34m\u001b[0m\u001b[0;34m\u001b[0m\u001b[0m\n\u001b[1;32m    331\u001b[0m         \u001b[0;32melse\u001b[0m\u001b[0;34m:\u001b[0m  \u001b[0;31m# Predict based on GP posterior\u001b[0m\u001b[0;34m\u001b[0m\u001b[0;34m\u001b[0m\u001b[0m\n\u001b[0;32m--> 332\u001b[0;31m             \u001b[0mK_trans\u001b[0m \u001b[0;34m=\u001b[0m \u001b[0mself\u001b[0m\u001b[0;34m.\u001b[0m\u001b[0mkernel_\u001b[0m\u001b[0;34m(\u001b[0m\u001b[0mX\u001b[0m\u001b[0;34m,\u001b[0m \u001b[0mself\u001b[0m\u001b[0;34m.\u001b[0m\u001b[0mX_train_\u001b[0m\u001b[0;34m)\u001b[0m\u001b[0;34m\u001b[0m\u001b[0;34m\u001b[0m\u001b[0m\n\u001b[0m\u001b[1;32m    333\u001b[0m             \u001b[0my_mean\u001b[0m \u001b[0;34m=\u001b[0m \u001b[0mK_trans\u001b[0m\u001b[0;34m.\u001b[0m\u001b[0mdot\u001b[0m\u001b[0;34m(\u001b[0m\u001b[0mself\u001b[0m\u001b[0;34m.\u001b[0m\u001b[0malpha_\u001b[0m\u001b[0;34m)\u001b[0m  \u001b[0;31m# Line 4 (y_mean = f_star)\u001b[0m\u001b[0;34m\u001b[0m\u001b[0;34m\u001b[0m\u001b[0m\n\u001b[1;32m    334\u001b[0m             \u001b[0my_mean\u001b[0m \u001b[0;34m=\u001b[0m \u001b[0mself\u001b[0m\u001b[0;34m.\u001b[0m\u001b[0m_y_train_mean\u001b[0m \u001b[0;34m+\u001b[0m \u001b[0my_mean\u001b[0m  \u001b[0;31m# undo normal.\u001b[0m\u001b[0;34m\u001b[0m\u001b[0;34m\u001b[0m\u001b[0m\n",
      "\u001b[0;32m~/anaconda3/lib/python3.6/site-packages/sklearn/gaussian_process/kernels.py\u001b[0m in \u001b[0;36m__call__\u001b[0;34m(self, X, Y, eval_gradient)\u001b[0m\n\u001b[1;32m   1345\u001b[0m             \u001b[0mK\u001b[0m \u001b[0;34m=\u001b[0m \u001b[0;34m(\u001b[0m\u001b[0;36m1.\u001b[0m \u001b[0;34m+\u001b[0m \u001b[0mK\u001b[0m\u001b[0;34m)\u001b[0m \u001b[0;34m*\u001b[0m \u001b[0mnp\u001b[0m\u001b[0;34m.\u001b[0m\u001b[0mexp\u001b[0m\u001b[0;34m(\u001b[0m\u001b[0;34m-\u001b[0m\u001b[0mK\u001b[0m\u001b[0;34m)\u001b[0m\u001b[0;34m\u001b[0m\u001b[0;34m\u001b[0m\u001b[0m\n\u001b[1;32m   1346\u001b[0m         \u001b[0;32melif\u001b[0m \u001b[0mself\u001b[0m\u001b[0;34m.\u001b[0m\u001b[0mnu\u001b[0m \u001b[0;34m==\u001b[0m \u001b[0;36m2.5\u001b[0m\u001b[0;34m:\u001b[0m\u001b[0;34m\u001b[0m\u001b[0;34m\u001b[0m\u001b[0m\n\u001b[0;32m-> 1347\u001b[0;31m             \u001b[0mK\u001b[0m \u001b[0;34m=\u001b[0m \u001b[0mdists\u001b[0m \u001b[0;34m*\u001b[0m \u001b[0mmath\u001b[0m\u001b[0;34m.\u001b[0m\u001b[0msqrt\u001b[0m\u001b[0;34m(\u001b[0m\u001b[0;36m5\u001b[0m\u001b[0;34m)\u001b[0m\u001b[0;34m\u001b[0m\u001b[0;34m\u001b[0m\u001b[0m\n\u001b[0m\u001b[1;32m   1348\u001b[0m             \u001b[0mK\u001b[0m \u001b[0;34m=\u001b[0m \u001b[0;34m(\u001b[0m\u001b[0;36m1.\u001b[0m \u001b[0;34m+\u001b[0m \u001b[0mK\u001b[0m \u001b[0;34m+\u001b[0m \u001b[0mK\u001b[0m \u001b[0;34m**\u001b[0m \u001b[0;36m2\u001b[0m \u001b[0;34m/\u001b[0m \u001b[0;36m3.0\u001b[0m\u001b[0;34m)\u001b[0m \u001b[0;34m*\u001b[0m \u001b[0mnp\u001b[0m\u001b[0;34m.\u001b[0m\u001b[0mexp\u001b[0m\u001b[0;34m(\u001b[0m\u001b[0;34m-\u001b[0m\u001b[0mK\u001b[0m\u001b[0;34m)\u001b[0m\u001b[0;34m\u001b[0m\u001b[0;34m\u001b[0m\u001b[0m\n\u001b[1;32m   1349\u001b[0m         \u001b[0;32melse\u001b[0m\u001b[0;34m:\u001b[0m  \u001b[0;31m# general case; expensive to evaluate\u001b[0m\u001b[0;34m\u001b[0m\u001b[0;34m\u001b[0m\u001b[0m\n",
      "\u001b[0;31mKeyboardInterrupt\u001b[0m: "
     ]
    }
   ],
   "source": [
    "def evaluateLogReg(C, pred_threshold):\n",
    "    clf = LogisticRegression(C=C, solver='lbfgs', max_iter=10000)\n",
    "    clf = CustomModelWithThreshold(clf,threshold=pred_threshold)\n",
    "    return sum(cross_validate(clf,X1_temporary, y1, scoring=profit_scoring, cv=cv)['test_score'])\n",
    "\n",
    "\n",
    "params_logreg = {\n",
    "    'C': (0.1, 5),\n",
    "    'pred_threshold': (0.5, 0.6)\n",
    "}\n",
    "\n",
    "optimization_logreg1 = BayesianOptimization(evaluateLogReg, params_logreg)\n",
    "optimization_logreg1.maximize(n_iter=100, init_points=100)"
   ]
  },
  {
   "cell_type": "code",
   "execution_count": 55,
   "metadata": {},
   "outputs": [
    {
     "data": {
      "text/plain": [
       "{'target': 375.0,\n",
       " 'params': {'C': 0.9517977397195106, 'pred_threshold': 0.5483985798365555}}"
      ]
     },
     "execution_count": 55,
     "metadata": {},
     "output_type": "execute_result"
    }
   ],
   "source": [
    "optimization_logreg1.max"
   ]
  },
  {
   "cell_type": "code",
   "execution_count": 73,
   "metadata": {},
   "outputs": [
    {
     "data": {
      "text/plain": [
       "375"
      ]
     },
     "execution_count": 73,
     "metadata": {},
     "output_type": "execute_result"
    }
   ],
   "source": [
    "# verify\n",
    "\n",
    "C = optimization_logreg1.max['params']['C']\n",
    "pred_threshold = optimization_logreg1.max['params']['pred_threshold']\n",
    "\n",
    "clf = LogisticRegression(C=C, solver='lbfgs', max_iter=10000)\n",
    "clf = CustomModelWithThreshold(clf,threshold=pred_threshold)\n",
    "# final score for trust=1\n",
    "cv = StratifiedKFold(n_splits=10, random_state=42)\n",
    "sum(cross_validate(clf,X1_temporary, y1, scoring=profit_scoring, cv=cv)['test_score'])"
   ]
  },
  {
   "cell_type": "code",
   "execution_count": 74,
   "metadata": {},
   "outputs": [
    {
     "data": {
      "text/plain": [
       "20"
      ]
     },
     "execution_count": 74,
     "metadata": {},
     "output_type": "execute_result"
    }
   ],
   "source": [
    "# number of features used\n",
    "len(X1_temporary.columns)"
   ]
  },
  {
   "cell_type": "markdown",
   "metadata": {},
   "source": [
    "# Trust Level 2 (Feature Importance by Logistic Regression)"
   ]
  },
  {
   "cell_type": "code",
   "execution_count": 19,
   "metadata": {},
   "outputs": [
    {
     "name": "stderr",
     "output_type": "stream",
     "text": [
      "/home/html/anaconda3/lib/python3.6/site-packages/sklearn/preprocessing/data.py:645: DataConversionWarning: Data with input dtype int64, float64 were all converted to float64 by StandardScaler.\n",
      "  return self.partial_fit(X, y)\n",
      "/home/html/anaconda3/lib/python3.6/site-packages/sklearn/base.py:464: DataConversionWarning: Data with input dtype int64, float64 were all converted to float64 by StandardScaler.\n",
      "  return self.fit(X, **fit_params).transform(X)\n"
     ]
    }
   ],
   "source": [
    "# normalize data first to prevent 0's in dataset\n",
    "prep_pipeline = Pipeline([\n",
    "    ('scaling', StandardScaler())\n",
    "])\n",
    "X_train2 = prep_pipeline.fit_transform(X_train2)\n",
    "\n",
    "\n",
    "# generate features and rescale\n",
    "prep_pipeline = Pipeline([\n",
    "    ('interaction', PolynomialFeatures(3, interaction_only=False)),\n",
    "    ('scaling', StandardScaler()),\n",
    "])\n",
    "X_train2_all = prep_pipeline.fit_transform(X_train2)\n",
    "\n",
    "#remove the first var because it is the constant term\n",
    "X_train2_all = X_train2_all[:,1:]"
   ]
  },
  {
   "cell_type": "code",
   "execution_count": 21,
   "metadata": {},
   "outputs": [],
   "source": [
    "# Feature Importance with logistic Regression\n",
    "lr = LogisticRegression(C=20, solver='lbfgs')\n",
    "lr.fit(X_train2_all, y2)\n",
    "imp = lr.coef_[0]"
   ]
  },
  {
   "cell_type": "code",
   "execution_count": 22,
   "metadata": {},
   "outputs": [],
   "source": [
    "# order the feature indices by importance\n",
    "imp = pd.DataFrame(imp)\n",
    "imp = imp.sort_values(by=0, ascending=False)"
   ]
  },
  {
   "cell_type": "code",
   "execution_count": 23,
   "metadata": {},
   "outputs": [],
   "source": [
    "# choose starting model\n",
    "model = CustomModelWithThreshold(LogisticRegression(C=10, solver='lbfgs', max_iter=300), 0.9)\n",
    "\n",
    "cv = StratifiedKFold(n_splits=10, random_state=42)\n",
    "last_score = -10000"
   ]
  },
  {
   "cell_type": "code",
   "execution_count": 24,
   "metadata": {},
   "outputs": [
    {
     "name": "stdout",
     "output_type": "stream",
     "text": [
      "-75\n",
      "-55\n",
      "-45\n",
      "-25\n",
      "15\n",
      "35\n"
     ]
    }
   ],
   "source": [
    "# add most important feature\n",
    "X2_temporary = pd.DataFrame(X_train2_all[:,(list(imp.index))[0]])\n",
    "\n",
    "features_to_use2 = []\n",
    "# iteratively add features one by one\n",
    "for featnum in (list(imp.index))[1:]:\n",
    "    X_check = pd.concat([X2_temporary,pd.Series(X_train2_all[:,featnum])], axis=1)\n",
    "    score = sum(cross_validate(model,X_check, y2, scoring=profit_scoring, cv=cv)['test_score'])\n",
    "    # add the feature ultimatively if score improved\n",
    "    if score > last_score:\n",
    "        X2_temporary = pd.concat([X2_temporary,pd.Series(X_train2_all[:,featnum])], axis=1)\n",
    "        features_to_use2.append(featnum)\n",
    "        last_score = score    \n",
    "        print(last_score)\n",
    "    \n",
    "# for test predictions use features_to_use to select the according features in the test set    "
   ]
  },
  {
   "cell_type": "code",
   "execution_count": 27,
   "metadata": {},
   "outputs": [
    {
     "name": "stdout",
     "output_type": "stream",
     "text": [
      "|   iter    |  target   |     C     | pred_t... |\n",
      "-------------------------------------------------\n",
      "| \u001b[0m 1       \u001b[0m | \u001b[0m 10.0    \u001b[0m | \u001b[0m 38.83   \u001b[0m | \u001b[0m 0.7443  \u001b[0m |\n",
      "| \u001b[0m 2       \u001b[0m | \u001b[0m 10.0    \u001b[0m | \u001b[0m 23.63   \u001b[0m | \u001b[0m 0.692   \u001b[0m |\n",
      "| \u001b[0m 3       \u001b[0m | \u001b[0m-15.0    \u001b[0m | \u001b[0m 28.32   \u001b[0m | \u001b[0m 0.5482  \u001b[0m |\n",
      "| \u001b[0m 4       \u001b[0m | \u001b[0m 10.0    \u001b[0m | \u001b[0m 43.63   \u001b[0m | \u001b[0m 0.748   \u001b[0m |\n",
      "| \u001b[0m 5       \u001b[0m | \u001b[0m 10.0    \u001b[0m | \u001b[0m 31.35   \u001b[0m | \u001b[0m 0.6154  \u001b[0m |\n",
      "| \u001b[0m 6       \u001b[0m | \u001b[0m 10.0    \u001b[0m | \u001b[0m 39.89   \u001b[0m | \u001b[0m 0.6498  \u001b[0m |\n",
      "| \u001b[0m 7       \u001b[0m | \u001b[0m 10.0    \u001b[0m | \u001b[0m 47.98   \u001b[0m | \u001b[0m 0.6517  \u001b[0m |\n",
      "| \u001b[95m 8       \u001b[0m | \u001b[95m 35.0    \u001b[0m | \u001b[95m 10.13   \u001b[0m | \u001b[95m 0.8509  \u001b[0m |\n",
      "| \u001b[0m 9       \u001b[0m | \u001b[0m 35.0    \u001b[0m | \u001b[0m 11.74   \u001b[0m | \u001b[0m 0.7987  \u001b[0m |\n",
      "| \u001b[0m 10      \u001b[0m | \u001b[0m 35.0    \u001b[0m | \u001b[0m 3.92    \u001b[0m | \u001b[0m 0.8325  \u001b[0m |\n",
      "| \u001b[0m 11      \u001b[0m | \u001b[0m 10.0    \u001b[0m | \u001b[0m 43.76   \u001b[0m | \u001b[0m 0.6426  \u001b[0m |\n",
      "| \u001b[0m 12      \u001b[0m | \u001b[0m 10.0    \u001b[0m | \u001b[0m 48.9    \u001b[0m | \u001b[0m 0.8621  \u001b[0m |\n",
      "| \u001b[0m 13      \u001b[0m | \u001b[0m 35.0    \u001b[0m | \u001b[0m 16.42   \u001b[0m | \u001b[0m 0.9255  \u001b[0m |\n",
      "| \u001b[0m 14      \u001b[0m | \u001b[0m 35.0    \u001b[0m | \u001b[0m 7.796   \u001b[0m | \u001b[0m 0.8711  \u001b[0m |\n",
      "| \u001b[0m 15      \u001b[0m | \u001b[0m 10.0    \u001b[0m | \u001b[0m 46.87   \u001b[0m | \u001b[0m 0.6631  \u001b[0m |\n",
      "| \u001b[0m 16      \u001b[0m | \u001b[0m 10.0    \u001b[0m | \u001b[0m 48.62   \u001b[0m | \u001b[0m 0.6989  \u001b[0m |\n",
      "| \u001b[0m 17      \u001b[0m | \u001b[0m 35.0    \u001b[0m | \u001b[0m 20.83   \u001b[0m | \u001b[0m 0.8238  \u001b[0m |\n",
      "| \u001b[0m 18      \u001b[0m | \u001b[0m 10.0    \u001b[0m | \u001b[0m 9.845   \u001b[0m | \u001b[0m 0.6327  \u001b[0m |\n",
      "| \u001b[0m 19      \u001b[0m | \u001b[0m 15.0    \u001b[0m | \u001b[0m 11.99   \u001b[0m | \u001b[0m 0.9646  \u001b[0m |\n",
      "| \u001b[0m 20      \u001b[0m | \u001b[0m 10.0    \u001b[0m | \u001b[0m 10.82   \u001b[0m | \u001b[0m 0.671   \u001b[0m |\n",
      "| \u001b[0m 21      \u001b[0m | \u001b[0m 10.0    \u001b[0m | \u001b[0m 29.46   \u001b[0m | \u001b[0m 0.7461  \u001b[0m |\n",
      "| \u001b[0m 22      \u001b[0m | \u001b[0m 10.0    \u001b[0m | \u001b[0m 44.9    \u001b[0m | \u001b[0m 0.8318  \u001b[0m |\n",
      "| \u001b[0m 23      \u001b[0m | \u001b[0m 20.0    \u001b[0m | \u001b[0m 6.588   \u001b[0m | \u001b[0m 0.5165  \u001b[0m |\n",
      "| \u001b[0m 24      \u001b[0m | \u001b[0m 35.0    \u001b[0m | \u001b[0m 21.74   \u001b[0m | \u001b[0m 0.9332  \u001b[0m |\n",
      "| \u001b[0m 25      \u001b[0m | \u001b[0m 10.0    \u001b[0m | \u001b[0m 31.49   \u001b[0m | \u001b[0m 0.8124  \u001b[0m |\n",
      "| \u001b[0m 26      \u001b[0m | \u001b[0m 10.0    \u001b[0m | \u001b[0m 37.45   \u001b[0m | \u001b[0m 0.604   \u001b[0m |\n",
      "| \u001b[0m 27      \u001b[0m | \u001b[0m-15.0    \u001b[0m | \u001b[0m 33.94   \u001b[0m | \u001b[0m 0.562   \u001b[0m |\n",
      "| \u001b[0m 28      \u001b[0m | \u001b[0m 10.0    \u001b[0m | \u001b[0m 28.39   \u001b[0m | \u001b[0m 0.6666  \u001b[0m |\n",
      "| \u001b[0m 29      \u001b[0m | \u001b[0m 10.0    \u001b[0m | \u001b[0m 29.97   \u001b[0m | \u001b[0m 0.7271  \u001b[0m |\n",
      "| \u001b[0m 30      \u001b[0m | \u001b[0m 35.0    \u001b[0m | \u001b[0m 15.45   \u001b[0m | \u001b[0m 0.8105  \u001b[0m |\n",
      "| \u001b[0m 31      \u001b[0m | \u001b[0m 35.0    \u001b[0m | \u001b[0m 21.22   \u001b[0m | \u001b[0m 0.9436  \u001b[0m |\n",
      "| \u001b[0m 32      \u001b[0m | \u001b[0m 15.0    \u001b[0m | \u001b[0m 1.663   \u001b[0m | \u001b[0m 0.8073  \u001b[0m |\n",
      "| \u001b[0m 33      \u001b[0m | \u001b[0m 35.0    \u001b[0m | \u001b[0m 33.51   \u001b[0m | \u001b[0m 0.9233  \u001b[0m |\n",
      "| \u001b[0m 34      \u001b[0m | \u001b[0m 10.0    \u001b[0m | \u001b[0m 37.9    \u001b[0m | \u001b[0m 0.8449  \u001b[0m |\n",
      "| \u001b[0m 35      \u001b[0m | \u001b[0m 10.0    \u001b[0m | \u001b[0m 38.86   \u001b[0m | \u001b[0m 0.8547  \u001b[0m |\n",
      "| \u001b[0m 36      \u001b[0m | \u001b[0m-15.0    \u001b[0m | \u001b[0m 31.61   \u001b[0m | \u001b[0m 0.5222  \u001b[0m |\n",
      "| \u001b[0m 37      \u001b[0m | \u001b[0m 10.0    \u001b[0m | \u001b[0m 43.92   \u001b[0m | \u001b[0m 0.7746  \u001b[0m |\n",
      "| \u001b[0m 38      \u001b[0m | \u001b[0m 10.0    \u001b[0m | \u001b[0m 14.85   \u001b[0m | \u001b[0m 0.6422  \u001b[0m |\n",
      "| \u001b[0m 39      \u001b[0m | \u001b[0m 10.0    \u001b[0m | \u001b[0m 15.48   \u001b[0m | \u001b[0m 0.6664  \u001b[0m |\n",
      "| \u001b[0m 40      \u001b[0m | \u001b[0m 25.0    \u001b[0m | \u001b[0m 36.39   \u001b[0m | \u001b[0m 0.9908  \u001b[0m |\n",
      "| \u001b[0m 41      \u001b[0m | \u001b[0m-15.0    \u001b[0m | \u001b[0m 40.89   \u001b[0m | \u001b[0m 0.5777  \u001b[0m |\n",
      "| \u001b[0m 42      \u001b[0m | \u001b[0m 10.0    \u001b[0m | \u001b[0m 41.9    \u001b[0m | \u001b[0m 0.844   \u001b[0m |\n",
      "| \u001b[0m 43      \u001b[0m | \u001b[0m 10.0    \u001b[0m | \u001b[0m 23.25   \u001b[0m | \u001b[0m 0.652   \u001b[0m |\n",
      "| \u001b[0m 44      \u001b[0m | \u001b[0m 35.0    \u001b[0m | \u001b[0m 49.3    \u001b[0m | \u001b[0m 0.9583  \u001b[0m |\n",
      "| \u001b[0m 45      \u001b[0m | \u001b[0m 35.0    \u001b[0m | \u001b[0m 35.83   \u001b[0m | \u001b[0m 0.9201  \u001b[0m |\n",
      "| \u001b[0m 46      \u001b[0m | \u001b[0m 10.0    \u001b[0m | \u001b[0m 6.197   \u001b[0m | \u001b[0m 0.5933  \u001b[0m |\n",
      "| \u001b[0m 47      \u001b[0m | \u001b[0m 35.0    \u001b[0m | \u001b[0m 36.77   \u001b[0m | \u001b[0m 0.8896  \u001b[0m |\n",
      "| \u001b[0m 48      \u001b[0m | \u001b[0m 10.0    \u001b[0m | \u001b[0m 40.13   \u001b[0m | \u001b[0m 0.7022  \u001b[0m |\n",
      "| \u001b[0m 49      \u001b[0m | \u001b[0m 10.0    \u001b[0m | \u001b[0m 34.88   \u001b[0m | \u001b[0m 0.6073  \u001b[0m |\n",
      "| \u001b[0m 50      \u001b[0m | \u001b[0m 10.0    \u001b[0m | \u001b[0m 37.42   \u001b[0m | \u001b[0m 0.6256  \u001b[0m |\n",
      "| \u001b[0m 51      \u001b[0m | \u001b[0m-15.0    \u001b[0m | \u001b[0m 44.67   \u001b[0m | \u001b[0m 0.56    \u001b[0m |\n",
      "| \u001b[0m 52      \u001b[0m | \u001b[0m 15.0    \u001b[0m | \u001b[0m 0.6822  \u001b[0m | \u001b[0m 0.749   \u001b[0m |\n",
      "| \u001b[0m 53      \u001b[0m | \u001b[0m 10.0    \u001b[0m | \u001b[0m 23.36   \u001b[0m | \u001b[0m 0.6864  \u001b[0m |\n",
      "| \u001b[0m 54      \u001b[0m | \u001b[0m 10.0    \u001b[0m | \u001b[0m 18.09   \u001b[0m | \u001b[0m 0.6175  \u001b[0m |\n",
      "| \u001b[0m 55      \u001b[0m | \u001b[0m 10.0    \u001b[0m | \u001b[0m 43.0    \u001b[0m | \u001b[0m 0.7928  \u001b[0m |\n",
      "| \u001b[0m 56      \u001b[0m | \u001b[0m-15.0    \u001b[0m | \u001b[0m 44.29   \u001b[0m | \u001b[0m 0.5033  \u001b[0m |\n",
      "| \u001b[0m 57      \u001b[0m | \u001b[0m 35.0    \u001b[0m | \u001b[0m 19.85   \u001b[0m | \u001b[0m 0.8103  \u001b[0m |\n",
      "| \u001b[0m 58      \u001b[0m | \u001b[0m-15.0    \u001b[0m | \u001b[0m 48.48   \u001b[0m | \u001b[0m 0.5657  \u001b[0m |\n",
      "| \u001b[0m 59      \u001b[0m | \u001b[0m 35.0    \u001b[0m | \u001b[0m 9.879   \u001b[0m | \u001b[0m 0.8476  \u001b[0m |\n",
      "| \u001b[0m 60      \u001b[0m | \u001b[0m 5.0     \u001b[0m | \u001b[0m 46.46   \u001b[0m | \u001b[0m 0.999   \u001b[0m |\n",
      "| \u001b[0m 61      \u001b[0m | \u001b[0m 5.0     \u001b[0m | \u001b[0m 29.15   \u001b[0m | \u001b[0m 0.9983  \u001b[0m |\n",
      "| \u001b[0m 62      \u001b[0m | \u001b[0m 10.0    \u001b[0m | \u001b[0m 44.67   \u001b[0m | \u001b[0m 0.7082  \u001b[0m |\n",
      "| \u001b[0m 63      \u001b[0m | \u001b[0m 10.0    \u001b[0m | \u001b[0m 8.991   \u001b[0m | \u001b[0m 0.5493  \u001b[0m |\n",
      "| \u001b[0m 64      \u001b[0m | \u001b[0m 10.0    \u001b[0m | \u001b[0m 16.36   \u001b[0m | \u001b[0m 0.7617  \u001b[0m |\n",
      "| \u001b[0m 65      \u001b[0m | \u001b[0m 10.0    \u001b[0m | \u001b[0m 33.11   \u001b[0m | \u001b[0m 0.6625  \u001b[0m |\n",
      "| \u001b[0m 66      \u001b[0m | \u001b[0m 20.0    \u001b[0m | \u001b[0m 4.667   \u001b[0m | \u001b[0m 0.5461  \u001b[0m |\n",
      "| \u001b[0m 67      \u001b[0m | \u001b[0m-15.0    \u001b[0m | \u001b[0m 18.0    \u001b[0m | \u001b[0m 0.5216  \u001b[0m |\n",
      "| \u001b[0m 68      \u001b[0m | \u001b[0m 10.0    \u001b[0m | \u001b[0m 10.17   \u001b[0m | \u001b[0m 0.5971  \u001b[0m |\n",
      "| \u001b[0m 69      \u001b[0m | \u001b[0m 10.0    \u001b[0m | \u001b[0m 34.35   \u001b[0m | \u001b[0m 0.7612  \u001b[0m |\n",
      "| \u001b[0m 70      \u001b[0m | \u001b[0m 10.0    \u001b[0m | \u001b[0m 27.16   \u001b[0m | \u001b[0m 0.8139  \u001b[0m |\n",
      "| \u001b[0m 71      \u001b[0m | \u001b[0m 10.0    \u001b[0m | \u001b[0m 9.174   \u001b[0m | \u001b[0m 0.6438  \u001b[0m |\n",
      "| \u001b[0m 72      \u001b[0m | \u001b[0m 10.0    \u001b[0m | \u001b[0m 4.506   \u001b[0m | \u001b[0m 0.6062  \u001b[0m |\n",
      "| \u001b[0m 73      \u001b[0m | \u001b[0m-55.0    \u001b[0m | \u001b[0m 0.2517  \u001b[0m | \u001b[0m 0.9158  \u001b[0m |\n",
      "| \u001b[0m 74      \u001b[0m | \u001b[0m 25.0    \u001b[0m | \u001b[0m 32.09   \u001b[0m | \u001b[0m 0.9755  \u001b[0m |\n",
      "| \u001b[0m 75      \u001b[0m | \u001b[0m 10.0    \u001b[0m | \u001b[0m 18.49   \u001b[0m | \u001b[0m 0.728   \u001b[0m |\n",
      "| \u001b[0m 76      \u001b[0m | \u001b[0m 15.0    \u001b[0m | \u001b[0m 4.336   \u001b[0m | \u001b[0m 0.896   \u001b[0m |\n",
      "| \u001b[0m 77      \u001b[0m | \u001b[0m 10.0    \u001b[0m | \u001b[0m 21.88   \u001b[0m | \u001b[0m 0.6976  \u001b[0m |\n",
      "| \u001b[95m 78      \u001b[0m | \u001b[95m 45.0    \u001b[0m | \u001b[95m 0.7012  \u001b[0m | \u001b[95m 0.5315  \u001b[0m |\n",
      "| \u001b[0m 79      \u001b[0m | \u001b[0m 35.0    \u001b[0m | \u001b[0m 24.95   \u001b[0m | \u001b[0m 0.855   \u001b[0m |\n",
      "| \u001b[0m 80      \u001b[0m | \u001b[0m 10.0    \u001b[0m | \u001b[0m 7.675   \u001b[0m | \u001b[0m 0.5913  \u001b[0m |\n",
      "| \u001b[0m 81      \u001b[0m | \u001b[0m 25.0    \u001b[0m | \u001b[0m 36.13   \u001b[0m | \u001b[0m 0.9736  \u001b[0m |\n",
      "| \u001b[0m 82      \u001b[0m | \u001b[0m-5.0     \u001b[0m | \u001b[0m 5.83    \u001b[0m | \u001b[0m 0.9834  \u001b[0m |\n",
      "| \u001b[0m 83      \u001b[0m | \u001b[0m 10.0    \u001b[0m | \u001b[0m 11.88   \u001b[0m | \u001b[0m 0.6132  \u001b[0m |\n",
      "| \u001b[0m 84      \u001b[0m | \u001b[0m 10.0    \u001b[0m | \u001b[0m 35.92   \u001b[0m | \u001b[0m 0.6874  \u001b[0m |\n",
      "| \u001b[0m 85      \u001b[0m | \u001b[0m 35.0    \u001b[0m | \u001b[0m 5.647   \u001b[0m | \u001b[0m 0.7799  \u001b[0m |\n",
      "| \u001b[0m 86      \u001b[0m | \u001b[0m 35.0    \u001b[0m | \u001b[0m 6.541   \u001b[0m | \u001b[0m 0.8751  \u001b[0m |\n",
      "| \u001b[0m 87      \u001b[0m | \u001b[0m 10.0    \u001b[0m | \u001b[0m 29.83   \u001b[0m | \u001b[0m 0.6599  \u001b[0m |\n",
      "| \u001b[0m 88      \u001b[0m | \u001b[0m 10.0    \u001b[0m | \u001b[0m 25.45   \u001b[0m | \u001b[0m 0.6654  \u001b[0m |\n",
      "| \u001b[0m 89      \u001b[0m | \u001b[0m 35.0    \u001b[0m | \u001b[0m 9.792   \u001b[0m | \u001b[0m 0.8276  \u001b[0m |\n",
      "| \u001b[0m 90      \u001b[0m | \u001b[0m 35.0    \u001b[0m | \u001b[0m 2.932   \u001b[0m | \u001b[0m 0.7408  \u001b[0m |\n",
      "| \u001b[0m 91      \u001b[0m | \u001b[0m 35.0    \u001b[0m | \u001b[0m 29.67   \u001b[0m | \u001b[0m 0.8765  \u001b[0m |\n",
      "| \u001b[0m 92      \u001b[0m | \u001b[0m-65.0    \u001b[0m | \u001b[0m 0.1087  \u001b[0m | \u001b[0m 0.8802  \u001b[0m |\n",
      "| \u001b[0m 93      \u001b[0m | \u001b[0m 10.0    \u001b[0m | \u001b[0m 33.36   \u001b[0m | \u001b[0m 0.8235  \u001b[0m |\n",
      "| \u001b[0m 94      \u001b[0m | \u001b[0m 35.0    \u001b[0m | \u001b[0m 4.152   \u001b[0m | \u001b[0m 0.7021  \u001b[0m |\n",
      "| \u001b[0m 95      \u001b[0m | \u001b[0m 25.0    \u001b[0m | \u001b[0m 31.13   \u001b[0m | \u001b[0m 0.9757  \u001b[0m |\n",
      "| \u001b[0m 96      \u001b[0m | \u001b[0m 35.0    \u001b[0m | \u001b[0m 34.19   \u001b[0m | \u001b[0m 0.8816  \u001b[0m |\n",
      "| \u001b[0m 97      \u001b[0m | \u001b[0m-15.0    \u001b[0m | \u001b[0m 18.13   \u001b[0m | \u001b[0m 0.5032  \u001b[0m |\n",
      "| \u001b[0m 98      \u001b[0m | \u001b[0m 25.0    \u001b[0m | \u001b[0m 5.554   \u001b[0m | \u001b[0m 0.882   \u001b[0m |\n",
      "| \u001b[0m 99      \u001b[0m | \u001b[0m 10.0    \u001b[0m | \u001b[0m 32.13   \u001b[0m | \u001b[0m 0.6058  \u001b[0m |\n"
     ]
    },
    {
     "name": "stdout",
     "output_type": "stream",
     "text": [
      "| \u001b[0m 100     \u001b[0m | \u001b[0m-15.0    \u001b[0m | \u001b[0m 38.74   \u001b[0m | \u001b[0m 0.5478  \u001b[0m |\n",
      "| \u001b[0m 101     \u001b[0m | \u001b[0m 45.0    \u001b[0m | \u001b[0m 0.7027  \u001b[0m | \u001b[0m 0.5223  \u001b[0m |\n",
      "| \u001b[0m 102     \u001b[0m | \u001b[0m 45.0    \u001b[0m | \u001b[0m 0.6945  \u001b[0m | \u001b[0m 0.5257  \u001b[0m |\n"
     ]
    },
    {
     "ename": "KeyboardInterrupt",
     "evalue": "",
     "output_type": "error",
     "traceback": [
      "\u001b[0;31m---------------------------------------------------------------------------\u001b[0m",
      "\u001b[0;31mStopIteration\u001b[0m                             Traceback (most recent call last)",
      "\u001b[0;32m~/anaconda3/lib/python3.6/site-packages/bayes_opt/bayesian_optimization.py\u001b[0m in \u001b[0;36mmaximize\u001b[0;34m(self, init_points, n_iter, acq, kappa, xi, **gp_params)\u001b[0m\n\u001b[1;32m    168\u001b[0m             \u001b[0;32mtry\u001b[0m\u001b[0;34m:\u001b[0m\u001b[0;34m\u001b[0m\u001b[0;34m\u001b[0m\u001b[0m\n\u001b[0;32m--> 169\u001b[0;31m                 \u001b[0mx_probe\u001b[0m \u001b[0;34m=\u001b[0m \u001b[0mnext\u001b[0m\u001b[0;34m(\u001b[0m\u001b[0mself\u001b[0m\u001b[0;34m.\u001b[0m\u001b[0m_queue\u001b[0m\u001b[0;34m)\u001b[0m\u001b[0;34m\u001b[0m\u001b[0;34m\u001b[0m\u001b[0m\n\u001b[0m\u001b[1;32m    170\u001b[0m             \u001b[0;32mexcept\u001b[0m \u001b[0mStopIteration\u001b[0m\u001b[0;34m:\u001b[0m\u001b[0;34m\u001b[0m\u001b[0;34m\u001b[0m\u001b[0m\n",
      "\u001b[0;32m~/anaconda3/lib/python3.6/site-packages/bayes_opt/bayesian_optimization.py\u001b[0m in \u001b[0;36m__next__\u001b[0;34m(self)\u001b[0m\n\u001b[1;32m     25\u001b[0m         \u001b[0;32mif\u001b[0m \u001b[0mself\u001b[0m\u001b[0;34m.\u001b[0m\u001b[0mempty\u001b[0m\u001b[0;34m:\u001b[0m\u001b[0;34m\u001b[0m\u001b[0;34m\u001b[0m\u001b[0m\n\u001b[0;32m---> 26\u001b[0;31m             \u001b[0;32mraise\u001b[0m \u001b[0mStopIteration\u001b[0m\u001b[0;34m(\u001b[0m\u001b[0;34m\"Queue is empty, no more objects to retrieve.\"\u001b[0m\u001b[0;34m)\u001b[0m\u001b[0;34m\u001b[0m\u001b[0;34m\u001b[0m\u001b[0m\n\u001b[0m\u001b[1;32m     27\u001b[0m         \u001b[0mobj\u001b[0m \u001b[0;34m=\u001b[0m \u001b[0mself\u001b[0m\u001b[0;34m.\u001b[0m\u001b[0m_queue\u001b[0m\u001b[0;34m[\u001b[0m\u001b[0;36m0\u001b[0m\u001b[0;34m]\u001b[0m\u001b[0;34m\u001b[0m\u001b[0;34m\u001b[0m\u001b[0m\n",
      "\u001b[0;31mStopIteration\u001b[0m: Queue is empty, no more objects to retrieve.",
      "\nDuring handling of the above exception, another exception occurred:\n",
      "\u001b[0;31mKeyboardInterrupt\u001b[0m                         Traceback (most recent call last)",
      "\u001b[0;32m<ipython-input-27-557d1817c961>\u001b[0m in \u001b[0;36m<module>\u001b[0;34m()\u001b[0m\n\u001b[1;32m     13\u001b[0m \u001b[0;34m\u001b[0m\u001b[0m\n\u001b[1;32m     14\u001b[0m \u001b[0moptimization_logreg\u001b[0m \u001b[0;34m=\u001b[0m \u001b[0mBayesianOptimization\u001b[0m\u001b[0;34m(\u001b[0m\u001b[0mevaluateLogReg\u001b[0m\u001b[0;34m,\u001b[0m \u001b[0mparams_logreg\u001b[0m\u001b[0;34m)\u001b[0m\u001b[0;34m\u001b[0m\u001b[0;34m\u001b[0m\u001b[0m\n\u001b[0;32m---> 15\u001b[0;31m \u001b[0moptimization_logreg\u001b[0m\u001b[0;34m.\u001b[0m\u001b[0mmaximize\u001b[0m\u001b[0;34m(\u001b[0m\u001b[0mn_iter\u001b[0m\u001b[0;34m=\u001b[0m\u001b[0;36m100\u001b[0m\u001b[0;34m,\u001b[0m \u001b[0minit_points\u001b[0m\u001b[0;34m=\u001b[0m\u001b[0;36m100\u001b[0m\u001b[0;34m)\u001b[0m\u001b[0;34m\u001b[0m\u001b[0;34m\u001b[0m\u001b[0m\n\u001b[0m",
      "\u001b[0;32m~/anaconda3/lib/python3.6/site-packages/bayes_opt/bayesian_optimization.py\u001b[0m in \u001b[0;36mmaximize\u001b[0;34m(self, init_points, n_iter, acq, kappa, xi, **gp_params)\u001b[0m\n\u001b[1;32m    169\u001b[0m                 \u001b[0mx_probe\u001b[0m \u001b[0;34m=\u001b[0m \u001b[0mnext\u001b[0m\u001b[0;34m(\u001b[0m\u001b[0mself\u001b[0m\u001b[0;34m.\u001b[0m\u001b[0m_queue\u001b[0m\u001b[0;34m)\u001b[0m\u001b[0;34m\u001b[0m\u001b[0;34m\u001b[0m\u001b[0m\n\u001b[1;32m    170\u001b[0m             \u001b[0;32mexcept\u001b[0m \u001b[0mStopIteration\u001b[0m\u001b[0;34m:\u001b[0m\u001b[0;34m\u001b[0m\u001b[0;34m\u001b[0m\u001b[0m\n\u001b[0;32m--> 171\u001b[0;31m                 \u001b[0mx_probe\u001b[0m \u001b[0;34m=\u001b[0m \u001b[0mself\u001b[0m\u001b[0;34m.\u001b[0m\u001b[0msuggest\u001b[0m\u001b[0;34m(\u001b[0m\u001b[0mutil\u001b[0m\u001b[0;34m)\u001b[0m\u001b[0;34m\u001b[0m\u001b[0;34m\u001b[0m\u001b[0m\n\u001b[0m\u001b[1;32m    172\u001b[0m                 \u001b[0miteration\u001b[0m \u001b[0;34m+=\u001b[0m \u001b[0;36m1\u001b[0m\u001b[0;34m\u001b[0m\u001b[0;34m\u001b[0m\u001b[0m\n\u001b[1;32m    173\u001b[0m \u001b[0;34m\u001b[0m\u001b[0m\n",
      "\u001b[0;32m~/anaconda3/lib/python3.6/site-packages/bayes_opt/bayesian_optimization.py\u001b[0m in \u001b[0;36msuggest\u001b[0;34m(self, utility_function)\u001b[0m\n\u001b[1;32m    130\u001b[0m             \u001b[0my_max\u001b[0m\u001b[0;34m=\u001b[0m\u001b[0mself\u001b[0m\u001b[0;34m.\u001b[0m\u001b[0m_space\u001b[0m\u001b[0;34m.\u001b[0m\u001b[0mtarget\u001b[0m\u001b[0;34m.\u001b[0m\u001b[0mmax\u001b[0m\u001b[0;34m(\u001b[0m\u001b[0;34m)\u001b[0m\u001b[0;34m,\u001b[0m\u001b[0;34m\u001b[0m\u001b[0;34m\u001b[0m\u001b[0m\n\u001b[1;32m    131\u001b[0m             \u001b[0mbounds\u001b[0m\u001b[0;34m=\u001b[0m\u001b[0mself\u001b[0m\u001b[0;34m.\u001b[0m\u001b[0m_space\u001b[0m\u001b[0;34m.\u001b[0m\u001b[0mbounds\u001b[0m\u001b[0;34m,\u001b[0m\u001b[0;34m\u001b[0m\u001b[0;34m\u001b[0m\u001b[0m\n\u001b[0;32m--> 132\u001b[0;31m             \u001b[0mrandom_state\u001b[0m\u001b[0;34m=\u001b[0m\u001b[0mself\u001b[0m\u001b[0;34m.\u001b[0m\u001b[0m_random_state\u001b[0m\u001b[0;34m\u001b[0m\u001b[0;34m\u001b[0m\u001b[0m\n\u001b[0m\u001b[1;32m    133\u001b[0m         )\n\u001b[1;32m    134\u001b[0m \u001b[0;34m\u001b[0m\u001b[0m\n",
      "\u001b[0;32m~/anaconda3/lib/python3.6/site-packages/bayes_opt/util.py\u001b[0m in \u001b[0;36macq_max\u001b[0;34m(ac, gp, y_max, bounds, random_state, n_warmup, n_iter)\u001b[0m\n\u001b[1;32m     56\u001b[0m                        \u001b[0mx_try\u001b[0m\u001b[0;34m.\u001b[0m\u001b[0mreshape\u001b[0m\u001b[0;34m(\u001b[0m\u001b[0;36m1\u001b[0m\u001b[0;34m,\u001b[0m \u001b[0;34m-\u001b[0m\u001b[0;36m1\u001b[0m\u001b[0;34m)\u001b[0m\u001b[0;34m,\u001b[0m\u001b[0;34m\u001b[0m\u001b[0;34m\u001b[0m\u001b[0m\n\u001b[1;32m     57\u001b[0m                        \u001b[0mbounds\u001b[0m\u001b[0;34m=\u001b[0m\u001b[0mbounds\u001b[0m\u001b[0;34m,\u001b[0m\u001b[0;34m\u001b[0m\u001b[0;34m\u001b[0m\u001b[0m\n\u001b[0;32m---> 58\u001b[0;31m                        method=\"L-BFGS-B\")\n\u001b[0m\u001b[1;32m     59\u001b[0m \u001b[0;34m\u001b[0m\u001b[0m\n\u001b[1;32m     60\u001b[0m         \u001b[0;31m# See if success\u001b[0m\u001b[0;34m\u001b[0m\u001b[0;34m\u001b[0m\u001b[0;34m\u001b[0m\u001b[0m\n",
      "\u001b[0;32m~/anaconda3/lib/python3.6/site-packages/scipy/optimize/_minimize.py\u001b[0m in \u001b[0;36mminimize\u001b[0;34m(fun, x0, args, method, jac, hess, hessp, bounds, constraints, tol, callback, options)\u001b[0m\n\u001b[1;32m    599\u001b[0m     \u001b[0;32melif\u001b[0m \u001b[0mmeth\u001b[0m \u001b[0;34m==\u001b[0m \u001b[0;34m'l-bfgs-b'\u001b[0m\u001b[0;34m:\u001b[0m\u001b[0;34m\u001b[0m\u001b[0;34m\u001b[0m\u001b[0m\n\u001b[1;32m    600\u001b[0m         return _minimize_lbfgsb(fun, x0, args, jac, bounds,\n\u001b[0;32m--> 601\u001b[0;31m                                 callback=callback, **options)\n\u001b[0m\u001b[1;32m    602\u001b[0m     \u001b[0;32melif\u001b[0m \u001b[0mmeth\u001b[0m \u001b[0;34m==\u001b[0m \u001b[0;34m'tnc'\u001b[0m\u001b[0;34m:\u001b[0m\u001b[0;34m\u001b[0m\u001b[0;34m\u001b[0m\u001b[0m\n\u001b[1;32m    603\u001b[0m         return _minimize_tnc(fun, x0, args, jac, bounds, callback=callback,\n",
      "\u001b[0;32m~/anaconda3/lib/python3.6/site-packages/scipy/optimize/lbfgsb.py\u001b[0m in \u001b[0;36m_minimize_lbfgsb\u001b[0;34m(fun, x0, args, jac, bounds, disp, maxcor, ftol, gtol, eps, maxfun, maxiter, iprint, callback, maxls, **unknown_options)\u001b[0m\n\u001b[1;32m    333\u001b[0m             \u001b[0;31m# until the completion of the current minimization iteration.\u001b[0m\u001b[0;34m\u001b[0m\u001b[0;34m\u001b[0m\u001b[0;34m\u001b[0m\u001b[0m\n\u001b[1;32m    334\u001b[0m             \u001b[0;31m# Overwrite f and g:\u001b[0m\u001b[0;34m\u001b[0m\u001b[0;34m\u001b[0m\u001b[0;34m\u001b[0m\u001b[0m\n\u001b[0;32m--> 335\u001b[0;31m             \u001b[0mf\u001b[0m\u001b[0;34m,\u001b[0m \u001b[0mg\u001b[0m \u001b[0;34m=\u001b[0m \u001b[0mfunc_and_grad\u001b[0m\u001b[0;34m(\u001b[0m\u001b[0mx\u001b[0m\u001b[0;34m)\u001b[0m\u001b[0;34m\u001b[0m\u001b[0;34m\u001b[0m\u001b[0m\n\u001b[0m\u001b[1;32m    336\u001b[0m         \u001b[0;32melif\u001b[0m \u001b[0mtask_str\u001b[0m\u001b[0;34m.\u001b[0m\u001b[0mstartswith\u001b[0m\u001b[0;34m(\u001b[0m\u001b[0;34mb'NEW_X'\u001b[0m\u001b[0;34m)\u001b[0m\u001b[0;34m:\u001b[0m\u001b[0;34m\u001b[0m\u001b[0;34m\u001b[0m\u001b[0m\n\u001b[1;32m    337\u001b[0m             \u001b[0;31m# new iteration\u001b[0m\u001b[0;34m\u001b[0m\u001b[0;34m\u001b[0m\u001b[0;34m\u001b[0m\u001b[0m\n",
      "\u001b[0;32m~/anaconda3/lib/python3.6/site-packages/scipy/optimize/lbfgsb.py\u001b[0m in \u001b[0;36mfunc_and_grad\u001b[0;34m(x)\u001b[0m\n\u001b[1;32m    279\u001b[0m         \u001b[0;32mdef\u001b[0m \u001b[0mfunc_and_grad\u001b[0m\u001b[0;34m(\u001b[0m\u001b[0mx\u001b[0m\u001b[0;34m)\u001b[0m\u001b[0;34m:\u001b[0m\u001b[0;34m\u001b[0m\u001b[0;34m\u001b[0m\u001b[0m\n\u001b[1;32m    280\u001b[0m             \u001b[0mf\u001b[0m \u001b[0;34m=\u001b[0m \u001b[0mfun\u001b[0m\u001b[0;34m(\u001b[0m\u001b[0mx\u001b[0m\u001b[0;34m,\u001b[0m \u001b[0;34m*\u001b[0m\u001b[0margs\u001b[0m\u001b[0;34m)\u001b[0m\u001b[0;34m\u001b[0m\u001b[0;34m\u001b[0m\u001b[0m\n\u001b[0;32m--> 281\u001b[0;31m             \u001b[0mg\u001b[0m \u001b[0;34m=\u001b[0m \u001b[0m_approx_fprime_helper\u001b[0m\u001b[0;34m(\u001b[0m\u001b[0mx\u001b[0m\u001b[0;34m,\u001b[0m \u001b[0mfun\u001b[0m\u001b[0;34m,\u001b[0m \u001b[0mepsilon\u001b[0m\u001b[0;34m,\u001b[0m \u001b[0margs\u001b[0m\u001b[0;34m=\u001b[0m\u001b[0margs\u001b[0m\u001b[0;34m,\u001b[0m \u001b[0mf0\u001b[0m\u001b[0;34m=\u001b[0m\u001b[0mf\u001b[0m\u001b[0;34m)\u001b[0m\u001b[0;34m\u001b[0m\u001b[0;34m\u001b[0m\u001b[0m\n\u001b[0m\u001b[1;32m    282\u001b[0m             \u001b[0;32mreturn\u001b[0m \u001b[0mf\u001b[0m\u001b[0;34m,\u001b[0m \u001b[0mg\u001b[0m\u001b[0;34m\u001b[0m\u001b[0;34m\u001b[0m\u001b[0m\n\u001b[1;32m    283\u001b[0m     \u001b[0;32melse\u001b[0m\u001b[0;34m:\u001b[0m\u001b[0;34m\u001b[0m\u001b[0;34m\u001b[0m\u001b[0m\n",
      "\u001b[0;32m~/anaconda3/lib/python3.6/site-packages/scipy/optimize/optimize.py\u001b[0m in \u001b[0;36m_approx_fprime_helper\u001b[0;34m(xk, f, epsilon, args, f0)\u001b[0m\n\u001b[1;32m    668\u001b[0m         \u001b[0mei\u001b[0m\u001b[0;34m[\u001b[0m\u001b[0mk\u001b[0m\u001b[0;34m]\u001b[0m \u001b[0;34m=\u001b[0m \u001b[0;36m1.0\u001b[0m\u001b[0;34m\u001b[0m\u001b[0;34m\u001b[0m\u001b[0m\n\u001b[1;32m    669\u001b[0m         \u001b[0md\u001b[0m \u001b[0;34m=\u001b[0m \u001b[0mepsilon\u001b[0m \u001b[0;34m*\u001b[0m \u001b[0mei\u001b[0m\u001b[0;34m\u001b[0m\u001b[0;34m\u001b[0m\u001b[0m\n\u001b[0;32m--> 670\u001b[0;31m         \u001b[0mgrad\u001b[0m\u001b[0;34m[\u001b[0m\u001b[0mk\u001b[0m\u001b[0;34m]\u001b[0m \u001b[0;34m=\u001b[0m \u001b[0;34m(\u001b[0m\u001b[0mf\u001b[0m\u001b[0;34m(\u001b[0m\u001b[0;34m*\u001b[0m\u001b[0;34m(\u001b[0m\u001b[0;34m(\u001b[0m\u001b[0mxk\u001b[0m \u001b[0;34m+\u001b[0m \u001b[0md\u001b[0m\u001b[0;34m,\u001b[0m\u001b[0;34m)\u001b[0m \u001b[0;34m+\u001b[0m \u001b[0margs\u001b[0m\u001b[0;34m)\u001b[0m\u001b[0;34m)\u001b[0m \u001b[0;34m-\u001b[0m \u001b[0mf0\u001b[0m\u001b[0;34m)\u001b[0m \u001b[0;34m/\u001b[0m \u001b[0md\u001b[0m\u001b[0;34m[\u001b[0m\u001b[0mk\u001b[0m\u001b[0;34m]\u001b[0m\u001b[0;34m\u001b[0m\u001b[0;34m\u001b[0m\u001b[0m\n\u001b[0m\u001b[1;32m    671\u001b[0m         \u001b[0mei\u001b[0m\u001b[0;34m[\u001b[0m\u001b[0mk\u001b[0m\u001b[0;34m]\u001b[0m \u001b[0;34m=\u001b[0m \u001b[0;36m0.0\u001b[0m\u001b[0;34m\u001b[0m\u001b[0;34m\u001b[0m\u001b[0m\n\u001b[1;32m    672\u001b[0m     \u001b[0;32mreturn\u001b[0m \u001b[0mgrad\u001b[0m\u001b[0;34m\u001b[0m\u001b[0;34m\u001b[0m\u001b[0m\n",
      "\u001b[0;32m~/anaconda3/lib/python3.6/site-packages/scipy/optimize/optimize.py\u001b[0m in \u001b[0;36mfunction_wrapper\u001b[0;34m(*wrapper_args)\u001b[0m\n\u001b[1;32m    298\u001b[0m     \u001b[0;32mdef\u001b[0m \u001b[0mfunction_wrapper\u001b[0m\u001b[0;34m(\u001b[0m\u001b[0;34m*\u001b[0m\u001b[0mwrapper_args\u001b[0m\u001b[0;34m)\u001b[0m\u001b[0;34m:\u001b[0m\u001b[0;34m\u001b[0m\u001b[0;34m\u001b[0m\u001b[0m\n\u001b[1;32m    299\u001b[0m         \u001b[0mncalls\u001b[0m\u001b[0;34m[\u001b[0m\u001b[0;36m0\u001b[0m\u001b[0;34m]\u001b[0m \u001b[0;34m+=\u001b[0m \u001b[0;36m1\u001b[0m\u001b[0;34m\u001b[0m\u001b[0;34m\u001b[0m\u001b[0m\n\u001b[0;32m--> 300\u001b[0;31m         \u001b[0;32mreturn\u001b[0m \u001b[0mfunction\u001b[0m\u001b[0;34m(\u001b[0m\u001b[0;34m*\u001b[0m\u001b[0;34m(\u001b[0m\u001b[0mwrapper_args\u001b[0m \u001b[0;34m+\u001b[0m \u001b[0margs\u001b[0m\u001b[0;34m)\u001b[0m\u001b[0;34m)\u001b[0m\u001b[0;34m\u001b[0m\u001b[0;34m\u001b[0m\u001b[0m\n\u001b[0m\u001b[1;32m    301\u001b[0m \u001b[0;34m\u001b[0m\u001b[0m\n\u001b[1;32m    302\u001b[0m     \u001b[0;32mreturn\u001b[0m \u001b[0mncalls\u001b[0m\u001b[0;34m,\u001b[0m \u001b[0mfunction_wrapper\u001b[0m\u001b[0;34m\u001b[0m\u001b[0;34m\u001b[0m\u001b[0m\n",
      "\u001b[0;32m~/anaconda3/lib/python3.6/site-packages/bayes_opt/util.py\u001b[0m in \u001b[0;36m<lambda>\u001b[0;34m(x)\u001b[0m\n\u001b[1;32m     53\u001b[0m     \u001b[0;32mfor\u001b[0m \u001b[0mx_try\u001b[0m \u001b[0;32min\u001b[0m \u001b[0mx_seeds\u001b[0m\u001b[0;34m:\u001b[0m\u001b[0;34m\u001b[0m\u001b[0;34m\u001b[0m\u001b[0m\n\u001b[1;32m     54\u001b[0m         \u001b[0;31m# Find the minimum of minus the acquisition function\u001b[0m\u001b[0;34m\u001b[0m\u001b[0;34m\u001b[0m\u001b[0;34m\u001b[0m\u001b[0m\n\u001b[0;32m---> 55\u001b[0;31m         res = minimize(lambda x: -ac(x.reshape(1, -1), gp=gp, y_max=y_max),\n\u001b[0m\u001b[1;32m     56\u001b[0m                        \u001b[0mx_try\u001b[0m\u001b[0;34m.\u001b[0m\u001b[0mreshape\u001b[0m\u001b[0;34m(\u001b[0m\u001b[0;36m1\u001b[0m\u001b[0;34m,\u001b[0m \u001b[0;34m-\u001b[0m\u001b[0;36m1\u001b[0m\u001b[0;34m)\u001b[0m\u001b[0;34m,\u001b[0m\u001b[0;34m\u001b[0m\u001b[0;34m\u001b[0m\u001b[0m\n\u001b[1;32m     57\u001b[0m                        \u001b[0mbounds\u001b[0m\u001b[0;34m=\u001b[0m\u001b[0mbounds\u001b[0m\u001b[0;34m,\u001b[0m\u001b[0;34m\u001b[0m\u001b[0;34m\u001b[0m\u001b[0m\n",
      "\u001b[0;32m~/anaconda3/lib/python3.6/site-packages/bayes_opt/util.py\u001b[0m in \u001b[0;36mutility\u001b[0;34m(self, x, gp, y_max)\u001b[0m\n\u001b[1;32m     95\u001b[0m     \u001b[0;32mdef\u001b[0m \u001b[0mutility\u001b[0m\u001b[0;34m(\u001b[0m\u001b[0mself\u001b[0m\u001b[0;34m,\u001b[0m \u001b[0mx\u001b[0m\u001b[0;34m,\u001b[0m \u001b[0mgp\u001b[0m\u001b[0;34m,\u001b[0m \u001b[0my_max\u001b[0m\u001b[0;34m)\u001b[0m\u001b[0;34m:\u001b[0m\u001b[0;34m\u001b[0m\u001b[0;34m\u001b[0m\u001b[0m\n\u001b[1;32m     96\u001b[0m         \u001b[0;32mif\u001b[0m \u001b[0mself\u001b[0m\u001b[0;34m.\u001b[0m\u001b[0mkind\u001b[0m \u001b[0;34m==\u001b[0m \u001b[0;34m'ucb'\u001b[0m\u001b[0;34m:\u001b[0m\u001b[0;34m\u001b[0m\u001b[0;34m\u001b[0m\u001b[0m\n\u001b[0;32m---> 97\u001b[0;31m             \u001b[0;32mreturn\u001b[0m \u001b[0mself\u001b[0m\u001b[0;34m.\u001b[0m\u001b[0m_ucb\u001b[0m\u001b[0;34m(\u001b[0m\u001b[0mx\u001b[0m\u001b[0;34m,\u001b[0m \u001b[0mgp\u001b[0m\u001b[0;34m,\u001b[0m \u001b[0mself\u001b[0m\u001b[0;34m.\u001b[0m\u001b[0mkappa\u001b[0m\u001b[0;34m)\u001b[0m\u001b[0;34m\u001b[0m\u001b[0;34m\u001b[0m\u001b[0m\n\u001b[0m\u001b[1;32m     98\u001b[0m         \u001b[0;32mif\u001b[0m \u001b[0mself\u001b[0m\u001b[0;34m.\u001b[0m\u001b[0mkind\u001b[0m \u001b[0;34m==\u001b[0m \u001b[0;34m'ei'\u001b[0m\u001b[0;34m:\u001b[0m\u001b[0;34m\u001b[0m\u001b[0;34m\u001b[0m\u001b[0m\n\u001b[1;32m     99\u001b[0m             \u001b[0;32mreturn\u001b[0m \u001b[0mself\u001b[0m\u001b[0;34m.\u001b[0m\u001b[0m_ei\u001b[0m\u001b[0;34m(\u001b[0m\u001b[0mx\u001b[0m\u001b[0;34m,\u001b[0m \u001b[0mgp\u001b[0m\u001b[0;34m,\u001b[0m \u001b[0my_max\u001b[0m\u001b[0;34m,\u001b[0m \u001b[0mself\u001b[0m\u001b[0;34m.\u001b[0m\u001b[0mxi\u001b[0m\u001b[0;34m)\u001b[0m\u001b[0;34m\u001b[0m\u001b[0;34m\u001b[0m\u001b[0m\n",
      "\u001b[0;32m~/anaconda3/lib/python3.6/site-packages/bayes_opt/util.py\u001b[0m in \u001b[0;36m_ucb\u001b[0;34m(x, gp, kappa)\u001b[0m\n\u001b[1;32m    105\u001b[0m         \u001b[0;32mwith\u001b[0m \u001b[0mwarnings\u001b[0m\u001b[0;34m.\u001b[0m\u001b[0mcatch_warnings\u001b[0m\u001b[0;34m(\u001b[0m\u001b[0;34m)\u001b[0m\u001b[0;34m:\u001b[0m\u001b[0;34m\u001b[0m\u001b[0;34m\u001b[0m\u001b[0m\n\u001b[1;32m    106\u001b[0m             \u001b[0mwarnings\u001b[0m\u001b[0;34m.\u001b[0m\u001b[0msimplefilter\u001b[0m\u001b[0;34m(\u001b[0m\u001b[0;34m\"ignore\"\u001b[0m\u001b[0;34m)\u001b[0m\u001b[0;34m\u001b[0m\u001b[0;34m\u001b[0m\u001b[0m\n\u001b[0;32m--> 107\u001b[0;31m             \u001b[0mmean\u001b[0m\u001b[0;34m,\u001b[0m \u001b[0mstd\u001b[0m \u001b[0;34m=\u001b[0m \u001b[0mgp\u001b[0m\u001b[0;34m.\u001b[0m\u001b[0mpredict\u001b[0m\u001b[0;34m(\u001b[0m\u001b[0mx\u001b[0m\u001b[0;34m,\u001b[0m \u001b[0mreturn_std\u001b[0m\u001b[0;34m=\u001b[0m\u001b[0;32mTrue\u001b[0m\u001b[0;34m)\u001b[0m\u001b[0;34m\u001b[0m\u001b[0;34m\u001b[0m\u001b[0m\n\u001b[0m\u001b[1;32m    108\u001b[0m \u001b[0;34m\u001b[0m\u001b[0m\n\u001b[1;32m    109\u001b[0m         \u001b[0;32mreturn\u001b[0m \u001b[0mmean\u001b[0m \u001b[0;34m+\u001b[0m \u001b[0mkappa\u001b[0m \u001b[0;34m*\u001b[0m \u001b[0mstd\u001b[0m\u001b[0;34m\u001b[0m\u001b[0;34m\u001b[0m\u001b[0m\n",
      "\u001b[0;32m~/anaconda3/lib/python3.6/site-packages/sklearn/gaussian_process/gpr.py\u001b[0m in \u001b[0;36mpredict\u001b[0;34m(self, X, return_std, return_cov)\u001b[0m\n\u001b[1;32m    349\u001b[0m                 \u001b[0my_var\u001b[0m \u001b[0;34m=\u001b[0m \u001b[0mself\u001b[0m\u001b[0;34m.\u001b[0m\u001b[0mkernel_\u001b[0m\u001b[0;34m.\u001b[0m\u001b[0mdiag\u001b[0m\u001b[0;34m(\u001b[0m\u001b[0mX\u001b[0m\u001b[0;34m)\u001b[0m\u001b[0;34m\u001b[0m\u001b[0;34m\u001b[0m\u001b[0m\n\u001b[1;32m    350\u001b[0m                 y_var -= np.einsum(\"ij,ij->i\",\n\u001b[0;32m--> 351\u001b[0;31m                                    np.dot(K_trans, self._K_inv), K_trans)\n\u001b[0m\u001b[1;32m    352\u001b[0m \u001b[0;34m\u001b[0m\u001b[0m\n\u001b[1;32m    353\u001b[0m                 \u001b[0;31m# Check if any of the variances is negative because of\u001b[0m\u001b[0;34m\u001b[0m\u001b[0;34m\u001b[0m\u001b[0;34m\u001b[0m\u001b[0m\n",
      "\u001b[0;31mKeyboardInterrupt\u001b[0m: "
     ]
    }
   ],
   "source": [
    "# dataset in function is X2\n",
    "def evaluateLogReg(C, pred_threshold):\n",
    "    clf = LogisticRegression(C=C, solver='lbfgs', max_iter=10000)\n",
    "    clf = CustomModelWithThreshold(clf,threshold=pred_threshold)\n",
    "    return sum(cross_validate(clf,X2_temporary, y2, scoring=profit_scoring, cv=cv)['test_score'])\n",
    "\n",
    "\n",
    "params_logreg = {\n",
    "    'C': (0.001, 50),\n",
    "    'pred_threshold': (0.5, 1)\n",
    "}\n",
    "\n",
    "optimization_logreg = BayesianOptimization(evaluateLogReg, params_logreg)\n",
    "optimization_logreg.maximize(n_iter=100, init_points=100)"
   ]
  },
  {
   "cell_type": "code",
   "execution_count": 75,
   "metadata": {},
   "outputs": [
    {
     "data": {
      "text/plain": [
       "{'target': 45.0,\n",
       " 'params': {'C': 0.7011802960246133, 'pred_threshold': 0.5315216790813109}}"
      ]
     },
     "execution_count": 75,
     "metadata": {},
     "output_type": "execute_result"
    }
   ],
   "source": [
    "optimization_logreg.max"
   ]
  },
  {
   "cell_type": "code",
   "execution_count": 76,
   "metadata": {},
   "outputs": [
    {
     "data": {
      "text/plain": [
       "45"
      ]
     },
     "execution_count": 76,
     "metadata": {},
     "output_type": "execute_result"
    }
   ],
   "source": [
    "# verify\n",
    "C = optimization_logreg.max['params']['C']\n",
    "pred_threshold = optimization_logreg.max['params']['pred_threshold']\n",
    "\n",
    "clf = LogisticRegression(C=C, solver='lbfgs', max_iter=10000)\n",
    "clf = CustomModelWithThreshold(clf,threshold=pred_threshold)\n",
    "# final score for trust=2\n",
    "cv = StratifiedKFold(n_splits=10, random_state=42)\n",
    "sum(cross_validate(clf,X2_temporary, y2, scoring=profit_scoring, cv=cv)['test_score'])"
   ]
  },
  {
   "cell_type": "code",
   "execution_count": 77,
   "metadata": {},
   "outputs": [
    {
     "data": {
      "text/plain": [
       "7"
      ]
     },
     "execution_count": 77,
     "metadata": {},
     "output_type": "execute_result"
    }
   ],
   "source": [
    "# number of features used\n",
    "len(X2_temporary.columns)"
   ]
  },
  {
   "cell_type": "code",
   "execution_count": null,
   "metadata": {},
   "outputs": [],
   "source": []
  }
 ],
 "metadata": {
  "kernelspec": {
   "display_name": "Python 3",
   "language": "python",
   "name": "python3"
  },
  "language_info": {
   "codemirror_mode": {
    "name": "ipython",
    "version": 3
   },
   "file_extension": ".py",
   "mimetype": "text/x-python",
   "name": "python",
   "nbconvert_exporter": "python",
   "pygments_lexer": "ipython3",
   "version": "3.6.8"
  }
 },
 "nbformat": 4,
 "nbformat_minor": 2
}
