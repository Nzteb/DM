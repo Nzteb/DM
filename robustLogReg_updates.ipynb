{
 "cells": [
  {
   "cell_type": "code",
   "execution_count": 1,
   "metadata": {},
   "outputs": [],
   "source": [
    "import pandas as pd\n",
    "import numpy as np\n",
    "from matplotlib import pyplot as plt\n",
    "from sklearn.model_selection import cross_val_score, cross_validate\n",
    "from sklearn.model_selection import StratifiedKFold\n",
    "from sklearn.preprocessing import StandardScaler, MinMaxScaler\n",
    "\n",
    "from sklearn.ensemble import RandomForestClassifier\n",
    "from sklearn.linear_model import LogisticRegression\n",
    "from sklearn.decomposition import PCA\n",
    "import itertools\n",
    "from sklearn.pipeline import Pipeline\n",
    "from sklearn.preprocessing import PolynomialFeatures\n",
    "\n",
    "from sklearn import svm as SVM\n",
    "from funcs import cv_profits_for_models, cv_preds_and_confusion_matrix, CustomModelWithThreshold\n",
    "from funcs import profit_scorer, profit_scoring\n",
    "from customClassifiers import OutlierRemover\n",
    "from xgboost import XGBClassifier\n",
    "from bayes_opt import BayesianOptimization\n",
    "\n",
    "from sklearn.feature_selection import SelectKBest, SelectFromModel\n",
    "from sklearn.feature_selection import chi2"
   ]
  },
  {
   "cell_type": "code",
   "execution_count": 2,
   "metadata": {},
   "outputs": [],
   "source": [
    "X_train = pd.read_csv('train.csv' ,delimiter=\"|\")\n",
    "X_test = pd.read_csv('test.csv', delimiter=\"|\")\n",
    "\n",
    "X_train['scannedLineItemsTotal'] = X_train['scannedLineItemsPerSecond'] * X_train['totalScanTimeInSeconds']\n",
    "X_train['valuePerLineItem'] = X_train['grandTotal'] * X_train['scannedLineItemsTotal']\n",
    "X_train['quantityModificationsPerLineItem'] = X_train['quantityModifications'] * X_train['scannedLineItemsTotal']\n",
    "X_train['lineItemVoids*scansWithoutRegistration'] = X_train['lineItemVoids'] * X_train['scansWithoutRegistration']"
   ]
  },
  {
   "cell_type": "code",
   "execution_count": 3,
   "metadata": {},
   "outputs": [],
   "source": [
    "X_train1 = X_train[X_train['trustLevel']==1]\n",
    "y1 = X_train1.pop('fraud')\n",
    "l=X_train1.pop('trustLevel')"
   ]
  },
  {
   "cell_type": "code",
   "execution_count": 4,
   "metadata": {},
   "outputs": [],
   "source": [
    "X_train2 = X_train[X_train['trustLevel']==2]\n",
    "y2 = X_train2.pop('fraud')\n",
    "l=X_train2.pop('trustLevel')"
   ]
  },
  {
   "cell_type": "markdown",
   "metadata": {},
   "source": [
    "# Trust Level 1 (Calculate Feature Importance with XGboost)"
   ]
  },
  {
   "cell_type": "code",
   "execution_count": 5,
   "metadata": {},
   "outputs": [
    {
     "name": "stderr",
     "output_type": "stream",
     "text": [
      "/home/niklas/.local/lib/python3.6/site-packages/sklearn/preprocessing/data.py:645: DataConversionWarning: Data with input dtype int64, float64 were all converted to float64 by StandardScaler.\n",
      "  return self.partial_fit(X, y)\n",
      "/home/niklas/.local/lib/python3.6/site-packages/sklearn/base.py:464: DataConversionWarning: Data with input dtype int64, float64 were all converted to float64 by StandardScaler.\n",
      "  return self.fit(X, **fit_params).transform(X)\n"
     ]
    }
   ],
   "source": [
    "# normalize data first to prevent 0's in dataset\n",
    "scaler = StandardScaler()\n",
    "names_X_train1 = X_train1.columns\n",
    "X_train1 = scaler.fit_transform(X_train1)\n",
    "\n",
    "# generate features and rescale\n",
    "polyFeatures = PolynomialFeatures(3, interaction_only=False)\n",
    "X_train1_all = polyFeatures.fit_transform(X_train1)\n",
    "X_train1_all = scaler.fit_transform(X_train1_all)\n",
    "\n",
    "#remove the first var because it is the constant term\n",
    "X_train1_all = X_train1_all[:,1:]\n",
    "features_X_train1_all = polyFeatures.get_feature_names(input_features=names_X_train1)[1:]"
   ]
  },
  {
   "cell_type": "code",
   "execution_count": 6,
   "metadata": {},
   "outputs": [],
   "source": [
    "# obtain feature importance by xgboost\n",
    "xgb = XGBClassifier(num_estimator=100)\n",
    "xgb.fit(X_train1_all, y1)\n",
    "imp = xgb.feature_importances_"
   ]
  },
  {
   "cell_type": "code",
   "execution_count": 7,
   "metadata": {},
   "outputs": [],
   "source": [
    "# order the feature indices by importance\n",
    "imp = pd.DataFrame(imp)\n",
    "imp = imp.sort_values(by=0, ascending=False)"
   ]
  },
  {
   "cell_type": "code",
   "execution_count": 8,
   "metadata": {},
   "outputs": [],
   "source": [
    "# choose starting model\n",
    "model = CustomModelWithThreshold(LogisticRegression(C=10, solver='lbfgs', max_iter=300), 0.9)\n",
    "\n",
    "cv = StratifiedKFold(n_splits=10, random_state=42)\n",
    "last_score = -10000"
   ]
  },
  {
   "cell_type": "code",
   "execution_count": 9,
   "metadata": {
    "scrolled": false
   },
   "outputs": [
    {
     "name": "stdout",
     "output_type": "stream",
     "text": [
      "-105\n",
      "5\n",
      "15\n",
      "45\n",
      "50\n",
      "90\n",
      "160\n",
      "170\n",
      "180\n",
      "205\n",
      "225\n",
      "245\n",
      "255\n",
      "265\n",
      "275\n",
      "295\n",
      "305\n",
      "315\n"
     ]
    }
   ],
   "source": [
    "# add most important feature\n",
    "X1_temporary = pd.DataFrame(X_train1_all[:,(list(imp.index))[0]])\n",
    "\n",
    "features_to_use1 = [(list(imp.index))[0]]\n",
    "# iteratively add features one by one\n",
    "for featnum in (list(imp.index))[1:]:\n",
    "    X_check = pd.concat([X1_temporary,pd.Series(X_train1_all[:,featnum])], axis=1)\n",
    "    score = sum(cross_validate(model,X_check, y1, scoring=profit_scoring, cv=cv)['test_score'])\n",
    "    # add the feature ultimatively if score improved\n",
    "    if score > last_score:\n",
    "        X1_temporary = pd.concat([X1_temporary,pd.Series(X_train1_all[:,featnum])], axis=1)\n",
    "        features_to_use1.append(featnum)\n",
    "        last_score = score    \n",
    "        print(last_score)\n",
    "    \n",
    "# for test predictions use features_to_use to select the according features in the test set    "
   ]
  },
  {
   "cell_type": "code",
   "execution_count": 10,
   "metadata": {
    "scrolled": true
   },
   "outputs": [
    {
     "name": "stdout",
     "output_type": "stream",
     "text": [
      "|   iter    |  target   |     C     | pred_t... |\n",
      "-------------------------------------------------\n",
      "| \u001b[0m 1       \u001b[0m | \u001b[0m 280.0   \u001b[0m | \u001b[0m 2.401   \u001b[0m | \u001b[0m 0.5904  \u001b[0m |\n",
      "| \u001b[95m 2       \u001b[0m | \u001b[95m 285.0   \u001b[0m | \u001b[95m 3.085   \u001b[0m | \u001b[95m 0.5028  \u001b[0m |\n",
      "| \u001b[0m 3       \u001b[0m | \u001b[0m 280.0   \u001b[0m | \u001b[0m 1.857   \u001b[0m | \u001b[0m 0.5667  \u001b[0m |\n",
      "| \u001b[0m 4       \u001b[0m | \u001b[0m 280.0   \u001b[0m | \u001b[0m 4.918   \u001b[0m | \u001b[0m 0.5957  \u001b[0m |\n",
      "| \u001b[0m 5       \u001b[0m | \u001b[0m 280.0   \u001b[0m | \u001b[0m 1.682   \u001b[0m | \u001b[0m 0.5859  \u001b[0m |\n",
      "| \u001b[0m 6       \u001b[0m | \u001b[0m 285.0   \u001b[0m | \u001b[0m 3.88    \u001b[0m | \u001b[0m 0.5321  \u001b[0m |\n",
      "| \u001b[0m 7       \u001b[0m | \u001b[0m 285.0   \u001b[0m | \u001b[0m 2.64    \u001b[0m | \u001b[0m 0.5199  \u001b[0m |\n",
      "| \u001b[0m 8       \u001b[0m | \u001b[0m 285.0   \u001b[0m | \u001b[0m 2.887   \u001b[0m | \u001b[0m 0.5146  \u001b[0m |\n",
      "| \u001b[0m 9       \u001b[0m | \u001b[0m 285.0   \u001b[0m | \u001b[0m 1.082   \u001b[0m | \u001b[0m 0.5955  \u001b[0m |\n",
      "| \u001b[0m 10      \u001b[0m | \u001b[0m 280.0   \u001b[0m | \u001b[0m 2.374   \u001b[0m | \u001b[0m 0.5975  \u001b[0m |\n",
      "| \u001b[95m 11      \u001b[0m | \u001b[95m 310.0   \u001b[0m | \u001b[95m 0.2401  \u001b[0m | \u001b[95m 0.5328  \u001b[0m |\n",
      "| \u001b[0m 12      \u001b[0m | \u001b[0m 285.0   \u001b[0m | \u001b[0m 0.8398  \u001b[0m | \u001b[0m 0.5872  \u001b[0m |\n",
      "| \u001b[0m 13      \u001b[0m | \u001b[0m 295.0   \u001b[0m | \u001b[0m 1.681   \u001b[0m | \u001b[0m 0.5056  \u001b[0m |\n",
      "| \u001b[0m 14      \u001b[0m | \u001b[0m 275.0   \u001b[0m | \u001b[0m 3.057   \u001b[0m | \u001b[0m 0.5492  \u001b[0m |\n",
      "| \u001b[0m 15      \u001b[0m | \u001b[0m 280.0   \u001b[0m | \u001b[0m 4.237   \u001b[0m | \u001b[0m 0.5973  \u001b[0m |\n",
      "| \u001b[0m 16      \u001b[0m | \u001b[0m 300.0   \u001b[0m | \u001b[0m 1.439   \u001b[0m | \u001b[0m 0.5481  \u001b[0m |\n",
      "| \u001b[0m 17      \u001b[0m | \u001b[0m 265.0   \u001b[0m | \u001b[0m 3.961   \u001b[0m | \u001b[0m 0.5445  \u001b[0m |\n",
      "| \u001b[0m 18      \u001b[0m | \u001b[0m 295.0   \u001b[0m | \u001b[0m 1.2     \u001b[0m | \u001b[0m 0.5962  \u001b[0m |\n",
      "| \u001b[0m 19      \u001b[0m | \u001b[0m 285.0   \u001b[0m | \u001b[0m 3.918   \u001b[0m | \u001b[0m 0.5298  \u001b[0m |\n",
      "| \u001b[0m 20      \u001b[0m | \u001b[0m 280.0   \u001b[0m | \u001b[0m 4.285   \u001b[0m | \u001b[0m 0.5947  \u001b[0m |\n",
      "| \u001b[0m 21      \u001b[0m | \u001b[0m 305.0   \u001b[0m | \u001b[0m 0.4088  \u001b[0m | \u001b[0m 0.5951  \u001b[0m |\n",
      "| \u001b[0m 22      \u001b[0m | \u001b[0m 285.0   \u001b[0m | \u001b[0m 4.489   \u001b[0m | \u001b[0m 0.5359  \u001b[0m |\n",
      "| \u001b[0m 23      \u001b[0m | \u001b[0m 310.0   \u001b[0m | \u001b[0m 0.9917  \u001b[0m | \u001b[0m 0.552   \u001b[0m |\n",
      "| \u001b[0m 24      \u001b[0m | \u001b[0m 280.0   \u001b[0m | \u001b[0m 3.775   \u001b[0m | \u001b[0m 0.5874  \u001b[0m |\n",
      "| \u001b[0m 25      \u001b[0m | \u001b[0m 285.0   \u001b[0m | \u001b[0m 1.381   \u001b[0m | \u001b[0m 0.5128  \u001b[0m |\n",
      "| \u001b[0m 26      \u001b[0m | \u001b[0m 285.0   \u001b[0m | \u001b[0m 2.773   \u001b[0m | \u001b[0m 0.5311  \u001b[0m |\n",
      "| \u001b[0m 27      \u001b[0m | \u001b[0m 310.0   \u001b[0m | \u001b[0m 1.003   \u001b[0m | \u001b[0m 0.5448  \u001b[0m |\n",
      "| \u001b[0m 28      \u001b[0m | \u001b[0m 285.0   \u001b[0m | \u001b[0m 1.037   \u001b[0m | \u001b[0m 0.5937  \u001b[0m |\n",
      "| \u001b[0m 29      \u001b[0m | \u001b[0m 280.0   \u001b[0m | \u001b[0m 2.654   \u001b[0m | \u001b[0m 0.5783  \u001b[0m |\n",
      "| \u001b[0m 30      \u001b[0m | \u001b[0m 285.0   \u001b[0m | \u001b[0m 1.345   \u001b[0m | \u001b[0m 0.507   \u001b[0m |\n",
      "| \u001b[0m 31      \u001b[0m | \u001b[0m 300.0   \u001b[0m | \u001b[0m 0.5624  \u001b[0m | \u001b[0m 0.5998  \u001b[0m |\n",
      "| \u001b[0m 32      \u001b[0m | \u001b[0m 285.0   \u001b[0m | \u001b[0m 2.638   \u001b[0m | \u001b[0m 0.5314  \u001b[0m |\n",
      "| \u001b[0m 33      \u001b[0m | \u001b[0m 265.0   \u001b[0m | \u001b[0m 4.641   \u001b[0m | \u001b[0m 0.5746  \u001b[0m |\n",
      "| \u001b[0m 34      \u001b[0m | \u001b[0m 280.0   \u001b[0m | \u001b[0m 4.633   \u001b[0m | \u001b[0m 0.592   \u001b[0m |\n",
      "| \u001b[0m 35      \u001b[0m | \u001b[0m 285.0   \u001b[0m | \u001b[0m 0.8209  \u001b[0m | \u001b[0m 0.5057  \u001b[0m |\n",
      "| \u001b[0m 36      \u001b[0m | \u001b[0m 305.0   \u001b[0m | \u001b[0m 0.7016  \u001b[0m | \u001b[0m 0.5682  \u001b[0m |\n",
      "| \u001b[0m 37      \u001b[0m | \u001b[0m 285.0   \u001b[0m | \u001b[0m 0.6004  \u001b[0m | \u001b[0m 0.5148  \u001b[0m |\n",
      "| \u001b[0m 38      \u001b[0m | \u001b[0m 285.0   \u001b[0m | \u001b[0m 2.329   \u001b[0m | \u001b[0m 0.532   \u001b[0m |\n",
      "| \u001b[0m 39      \u001b[0m | \u001b[0m 265.0   \u001b[0m | \u001b[0m 4.131   \u001b[0m | \u001b[0m 0.5445  \u001b[0m |\n",
      "| \u001b[0m 40      \u001b[0m | \u001b[0m 285.0   \u001b[0m | \u001b[0m 2.511   \u001b[0m | \u001b[0m 0.5042  \u001b[0m |\n",
      "| \u001b[95m 41      \u001b[0m | \u001b[95m 340.0   \u001b[0m | \u001b[95m 0.3414  \u001b[0m | \u001b[95m 0.5383  \u001b[0m |\n",
      "| \u001b[0m 42      \u001b[0m | \u001b[0m 305.0   \u001b[0m | \u001b[0m 0.2714  \u001b[0m | \u001b[0m 0.5651  \u001b[0m |\n",
      "| \u001b[0m 43      \u001b[0m | \u001b[0m 310.0   \u001b[0m | \u001b[0m 0.8593  \u001b[0m | \u001b[0m 0.5399  \u001b[0m |\n",
      "| \u001b[0m 44      \u001b[0m | \u001b[0m 315.0   \u001b[0m | \u001b[0m 0.4471  \u001b[0m | \u001b[0m 0.5403  \u001b[0m |\n",
      "| \u001b[0m 45      \u001b[0m | \u001b[0m 325.0   \u001b[0m | \u001b[0m 0.7344  \u001b[0m | \u001b[0m 0.5438  \u001b[0m |\n",
      "| \u001b[0m 46      \u001b[0m | \u001b[0m 285.0   \u001b[0m | \u001b[0m 4.122   \u001b[0m | \u001b[0m 0.5355  \u001b[0m |\n",
      "| \u001b[0m 47      \u001b[0m | \u001b[0m 285.0   \u001b[0m | \u001b[0m 3.832   \u001b[0m | \u001b[0m 0.526   \u001b[0m |\n",
      "| \u001b[0m 48      \u001b[0m | \u001b[0m 275.0   \u001b[0m | \u001b[0m 4.909   \u001b[0m | \u001b[0m 0.5392  \u001b[0m |\n",
      "| \u001b[0m 49      \u001b[0m | \u001b[0m 280.0   \u001b[0m | \u001b[0m 4.359   \u001b[0m | \u001b[0m 0.5772  \u001b[0m |\n",
      "| \u001b[0m 50      \u001b[0m | \u001b[0m 255.0   \u001b[0m | \u001b[0m 2.943   \u001b[0m | \u001b[0m 0.5592  \u001b[0m |\n",
      "| \u001b[0m 51      \u001b[0m | \u001b[0m 265.0   \u001b[0m | \u001b[0m 4.409   \u001b[0m | \u001b[0m 0.5713  \u001b[0m |\n",
      "| \u001b[0m 52      \u001b[0m | \u001b[0m 265.0   \u001b[0m | \u001b[0m 4.864   \u001b[0m | \u001b[0m 0.544   \u001b[0m |\n",
      "| \u001b[0m 53      \u001b[0m | \u001b[0m 295.0   \u001b[0m | \u001b[0m 1.046   \u001b[0m | \u001b[0m 0.5824  \u001b[0m |\n",
      "| \u001b[0m 54      \u001b[0m | \u001b[0m 300.0   \u001b[0m | \u001b[0m 1.274   \u001b[0m | \u001b[0m 0.555   \u001b[0m |\n",
      "| \u001b[0m 55      \u001b[0m | \u001b[0m 285.0   \u001b[0m | \u001b[0m 3.226   \u001b[0m | \u001b[0m 0.5009  \u001b[0m |\n",
      "| \u001b[0m 56      \u001b[0m | \u001b[0m 265.0   \u001b[0m | \u001b[0m 3.933   \u001b[0m | \u001b[0m 0.5496  \u001b[0m |\n",
      "| \u001b[0m 57      \u001b[0m | \u001b[0m 285.0   \u001b[0m | \u001b[0m 1.267   \u001b[0m | \u001b[0m 0.5277  \u001b[0m |\n",
      "| \u001b[0m 58      \u001b[0m | \u001b[0m 280.0   \u001b[0m | \u001b[0m 3.875   \u001b[0m | \u001b[0m 0.5792  \u001b[0m |\n",
      "| \u001b[0m 59      \u001b[0m | \u001b[0m 285.0   \u001b[0m | \u001b[0m 3.357   \u001b[0m | \u001b[0m 0.5135  \u001b[0m |\n",
      "| \u001b[0m 60      \u001b[0m | \u001b[0m 285.0   \u001b[0m | \u001b[0m 3.5     \u001b[0m | \u001b[0m 0.5281  \u001b[0m |\n",
      "| \u001b[0m 61      \u001b[0m | \u001b[0m 280.0   \u001b[0m | \u001b[0m 3.239   \u001b[0m | \u001b[0m 0.5695  \u001b[0m |\n",
      "| \u001b[0m 62      \u001b[0m | \u001b[0m 265.0   \u001b[0m | \u001b[0m 4.294   \u001b[0m | \u001b[0m 0.5669  \u001b[0m |\n",
      "| \u001b[0m 63      \u001b[0m | \u001b[0m 285.0   \u001b[0m | \u001b[0m 4.394   \u001b[0m | \u001b[0m 0.5306  \u001b[0m |\n",
      "| \u001b[0m 64      \u001b[0m | \u001b[0m 265.0   \u001b[0m | \u001b[0m 4.224   \u001b[0m | \u001b[0m 0.5638  \u001b[0m |\n",
      "| \u001b[0m 65      \u001b[0m | \u001b[0m 265.0   \u001b[0m | \u001b[0m 4.664   \u001b[0m | \u001b[0m 0.5687  \u001b[0m |\n",
      "| \u001b[0m 66      \u001b[0m | \u001b[0m 295.0   \u001b[0m | \u001b[0m 0.1495  \u001b[0m | \u001b[0m 0.5404  \u001b[0m |\n",
      "| \u001b[0m 67      \u001b[0m | \u001b[0m 285.0   \u001b[0m | \u001b[0m 4.235   \u001b[0m | \u001b[0m 0.5327  \u001b[0m |\n",
      "| \u001b[0m 68      \u001b[0m | \u001b[0m 300.0   \u001b[0m | \u001b[0m 1.458   \u001b[0m | \u001b[0m 0.5462  \u001b[0m |\n",
      "| \u001b[0m 69      \u001b[0m | \u001b[0m 280.0   \u001b[0m | \u001b[0m 3.404   \u001b[0m | \u001b[0m 0.581   \u001b[0m |\n",
      "| \u001b[0m 70      \u001b[0m | \u001b[0m 300.0   \u001b[0m | \u001b[0m 1.677   \u001b[0m | \u001b[0m 0.5583  \u001b[0m |\n",
      "| \u001b[0m 71      \u001b[0m | \u001b[0m 280.0   \u001b[0m | \u001b[0m 2.37    \u001b[0m | \u001b[0m 0.5758  \u001b[0m |\n",
      "| \u001b[0m 72      \u001b[0m | \u001b[0m 275.0   \u001b[0m | \u001b[0m 1.66    \u001b[0m | \u001b[0m 0.543   \u001b[0m |\n",
      "| \u001b[0m 73      \u001b[0m | \u001b[0m 265.0   \u001b[0m | \u001b[0m 4.467   \u001b[0m | \u001b[0m 0.5577  \u001b[0m |\n",
      "| \u001b[0m 74      \u001b[0m | \u001b[0m 285.0   \u001b[0m | \u001b[0m 3.217   \u001b[0m | \u001b[0m 0.5218  \u001b[0m |\n",
      "| \u001b[0m 75      \u001b[0m | \u001b[0m 280.0   \u001b[0m | \u001b[0m 1.931   \u001b[0m | \u001b[0m 0.5849  \u001b[0m |\n",
      "| \u001b[0m 76      \u001b[0m | \u001b[0m 285.0   \u001b[0m | \u001b[0m 1.057   \u001b[0m | \u001b[0m 0.5091  \u001b[0m |\n",
      "| \u001b[0m 77      \u001b[0m | \u001b[0m 280.0   \u001b[0m | \u001b[0m 2.39    \u001b[0m | \u001b[0m 0.5868  \u001b[0m |\n",
      "| \u001b[0m 78      \u001b[0m | \u001b[0m 340.0   \u001b[0m | \u001b[0m 0.3382  \u001b[0m | \u001b[0m 0.5419  \u001b[0m |\n",
      "| \u001b[0m 79      \u001b[0m | \u001b[0m 315.0   \u001b[0m | \u001b[0m 0.2422  \u001b[0m | \u001b[0m 0.5022  \u001b[0m |\n",
      "| \u001b[0m 80      \u001b[0m | \u001b[0m 300.0   \u001b[0m | \u001b[0m 0.4608  \u001b[0m | \u001b[0m 0.5948  \u001b[0m |\n",
      "| \u001b[0m 81      \u001b[0m | \u001b[0m 265.0   \u001b[0m | \u001b[0m 4.209   \u001b[0m | \u001b[0m 0.5688  \u001b[0m |\n",
      "| \u001b[0m 82      \u001b[0m | \u001b[0m 265.0   \u001b[0m | \u001b[0m 4.372   \u001b[0m | \u001b[0m 0.5682  \u001b[0m |\n",
      "| \u001b[0m 83      \u001b[0m | \u001b[0m 295.0   \u001b[0m | \u001b[0m 2.036   \u001b[0m | \u001b[0m 0.5153  \u001b[0m |\n",
      "| \u001b[0m 84      \u001b[0m | \u001b[0m 280.0   \u001b[0m | \u001b[0m 2.503   \u001b[0m | \u001b[0m 0.5939  \u001b[0m |\n",
      "| \u001b[0m 85      \u001b[0m | \u001b[0m 285.0   \u001b[0m | \u001b[0m 3.132   \u001b[0m | \u001b[0m 0.5364  \u001b[0m |\n",
      "| \u001b[0m 86      \u001b[0m | \u001b[0m 285.0   \u001b[0m | \u001b[0m 1.18    \u001b[0m | \u001b[0m 0.5006  \u001b[0m |\n",
      "| \u001b[0m 87      \u001b[0m | \u001b[0m 300.0   \u001b[0m | \u001b[0m 1.685   \u001b[0m | \u001b[0m 0.5576  \u001b[0m |\n",
      "| \u001b[0m 88      \u001b[0m | \u001b[0m 295.0   \u001b[0m | \u001b[0m 0.3396  \u001b[0m | \u001b[0m 0.5925  \u001b[0m |\n",
      "| \u001b[0m 89      \u001b[0m | \u001b[0m 315.0   \u001b[0m | \u001b[0m 0.3512  \u001b[0m | \u001b[0m 0.5231  \u001b[0m |\n",
      "| \u001b[0m 90      \u001b[0m | \u001b[0m 280.0   \u001b[0m | \u001b[0m 3.356   \u001b[0m | \u001b[0m 0.5981  \u001b[0m |\n",
      "| \u001b[0m 91      \u001b[0m | \u001b[0m 295.0   \u001b[0m | \u001b[0m 1.636   \u001b[0m | \u001b[0m 0.5147  \u001b[0m |\n",
      "| \u001b[0m 92      \u001b[0m | \u001b[0m 280.0   \u001b[0m | \u001b[0m 4.726   \u001b[0m | \u001b[0m 0.5991  \u001b[0m |\n",
      "| \u001b[0m 93      \u001b[0m | \u001b[0m 265.0   \u001b[0m | \u001b[0m 4.041   \u001b[0m | \u001b[0m 0.5577  \u001b[0m |\n",
      "| \u001b[0m 94      \u001b[0m | \u001b[0m 285.0   \u001b[0m | \u001b[0m 4.485   \u001b[0m | \u001b[0m 0.5228  \u001b[0m |\n",
      "| \u001b[0m 95      \u001b[0m | \u001b[0m 260.0   \u001b[0m | \u001b[0m 4.446   \u001b[0m | \u001b[0m 0.5009  \u001b[0m |\n",
      "| \u001b[0m 96      \u001b[0m | \u001b[0m 280.0   \u001b[0m | \u001b[0m 2.752   \u001b[0m | \u001b[0m 0.5853  \u001b[0m |\n",
      "| \u001b[0m 97      \u001b[0m | \u001b[0m 310.0   \u001b[0m | \u001b[0m 0.2473  \u001b[0m | \u001b[0m 0.5392  \u001b[0m |\n",
      "| \u001b[0m 98      \u001b[0m | \u001b[0m 285.0   \u001b[0m | \u001b[0m 1.145   \u001b[0m | \u001b[0m 0.5128  \u001b[0m |\n",
      "| \u001b[0m 99      \u001b[0m | \u001b[0m 255.0   \u001b[0m | \u001b[0m 2.842   \u001b[0m | \u001b[0m 0.5624  \u001b[0m |\n",
      "| \u001b[0m 100     \u001b[0m | \u001b[0m 275.0   \u001b[0m | \u001b[0m 0.1798  \u001b[0m | \u001b[0m 0.5776  \u001b[0m |\n",
      "| \u001b[0m 101     \u001b[0m | \u001b[0m 340.0   \u001b[0m | \u001b[0m 0.3402  \u001b[0m | \u001b[0m 0.5405  \u001b[0m |\n"
     ]
    },
    {
     "ename": "KeyboardInterrupt",
     "evalue": "",
     "output_type": "error",
     "traceback": [
      "\u001b[0;31m---------------------------------------------------------------------------\u001b[0m",
      "\u001b[0;31mStopIteration\u001b[0m                             Traceback (most recent call last)",
      "\u001b[0;32m~/.local/lib/python3.6/site-packages/bayes_opt/bayesian_optimization.py\u001b[0m in \u001b[0;36mmaximize\u001b[0;34m(self, init_points, n_iter, acq, kappa, xi, **gp_params)\u001b[0m\n\u001b[1;32m    168\u001b[0m             \u001b[0;32mtry\u001b[0m\u001b[0;34m:\u001b[0m\u001b[0;34m\u001b[0m\u001b[0;34m\u001b[0m\u001b[0m\n\u001b[0;32m--> 169\u001b[0;31m                 \u001b[0mx_probe\u001b[0m \u001b[0;34m=\u001b[0m \u001b[0mnext\u001b[0m\u001b[0;34m(\u001b[0m\u001b[0mself\u001b[0m\u001b[0;34m.\u001b[0m\u001b[0m_queue\u001b[0m\u001b[0;34m)\u001b[0m\u001b[0;34m\u001b[0m\u001b[0;34m\u001b[0m\u001b[0m\n\u001b[0m\u001b[1;32m    170\u001b[0m             \u001b[0;32mexcept\u001b[0m \u001b[0mStopIteration\u001b[0m\u001b[0;34m:\u001b[0m\u001b[0;34m\u001b[0m\u001b[0;34m\u001b[0m\u001b[0m\n",
      "\u001b[0;32m~/.local/lib/python3.6/site-packages/bayes_opt/bayesian_optimization.py\u001b[0m in \u001b[0;36m__next__\u001b[0;34m(self)\u001b[0m\n\u001b[1;32m     25\u001b[0m         \u001b[0;32mif\u001b[0m \u001b[0mself\u001b[0m\u001b[0;34m.\u001b[0m\u001b[0mempty\u001b[0m\u001b[0;34m:\u001b[0m\u001b[0;34m\u001b[0m\u001b[0;34m\u001b[0m\u001b[0m\n\u001b[0;32m---> 26\u001b[0;31m             \u001b[0;32mraise\u001b[0m \u001b[0mStopIteration\u001b[0m\u001b[0;34m(\u001b[0m\u001b[0;34m\"Queue is empty, no more objects to retrieve.\"\u001b[0m\u001b[0;34m)\u001b[0m\u001b[0;34m\u001b[0m\u001b[0;34m\u001b[0m\u001b[0m\n\u001b[0m\u001b[1;32m     27\u001b[0m         \u001b[0mobj\u001b[0m \u001b[0;34m=\u001b[0m \u001b[0mself\u001b[0m\u001b[0;34m.\u001b[0m\u001b[0m_queue\u001b[0m\u001b[0;34m[\u001b[0m\u001b[0;36m0\u001b[0m\u001b[0;34m]\u001b[0m\u001b[0;34m\u001b[0m\u001b[0;34m\u001b[0m\u001b[0m\n",
      "\u001b[0;31mStopIteration\u001b[0m: Queue is empty, no more objects to retrieve.",
      "\nDuring handling of the above exception, another exception occurred:\n",
      "\u001b[0;31mKeyboardInterrupt\u001b[0m                         Traceback (most recent call last)",
      "\u001b[0;32m<ipython-input-10-8914d34d0e1f>\u001b[0m in \u001b[0;36m<module>\u001b[0;34m()\u001b[0m\n\u001b[1;32m     11\u001b[0m \u001b[0;34m\u001b[0m\u001b[0m\n\u001b[1;32m     12\u001b[0m \u001b[0moptimization_logreg1\u001b[0m \u001b[0;34m=\u001b[0m \u001b[0mBayesianOptimization\u001b[0m\u001b[0;34m(\u001b[0m\u001b[0mevaluateLogReg\u001b[0m\u001b[0;34m,\u001b[0m \u001b[0mparams_logreg\u001b[0m\u001b[0;34m)\u001b[0m\u001b[0;34m\u001b[0m\u001b[0;34m\u001b[0m\u001b[0m\n\u001b[0;32m---> 13\u001b[0;31m \u001b[0moptimization_logreg1\u001b[0m\u001b[0;34m.\u001b[0m\u001b[0mmaximize\u001b[0m\u001b[0;34m(\u001b[0m\u001b[0mn_iter\u001b[0m\u001b[0;34m=\u001b[0m\u001b[0;36m100\u001b[0m\u001b[0;34m,\u001b[0m \u001b[0minit_points\u001b[0m\u001b[0;34m=\u001b[0m\u001b[0;36m100\u001b[0m\u001b[0;34m)\u001b[0m\u001b[0;34m\u001b[0m\u001b[0;34m\u001b[0m\u001b[0m\n\u001b[0m",
      "\u001b[0;32m~/.local/lib/python3.6/site-packages/bayes_opt/bayesian_optimization.py\u001b[0m in \u001b[0;36mmaximize\u001b[0;34m(self, init_points, n_iter, acq, kappa, xi, **gp_params)\u001b[0m\n\u001b[1;32m    169\u001b[0m                 \u001b[0mx_probe\u001b[0m \u001b[0;34m=\u001b[0m \u001b[0mnext\u001b[0m\u001b[0;34m(\u001b[0m\u001b[0mself\u001b[0m\u001b[0;34m.\u001b[0m\u001b[0m_queue\u001b[0m\u001b[0;34m)\u001b[0m\u001b[0;34m\u001b[0m\u001b[0;34m\u001b[0m\u001b[0m\n\u001b[1;32m    170\u001b[0m             \u001b[0;32mexcept\u001b[0m \u001b[0mStopIteration\u001b[0m\u001b[0;34m:\u001b[0m\u001b[0;34m\u001b[0m\u001b[0;34m\u001b[0m\u001b[0m\n\u001b[0;32m--> 171\u001b[0;31m                 \u001b[0mx_probe\u001b[0m \u001b[0;34m=\u001b[0m \u001b[0mself\u001b[0m\u001b[0;34m.\u001b[0m\u001b[0msuggest\u001b[0m\u001b[0;34m(\u001b[0m\u001b[0mutil\u001b[0m\u001b[0;34m)\u001b[0m\u001b[0;34m\u001b[0m\u001b[0;34m\u001b[0m\u001b[0m\n\u001b[0m\u001b[1;32m    172\u001b[0m                 \u001b[0miteration\u001b[0m \u001b[0;34m+=\u001b[0m \u001b[0;36m1\u001b[0m\u001b[0;34m\u001b[0m\u001b[0;34m\u001b[0m\u001b[0m\n\u001b[1;32m    173\u001b[0m \u001b[0;34m\u001b[0m\u001b[0m\n",
      "\u001b[0;32m~/.local/lib/python3.6/site-packages/bayes_opt/bayesian_optimization.py\u001b[0m in \u001b[0;36msuggest\u001b[0;34m(self, utility_function)\u001b[0m\n\u001b[1;32m    130\u001b[0m             \u001b[0my_max\u001b[0m\u001b[0;34m=\u001b[0m\u001b[0mself\u001b[0m\u001b[0;34m.\u001b[0m\u001b[0m_space\u001b[0m\u001b[0;34m.\u001b[0m\u001b[0mtarget\u001b[0m\u001b[0;34m.\u001b[0m\u001b[0mmax\u001b[0m\u001b[0;34m(\u001b[0m\u001b[0;34m)\u001b[0m\u001b[0;34m,\u001b[0m\u001b[0;34m\u001b[0m\u001b[0;34m\u001b[0m\u001b[0m\n\u001b[1;32m    131\u001b[0m             \u001b[0mbounds\u001b[0m\u001b[0;34m=\u001b[0m\u001b[0mself\u001b[0m\u001b[0;34m.\u001b[0m\u001b[0m_space\u001b[0m\u001b[0;34m.\u001b[0m\u001b[0mbounds\u001b[0m\u001b[0;34m,\u001b[0m\u001b[0;34m\u001b[0m\u001b[0;34m\u001b[0m\u001b[0m\n\u001b[0;32m--> 132\u001b[0;31m             \u001b[0mrandom_state\u001b[0m\u001b[0;34m=\u001b[0m\u001b[0mself\u001b[0m\u001b[0;34m.\u001b[0m\u001b[0m_random_state\u001b[0m\u001b[0;34m\u001b[0m\u001b[0;34m\u001b[0m\u001b[0m\n\u001b[0m\u001b[1;32m    133\u001b[0m         )\n\u001b[1;32m    134\u001b[0m \u001b[0;34m\u001b[0m\u001b[0m\n",
      "\u001b[0;32m~/.local/lib/python3.6/site-packages/bayes_opt/util.py\u001b[0m in \u001b[0;36macq_max\u001b[0;34m(ac, gp, y_max, bounds, random_state, n_warmup, n_iter)\u001b[0m\n\u001b[1;32m     56\u001b[0m                        \u001b[0mx_try\u001b[0m\u001b[0;34m.\u001b[0m\u001b[0mreshape\u001b[0m\u001b[0;34m(\u001b[0m\u001b[0;36m1\u001b[0m\u001b[0;34m,\u001b[0m \u001b[0;34m-\u001b[0m\u001b[0;36m1\u001b[0m\u001b[0;34m)\u001b[0m\u001b[0;34m,\u001b[0m\u001b[0;34m\u001b[0m\u001b[0;34m\u001b[0m\u001b[0m\n\u001b[1;32m     57\u001b[0m                        \u001b[0mbounds\u001b[0m\u001b[0;34m=\u001b[0m\u001b[0mbounds\u001b[0m\u001b[0;34m,\u001b[0m\u001b[0;34m\u001b[0m\u001b[0;34m\u001b[0m\u001b[0m\n\u001b[0;32m---> 58\u001b[0;31m                        method=\"L-BFGS-B\")\n\u001b[0m\u001b[1;32m     59\u001b[0m \u001b[0;34m\u001b[0m\u001b[0m\n\u001b[1;32m     60\u001b[0m         \u001b[0;31m# See if success\u001b[0m\u001b[0;34m\u001b[0m\u001b[0;34m\u001b[0m\u001b[0;34m\u001b[0m\u001b[0m\n",
      "\u001b[0;32m~/.local/lib/python3.6/site-packages/scipy/optimize/_minimize.py\u001b[0m in \u001b[0;36mminimize\u001b[0;34m(fun, x0, args, method, jac, hess, hessp, bounds, constraints, tol, callback, options)\u001b[0m\n\u001b[1;32m    599\u001b[0m     \u001b[0;32melif\u001b[0m \u001b[0mmeth\u001b[0m \u001b[0;34m==\u001b[0m \u001b[0;34m'l-bfgs-b'\u001b[0m\u001b[0;34m:\u001b[0m\u001b[0;34m\u001b[0m\u001b[0;34m\u001b[0m\u001b[0m\n\u001b[1;32m    600\u001b[0m         return _minimize_lbfgsb(fun, x0, args, jac, bounds,\n\u001b[0;32m--> 601\u001b[0;31m                                 callback=callback, **options)\n\u001b[0m\u001b[1;32m    602\u001b[0m     \u001b[0;32melif\u001b[0m \u001b[0mmeth\u001b[0m \u001b[0;34m==\u001b[0m \u001b[0;34m'tnc'\u001b[0m\u001b[0;34m:\u001b[0m\u001b[0;34m\u001b[0m\u001b[0;34m\u001b[0m\u001b[0m\n\u001b[1;32m    603\u001b[0m         return _minimize_tnc(fun, x0, args, jac, bounds, callback=callback,\n",
      "\u001b[0;32m~/.local/lib/python3.6/site-packages/scipy/optimize/lbfgsb.py\u001b[0m in \u001b[0;36m_minimize_lbfgsb\u001b[0;34m(fun, x0, args, jac, bounds, disp, maxcor, ftol, gtol, eps, maxfun, maxiter, iprint, callback, maxls, **unknown_options)\u001b[0m\n\u001b[1;32m    333\u001b[0m             \u001b[0;31m# until the completion of the current minimization iteration.\u001b[0m\u001b[0;34m\u001b[0m\u001b[0;34m\u001b[0m\u001b[0;34m\u001b[0m\u001b[0m\n\u001b[1;32m    334\u001b[0m             \u001b[0;31m# Overwrite f and g:\u001b[0m\u001b[0;34m\u001b[0m\u001b[0;34m\u001b[0m\u001b[0;34m\u001b[0m\u001b[0m\n\u001b[0;32m--> 335\u001b[0;31m             \u001b[0mf\u001b[0m\u001b[0;34m,\u001b[0m \u001b[0mg\u001b[0m \u001b[0;34m=\u001b[0m \u001b[0mfunc_and_grad\u001b[0m\u001b[0;34m(\u001b[0m\u001b[0mx\u001b[0m\u001b[0;34m)\u001b[0m\u001b[0;34m\u001b[0m\u001b[0;34m\u001b[0m\u001b[0m\n\u001b[0m\u001b[1;32m    336\u001b[0m         \u001b[0;32melif\u001b[0m \u001b[0mtask_str\u001b[0m\u001b[0;34m.\u001b[0m\u001b[0mstartswith\u001b[0m\u001b[0;34m(\u001b[0m\u001b[0;34mb'NEW_X'\u001b[0m\u001b[0;34m)\u001b[0m\u001b[0;34m:\u001b[0m\u001b[0;34m\u001b[0m\u001b[0;34m\u001b[0m\u001b[0m\n\u001b[1;32m    337\u001b[0m             \u001b[0;31m# new iteration\u001b[0m\u001b[0;34m\u001b[0m\u001b[0;34m\u001b[0m\u001b[0;34m\u001b[0m\u001b[0m\n",
      "\u001b[0;32m~/.local/lib/python3.6/site-packages/scipy/optimize/lbfgsb.py\u001b[0m in \u001b[0;36mfunc_and_grad\u001b[0;34m(x)\u001b[0m\n\u001b[1;32m    279\u001b[0m         \u001b[0;32mdef\u001b[0m \u001b[0mfunc_and_grad\u001b[0m\u001b[0;34m(\u001b[0m\u001b[0mx\u001b[0m\u001b[0;34m)\u001b[0m\u001b[0;34m:\u001b[0m\u001b[0;34m\u001b[0m\u001b[0;34m\u001b[0m\u001b[0m\n\u001b[1;32m    280\u001b[0m             \u001b[0mf\u001b[0m \u001b[0;34m=\u001b[0m \u001b[0mfun\u001b[0m\u001b[0;34m(\u001b[0m\u001b[0mx\u001b[0m\u001b[0;34m,\u001b[0m \u001b[0;34m*\u001b[0m\u001b[0margs\u001b[0m\u001b[0;34m)\u001b[0m\u001b[0;34m\u001b[0m\u001b[0;34m\u001b[0m\u001b[0m\n\u001b[0;32m--> 281\u001b[0;31m             \u001b[0mg\u001b[0m \u001b[0;34m=\u001b[0m \u001b[0m_approx_fprime_helper\u001b[0m\u001b[0;34m(\u001b[0m\u001b[0mx\u001b[0m\u001b[0;34m,\u001b[0m \u001b[0mfun\u001b[0m\u001b[0;34m,\u001b[0m \u001b[0mepsilon\u001b[0m\u001b[0;34m,\u001b[0m \u001b[0margs\u001b[0m\u001b[0;34m=\u001b[0m\u001b[0margs\u001b[0m\u001b[0;34m,\u001b[0m \u001b[0mf0\u001b[0m\u001b[0;34m=\u001b[0m\u001b[0mf\u001b[0m\u001b[0;34m)\u001b[0m\u001b[0;34m\u001b[0m\u001b[0;34m\u001b[0m\u001b[0m\n\u001b[0m\u001b[1;32m    282\u001b[0m             \u001b[0;32mreturn\u001b[0m \u001b[0mf\u001b[0m\u001b[0;34m,\u001b[0m \u001b[0mg\u001b[0m\u001b[0;34m\u001b[0m\u001b[0;34m\u001b[0m\u001b[0m\n\u001b[1;32m    283\u001b[0m     \u001b[0;32melse\u001b[0m\u001b[0;34m:\u001b[0m\u001b[0;34m\u001b[0m\u001b[0;34m\u001b[0m\u001b[0m\n",
      "\u001b[0;32m~/.local/lib/python3.6/site-packages/scipy/optimize/optimize.py\u001b[0m in \u001b[0;36m_approx_fprime_helper\u001b[0;34m(xk, f, epsilon, args, f0)\u001b[0m\n\u001b[1;32m    668\u001b[0m         \u001b[0mei\u001b[0m\u001b[0;34m[\u001b[0m\u001b[0mk\u001b[0m\u001b[0;34m]\u001b[0m \u001b[0;34m=\u001b[0m \u001b[0;36m1.0\u001b[0m\u001b[0;34m\u001b[0m\u001b[0;34m\u001b[0m\u001b[0m\n\u001b[1;32m    669\u001b[0m         \u001b[0md\u001b[0m \u001b[0;34m=\u001b[0m \u001b[0mepsilon\u001b[0m \u001b[0;34m*\u001b[0m \u001b[0mei\u001b[0m\u001b[0;34m\u001b[0m\u001b[0;34m\u001b[0m\u001b[0m\n\u001b[0;32m--> 670\u001b[0;31m         \u001b[0mgrad\u001b[0m\u001b[0;34m[\u001b[0m\u001b[0mk\u001b[0m\u001b[0;34m]\u001b[0m \u001b[0;34m=\u001b[0m \u001b[0;34m(\u001b[0m\u001b[0mf\u001b[0m\u001b[0;34m(\u001b[0m\u001b[0;34m*\u001b[0m\u001b[0;34m(\u001b[0m\u001b[0;34m(\u001b[0m\u001b[0mxk\u001b[0m \u001b[0;34m+\u001b[0m \u001b[0md\u001b[0m\u001b[0;34m,\u001b[0m\u001b[0;34m)\u001b[0m \u001b[0;34m+\u001b[0m \u001b[0margs\u001b[0m\u001b[0;34m)\u001b[0m\u001b[0;34m)\u001b[0m \u001b[0;34m-\u001b[0m \u001b[0mf0\u001b[0m\u001b[0;34m)\u001b[0m \u001b[0;34m/\u001b[0m \u001b[0md\u001b[0m\u001b[0;34m[\u001b[0m\u001b[0mk\u001b[0m\u001b[0;34m]\u001b[0m\u001b[0;34m\u001b[0m\u001b[0;34m\u001b[0m\u001b[0m\n\u001b[0m\u001b[1;32m    671\u001b[0m         \u001b[0mei\u001b[0m\u001b[0;34m[\u001b[0m\u001b[0mk\u001b[0m\u001b[0;34m]\u001b[0m \u001b[0;34m=\u001b[0m \u001b[0;36m0.0\u001b[0m\u001b[0;34m\u001b[0m\u001b[0;34m\u001b[0m\u001b[0m\n\u001b[1;32m    672\u001b[0m     \u001b[0;32mreturn\u001b[0m \u001b[0mgrad\u001b[0m\u001b[0;34m\u001b[0m\u001b[0;34m\u001b[0m\u001b[0m\n",
      "\u001b[0;32m~/.local/lib/python3.6/site-packages/scipy/optimize/optimize.py\u001b[0m in \u001b[0;36mfunction_wrapper\u001b[0;34m(*wrapper_args)\u001b[0m\n\u001b[1;32m    298\u001b[0m     \u001b[0;32mdef\u001b[0m \u001b[0mfunction_wrapper\u001b[0m\u001b[0;34m(\u001b[0m\u001b[0;34m*\u001b[0m\u001b[0mwrapper_args\u001b[0m\u001b[0;34m)\u001b[0m\u001b[0;34m:\u001b[0m\u001b[0;34m\u001b[0m\u001b[0;34m\u001b[0m\u001b[0m\n\u001b[1;32m    299\u001b[0m         \u001b[0mncalls\u001b[0m\u001b[0;34m[\u001b[0m\u001b[0;36m0\u001b[0m\u001b[0;34m]\u001b[0m \u001b[0;34m+=\u001b[0m \u001b[0;36m1\u001b[0m\u001b[0;34m\u001b[0m\u001b[0;34m\u001b[0m\u001b[0m\n\u001b[0;32m--> 300\u001b[0;31m         \u001b[0;32mreturn\u001b[0m \u001b[0mfunction\u001b[0m\u001b[0;34m(\u001b[0m\u001b[0;34m*\u001b[0m\u001b[0;34m(\u001b[0m\u001b[0mwrapper_args\u001b[0m \u001b[0;34m+\u001b[0m \u001b[0margs\u001b[0m\u001b[0;34m)\u001b[0m\u001b[0;34m)\u001b[0m\u001b[0;34m\u001b[0m\u001b[0;34m\u001b[0m\u001b[0m\n\u001b[0m\u001b[1;32m    301\u001b[0m \u001b[0;34m\u001b[0m\u001b[0m\n\u001b[1;32m    302\u001b[0m     \u001b[0;32mreturn\u001b[0m \u001b[0mncalls\u001b[0m\u001b[0;34m,\u001b[0m \u001b[0mfunction_wrapper\u001b[0m\u001b[0;34m\u001b[0m\u001b[0;34m\u001b[0m\u001b[0m\n",
      "\u001b[0;32m~/.local/lib/python3.6/site-packages/bayes_opt/util.py\u001b[0m in \u001b[0;36m<lambda>\u001b[0;34m(x)\u001b[0m\n\u001b[1;32m     53\u001b[0m     \u001b[0;32mfor\u001b[0m \u001b[0mx_try\u001b[0m \u001b[0;32min\u001b[0m \u001b[0mx_seeds\u001b[0m\u001b[0;34m:\u001b[0m\u001b[0;34m\u001b[0m\u001b[0;34m\u001b[0m\u001b[0m\n\u001b[1;32m     54\u001b[0m         \u001b[0;31m# Find the minimum of minus the acquisition function\u001b[0m\u001b[0;34m\u001b[0m\u001b[0;34m\u001b[0m\u001b[0;34m\u001b[0m\u001b[0m\n\u001b[0;32m---> 55\u001b[0;31m         res = minimize(lambda x: -ac(x.reshape(1, -1), gp=gp, y_max=y_max),\n\u001b[0m\u001b[1;32m     56\u001b[0m                        \u001b[0mx_try\u001b[0m\u001b[0;34m.\u001b[0m\u001b[0mreshape\u001b[0m\u001b[0;34m(\u001b[0m\u001b[0;36m1\u001b[0m\u001b[0;34m,\u001b[0m \u001b[0;34m-\u001b[0m\u001b[0;36m1\u001b[0m\u001b[0;34m)\u001b[0m\u001b[0;34m,\u001b[0m\u001b[0;34m\u001b[0m\u001b[0;34m\u001b[0m\u001b[0m\n\u001b[1;32m     57\u001b[0m                        \u001b[0mbounds\u001b[0m\u001b[0;34m=\u001b[0m\u001b[0mbounds\u001b[0m\u001b[0;34m,\u001b[0m\u001b[0;34m\u001b[0m\u001b[0;34m\u001b[0m\u001b[0m\n",
      "\u001b[0;32m~/.local/lib/python3.6/site-packages/bayes_opt/util.py\u001b[0m in \u001b[0;36mutility\u001b[0;34m(self, x, gp, y_max)\u001b[0m\n\u001b[1;32m     95\u001b[0m     \u001b[0;32mdef\u001b[0m \u001b[0mutility\u001b[0m\u001b[0;34m(\u001b[0m\u001b[0mself\u001b[0m\u001b[0;34m,\u001b[0m \u001b[0mx\u001b[0m\u001b[0;34m,\u001b[0m \u001b[0mgp\u001b[0m\u001b[0;34m,\u001b[0m \u001b[0my_max\u001b[0m\u001b[0;34m)\u001b[0m\u001b[0;34m:\u001b[0m\u001b[0;34m\u001b[0m\u001b[0;34m\u001b[0m\u001b[0m\n\u001b[1;32m     96\u001b[0m         \u001b[0;32mif\u001b[0m \u001b[0mself\u001b[0m\u001b[0;34m.\u001b[0m\u001b[0mkind\u001b[0m \u001b[0;34m==\u001b[0m \u001b[0;34m'ucb'\u001b[0m\u001b[0;34m:\u001b[0m\u001b[0;34m\u001b[0m\u001b[0;34m\u001b[0m\u001b[0m\n\u001b[0;32m---> 97\u001b[0;31m             \u001b[0;32mreturn\u001b[0m \u001b[0mself\u001b[0m\u001b[0;34m.\u001b[0m\u001b[0m_ucb\u001b[0m\u001b[0;34m(\u001b[0m\u001b[0mx\u001b[0m\u001b[0;34m,\u001b[0m \u001b[0mgp\u001b[0m\u001b[0;34m,\u001b[0m \u001b[0mself\u001b[0m\u001b[0;34m.\u001b[0m\u001b[0mkappa\u001b[0m\u001b[0;34m)\u001b[0m\u001b[0;34m\u001b[0m\u001b[0;34m\u001b[0m\u001b[0m\n\u001b[0m\u001b[1;32m     98\u001b[0m         \u001b[0;32mif\u001b[0m \u001b[0mself\u001b[0m\u001b[0;34m.\u001b[0m\u001b[0mkind\u001b[0m \u001b[0;34m==\u001b[0m \u001b[0;34m'ei'\u001b[0m\u001b[0;34m:\u001b[0m\u001b[0;34m\u001b[0m\u001b[0;34m\u001b[0m\u001b[0m\n\u001b[1;32m     99\u001b[0m             \u001b[0;32mreturn\u001b[0m \u001b[0mself\u001b[0m\u001b[0;34m.\u001b[0m\u001b[0m_ei\u001b[0m\u001b[0;34m(\u001b[0m\u001b[0mx\u001b[0m\u001b[0;34m,\u001b[0m \u001b[0mgp\u001b[0m\u001b[0;34m,\u001b[0m \u001b[0my_max\u001b[0m\u001b[0;34m,\u001b[0m \u001b[0mself\u001b[0m\u001b[0;34m.\u001b[0m\u001b[0mxi\u001b[0m\u001b[0;34m)\u001b[0m\u001b[0;34m\u001b[0m\u001b[0;34m\u001b[0m\u001b[0m\n",
      "\u001b[0;32m~/.local/lib/python3.6/site-packages/bayes_opt/util.py\u001b[0m in \u001b[0;36m_ucb\u001b[0;34m(x, gp, kappa)\u001b[0m\n\u001b[1;32m    105\u001b[0m         \u001b[0;32mwith\u001b[0m \u001b[0mwarnings\u001b[0m\u001b[0;34m.\u001b[0m\u001b[0mcatch_warnings\u001b[0m\u001b[0;34m(\u001b[0m\u001b[0;34m)\u001b[0m\u001b[0;34m:\u001b[0m\u001b[0;34m\u001b[0m\u001b[0;34m\u001b[0m\u001b[0m\n\u001b[1;32m    106\u001b[0m             \u001b[0mwarnings\u001b[0m\u001b[0;34m.\u001b[0m\u001b[0msimplefilter\u001b[0m\u001b[0;34m(\u001b[0m\u001b[0;34m\"ignore\"\u001b[0m\u001b[0;34m)\u001b[0m\u001b[0;34m\u001b[0m\u001b[0;34m\u001b[0m\u001b[0m\n\u001b[0;32m--> 107\u001b[0;31m             \u001b[0mmean\u001b[0m\u001b[0;34m,\u001b[0m \u001b[0mstd\u001b[0m \u001b[0;34m=\u001b[0m \u001b[0mgp\u001b[0m\u001b[0;34m.\u001b[0m\u001b[0mpredict\u001b[0m\u001b[0;34m(\u001b[0m\u001b[0mx\u001b[0m\u001b[0;34m,\u001b[0m \u001b[0mreturn_std\u001b[0m\u001b[0;34m=\u001b[0m\u001b[0;32mTrue\u001b[0m\u001b[0;34m)\u001b[0m\u001b[0;34m\u001b[0m\u001b[0;34m\u001b[0m\u001b[0m\n\u001b[0m\u001b[1;32m    108\u001b[0m \u001b[0;34m\u001b[0m\u001b[0m\n\u001b[1;32m    109\u001b[0m         \u001b[0;32mreturn\u001b[0m \u001b[0mmean\u001b[0m \u001b[0;34m+\u001b[0m \u001b[0mkappa\u001b[0m \u001b[0;34m*\u001b[0m \u001b[0mstd\u001b[0m\u001b[0;34m\u001b[0m\u001b[0;34m\u001b[0m\u001b[0m\n",
      "\u001b[0;32m~/.local/lib/python3.6/site-packages/sklearn/gaussian_process/gpr.py\u001b[0m in \u001b[0;36mpredict\u001b[0;34m(self, X, return_std, return_cov)\u001b[0m\n\u001b[1;32m    349\u001b[0m                 \u001b[0my_var\u001b[0m \u001b[0;34m=\u001b[0m \u001b[0mself\u001b[0m\u001b[0;34m.\u001b[0m\u001b[0mkernel_\u001b[0m\u001b[0;34m.\u001b[0m\u001b[0mdiag\u001b[0m\u001b[0;34m(\u001b[0m\u001b[0mX\u001b[0m\u001b[0;34m)\u001b[0m\u001b[0;34m\u001b[0m\u001b[0;34m\u001b[0m\u001b[0m\n\u001b[1;32m    350\u001b[0m                 y_var -= np.einsum(\"ij,ij->i\",\n\u001b[0;32m--> 351\u001b[0;31m                                    np.dot(K_trans, self._K_inv), K_trans)\n\u001b[0m\u001b[1;32m    352\u001b[0m \u001b[0;34m\u001b[0m\u001b[0m\n\u001b[1;32m    353\u001b[0m                 \u001b[0;31m# Check if any of the variances is negative because of\u001b[0m\u001b[0;34m\u001b[0m\u001b[0;34m\u001b[0m\u001b[0;34m\u001b[0m\u001b[0m\n",
      "\u001b[0;31mKeyboardInterrupt\u001b[0m: "
     ]
    }
   ],
   "source": [
    "def evaluateLogReg(C, pred_threshold):\n",
    "    clf = LogisticRegression(C=C, solver='lbfgs', max_iter=10000)\n",
    "    clf = CustomModelWithThreshold(clf,threshold=pred_threshold)\n",
    "    return sum(cross_validate(clf,X1_temporary, y1, scoring=profit_scoring, cv=cv)['test_score'])\n",
    "\n",
    "\n",
    "params_logreg = {\n",
    "    'C': (0.1, 5),\n",
    "    'pred_threshold': (0.5, 0.6)\n",
    "}\n",
    "\n",
    "optimization_logreg1 = BayesianOptimization(evaluateLogReg, params_logreg)\n",
    "optimization_logreg1.maximize(n_iter=100, init_points=100)"
   ]
  },
  {
   "cell_type": "code",
   "execution_count": 11,
   "metadata": {},
   "outputs": [
    {
     "data": {
      "text/plain": [
       "{'target': 340.0,\n",
       " 'params': {'C': 0.3413832354643051, 'pred_threshold': 0.538300775948387}}"
      ]
     },
     "execution_count": 11,
     "metadata": {},
     "output_type": "execute_result"
    }
   ],
   "source": [
    "optimization_logreg1.max"
   ]
  },
  {
   "cell_type": "code",
   "execution_count": 12,
   "metadata": {},
   "outputs": [
    {
     "data": {
      "text/plain": [
       "340"
      ]
     },
     "execution_count": 12,
     "metadata": {},
     "output_type": "execute_result"
    }
   ],
   "source": [
    "# verify\n",
    "\n",
    "C = optimization_logreg1.max['params']['C']\n",
    "pred_threshold = optimization_logreg1.max['params']['pred_threshold']\n",
    "\n",
    "clf = LogisticRegression(C=C, solver='lbfgs', max_iter=10000)\n",
    "clf = CustomModelWithThreshold(clf,threshold=pred_threshold)\n",
    "# final score for trust=1\n",
    "cv = StratifiedKFold(n_splits=10, random_state=42)\n",
    "sum(cross_validate(clf,X1_temporary, y1, scoring=profit_scoring, cv=cv)['test_score'])"
   ]
  },
  {
   "cell_type": "code",
   "execution_count": 13,
   "metadata": {},
   "outputs": [
    {
     "data": {
      "text/plain": [
       "19"
      ]
     },
     "execution_count": 13,
     "metadata": {},
     "output_type": "execute_result"
    }
   ],
   "source": [
    "# number of features used\n",
    "len(X1_temporary.columns)"
   ]
  },
  {
   "cell_type": "code",
   "execution_count": 14,
   "metadata": {},
   "outputs": [
    {
     "data": {
      "text/plain": [
       "['scannedLineItemsTotal',\n",
       " 'scannedLineItemsPerSecond scannedLineItemsTotal',\n",
       " 'lineItemVoids scansWithoutRegistration lineItemVoids*scansWithoutRegistration',\n",
       " 'totalScanTimeInSeconds lineItemVoids*scansWithoutRegistration',\n",
       " 'valuePerSecond scannedLineItemsTotal^2',\n",
       " 'scansWithoutRegistration scannedLineItemsTotal',\n",
       " 'quantityModifications^2 scannedLineItemsTotal',\n",
       " 'totalScanTimeInSeconds lineItemVoids^2',\n",
       " 'scansWithoutRegistration lineItemVoidsPerPosition scannedLineItemsTotal',\n",
       " 'lineItemVoidsPerPosition lineItemVoids*scansWithoutRegistration',\n",
       " 'totalScanTimeInSeconds scansWithoutRegistration lineItemVoidsPerPosition',\n",
       " 'lineItemVoids quantityModificationsPerLineItem^2',\n",
       " 'totalScanTimeInSeconds scannedLineItemsTotal valuePerLineItem',\n",
       " 'totalScanTimeInSeconds scansWithoutRegistration',\n",
       " 'totalScanTimeInSeconds lineItemVoids lineItemVoids*scansWithoutRegistration',\n",
       " 'lineItemVoidsPerPosition scannedLineItemsTotal^2',\n",
       " 'scannedLineItemsTotal^2',\n",
       " 'lineItemVoids valuePerSecond quantityModificationsPerLineItem',\n",
       " 'scansWithoutRegistration lineItemVoidsPerPosition valuePerLineItem']"
      ]
     },
     "execution_count": 14,
     "metadata": {},
     "output_type": "execute_result"
    }
   ],
   "source": [
    "features_select_1 = [features_X_train1_all[i] for i in features_to_use1]\n",
    "features_select_1"
   ]
  },
  {
   "cell_type": "markdown",
   "metadata": {},
   "source": [
    "# Trust Level 2 (Feature Importance by Logistic Regression)"
   ]
  },
  {
   "cell_type": "code",
   "execution_count": 15,
   "metadata": {},
   "outputs": [
    {
     "name": "stderr",
     "output_type": "stream",
     "text": [
      "/home/niklas/.local/lib/python3.6/site-packages/sklearn/preprocessing/data.py:645: DataConversionWarning: Data with input dtype int64, float64 were all converted to float64 by StandardScaler.\n",
      "  return self.partial_fit(X, y)\n",
      "/home/niklas/.local/lib/python3.6/site-packages/sklearn/base.py:464: DataConversionWarning: Data with input dtype int64, float64 were all converted to float64 by StandardScaler.\n",
      "  return self.fit(X, **fit_params).transform(X)\n"
     ]
    }
   ],
   "source": [
    "# normalize data first to prevent 0's in dataset\n",
    "scaler2 = StandardScaler()\n",
    "names_X_train2 = X_train2.columns\n",
    "X_train2 = scaler2.fit_transform(X_train2)\n",
    "\n",
    "# generate features and rescale\n",
    "polyFeatures2 = PolynomialFeatures(3, interaction_only=False)\n",
    "X_train2_all = polyFeatures2.fit_transform(X_train2)\n",
    "X_train2_all = scaler.fit_transform(X_train2_all)\n",
    "\n",
    "#remove the first var because it is the constant term\n",
    "X_train2_all = X_train2_all[:,1:]\n",
    "features_X_train2_all = polyFeatures2.get_feature_names(input_features=names_X_train2)[1:]\n"
   ]
  },
  {
   "cell_type": "code",
   "execution_count": 16,
   "metadata": {},
   "outputs": [],
   "source": [
    "# Feature Importance with logistic Regression\n",
    "lr = LogisticRegression(C=20, solver='lbfgs')\n",
    "lr.fit(X_train2_all, y2)\n",
    "imp = lr.coef_[0]"
   ]
  },
  {
   "cell_type": "code",
   "execution_count": 17,
   "metadata": {},
   "outputs": [],
   "source": [
    "# order the feature indices by importance\n",
    "imp = pd.DataFrame(imp)\n",
    "imp = imp.sort_values(by=0, ascending=False)"
   ]
  },
  {
   "cell_type": "code",
   "execution_count": 18,
   "metadata": {},
   "outputs": [],
   "source": [
    "# choose starting model\n",
    "model = CustomModelWithThreshold(LogisticRegression(C=10, solver='lbfgs', max_iter=300), 0.9)\n",
    "\n",
    "cv = StratifiedKFold(n_splits=10, random_state=42)\n",
    "last_score = -10000"
   ]
  },
  {
   "cell_type": "code",
   "execution_count": 19,
   "metadata": {},
   "outputs": [
    {
     "name": "stdout",
     "output_type": "stream",
     "text": [
      "-75\n",
      "-55\n",
      "-45\n",
      "-25\n",
      "15\n",
      "35\n"
     ]
    }
   ],
   "source": [
    "# add most important feature\n",
    "X2_temporary = pd.DataFrame(X_train2_all[:,(list(imp.index))[0]])\n",
    "\n",
    "features_to_use2 = [(list(imp.index))[0]]\n",
    "# iteratively add features one by one\n",
    "for featnum in (list(imp.index))[1:]:\n",
    "    X_check = pd.concat([X2_temporary,pd.Series(X_train2_all[:,featnum])], axis=1)\n",
    "    score = sum(cross_validate(model,X_check, y2, scoring=profit_scoring, cv=cv)['test_score'])\n",
    "    # add the feature ultimatively if score improved\n",
    "    if score > last_score:\n",
    "        X2_temporary = pd.concat([X2_temporary,pd.Series(X_train2_all[:,featnum])], axis=1)\n",
    "        features_to_use2.append(featnum)\n",
    "        last_score = score    \n",
    "        print(last_score)\n",
    "    \n",
    "# for test predictions use features_to_use to select the according features in the test set    "
   ]
  },
  {
   "cell_type": "code",
   "execution_count": 20,
   "metadata": {},
   "outputs": [
    {
     "name": "stdout",
     "output_type": "stream",
     "text": [
      "|   iter    |  target   |     C     | pred_t... |\n",
      "-------------------------------------------------\n",
      "| \u001b[0m 1       \u001b[0m | \u001b[0m 10.0    \u001b[0m | \u001b[0m 23.03   \u001b[0m | \u001b[0m 0.8011  \u001b[0m |\n",
      "| \u001b[0m 2       \u001b[0m | \u001b[0m 10.0    \u001b[0m | \u001b[0m 15.12   \u001b[0m | \u001b[0m 0.5295  \u001b[0m |\n",
      "| \u001b[0m 3       \u001b[0m | \u001b[0m 10.0    \u001b[0m | \u001b[0m 13.01   \u001b[0m | \u001b[0m 0.5812  \u001b[0m |\n",
      "| \u001b[95m 4       \u001b[0m | \u001b[95m 35.0    \u001b[0m | \u001b[95m 47.47   \u001b[0m | \u001b[95m 0.9132  \u001b[0m |\n",
      "| \u001b[0m 5       \u001b[0m | \u001b[0m 10.0    \u001b[0m | \u001b[0m 32.4    \u001b[0m | \u001b[0m 0.822   \u001b[0m |\n",
      "| \u001b[95m 6       \u001b[0m | \u001b[95m 45.0    \u001b[0m | \u001b[95m 2.664   \u001b[0m | \u001b[95m 0.5811  \u001b[0m |\n",
      "| \u001b[0m 7       \u001b[0m | \u001b[0m 35.0    \u001b[0m | \u001b[0m 2.251   \u001b[0m | \u001b[0m 0.7448  \u001b[0m |\n",
      "| \u001b[0m 8       \u001b[0m | \u001b[0m 10.0    \u001b[0m | \u001b[0m 47.06   \u001b[0m | \u001b[0m 0.6282  \u001b[0m |\n",
      "| \u001b[0m 9       \u001b[0m | \u001b[0m 35.0    \u001b[0m | \u001b[0m 23.45   \u001b[0m | \u001b[0m 0.8892  \u001b[0m |\n",
      "| \u001b[0m 10      \u001b[0m | \u001b[0m 10.0    \u001b[0m | \u001b[0m 42.75   \u001b[0m | \u001b[0m 0.678   \u001b[0m |\n",
      "| \u001b[0m 11      \u001b[0m | \u001b[0m 5.0     \u001b[0m | \u001b[0m 4.683   \u001b[0m | \u001b[0m 0.9269  \u001b[0m |\n",
      "| \u001b[0m 12      \u001b[0m | \u001b[0m 10.0    \u001b[0m | \u001b[0m 44.95   \u001b[0m | \u001b[0m 0.641   \u001b[0m |\n",
      "| \u001b[0m 13      \u001b[0m | \u001b[0m 10.0    \u001b[0m | \u001b[0m 13.57   \u001b[0m | \u001b[0m 0.7491  \u001b[0m |\n",
      "| \u001b[0m 14      \u001b[0m | \u001b[0m 35.0    \u001b[0m | \u001b[0m 12.87   \u001b[0m | \u001b[0m 0.8224  \u001b[0m |\n",
      "| \u001b[0m 15      \u001b[0m | \u001b[0m 10.0    \u001b[0m | \u001b[0m 25.48   \u001b[0m | \u001b[0m 0.8071  \u001b[0m |\n",
      "| \u001b[0m 16      \u001b[0m | \u001b[0m 10.0    \u001b[0m | \u001b[0m 22.85   \u001b[0m | \u001b[0m 0.5979  \u001b[0m |\n",
      "| \u001b[0m 17      \u001b[0m | \u001b[0m 10.0    \u001b[0m | \u001b[0m 31.14   \u001b[0m | \u001b[0m 0.6291  \u001b[0m |\n",
      "| \u001b[0m 18      \u001b[0m | \u001b[0m 25.0    \u001b[0m | \u001b[0m 14.91   \u001b[0m | \u001b[0m 0.9434  \u001b[0m |\n",
      "| \u001b[0m 19      \u001b[0m | \u001b[0m 35.0    \u001b[0m | \u001b[0m 28.9    \u001b[0m | \u001b[0m 0.8736  \u001b[0m |\n",
      "| \u001b[0m 20      \u001b[0m | \u001b[0m 10.0    \u001b[0m | \u001b[0m 4.614   \u001b[0m | \u001b[0m 0.6195  \u001b[0m |\n",
      "| \u001b[0m 21      \u001b[0m | \u001b[0m-15.0    \u001b[0m | \u001b[0m 27.38   \u001b[0m | \u001b[0m 0.999   \u001b[0m |\n",
      "| \u001b[0m 22      \u001b[0m | \u001b[0m 35.0    \u001b[0m | \u001b[0m 31.95   \u001b[0m | \u001b[0m 0.8942  \u001b[0m |\n",
      "| \u001b[0m 23      \u001b[0m | \u001b[0m 10.0    \u001b[0m | \u001b[0m 29.53   \u001b[0m | \u001b[0m 0.6358  \u001b[0m |\n",
      "| \u001b[0m 24      \u001b[0m | \u001b[0m 10.0    \u001b[0m | \u001b[0m 36.79   \u001b[0m | \u001b[0m 0.8474  \u001b[0m |\n",
      "| \u001b[0m 25      \u001b[0m | \u001b[0m 10.0    \u001b[0m | \u001b[0m 7.364   \u001b[0m | \u001b[0m 0.5798  \u001b[0m |\n",
      "| \u001b[0m 26      \u001b[0m | \u001b[0m 35.0    \u001b[0m | \u001b[0m 1.836   \u001b[0m | \u001b[0m 0.6206  \u001b[0m |\n",
      "| \u001b[0m 27      \u001b[0m | \u001b[0m 10.0    \u001b[0m | \u001b[0m 47.0    \u001b[0m | \u001b[0m 0.8649  \u001b[0m |\n",
      "| \u001b[0m 28      \u001b[0m | \u001b[0m 10.0    \u001b[0m | \u001b[0m 48.11   \u001b[0m | \u001b[0m 0.6954  \u001b[0m |\n",
      "| \u001b[0m 29      \u001b[0m | \u001b[0m-15.0    \u001b[0m | \u001b[0m 40.74   \u001b[0m | \u001b[0m 0.5724  \u001b[0m |\n",
      "| \u001b[0m 30      \u001b[0m | \u001b[0m 35.0    \u001b[0m | \u001b[0m 15.62   \u001b[0m | \u001b[0m 0.7731  \u001b[0m |\n",
      "| \u001b[0m 31      \u001b[0m | \u001b[0m 35.0    \u001b[0m | \u001b[0m 4.906   \u001b[0m | \u001b[0m 0.6917  \u001b[0m |\n",
      "| \u001b[0m 32      \u001b[0m | \u001b[0m-25.0    \u001b[0m | \u001b[0m 0.2247  \u001b[0m | \u001b[0m 0.8007  \u001b[0m |\n",
      "| \u001b[0m 33      \u001b[0m | \u001b[0m 15.0    \u001b[0m | \u001b[0m 0.6135  \u001b[0m | \u001b[0m 0.6981  \u001b[0m |\n",
      "| \u001b[0m 34      \u001b[0m | \u001b[0m-15.0    \u001b[0m | \u001b[0m 44.02   \u001b[0m | \u001b[0m 0.5187  \u001b[0m |\n",
      "| \u001b[0m 35      \u001b[0m | \u001b[0m 10.0    \u001b[0m | \u001b[0m 11.71   \u001b[0m | \u001b[0m 0.589   \u001b[0m |\n",
      "| \u001b[0m 36      \u001b[0m | \u001b[0m 10.0    \u001b[0m | \u001b[0m 25.47   \u001b[0m | \u001b[0m 0.6234  \u001b[0m |\n",
      "| \u001b[0m 37      \u001b[0m | \u001b[0m 25.0    \u001b[0m | \u001b[0m 42.3    \u001b[0m | \u001b[0m 0.9799  \u001b[0m |\n",
      "| \u001b[0m 38      \u001b[0m | \u001b[0m 10.0    \u001b[0m | \u001b[0m 37.44   \u001b[0m | \u001b[0m 0.667   \u001b[0m |\n",
      "| \u001b[0m 39      \u001b[0m | \u001b[0m 10.0    \u001b[0m | \u001b[0m 13.68   \u001b[0m | \u001b[0m 0.638   \u001b[0m |\n",
      "| \u001b[0m 40      \u001b[0m | \u001b[0m 10.0    \u001b[0m | \u001b[0m 24.13   \u001b[0m | \u001b[0m 0.573   \u001b[0m |\n",
      "| \u001b[0m 41      \u001b[0m | \u001b[0m 20.0    \u001b[0m | \u001b[0m 3.428   \u001b[0m | \u001b[0m 0.5446  \u001b[0m |\n",
      "| \u001b[0m 42      \u001b[0m | \u001b[0m 10.0    \u001b[0m | \u001b[0m 30.72   \u001b[0m | \u001b[0m 0.8352  \u001b[0m |\n",
      "| \u001b[0m 43      \u001b[0m | \u001b[0m 10.0    \u001b[0m | \u001b[0m 25.07   \u001b[0m | \u001b[0m 0.6161  \u001b[0m |\n",
      "| \u001b[0m 44      \u001b[0m | \u001b[0m 10.0    \u001b[0m | \u001b[0m 9.534   \u001b[0m | \u001b[0m 0.5076  \u001b[0m |\n",
      "| \u001b[0m 45      \u001b[0m | \u001b[0m 10.0    \u001b[0m | \u001b[0m 12.31   \u001b[0m | \u001b[0m 0.5198  \u001b[0m |\n",
      "| \u001b[0m 46      \u001b[0m | \u001b[0m 10.0    \u001b[0m | \u001b[0m 48.06   \u001b[0m | \u001b[0m 0.8508  \u001b[0m |\n",
      "| \u001b[0m 47      \u001b[0m | \u001b[0m 35.0    \u001b[0m | \u001b[0m 27.51   \u001b[0m | \u001b[0m 0.8495  \u001b[0m |\n",
      "| \u001b[0m 48      \u001b[0m | \u001b[0m 5.0     \u001b[0m | \u001b[0m 6.972   \u001b[0m | \u001b[0m 0.9784  \u001b[0m |\n",
      "| \u001b[0m 49      \u001b[0m | \u001b[0m-15.0    \u001b[0m | \u001b[0m 40.91   \u001b[0m | \u001b[0m 0.5805  \u001b[0m |\n",
      "| \u001b[0m 50      \u001b[0m | \u001b[0m 10.0    \u001b[0m | \u001b[0m 24.37   \u001b[0m | \u001b[0m 0.8084  \u001b[0m |\n",
      "| \u001b[0m 51      \u001b[0m | \u001b[0m 10.0    \u001b[0m | \u001b[0m 47.27   \u001b[0m | \u001b[0m 0.6718  \u001b[0m |\n",
      "| \u001b[0m 52      \u001b[0m | \u001b[0m 10.0    \u001b[0m | \u001b[0m 20.9    \u001b[0m | \u001b[0m 0.5914  \u001b[0m |\n",
      "| \u001b[0m 53      \u001b[0m | \u001b[0m 10.0    \u001b[0m | \u001b[0m 10.12   \u001b[0m | \u001b[0m 0.6873  \u001b[0m |\n",
      "| \u001b[0m 54      \u001b[0m | \u001b[0m 35.0    \u001b[0m | \u001b[0m 5.192   \u001b[0m | \u001b[0m 0.7001  \u001b[0m |\n",
      "| \u001b[0m 55      \u001b[0m | \u001b[0m 10.0    \u001b[0m | \u001b[0m 46.76   \u001b[0m | \u001b[0m 0.7617  \u001b[0m |\n",
      "| \u001b[0m 56      \u001b[0m | \u001b[0m 10.0    \u001b[0m | \u001b[0m 6.67    \u001b[0m | \u001b[0m 0.6171  \u001b[0m |\n",
      "| \u001b[0m 57      \u001b[0m | \u001b[0m 10.0    \u001b[0m | \u001b[0m 46.8    \u001b[0m | \u001b[0m 0.6936  \u001b[0m |\n",
      "| \u001b[0m 58      \u001b[0m | \u001b[0m 35.0    \u001b[0m | \u001b[0m 45.09   \u001b[0m | \u001b[0m 0.8998  \u001b[0m |\n",
      "| \u001b[0m 59      \u001b[0m | \u001b[0m 10.0    \u001b[0m | \u001b[0m 16.38   \u001b[0m | \u001b[0m 0.54    \u001b[0m |\n",
      "| \u001b[0m 60      \u001b[0m | \u001b[0m 35.0    \u001b[0m | \u001b[0m 15.98   \u001b[0m | \u001b[0m 0.7841  \u001b[0m |\n",
      "| \u001b[0m 61      \u001b[0m | \u001b[0m-15.0    \u001b[0m | \u001b[0m 42.91   \u001b[0m | \u001b[0m 0.5818  \u001b[0m |\n",
      "| \u001b[0m 62      \u001b[0m | \u001b[0m 10.0    \u001b[0m | \u001b[0m 12.3    \u001b[0m | \u001b[0m 0.5645  \u001b[0m |\n",
      "| \u001b[0m 63      \u001b[0m | \u001b[0m 35.0    \u001b[0m | \u001b[0m 36.54   \u001b[0m | \u001b[0m 0.8736  \u001b[0m |\n",
      "| \u001b[0m 64      \u001b[0m | \u001b[0m 35.0    \u001b[0m | \u001b[0m 24.27   \u001b[0m | \u001b[0m 0.9334  \u001b[0m |\n",
      "| \u001b[0m 65      \u001b[0m | \u001b[0m 25.0    \u001b[0m | \u001b[0m 21.57   \u001b[0m | \u001b[0m 0.9817  \u001b[0m |\n",
      "| \u001b[0m 66      \u001b[0m | \u001b[0m-15.0    \u001b[0m | \u001b[0m 40.52   \u001b[0m | \u001b[0m 0.5738  \u001b[0m |\n",
      "| \u001b[0m 67      \u001b[0m | \u001b[0m-25.0    \u001b[0m | \u001b[0m 0.3095  \u001b[0m | \u001b[0m 0.8264  \u001b[0m |\n",
      "| \u001b[0m 68      \u001b[0m | \u001b[0m 35.0    \u001b[0m | \u001b[0m 26.58   \u001b[0m | \u001b[0m 0.9068  \u001b[0m |\n",
      "| \u001b[0m 69      \u001b[0m | \u001b[0m 35.0    \u001b[0m | \u001b[0m 16.49   \u001b[0m | \u001b[0m 0.8212  \u001b[0m |\n",
      "| \u001b[0m 70      \u001b[0m | \u001b[0m 35.0    \u001b[0m | \u001b[0m 9.072   \u001b[0m | \u001b[0m 0.7857  \u001b[0m |\n",
      "| \u001b[0m 71      \u001b[0m | \u001b[0m 10.0    \u001b[0m | \u001b[0m 9.755   \u001b[0m | \u001b[0m 0.6911  \u001b[0m |\n",
      "| \u001b[0m 72      \u001b[0m | \u001b[0m 25.0    \u001b[0m | \u001b[0m 17.22   \u001b[0m | \u001b[0m 0.9422  \u001b[0m |\n",
      "| \u001b[0m 73      \u001b[0m | \u001b[0m 10.0    \u001b[0m | \u001b[0m 8.044   \u001b[0m | \u001b[0m 0.6695  \u001b[0m |\n",
      "| \u001b[0m 74      \u001b[0m | \u001b[0m 5.0     \u001b[0m | \u001b[0m 2.027   \u001b[0m | \u001b[0m 0.8566  \u001b[0m |\n",
      "| \u001b[0m 75      \u001b[0m | \u001b[0m 35.0    \u001b[0m | \u001b[0m 23.69   \u001b[0m | \u001b[0m 0.8345  \u001b[0m |\n",
      "| \u001b[0m 76      \u001b[0m | \u001b[0m 35.0    \u001b[0m | \u001b[0m 22.37   \u001b[0m | \u001b[0m 0.8475  \u001b[0m |\n",
      "| \u001b[0m 77      \u001b[0m | \u001b[0m 25.0    \u001b[0m | \u001b[0m 3.751   \u001b[0m | \u001b[0m 0.833   \u001b[0m |\n",
      "| \u001b[0m 78      \u001b[0m | \u001b[0m-15.0    \u001b[0m | \u001b[0m 36.78   \u001b[0m | \u001b[0m 0.517   \u001b[0m |\n",
      "| \u001b[0m 79      \u001b[0m | \u001b[0m 5.0     \u001b[0m | \u001b[0m 16.42   \u001b[0m | \u001b[0m 0.991   \u001b[0m |\n",
      "| \u001b[0m 80      \u001b[0m | \u001b[0m-15.0    \u001b[0m | \u001b[0m 28.9    \u001b[0m | \u001b[0m 0.5541  \u001b[0m |\n",
      "| \u001b[0m 81      \u001b[0m | \u001b[0m 10.0    \u001b[0m | \u001b[0m 34.93   \u001b[0m | \u001b[0m 0.8452  \u001b[0m |\n",
      "| \u001b[0m 82      \u001b[0m | \u001b[0m-15.0    \u001b[0m | \u001b[0m 41.59   \u001b[0m | \u001b[0m 0.5657  \u001b[0m |\n",
      "| \u001b[0m 83      \u001b[0m | \u001b[0m 10.0    \u001b[0m | \u001b[0m 15.4    \u001b[0m | \u001b[0m 0.6924  \u001b[0m |\n",
      "| \u001b[0m 84      \u001b[0m | \u001b[0m 35.0    \u001b[0m | \u001b[0m 1.266   \u001b[0m | \u001b[0m 0.6775  \u001b[0m |\n",
      "| \u001b[0m 85      \u001b[0m | \u001b[0m 10.0    \u001b[0m | \u001b[0m 35.12   \u001b[0m | \u001b[0m 0.7488  \u001b[0m |\n",
      "| \u001b[0m 86      \u001b[0m | \u001b[0m-15.0    \u001b[0m | \u001b[0m 46.95   \u001b[0m | \u001b[0m 0.5494  \u001b[0m |\n",
      "| \u001b[0m 87      \u001b[0m | \u001b[0m 10.0    \u001b[0m | \u001b[0m 38.11   \u001b[0m | \u001b[0m 0.7528  \u001b[0m |\n",
      "| \u001b[0m 88      \u001b[0m | \u001b[0m-15.0    \u001b[0m | \u001b[0m 47.8    \u001b[0m | \u001b[0m 0.5706  \u001b[0m |\n",
      "| \u001b[0m 89      \u001b[0m | \u001b[0m 25.0    \u001b[0m | \u001b[0m 2.526   \u001b[0m | \u001b[0m 0.8038  \u001b[0m |\n",
      "| \u001b[0m 90      \u001b[0m | \u001b[0m 10.0    \u001b[0m | \u001b[0m 45.31   \u001b[0m | \u001b[0m 0.6169  \u001b[0m |\n",
      "| \u001b[0m 91      \u001b[0m | \u001b[0m 25.0    \u001b[0m | \u001b[0m 21.83   \u001b[0m | \u001b[0m 0.9772  \u001b[0m |\n",
      "| \u001b[0m 92      \u001b[0m | \u001b[0m 10.0    \u001b[0m | \u001b[0m 14.17   \u001b[0m | \u001b[0m 0.5625  \u001b[0m |\n",
      "| \u001b[0m 93      \u001b[0m | \u001b[0m 10.0    \u001b[0m | \u001b[0m 17.74   \u001b[0m | \u001b[0m 0.6039  \u001b[0m |\n",
      "| \u001b[0m 94      \u001b[0m | \u001b[0m 10.0    \u001b[0m | \u001b[0m 28.03   \u001b[0m | \u001b[0m 0.8212  \u001b[0m |\n",
      "| \u001b[0m 95      \u001b[0m | \u001b[0m 35.0    \u001b[0m | \u001b[0m 16.23   \u001b[0m | \u001b[0m 0.9015  \u001b[0m |\n",
      "| \u001b[0m 96      \u001b[0m | \u001b[0m 10.0    \u001b[0m | \u001b[0m 14.79   \u001b[0m | \u001b[0m 0.7073  \u001b[0m |\n",
      "| \u001b[0m 97      \u001b[0m | \u001b[0m-15.0    \u001b[0m | \u001b[0m 34.79   \u001b[0m | \u001b[0m 0.5112  \u001b[0m |\n",
      "| \u001b[0m 98      \u001b[0m | \u001b[0m 35.0    \u001b[0m | \u001b[0m 43.21   \u001b[0m | \u001b[0m 0.8928  \u001b[0m |\n",
      "| \u001b[0m 99      \u001b[0m | \u001b[0m 10.0    \u001b[0m | \u001b[0m 45.14   \u001b[0m | \u001b[0m 0.7244  \u001b[0m |\n",
      "| \u001b[0m 100     \u001b[0m | \u001b[0m 35.0    \u001b[0m | \u001b[0m 12.26   \u001b[0m | \u001b[0m 0.8625  \u001b[0m |\n",
      "| \u001b[0m 101     \u001b[0m | \u001b[0m 45.0    \u001b[0m | \u001b[0m 2.659   \u001b[0m | \u001b[0m 0.588   \u001b[0m |\n"
     ]
    },
    {
     "ename": "KeyboardInterrupt",
     "evalue": "",
     "output_type": "error",
     "traceback": [
      "\u001b[0;31m---------------------------------------------------------------------------\u001b[0m",
      "\u001b[0;31mStopIteration\u001b[0m                             Traceback (most recent call last)",
      "\u001b[0;32m~/.local/lib/python3.6/site-packages/bayes_opt/bayesian_optimization.py\u001b[0m in \u001b[0;36mmaximize\u001b[0;34m(self, init_points, n_iter, acq, kappa, xi, **gp_params)\u001b[0m\n\u001b[1;32m    168\u001b[0m             \u001b[0;32mtry\u001b[0m\u001b[0;34m:\u001b[0m\u001b[0;34m\u001b[0m\u001b[0;34m\u001b[0m\u001b[0m\n\u001b[0;32m--> 169\u001b[0;31m                 \u001b[0mx_probe\u001b[0m \u001b[0;34m=\u001b[0m \u001b[0mnext\u001b[0m\u001b[0;34m(\u001b[0m\u001b[0mself\u001b[0m\u001b[0;34m.\u001b[0m\u001b[0m_queue\u001b[0m\u001b[0;34m)\u001b[0m\u001b[0;34m\u001b[0m\u001b[0;34m\u001b[0m\u001b[0m\n\u001b[0m\u001b[1;32m    170\u001b[0m             \u001b[0;32mexcept\u001b[0m \u001b[0mStopIteration\u001b[0m\u001b[0;34m:\u001b[0m\u001b[0;34m\u001b[0m\u001b[0;34m\u001b[0m\u001b[0m\n",
      "\u001b[0;32m~/.local/lib/python3.6/site-packages/bayes_opt/bayesian_optimization.py\u001b[0m in \u001b[0;36m__next__\u001b[0;34m(self)\u001b[0m\n\u001b[1;32m     25\u001b[0m         \u001b[0;32mif\u001b[0m \u001b[0mself\u001b[0m\u001b[0;34m.\u001b[0m\u001b[0mempty\u001b[0m\u001b[0;34m:\u001b[0m\u001b[0;34m\u001b[0m\u001b[0;34m\u001b[0m\u001b[0m\n\u001b[0;32m---> 26\u001b[0;31m             \u001b[0;32mraise\u001b[0m \u001b[0mStopIteration\u001b[0m\u001b[0;34m(\u001b[0m\u001b[0;34m\"Queue is empty, no more objects to retrieve.\"\u001b[0m\u001b[0;34m)\u001b[0m\u001b[0;34m\u001b[0m\u001b[0;34m\u001b[0m\u001b[0m\n\u001b[0m\u001b[1;32m     27\u001b[0m         \u001b[0mobj\u001b[0m \u001b[0;34m=\u001b[0m \u001b[0mself\u001b[0m\u001b[0;34m.\u001b[0m\u001b[0m_queue\u001b[0m\u001b[0;34m[\u001b[0m\u001b[0;36m0\u001b[0m\u001b[0;34m]\u001b[0m\u001b[0;34m\u001b[0m\u001b[0;34m\u001b[0m\u001b[0m\n",
      "\u001b[0;31mStopIteration\u001b[0m: Queue is empty, no more objects to retrieve.",
      "\nDuring handling of the above exception, another exception occurred:\n",
      "\u001b[0;31mKeyboardInterrupt\u001b[0m                         Traceback (most recent call last)",
      "\u001b[0;32m<ipython-input-20-37234c8ea531>\u001b[0m in \u001b[0;36m<module>\u001b[0;34m()\u001b[0m\n\u001b[1;32m     12\u001b[0m \u001b[0;34m\u001b[0m\u001b[0m\n\u001b[1;32m     13\u001b[0m \u001b[0moptimization_logreg\u001b[0m \u001b[0;34m=\u001b[0m \u001b[0mBayesianOptimization\u001b[0m\u001b[0;34m(\u001b[0m\u001b[0mevaluateLogReg\u001b[0m\u001b[0;34m,\u001b[0m \u001b[0mparams_logreg\u001b[0m\u001b[0;34m)\u001b[0m\u001b[0;34m\u001b[0m\u001b[0;34m\u001b[0m\u001b[0m\n\u001b[0;32m---> 14\u001b[0;31m \u001b[0moptimization_logreg\u001b[0m\u001b[0;34m.\u001b[0m\u001b[0mmaximize\u001b[0m\u001b[0;34m(\u001b[0m\u001b[0mn_iter\u001b[0m\u001b[0;34m=\u001b[0m\u001b[0;36m100\u001b[0m\u001b[0;34m,\u001b[0m \u001b[0minit_points\u001b[0m\u001b[0;34m=\u001b[0m\u001b[0;36m100\u001b[0m\u001b[0;34m)\u001b[0m\u001b[0;34m\u001b[0m\u001b[0;34m\u001b[0m\u001b[0m\n\u001b[0m",
      "\u001b[0;32m~/.local/lib/python3.6/site-packages/bayes_opt/bayesian_optimization.py\u001b[0m in \u001b[0;36mmaximize\u001b[0;34m(self, init_points, n_iter, acq, kappa, xi, **gp_params)\u001b[0m\n\u001b[1;32m    169\u001b[0m                 \u001b[0mx_probe\u001b[0m \u001b[0;34m=\u001b[0m \u001b[0mnext\u001b[0m\u001b[0;34m(\u001b[0m\u001b[0mself\u001b[0m\u001b[0;34m.\u001b[0m\u001b[0m_queue\u001b[0m\u001b[0;34m)\u001b[0m\u001b[0;34m\u001b[0m\u001b[0;34m\u001b[0m\u001b[0m\n\u001b[1;32m    170\u001b[0m             \u001b[0;32mexcept\u001b[0m \u001b[0mStopIteration\u001b[0m\u001b[0;34m:\u001b[0m\u001b[0;34m\u001b[0m\u001b[0;34m\u001b[0m\u001b[0m\n\u001b[0;32m--> 171\u001b[0;31m                 \u001b[0mx_probe\u001b[0m \u001b[0;34m=\u001b[0m \u001b[0mself\u001b[0m\u001b[0;34m.\u001b[0m\u001b[0msuggest\u001b[0m\u001b[0;34m(\u001b[0m\u001b[0mutil\u001b[0m\u001b[0;34m)\u001b[0m\u001b[0;34m\u001b[0m\u001b[0;34m\u001b[0m\u001b[0m\n\u001b[0m\u001b[1;32m    172\u001b[0m                 \u001b[0miteration\u001b[0m \u001b[0;34m+=\u001b[0m \u001b[0;36m1\u001b[0m\u001b[0;34m\u001b[0m\u001b[0;34m\u001b[0m\u001b[0m\n\u001b[1;32m    173\u001b[0m \u001b[0;34m\u001b[0m\u001b[0m\n",
      "\u001b[0;32m~/.local/lib/python3.6/site-packages/bayes_opt/bayesian_optimization.py\u001b[0m in \u001b[0;36msuggest\u001b[0;34m(self, utility_function)\u001b[0m\n\u001b[1;32m    130\u001b[0m             \u001b[0my_max\u001b[0m\u001b[0;34m=\u001b[0m\u001b[0mself\u001b[0m\u001b[0;34m.\u001b[0m\u001b[0m_space\u001b[0m\u001b[0;34m.\u001b[0m\u001b[0mtarget\u001b[0m\u001b[0;34m.\u001b[0m\u001b[0mmax\u001b[0m\u001b[0;34m(\u001b[0m\u001b[0;34m)\u001b[0m\u001b[0;34m,\u001b[0m\u001b[0;34m\u001b[0m\u001b[0;34m\u001b[0m\u001b[0m\n\u001b[1;32m    131\u001b[0m             \u001b[0mbounds\u001b[0m\u001b[0;34m=\u001b[0m\u001b[0mself\u001b[0m\u001b[0;34m.\u001b[0m\u001b[0m_space\u001b[0m\u001b[0;34m.\u001b[0m\u001b[0mbounds\u001b[0m\u001b[0;34m,\u001b[0m\u001b[0;34m\u001b[0m\u001b[0;34m\u001b[0m\u001b[0m\n\u001b[0;32m--> 132\u001b[0;31m             \u001b[0mrandom_state\u001b[0m\u001b[0;34m=\u001b[0m\u001b[0mself\u001b[0m\u001b[0;34m.\u001b[0m\u001b[0m_random_state\u001b[0m\u001b[0;34m\u001b[0m\u001b[0;34m\u001b[0m\u001b[0m\n\u001b[0m\u001b[1;32m    133\u001b[0m         )\n\u001b[1;32m    134\u001b[0m \u001b[0;34m\u001b[0m\u001b[0m\n",
      "\u001b[0;32m~/.local/lib/python3.6/site-packages/bayes_opt/util.py\u001b[0m in \u001b[0;36macq_max\u001b[0;34m(ac, gp, y_max, bounds, random_state, n_warmup, n_iter)\u001b[0m\n\u001b[1;32m     56\u001b[0m                        \u001b[0mx_try\u001b[0m\u001b[0;34m.\u001b[0m\u001b[0mreshape\u001b[0m\u001b[0;34m(\u001b[0m\u001b[0;36m1\u001b[0m\u001b[0;34m,\u001b[0m \u001b[0;34m-\u001b[0m\u001b[0;36m1\u001b[0m\u001b[0;34m)\u001b[0m\u001b[0;34m,\u001b[0m\u001b[0;34m\u001b[0m\u001b[0;34m\u001b[0m\u001b[0m\n\u001b[1;32m     57\u001b[0m                        \u001b[0mbounds\u001b[0m\u001b[0;34m=\u001b[0m\u001b[0mbounds\u001b[0m\u001b[0;34m,\u001b[0m\u001b[0;34m\u001b[0m\u001b[0;34m\u001b[0m\u001b[0m\n\u001b[0;32m---> 58\u001b[0;31m                        method=\"L-BFGS-B\")\n\u001b[0m\u001b[1;32m     59\u001b[0m \u001b[0;34m\u001b[0m\u001b[0m\n\u001b[1;32m     60\u001b[0m         \u001b[0;31m# See if success\u001b[0m\u001b[0;34m\u001b[0m\u001b[0;34m\u001b[0m\u001b[0;34m\u001b[0m\u001b[0m\n",
      "\u001b[0;32m~/.local/lib/python3.6/site-packages/scipy/optimize/_minimize.py\u001b[0m in \u001b[0;36mminimize\u001b[0;34m(fun, x0, args, method, jac, hess, hessp, bounds, constraints, tol, callback, options)\u001b[0m\n\u001b[1;32m    599\u001b[0m     \u001b[0;32melif\u001b[0m \u001b[0mmeth\u001b[0m \u001b[0;34m==\u001b[0m \u001b[0;34m'l-bfgs-b'\u001b[0m\u001b[0;34m:\u001b[0m\u001b[0;34m\u001b[0m\u001b[0;34m\u001b[0m\u001b[0m\n\u001b[1;32m    600\u001b[0m         return _minimize_lbfgsb(fun, x0, args, jac, bounds,\n\u001b[0;32m--> 601\u001b[0;31m                                 callback=callback, **options)\n\u001b[0m\u001b[1;32m    602\u001b[0m     \u001b[0;32melif\u001b[0m \u001b[0mmeth\u001b[0m \u001b[0;34m==\u001b[0m \u001b[0;34m'tnc'\u001b[0m\u001b[0;34m:\u001b[0m\u001b[0;34m\u001b[0m\u001b[0;34m\u001b[0m\u001b[0m\n\u001b[1;32m    603\u001b[0m         return _minimize_tnc(fun, x0, args, jac, bounds, callback=callback,\n",
      "\u001b[0;32m~/.local/lib/python3.6/site-packages/scipy/optimize/lbfgsb.py\u001b[0m in \u001b[0;36m_minimize_lbfgsb\u001b[0;34m(fun, x0, args, jac, bounds, disp, maxcor, ftol, gtol, eps, maxfun, maxiter, iprint, callback, maxls, **unknown_options)\u001b[0m\n\u001b[1;32m    333\u001b[0m             \u001b[0;31m# until the completion of the current minimization iteration.\u001b[0m\u001b[0;34m\u001b[0m\u001b[0;34m\u001b[0m\u001b[0;34m\u001b[0m\u001b[0m\n\u001b[1;32m    334\u001b[0m             \u001b[0;31m# Overwrite f and g:\u001b[0m\u001b[0;34m\u001b[0m\u001b[0;34m\u001b[0m\u001b[0;34m\u001b[0m\u001b[0m\n\u001b[0;32m--> 335\u001b[0;31m             \u001b[0mf\u001b[0m\u001b[0;34m,\u001b[0m \u001b[0mg\u001b[0m \u001b[0;34m=\u001b[0m \u001b[0mfunc_and_grad\u001b[0m\u001b[0;34m(\u001b[0m\u001b[0mx\u001b[0m\u001b[0;34m)\u001b[0m\u001b[0;34m\u001b[0m\u001b[0;34m\u001b[0m\u001b[0m\n\u001b[0m\u001b[1;32m    336\u001b[0m         \u001b[0;32melif\u001b[0m \u001b[0mtask_str\u001b[0m\u001b[0;34m.\u001b[0m\u001b[0mstartswith\u001b[0m\u001b[0;34m(\u001b[0m\u001b[0;34mb'NEW_X'\u001b[0m\u001b[0;34m)\u001b[0m\u001b[0;34m:\u001b[0m\u001b[0;34m\u001b[0m\u001b[0;34m\u001b[0m\u001b[0m\n\u001b[1;32m    337\u001b[0m             \u001b[0;31m# new iteration\u001b[0m\u001b[0;34m\u001b[0m\u001b[0;34m\u001b[0m\u001b[0;34m\u001b[0m\u001b[0m\n",
      "\u001b[0;32m~/.local/lib/python3.6/site-packages/scipy/optimize/lbfgsb.py\u001b[0m in \u001b[0;36mfunc_and_grad\u001b[0;34m(x)\u001b[0m\n\u001b[1;32m    278\u001b[0m     \u001b[0;32mif\u001b[0m \u001b[0mjac\u001b[0m \u001b[0;32mis\u001b[0m \u001b[0;32mNone\u001b[0m\u001b[0;34m:\u001b[0m\u001b[0;34m\u001b[0m\u001b[0;34m\u001b[0m\u001b[0m\n\u001b[1;32m    279\u001b[0m         \u001b[0;32mdef\u001b[0m \u001b[0mfunc_and_grad\u001b[0m\u001b[0;34m(\u001b[0m\u001b[0mx\u001b[0m\u001b[0;34m)\u001b[0m\u001b[0;34m:\u001b[0m\u001b[0;34m\u001b[0m\u001b[0;34m\u001b[0m\u001b[0m\n\u001b[0;32m--> 280\u001b[0;31m             \u001b[0mf\u001b[0m \u001b[0;34m=\u001b[0m \u001b[0mfun\u001b[0m\u001b[0;34m(\u001b[0m\u001b[0mx\u001b[0m\u001b[0;34m,\u001b[0m \u001b[0;34m*\u001b[0m\u001b[0margs\u001b[0m\u001b[0;34m)\u001b[0m\u001b[0;34m\u001b[0m\u001b[0;34m\u001b[0m\u001b[0m\n\u001b[0m\u001b[1;32m    281\u001b[0m             \u001b[0mg\u001b[0m \u001b[0;34m=\u001b[0m \u001b[0m_approx_fprime_helper\u001b[0m\u001b[0;34m(\u001b[0m\u001b[0mx\u001b[0m\u001b[0;34m,\u001b[0m \u001b[0mfun\u001b[0m\u001b[0;34m,\u001b[0m \u001b[0mepsilon\u001b[0m\u001b[0;34m,\u001b[0m \u001b[0margs\u001b[0m\u001b[0;34m=\u001b[0m\u001b[0margs\u001b[0m\u001b[0;34m,\u001b[0m \u001b[0mf0\u001b[0m\u001b[0;34m=\u001b[0m\u001b[0mf\u001b[0m\u001b[0;34m)\u001b[0m\u001b[0;34m\u001b[0m\u001b[0;34m\u001b[0m\u001b[0m\n\u001b[1;32m    282\u001b[0m             \u001b[0;32mreturn\u001b[0m \u001b[0mf\u001b[0m\u001b[0;34m,\u001b[0m \u001b[0mg\u001b[0m\u001b[0;34m\u001b[0m\u001b[0;34m\u001b[0m\u001b[0m\n",
      "\u001b[0;32m~/.local/lib/python3.6/site-packages/scipy/optimize/optimize.py\u001b[0m in \u001b[0;36mfunction_wrapper\u001b[0;34m(*wrapper_args)\u001b[0m\n\u001b[1;32m    298\u001b[0m     \u001b[0;32mdef\u001b[0m \u001b[0mfunction_wrapper\u001b[0m\u001b[0;34m(\u001b[0m\u001b[0;34m*\u001b[0m\u001b[0mwrapper_args\u001b[0m\u001b[0;34m)\u001b[0m\u001b[0;34m:\u001b[0m\u001b[0;34m\u001b[0m\u001b[0;34m\u001b[0m\u001b[0m\n\u001b[1;32m    299\u001b[0m         \u001b[0mncalls\u001b[0m\u001b[0;34m[\u001b[0m\u001b[0;36m0\u001b[0m\u001b[0;34m]\u001b[0m \u001b[0;34m+=\u001b[0m \u001b[0;36m1\u001b[0m\u001b[0;34m\u001b[0m\u001b[0;34m\u001b[0m\u001b[0m\n\u001b[0;32m--> 300\u001b[0;31m         \u001b[0;32mreturn\u001b[0m \u001b[0mfunction\u001b[0m\u001b[0;34m(\u001b[0m\u001b[0;34m*\u001b[0m\u001b[0;34m(\u001b[0m\u001b[0mwrapper_args\u001b[0m \u001b[0;34m+\u001b[0m \u001b[0margs\u001b[0m\u001b[0;34m)\u001b[0m\u001b[0;34m)\u001b[0m\u001b[0;34m\u001b[0m\u001b[0;34m\u001b[0m\u001b[0m\n\u001b[0m\u001b[1;32m    301\u001b[0m \u001b[0;34m\u001b[0m\u001b[0m\n\u001b[1;32m    302\u001b[0m     \u001b[0;32mreturn\u001b[0m \u001b[0mncalls\u001b[0m\u001b[0;34m,\u001b[0m \u001b[0mfunction_wrapper\u001b[0m\u001b[0;34m\u001b[0m\u001b[0;34m\u001b[0m\u001b[0m\n",
      "\u001b[0;32m~/.local/lib/python3.6/site-packages/bayes_opt/util.py\u001b[0m in \u001b[0;36m<lambda>\u001b[0;34m(x)\u001b[0m\n\u001b[1;32m     53\u001b[0m     \u001b[0;32mfor\u001b[0m \u001b[0mx_try\u001b[0m \u001b[0;32min\u001b[0m \u001b[0mx_seeds\u001b[0m\u001b[0;34m:\u001b[0m\u001b[0;34m\u001b[0m\u001b[0;34m\u001b[0m\u001b[0m\n\u001b[1;32m     54\u001b[0m         \u001b[0;31m# Find the minimum of minus the acquisition function\u001b[0m\u001b[0;34m\u001b[0m\u001b[0;34m\u001b[0m\u001b[0;34m\u001b[0m\u001b[0m\n\u001b[0;32m---> 55\u001b[0;31m         res = minimize(lambda x: -ac(x.reshape(1, -1), gp=gp, y_max=y_max),\n\u001b[0m\u001b[1;32m     56\u001b[0m                        \u001b[0mx_try\u001b[0m\u001b[0;34m.\u001b[0m\u001b[0mreshape\u001b[0m\u001b[0;34m(\u001b[0m\u001b[0;36m1\u001b[0m\u001b[0;34m,\u001b[0m \u001b[0;34m-\u001b[0m\u001b[0;36m1\u001b[0m\u001b[0;34m)\u001b[0m\u001b[0;34m,\u001b[0m\u001b[0;34m\u001b[0m\u001b[0;34m\u001b[0m\u001b[0m\n\u001b[1;32m     57\u001b[0m                        \u001b[0mbounds\u001b[0m\u001b[0;34m=\u001b[0m\u001b[0mbounds\u001b[0m\u001b[0;34m,\u001b[0m\u001b[0;34m\u001b[0m\u001b[0;34m\u001b[0m\u001b[0m\n",
      "\u001b[0;32m~/.local/lib/python3.6/site-packages/bayes_opt/util.py\u001b[0m in \u001b[0;36mutility\u001b[0;34m(self, x, gp, y_max)\u001b[0m\n\u001b[1;32m     95\u001b[0m     \u001b[0;32mdef\u001b[0m \u001b[0mutility\u001b[0m\u001b[0;34m(\u001b[0m\u001b[0mself\u001b[0m\u001b[0;34m,\u001b[0m \u001b[0mx\u001b[0m\u001b[0;34m,\u001b[0m \u001b[0mgp\u001b[0m\u001b[0;34m,\u001b[0m \u001b[0my_max\u001b[0m\u001b[0;34m)\u001b[0m\u001b[0;34m:\u001b[0m\u001b[0;34m\u001b[0m\u001b[0;34m\u001b[0m\u001b[0m\n\u001b[1;32m     96\u001b[0m         \u001b[0;32mif\u001b[0m \u001b[0mself\u001b[0m\u001b[0;34m.\u001b[0m\u001b[0mkind\u001b[0m \u001b[0;34m==\u001b[0m \u001b[0;34m'ucb'\u001b[0m\u001b[0;34m:\u001b[0m\u001b[0;34m\u001b[0m\u001b[0;34m\u001b[0m\u001b[0m\n\u001b[0;32m---> 97\u001b[0;31m             \u001b[0;32mreturn\u001b[0m \u001b[0mself\u001b[0m\u001b[0;34m.\u001b[0m\u001b[0m_ucb\u001b[0m\u001b[0;34m(\u001b[0m\u001b[0mx\u001b[0m\u001b[0;34m,\u001b[0m \u001b[0mgp\u001b[0m\u001b[0;34m,\u001b[0m \u001b[0mself\u001b[0m\u001b[0;34m.\u001b[0m\u001b[0mkappa\u001b[0m\u001b[0;34m)\u001b[0m\u001b[0;34m\u001b[0m\u001b[0;34m\u001b[0m\u001b[0m\n\u001b[0m\u001b[1;32m     98\u001b[0m         \u001b[0;32mif\u001b[0m \u001b[0mself\u001b[0m\u001b[0;34m.\u001b[0m\u001b[0mkind\u001b[0m \u001b[0;34m==\u001b[0m \u001b[0;34m'ei'\u001b[0m\u001b[0;34m:\u001b[0m\u001b[0;34m\u001b[0m\u001b[0;34m\u001b[0m\u001b[0m\n\u001b[1;32m     99\u001b[0m             \u001b[0;32mreturn\u001b[0m \u001b[0mself\u001b[0m\u001b[0;34m.\u001b[0m\u001b[0m_ei\u001b[0m\u001b[0;34m(\u001b[0m\u001b[0mx\u001b[0m\u001b[0;34m,\u001b[0m \u001b[0mgp\u001b[0m\u001b[0;34m,\u001b[0m \u001b[0my_max\u001b[0m\u001b[0;34m,\u001b[0m \u001b[0mself\u001b[0m\u001b[0;34m.\u001b[0m\u001b[0mxi\u001b[0m\u001b[0;34m)\u001b[0m\u001b[0;34m\u001b[0m\u001b[0;34m\u001b[0m\u001b[0m\n",
      "\u001b[0;32m~/.local/lib/python3.6/site-packages/bayes_opt/util.py\u001b[0m in \u001b[0;36m_ucb\u001b[0;34m(x, gp, kappa)\u001b[0m\n\u001b[1;32m    105\u001b[0m         \u001b[0;32mwith\u001b[0m \u001b[0mwarnings\u001b[0m\u001b[0;34m.\u001b[0m\u001b[0mcatch_warnings\u001b[0m\u001b[0;34m(\u001b[0m\u001b[0;34m)\u001b[0m\u001b[0;34m:\u001b[0m\u001b[0;34m\u001b[0m\u001b[0;34m\u001b[0m\u001b[0m\n\u001b[1;32m    106\u001b[0m             \u001b[0mwarnings\u001b[0m\u001b[0;34m.\u001b[0m\u001b[0msimplefilter\u001b[0m\u001b[0;34m(\u001b[0m\u001b[0;34m\"ignore\"\u001b[0m\u001b[0;34m)\u001b[0m\u001b[0;34m\u001b[0m\u001b[0;34m\u001b[0m\u001b[0m\n\u001b[0;32m--> 107\u001b[0;31m             \u001b[0mmean\u001b[0m\u001b[0;34m,\u001b[0m \u001b[0mstd\u001b[0m \u001b[0;34m=\u001b[0m \u001b[0mgp\u001b[0m\u001b[0;34m.\u001b[0m\u001b[0mpredict\u001b[0m\u001b[0;34m(\u001b[0m\u001b[0mx\u001b[0m\u001b[0;34m,\u001b[0m \u001b[0mreturn_std\u001b[0m\u001b[0;34m=\u001b[0m\u001b[0;32mTrue\u001b[0m\u001b[0;34m)\u001b[0m\u001b[0;34m\u001b[0m\u001b[0;34m\u001b[0m\u001b[0m\n\u001b[0m\u001b[1;32m    108\u001b[0m \u001b[0;34m\u001b[0m\u001b[0m\n\u001b[1;32m    109\u001b[0m         \u001b[0;32mreturn\u001b[0m \u001b[0mmean\u001b[0m \u001b[0;34m+\u001b[0m \u001b[0mkappa\u001b[0m \u001b[0;34m*\u001b[0m \u001b[0mstd\u001b[0m\u001b[0;34m\u001b[0m\u001b[0;34m\u001b[0m\u001b[0m\n",
      "\u001b[0;32m~/.local/lib/python3.6/site-packages/sklearn/gaussian_process/gpr.py\u001b[0m in \u001b[0;36mpredict\u001b[0;34m(self, X, return_std, return_cov)\u001b[0m\n\u001b[1;32m    349\u001b[0m                 \u001b[0my_var\u001b[0m \u001b[0;34m=\u001b[0m \u001b[0mself\u001b[0m\u001b[0;34m.\u001b[0m\u001b[0mkernel_\u001b[0m\u001b[0;34m.\u001b[0m\u001b[0mdiag\u001b[0m\u001b[0;34m(\u001b[0m\u001b[0mX\u001b[0m\u001b[0;34m)\u001b[0m\u001b[0;34m\u001b[0m\u001b[0;34m\u001b[0m\u001b[0m\n\u001b[1;32m    350\u001b[0m                 y_var -= np.einsum(\"ij,ij->i\",\n\u001b[0;32m--> 351\u001b[0;31m                                    np.dot(K_trans, self._K_inv), K_trans)\n\u001b[0m\u001b[1;32m    352\u001b[0m \u001b[0;34m\u001b[0m\u001b[0m\n\u001b[1;32m    353\u001b[0m                 \u001b[0;31m# Check if any of the variances is negative because of\u001b[0m\u001b[0;34m\u001b[0m\u001b[0;34m\u001b[0m\u001b[0;34m\u001b[0m\u001b[0m\n",
      "\u001b[0;31mKeyboardInterrupt\u001b[0m: "
     ]
    }
   ],
   "source": [
    "# dataset in function is X2\n",
    "def evaluateLogReg(C, pred_threshold):\n",
    "    clf = LogisticRegression(C=C, solver='lbfgs', max_iter=10000)\n",
    "    clf = CustomModelWithThreshold(clf,threshold=pred_threshold)\n",
    "    return sum(cross_validate(clf,X2_temporary, y2, scoring=profit_scoring, cv=cv)['test_score'])\n",
    "\n",
    "\n",
    "params_logreg = {\n",
    "    'C': (0.001, 50),\n",
    "    'pred_threshold': (0.5, 1)\n",
    "}\n",
    "\n",
    "optimization_logreg = BayesianOptimization(evaluateLogReg, params_logreg)\n",
    "optimization_logreg.maximize(n_iter=100, init_points=100)"
   ]
  },
  {
   "cell_type": "code",
   "execution_count": 21,
   "metadata": {},
   "outputs": [
    {
     "data": {
      "text/plain": [
       "{'target': 45.0,\n",
       " 'params': {'C': 2.6642719484799917, 'pred_threshold': 0.5810930799041378}}"
      ]
     },
     "execution_count": 21,
     "metadata": {},
     "output_type": "execute_result"
    }
   ],
   "source": [
    "optimization_logreg.max"
   ]
  },
  {
   "cell_type": "code",
   "execution_count": 22,
   "metadata": {},
   "outputs": [
    {
     "data": {
      "text/plain": [
       "45"
      ]
     },
     "execution_count": 22,
     "metadata": {},
     "output_type": "execute_result"
    }
   ],
   "source": [
    "# verify\n",
    "C = optimization_logreg.max['params']['C']\n",
    "pred_threshold = optimization_logreg.max['params']['pred_threshold']\n",
    "\n",
    "clf = LogisticRegression(C=C, solver='lbfgs', max_iter=10000)\n",
    "clf = CustomModelWithThreshold(clf,threshold=pred_threshold)\n",
    "# final score for trust=2\n",
    "cv = StratifiedKFold(n_splits=10, random_state=42)\n",
    "sum(cross_validate(clf,X2_temporary, y2, scoring=profit_scoring, cv=cv)['test_score'])"
   ]
  },
  {
   "cell_type": "code",
   "execution_count": 23,
   "metadata": {},
   "outputs": [
    {
     "data": {
      "text/plain": [
       "7"
      ]
     },
     "execution_count": 23,
     "metadata": {},
     "output_type": "execute_result"
    }
   ],
   "source": [
    "# number of features used\n",
    "len(X2_temporary.columns)"
   ]
  },
  {
   "cell_type": "code",
   "execution_count": 24,
   "metadata": {},
   "outputs": [
    {
     "data": {
      "text/plain": [
       "['scannedLineItemsTotal^2',\n",
       " 'scannedLineItemsTotal^3',\n",
       " 'totalScanTimeInSeconds scannedLineItemsTotal^2',\n",
       " 'totalScanTimeInSeconds lineItemVoids scannedLineItemsTotal',\n",
       " 'totalScanTimeInSeconds scannedLineItemsTotal valuePerLineItem',\n",
       " 'totalScanTimeInSeconds scansWithoutRegistration valuePerLineItem',\n",
       " 'scannedLineItemsTotal^2 lineItemVoids*scansWithoutRegistration']"
      ]
     },
     "execution_count": 24,
     "metadata": {},
     "output_type": "execute_result"
    }
   ],
   "source": [
    "features_select_2 = [features_X_train2_all[i] for i in features_to_use2]\n",
    "features_select_2"
   ]
  }
 ],
 "metadata": {
  "kernelspec": {
   "display_name": "Python 3",
   "language": "python",
   "name": "python3"
  },
  "language_info": {
   "codemirror_mode": {
    "name": "ipython",
    "version": 3
   },
   "file_extension": ".py",
   "mimetype": "text/x-python",
   "name": "python",
   "nbconvert_exporter": "python",
   "pygments_lexer": "ipython3",
   "version": "3.6.8"
  }
 },
 "nbformat": 4,
 "nbformat_minor": 2
}
